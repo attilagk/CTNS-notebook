{
 "cells": [
  {
   "cell_type": "code",
   "execution_count": 1,
   "id": "e16d87ac",
   "metadata": {},
   "outputs": [
    {
     "name": "stdout",
     "output_type": "stream",
     "text": [
      "The autoreload extension is already loaded. To reload it, use:\n",
      "  %reload_ext autoreload\n"
     ]
    }
   ],
   "source": [
    "%load_ext autoreload\n",
    "%autoreload 2\n",
    "%reload_ext autoreload\n",
    "import pandas as pd\n",
    "import numpy as np\n",
    "import matplotlib.pyplot as plt\n",
    "import attila_utils"
   ]
  },
  {
   "cell_type": "code",
   "execution_count": null,
   "id": "ebd957a1",
   "metadata": {},
   "outputs": [],
   "source": [
    "def read_dunnett(assay='MTT', compound='TI26', date='2023-08-31'):\n",
    "    prefix = '../../resources/cell-based-assays/Tina-email-' + date + '/Ordinary one-way ANOVA of '\n",
    "    fpath = prefix + compound + '_' + assay + '.txt'\n",
    "    df = pd.read_csv(fpath, sep='\\t', header=4, nrows=4, index_col='Unnamed: 7')\n",
    "    df = df.drop(df.columns[-2:], axis=1)\n",
    "    return(df)\n",
    "\n",
    "read_dunnett()"
   ]
  },
  {
   "cell_type": "code",
   "execution_count": 5,
   "id": "1ce4346c",
   "metadata": {},
   "outputs": [],
   "source": [
    "pd.read_csv?"
   ]
  },
  {
   "cell_type": "code",
   "execution_count": 2,
   "id": "4895ea7c",
   "metadata": {},
   "outputs": [
    {
     "name": "stdout",
     "output_type": "stream",
     "text": [
      "{\n",
      "  \"shell_port\": 49753,\n",
      "  \"iopub_port\": 49754,\n",
      "  \"stdin_port\": 49755,\n",
      "  \"control_port\": 49757,\n",
      "  \"hb_port\": 49756,\n",
      "  \"ip\": \"127.0.0.1\",\n",
      "  \"key\": \"09abb227-717e5e80a6d6e9bb1f8ddf2a\",\n",
      "  \"transport\": \"tcp\",\n",
      "  \"signature_scheme\": \"hmac-sha256\",\n",
      "  \"kernel_name\": \"python3\"\n",
      "}\n",
      "\n",
      "Paste the above JSON into a file, and connect with:\n",
      "    $> jupyter <app> --existing <file>\n",
      "or, if you are local, you can connect with just:\n",
      "    $> jupyter <app> --existing kernel-ff2c3878-de09-4ff9-ad06-a7337885cb5a.json\n",
      "or even just:\n",
      "    $> jupyter <app> --existing\n",
      "if this is the most recent Jupyter kernel you have started.\n"
     ]
    }
   ],
   "source": [
    "%connect_info"
   ]
  },
  {
   "cell_type": "code",
   "execution_count": null,
   "id": "b3b1d222",
   "metadata": {},
   "outputs": [],
   "source": []
  }
 ],
 "metadata": {
  "kernelspec": {
   "display_name": "Python 3 (ipykernel)",
   "language": "python",
   "name": "python3"
  },
  "language_info": {
   "codemirror_mode": {
    "name": "ipython",
    "version": 3
   },
   "file_extension": ".py",
   "mimetype": "text/x-python",
   "name": "python",
   "nbconvert_exporter": "python",
   "pygments_lexer": "ipython3",
   "version": "3.9.17"
  }
 },
 "nbformat": 4,
 "nbformat_minor": 5
}
