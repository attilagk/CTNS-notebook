{
 "cells": [
  {
   "cell_type": "code",
   "execution_count": 1,
   "id": "convinced-mileage",
   "metadata": {},
   "outputs": [
    {
     "name": "stdout",
     "output_type": "stream",
     "text": [
      "GenRev not found, steiner wont work\n",
      "Import error: Negex. Using keyword matching instead\n",
      "Import error: Funcassociate. Make sure that funcassociate is in toolbox!\n"
     ]
    }
   ],
   "source": [
    "%load_ext autoreload\n",
    "%autoreload 2\n",
    "%reload_ext autoreload\n",
    "from toolbox import wrappers\n",
    "from toolbox import network_utilities\n",
    "import repos_tools\n",
    "import pandas as pd\n",
    "import numpy as np\n",
    "import scipy.stats"
   ]
  },
  {
   "cell_type": "markdown",
   "id": "appreciated-strength",
   "metadata": {},
   "source": [
    "Read network and mapping betwen gene IDs and symbols"
   ]
  },
  {
   "cell_type": "code",
   "execution_count": 2,
   "id": "major-rescue",
   "metadata": {},
   "outputs": [],
   "source": [
    "id_mapping_file = '../../resources/PPI/geneid_to_symbol.txt'\n",
    "network = wrappers.get_network('../../resources/PPI/Cheng2019/network.sif', only_lcc = True)\n",
    "id_symbol = pd.read_csv(id_mapping_file, sep='\\t', index_col='GeneID')\n",
    "id_symbol = id_symbol.set_index(id_symbol.index.astype('str'))"
   ]
  },
  {
   "cell_type": "markdown",
   "id": "apart-russia",
   "metadata": {},
   "source": [
    "From Andrew's manuscript on repurposing asthma drugs to AD:\n",
    "> Approved drugs, or drugs in development, target the protein products of 15 of the 81 genes as identified using the ChEMBL database [28]. Among these are GRIN3A, PDE4D, and IL6R. The glutamate ionotropic NMDA receptor subunit NR3A is encoded by GRIN3A and has been previously associated with AD as targeted by an existing approved AD treatment, Memantine [29]. Phosphodiesterase-4 (PDE4) has been considered a promising target for treatment of AD and depression and functions as an existing target for current asthma medication [30], [31]. Asthma is the trait of interest in this study, thus we have focused on drugs shown to be effective in it’s treatment such as Roflumilast targeting PDE4D. Through the use of STRINGDB protein-protein interaction network we selected additional asthma drugs targeting proteins with scores >= 0.500 from those within our implicated list [27]. This included approved asthma drugs such as Salbutamol targeting beta-2 adrenergic receptor ADRB2, Montelukast targeting cysteinyl leukotriene receptor 1 CYSLTR1, and Fluticasone which targets the glucocorticoid receptor NR3C1."
   ]
  },
  {
   "cell_type": "code",
   "execution_count": 3,
   "id": "juvenile-passing",
   "metadata": {},
   "outputs": [],
   "source": [
    "%%bash\n",
    "cat > ../../results/2021-09-02-asthma-drugs/asthma-drug-targets <<EOF\n",
    "GRIN3A\n",
    "PDE4D\n",
    "IL6R\n",
    "ADRB2\n",
    "CYSLTR1\n",
    "NR3C1\n",
    "EOF"
   ]
  },
  {
   "cell_type": "code",
   "execution_count": 4,
   "id": "historical-fellowship",
   "metadata": {},
   "outputs": [
    {
     "name": "stdout",
     "output_type": "stream",
     "text": [
      "set()\n"
     ]
    },
    {
     "data": {
      "text/plain": [
       "{'IL6R': {'3570'},\n",
       " 'CYSLTR1': {'10800'},\n",
       " 'GRIN3A': {'116443'},\n",
       " 'NR3C1': {'2908'},\n",
       " 'ADRB2': {'154'},\n",
       " 'PDE4D': {'5144'}}"
      ]
     },
     "execution_count": 4,
     "metadata": {},
     "output_type": "execute_result"
    }
   ],
   "source": [
    "targets = wrappers.convert_to_geneid(file_name='../../results/2021-09-02-asthma-drugs/asthma-drug-targets', id_type='symbol', id_mapping_file=id_mapping_file)\n",
    "d = id_symbol.loc[targets, 'Symbol'].to_dict()\n",
    "D = {v: {k} for k, v in d.items()}\n",
    "D"
   ]
  },
  {
   "cell_type": "code",
   "execution_count": 5,
   "id": "limiting-passenger",
   "metadata": {},
   "outputs": [
    {
     "name": "stdout",
     "output_type": "stream",
     "text": [
      "{'MT-ND2', 'MT-ND1'}\n",
      "{'ENSG00000260911', 'AC087500.1', 'FAM115D', 'MT-ND1', 'MT-ND2', 'RP11-385F7.1', 'RTFDC1', 'ENSG00000270081.1', 'AC099524.1', 'AL512631.1', 'CTD-2380F24.1', 'X84075'}\n",
      "{'MT-ND2', 'MT-ND1'}\n"
     ]
    }
   ],
   "source": [
    "AD_genes_knowledge = wrappers.convert_to_geneid(file_name='../../results/2021-07-01-high-conf-ADgenes/AD-genes-knowledge', id_type='symbol', id_mapping_file=id_mapping_file)\n",
    "AD_genes_knowledge, AD_genes_knowledge_dropped = repos_tools.drop_genes_notin_network(AD_genes_knowledge, network)\n",
    "AD_genes_HC = wrappers.convert_to_geneid(file_name='../../results/2021-07-01-high-conf-ADgenes/AD-genes-seed', id_type='symbol', id_mapping_file=id_mapping_file)\n",
    "AD_genes_HC, AD_genes_HC_dropped = repos_tools.drop_genes_notin_network(AD_genes_HC, network)\n",
    "AD_genes_HC_2plus = wrappers.convert_to_geneid(file_name='../../results/2021-07-01-high-conf-ADgenes/AD-genes-seed-2plus', id_type='symbol', id_mapping_file=id_mapping_file)\n",
    "AD_genes_HC_2plus, AD_genes_HC_2plus_dropped = repos_tools.drop_genes_notin_network(AD_genes_HC_2plus, network)"
   ]
  },
  {
   "cell_type": "markdown",
   "id": "earned-siemens",
   "metadata": {},
   "source": [
    "Calculate proximity"
   ]
  },
  {
   "cell_type": "code",
   "execution_count": 6,
   "id": "tight-wrestling",
   "metadata": {},
   "outputs": [],
   "source": [
    "def helper(target, geneset, network):\n",
    "    res = wrappers.calculate_proximity(network=network, nodes_from=target, nodes_to=geneset)\n",
    "    return(res)\n",
    "\n",
    "Res_knowledge = {k: helper(v, AD_genes_knowledge, network) for k, v in D.items()}\n",
    "Res_HC = {k: helper(v, AD_genes_HC, network) for k, v in D.items()}\n",
    "Res_HC_2plus = {k: helper(v, AD_genes_HC_2plus, network) for k, v in D.items()}"
   ]
  },
  {
   "cell_type": "code",
   "execution_count": 8,
   "id": "reserved-entrepreneur",
   "metadata": {},
   "outputs": [
    {
     "data": {
      "text/html": [
       "<div>\n",
       "<style scoped>\n",
       "    .dataframe tbody tr th:only-of-type {\n",
       "        vertical-align: middle;\n",
       "    }\n",
       "\n",
       "    .dataframe tbody tr th {\n",
       "        vertical-align: top;\n",
       "    }\n",
       "\n",
       "    .dataframe thead th {\n",
       "        text-align: right;\n",
       "    }\n",
       "</style>\n",
       "<table border=\"1\" class=\"dataframe\">\n",
       "  <thead>\n",
       "    <tr style=\"text-align: right;\">\n",
       "      <th></th>\n",
       "      <th></th>\n",
       "      <th>d</th>\n",
       "      <th>z</th>\n",
       "      <th>mean_0</th>\n",
       "      <th>std_0</th>\n",
       "      <th>p</th>\n",
       "      <th>condition</th>\n",
       "      <th>target</th>\n",
       "    </tr>\n",
       "    <tr>\n",
       "      <th>condition</th>\n",
       "      <th>target</th>\n",
       "      <th></th>\n",
       "      <th></th>\n",
       "      <th></th>\n",
       "      <th></th>\n",
       "      <th></th>\n",
       "      <th></th>\n",
       "      <th></th>\n",
       "    </tr>\n",
       "  </thead>\n",
       "  <tbody>\n",
       "    <tr>\n",
       "      <th rowspan=\"6\" valign=\"top\">knowledge</th>\n",
       "      <th>IL6R</th>\n",
       "      <td>1.0</td>\n",
       "      <td>-3.071405</td>\n",
       "      <td>1.916</td>\n",
       "      <td>0.298235</td>\n",
       "      <td>0.001065</td>\n",
       "      <td>knowledge</td>\n",
       "      <td>IL6R</td>\n",
       "    </tr>\n",
       "    <tr>\n",
       "      <th>CYSLTR1</th>\n",
       "      <td>4.0</td>\n",
       "      <td>2.836651</td>\n",
       "      <td>2.414</td>\n",
       "      <td>0.559110</td>\n",
       "      <td>0.997721</td>\n",
       "      <td>knowledge</td>\n",
       "      <td>CYSLTR1</td>\n",
       "    </tr>\n",
       "    <tr>\n",
       "      <th>GRIN3A</th>\n",
       "      <td>2.0</td>\n",
       "      <td>0.086253</td>\n",
       "      <td>1.976</td>\n",
       "      <td>0.278252</td>\n",
       "      <td>0.534367</td>\n",
       "      <td>knowledge</td>\n",
       "      <td>GRIN3A</td>\n",
       "    </tr>\n",
       "    <tr>\n",
       "      <th>NR3C1</th>\n",
       "      <td>1.0</td>\n",
       "      <td>-0.671847</td>\n",
       "      <td>1.311</td>\n",
       "      <td>0.462903</td>\n",
       "      <td>0.250840</td>\n",
       "      <td>knowledge</td>\n",
       "      <td>NR3C1</td>\n",
       "    </tr>\n",
       "    <tr>\n",
       "      <th>ADRB2</th>\n",
       "      <td>2.0</td>\n",
       "      <td>1.572330</td>\n",
       "      <td>1.288</td>\n",
       "      <td>0.452831</td>\n",
       "      <td>0.942063</td>\n",
       "      <td>knowledge</td>\n",
       "      <td>ADRB2</td>\n",
       "    </tr>\n",
       "    <tr>\n",
       "      <th>PDE4D</th>\n",
       "      <td>1.0</td>\n",
       "      <td>-2.012618</td>\n",
       "      <td>1.804</td>\n",
       "      <td>0.399480</td>\n",
       "      <td>0.022077</td>\n",
       "      <td>knowledge</td>\n",
       "      <td>PDE4D</td>\n",
       "    </tr>\n",
       "    <tr>\n",
       "      <th rowspan=\"6\" valign=\"top\">HC 2+</th>\n",
       "      <th>IL6R</th>\n",
       "      <td>1.0</td>\n",
       "      <td>-2.163894</td>\n",
       "      <td>1.828</td>\n",
       "      <td>0.382643</td>\n",
       "      <td>0.015236</td>\n",
       "      <td>HC 2+</td>\n",
       "      <td>IL6R</td>\n",
       "    </tr>\n",
       "    <tr>\n",
       "      <th>CYSLTR1</th>\n",
       "      <td>3.0</td>\n",
       "      <td>1.446822</td>\n",
       "      <td>2.251</td>\n",
       "      <td>0.517686</td>\n",
       "      <td>0.926027</td>\n",
       "      <td>HC 2+</td>\n",
       "      <td>CYSLTR1</td>\n",
       "    </tr>\n",
       "    <tr>\n",
       "      <th>GRIN3A</th>\n",
       "      <td>2.0</td>\n",
       "      <td>0.330668</td>\n",
       "      <td>1.876</td>\n",
       "      <td>0.374999</td>\n",
       "      <td>0.629552</td>\n",
       "      <td>HC 2+</td>\n",
       "      <td>GRIN3A</td>\n",
       "    </tr>\n",
       "    <tr>\n",
       "      <th>NR3C1</th>\n",
       "      <td>1.0</td>\n",
       "      <td>-0.272239</td>\n",
       "      <td>1.069</td>\n",
       "      <td>0.253454</td>\n",
       "      <td>0.392719</td>\n",
       "      <td>HC 2+</td>\n",
       "      <td>NR3C1</td>\n",
       "    </tr>\n",
       "    <tr>\n",
       "      <th>ADRB2</th>\n",
       "      <td>1.0</td>\n",
       "      <td>-0.292876</td>\n",
       "      <td>1.079</td>\n",
       "      <td>0.269739</td>\n",
       "      <td>0.384808</td>\n",
       "      <td>HC 2+</td>\n",
       "      <td>ADRB2</td>\n",
       "    </tr>\n",
       "    <tr>\n",
       "      <th>PDE4D</th>\n",
       "      <td>1.0</td>\n",
       "      <td>-1.143245</td>\n",
       "      <td>1.584</td>\n",
       "      <td>0.510827</td>\n",
       "      <td>0.126469</td>\n",
       "      <td>HC 2+</td>\n",
       "      <td>PDE4D</td>\n",
       "    </tr>\n",
       "    <tr>\n",
       "      <th rowspan=\"6\" valign=\"top\">HC</th>\n",
       "      <th>IL6R</th>\n",
       "      <td>1.0</td>\n",
       "      <td>-1.855921</td>\n",
       "      <td>1.775</td>\n",
       "      <td>0.417582</td>\n",
       "      <td>0.031732</td>\n",
       "      <td>HC</td>\n",
       "      <td>IL6R</td>\n",
       "    </tr>\n",
       "    <tr>\n",
       "      <th>CYSLTR1</th>\n",
       "      <td>3.0</td>\n",
       "      <td>1.490766</td>\n",
       "      <td>2.233</td>\n",
       "      <td>0.514501</td>\n",
       "      <td>0.931988</td>\n",
       "      <td>HC</td>\n",
       "      <td>CYSLTR1</td>\n",
       "    </tr>\n",
       "    <tr>\n",
       "      <th>GRIN3A</th>\n",
       "      <td>2.0</td>\n",
       "      <td>0.390399</td>\n",
       "      <td>1.847</td>\n",
       "      <td>0.391907</td>\n",
       "      <td>0.651879</td>\n",
       "      <td>HC</td>\n",
       "      <td>GRIN3A</td>\n",
       "    </tr>\n",
       "    <tr>\n",
       "      <th>NR3C1</th>\n",
       "      <td>1.0</td>\n",
       "      <td>-0.172818</td>\n",
       "      <td>1.029</td>\n",
       "      <td>0.167806</td>\n",
       "      <td>0.431397</td>\n",
       "      <td>HC</td>\n",
       "      <td>NR3C1</td>\n",
       "    </tr>\n",
       "    <tr>\n",
       "      <th>ADRB2</th>\n",
       "      <td>1.0</td>\n",
       "      <td>-0.153432</td>\n",
       "      <td>1.023</td>\n",
       "      <td>0.149903</td>\n",
       "      <td>0.439029</td>\n",
       "      <td>HC</td>\n",
       "      <td>ADRB2</td>\n",
       "    </tr>\n",
       "    <tr>\n",
       "      <th>PDE4D</th>\n",
       "      <td>1.0</td>\n",
       "      <td>-0.914677</td>\n",
       "      <td>1.471</td>\n",
       "      <td>0.514936</td>\n",
       "      <td>0.180181</td>\n",
       "      <td>HC</td>\n",
       "      <td>PDE4D</td>\n",
       "    </tr>\n",
       "  </tbody>\n",
       "</table>\n",
       "</div>"
      ],
      "text/plain": [
       "                     d         z  mean_0     std_0         p  condition  \\\n",
       "condition target                                                          \n",
       "knowledge IL6R     1.0 -3.071405   1.916  0.298235  0.001065  knowledge   \n",
       "          CYSLTR1  4.0  2.836651   2.414  0.559110  0.997721  knowledge   \n",
       "          GRIN3A   2.0  0.086253   1.976  0.278252  0.534367  knowledge   \n",
       "          NR3C1    1.0 -0.671847   1.311  0.462903  0.250840  knowledge   \n",
       "          ADRB2    2.0  1.572330   1.288  0.452831  0.942063  knowledge   \n",
       "          PDE4D    1.0 -2.012618   1.804  0.399480  0.022077  knowledge   \n",
       "HC 2+     IL6R     1.0 -2.163894   1.828  0.382643  0.015236      HC 2+   \n",
       "          CYSLTR1  3.0  1.446822   2.251  0.517686  0.926027      HC 2+   \n",
       "          GRIN3A   2.0  0.330668   1.876  0.374999  0.629552      HC 2+   \n",
       "          NR3C1    1.0 -0.272239   1.069  0.253454  0.392719      HC 2+   \n",
       "          ADRB2    1.0 -0.292876   1.079  0.269739  0.384808      HC 2+   \n",
       "          PDE4D    1.0 -1.143245   1.584  0.510827  0.126469      HC 2+   \n",
       "HC        IL6R     1.0 -1.855921   1.775  0.417582  0.031732         HC   \n",
       "          CYSLTR1  3.0  1.490766   2.233  0.514501  0.931988         HC   \n",
       "          GRIN3A   2.0  0.390399   1.847  0.391907  0.651879         HC   \n",
       "          NR3C1    1.0 -0.172818   1.029  0.167806  0.431397         HC   \n",
       "          ADRB2    1.0 -0.153432   1.023  0.149903  0.439029         HC   \n",
       "          PDE4D    1.0 -0.914677   1.471  0.514936  0.180181         HC   \n",
       "\n",
       "                    target  \n",
       "condition target            \n",
       "knowledge IL6R        IL6R  \n",
       "          CYSLTR1  CYSLTR1  \n",
       "          GRIN3A    GRIN3A  \n",
       "          NR3C1      NR3C1  \n",
       "          ADRB2      ADRB2  \n",
       "          PDE4D      PDE4D  \n",
       "HC 2+     IL6R        IL6R  \n",
       "          CYSLTR1  CYSLTR1  \n",
       "          GRIN3A    GRIN3A  \n",
       "          NR3C1      NR3C1  \n",
       "          ADRB2      ADRB2  \n",
       "          PDE4D      PDE4D  \n",
       "HC        IL6R        IL6R  \n",
       "          CYSLTR1  CYSLTR1  \n",
       "          GRIN3A    GRIN3A  \n",
       "          NR3C1      NR3C1  \n",
       "          ADRB2      ADRB2  \n",
       "          PDE4D      PDE4D  "
      ]
     },
     "execution_count": 8,
     "metadata": {},
     "output_type": "execute_result"
    }
   ],
   "source": [
    "def dict2df(d, condition):\n",
    "    l = [[v[0], v[1], v[2][0], v[2][1]] for v in d.values()]\n",
    "    a = np.array(l)\n",
    "    ix = pd.MultiIndex.from_product([[condition], d.keys()])\n",
    "    # z = (d - mean_0) / std_0\n",
    "    df = pd.DataFrame(a, columns=['d', 'z', 'mean_0', 'std_0'], index=ix)\n",
    "    df['p'] = df['z'].apply(lambda x: scipy.stats.norm.sf(-x))\n",
    "    df = df.rename_axis(['condition', 'target'], axis=0)\n",
    "    return(df)\n",
    "\n",
    "results = pd.concat([dict2df(Res_knowledge, condition='knowledge'),\n",
    "                     dict2df(Res_HC_2plus, condition='HC 2+'),\n",
    "                     dict2df(Res_HC, condition='HC')\n",
    "                    ], axis=0)# write to a CSV file\n",
    "results.to_csv('../../results/2021-09-02-asthma-drugs/proximity-results.csv')\n",
    "results['condition'] = results.index.get_level_values('condition')\n",
    "results['target'] = results.index.get_level_values('target')\n",
    "\n",
    "results"
   ]
  },
  {
   "cell_type": "code",
   "execution_count": 9,
   "id": "supreme-digest",
   "metadata": {},
   "outputs": [
    {
     "data": {
      "image/png": "[encoded data removed]",
      "text/plain": [
       "<Figure size 576x288 with 3 Axes>"
      ]
     },
     "metadata": {
      "needs_background": "light"
     },
     "output_type": "display_data"
    }
   ],
   "source": [
    "fig, ax = repos_tools.plot_proximity_results(results)"
   ]
  },
  {
   "cell_type": "code",
   "execution_count": 10,
   "id": "following-environment",
   "metadata": {},
   "outputs": [
    {
     "name": "stdout",
     "output_type": "stream",
     "text": [
      "{\n",
      "  \"shell_port\": 45307,\n",
      "  \"iopub_port\": 44399,\n",
      "  \"stdin_port\": 58407,\n",
      "  \"control_port\": 51575,\n",
      "  \"hb_port\": 55807,\n",
      "  \"ip\": \"127.0.0.1\",\n",
      "  \"key\": \"ef866bd1-02007fb4e1921c4b94dbea88\",\n",
      "  \"transport\": \"tcp\",\n",
      "  \"signature_scheme\": \"hmac-sha256\",\n",
      "  \"kernel_name\": \"\"\n",
      "}\n",
      "\n",
      "Paste the above JSON into a file, and connect with:\n",
      "    $> jupyter <app> --existing <file>\n",
      "or, if you are local, you can connect with just:\n",
      "    $> jupyter <app> --existing kernel-1833b516-3394-435f-aa21-3a852f2f7e85.json\n",
      "or even just:\n",
      "    $> jupyter <app> --existing\n",
      "if this is the most recent Jupyter kernel you have started.\n"
     ]
    }
   ],
   "source": [
    "%connect_info"
   ]
  },
  {
   "cell_type": "code",
   "execution_count": null,
   "id": "veterinary-arctic",
   "metadata": {},
   "outputs": [],
   "source": []
  }
 ],
 "metadata": {
  "kernelspec": {
   "display_name": "Python 3",
   "language": "python",
   "name": "python3"
  },
  "language_info": {
   "codemirror_mode": {
    "name": "ipython",
    "version": 3
   },
   "file_extension": ".py",
   "mimetype": "text/x-python",
   "name": "python",
   "nbconvert_exporter": "python",
   "pygments_lexer": "ipython3",
   "version": "3.7.6"
  }
 },
 "nbformat": 4,
 "nbformat_minor": 5
}
