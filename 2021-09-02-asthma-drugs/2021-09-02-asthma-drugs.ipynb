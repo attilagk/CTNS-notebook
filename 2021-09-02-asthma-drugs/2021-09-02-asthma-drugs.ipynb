{
 "cells": [
  {
   "cell_type": "code",
   "execution_count": 1,
   "id": "convinced-mileage",
   "metadata": {},
   "outputs": [
    {
     "name": "stdout",
     "output_type": "stream",
     "text": [
      "GenRev not found, steiner wont work\n",
      "Import error: Negex. Using keyword matching instead\n",
      "Import error: Funcassociate. Make sure that funcassociate is in toolbox!\n"
     ]
    }
   ],
   "source": [
    "%load_ext autoreload\n",
    "%autoreload 2\n",
    "%reload_ext autoreload\n",
    "from toolbox import wrappers\n",
    "from toolbox import network_utilities\n",
    "import repos_tools\n",
    "import pandas as pd\n",
    "import numpy as np\n",
    "import scipy.stats"
   ]
  },
  {
   "cell_type": "markdown",
   "id": "appreciated-strength",
   "metadata": {},
   "source": [
    "Read network and mapping betwen gene IDs and symbols"
   ]
  },
  {
   "cell_type": "code",
   "execution_count": 2,
   "id": "major-rescue",
   "metadata": {},
   "outputs": [],
   "source": [
    "id_mapping_file = '../../resources/PPI/geneid_to_symbol.txt'\n",
    "network = wrappers.get_network('../../resources/PPI/Cheng2019/network.sif', only_lcc = True)\n",
    "id_symbol = pd.read_csv(id_mapping_file, sep='\\t', index_col='GeneID')\n",
    "id_symbol = id_symbol.set_index(id_symbol.index.astype('str'))"
   ]
  },
  {
   "cell_type": "markdown",
   "id": "apart-russia",
   "metadata": {},
   "source": [
    "From Andrew's manuscript on repurposing asthma drugs to AD:\n",
    "> Approved drugs, or drugs in development, target the protein products of 15 of the 81 genes as identified using the ChEMBL database [28]. Among these are GRIN3A, PDE4D, and IL6R. The glutamate ionotropic NMDA receptor subunit NR3A is encoded by GRIN3A and has been previously associated with AD as targeted by an existing approved AD treatment, Memantine [29]. Phosphodiesterase-4 (PDE4) has been considered a promising target for treatment of AD and depression and functions as an existing target for current asthma medication [30], [31]. Asthma is the trait of interest in this study, thus we have focused on drugs shown to be effective in it’s treatment such as Roflumilast targeting PDE4D. Through the use of STRINGDB protein-protein interaction network we selected additional asthma drugs targeting proteins with scores >= 0.500 from those within our implicated list [27]. This included approved asthma drugs such as Salbutamol targeting beta-2 adrenergic receptor ADRB2, Montelukast targeting cysteinyl leukotriene receptor 1 CYSLTR1, and Fluticasone which targets the glucocorticoid receptor NR3C1."
   ]
  },
  {
   "cell_type": "code",
   "execution_count": 3,
   "id": "juvenile-passing",
   "metadata": {},
   "outputs": [],
   "source": [
    "%%bash\n",
    "cat > ../../results/2021-09-02-asthma-drugs/asthma-drug-targets <<EOF\n",
    "GRIN3A\n",
    "PDE4D\n",
    "IL6R\n",
    "ADRB2\n",
    "CYSLTR1\n",
    "NR3C1\n",
    "EOF"
   ]
  },
  {
   "cell_type": "code",
   "execution_count": 4,
   "id": "historical-fellowship",
   "metadata": {},
   "outputs": [
    {
     "name": "stdout",
     "output_type": "stream",
     "text": [
      "set()\n"
     ]
    },
    {
     "data": {
      "text/plain": [
       "{'NR3C1': {'2908'},\n",
       " 'IL6R': {'3570'},\n",
       " 'GRIN3A': {'116443'},\n",
       " 'ADRB2': {'154'},\n",
       " 'PDE4D': {'5144'},\n",
       " 'CYSLTR1': {'10800'}}"
      ]
     },
     "execution_count": 4,
     "metadata": {},
     "output_type": "execute_result"
    }
   ],
   "source": [
    "targets = wrappers.convert_to_geneid(file_name='../../results/2021-09-02-asthma-drugs/asthma-drug-targets', id_type='symbol', id_mapping_file=id_mapping_file)\n",
    "d = id_symbol.loc[targets, 'Symbol'].to_dict()\n",
    "D = {v: {k} for k, v in d.items()}\n",
    "D"
   ]
  },
  {
   "cell_type": "code",
   "execution_count": 5,
   "id": "limiting-passenger",
   "metadata": {},
   "outputs": [
    {
     "name": "stdout",
     "output_type": "stream",
     "text": [
      "{'MT-ND2', 'MT-ND1'}\n",
      "{'X84075', 'MT-ND2', 'MT-ND1', 'ENSG00000260911', 'ENSG00000270081.1'}\n"
     ]
    }
   ],
   "source": [
    "AD_genes_knowledge = wrappers.convert_to_geneid(file_name='../../results/2021-07-01-high-conf-ADgenes/AD-genes-knowledge', id_type='symbol', id_mapping_file=id_mapping_file)\n",
    "AD_genes_knowledge, AD_genes_knowledge_dropped = repos_tools.drop_genes_notin_network(AD_genes_knowledge, network)\n",
    "AD_genes_HC = wrappers.convert_to_geneid(file_name='../../results/2021-07-01-high-conf-ADgenes/AD-genes-seed', id_type='symbol', id_mapping_file=id_mapping_file)\n",
    "AD_genes_HC, AD_genes_HC_dropped = repos_tools.drop_genes_notin_network(AD_genes_HC, network)"
   ]
  },
  {
   "cell_type": "markdown",
   "id": "earned-siemens",
   "metadata": {},
   "source": [
    "Calculate proximity"
   ]
  },
  {
   "cell_type": "code",
   "execution_count": 6,
   "id": "tight-wrestling",
   "metadata": {},
   "outputs": [],
   "source": [
    "def helper(target, geneset, network):\n",
    "    res = wrappers.calculate_proximity(network=network, nodes_from=target, nodes_to=geneset)\n",
    "    return(res)\n",
    "\n",
    "Res_knowledge = {k: helper(v, AD_genes_knowledge, network) for k, v in D.items()}\n",
    "Res_HC = {k: helper(v, AD_genes_HC, network) for k, v in D.items()}"
   ]
  },
  {
   "cell_type": "code",
   "execution_count": 8,
   "id": "worse-manual",
   "metadata": {},
   "outputs": [
    {
     "data": {
      "text/plain": [
       "{'NR3C1': (1.0, -0.6344482202508909, (1.287, 0.4523615810388853)),\n",
       " 'IL6R': (1.0, -3.493482487361681, (1.94, 0.26907248094147423)),\n",
       " 'GRIN3A': (2.0, 0.046301475863886325, (1.987, 0.28076858798661936)),\n",
       " 'ADRB2': (2.0, 1.5800327517186143, (1.286, 0.4518893669915237)),\n",
       " 'PDE4D': (1.0, -1.8297332543657676, (1.772, 0.42191942358701623)),\n",
       " 'CYSLTR1': (4.0, 2.864459496157731, (2.4, 0.5585696017507578))}"
      ]
     },
     "execution_count": 8,
     "metadata": {},
     "output_type": "execute_result"
    }
   ],
   "source": [
    "Res_knowledge"
   ]
  },
  {
   "cell_type": "code",
   "execution_count": 9,
   "id": "killing-acting",
   "metadata": {},
   "outputs": [
    {
     "data": {
      "text/plain": [
       "{'NR3C1': (1.0, -0.2570954706397106, (1.062, 0.24115555146004825)),\n",
       " 'IL6R': (1.0, -2.031798495964875, (1.805, 0.3962007067131506)),\n",
       " 'GRIN3A': (2.0, 0.3346107708855587, (1.865, 0.4034538387473839)),\n",
       " 'ADRB2': (1.0, -0.24813529629094064, (1.058, 0.23374344910606584)),\n",
       " 'PDE4D': (1.0, -1.075040032850843, (1.544, 0.5060276672277911)),\n",
       " 'CYSLTR1': (3.0, 1.420562025260845, (2.251, 0.5272561047536576))}"
      ]
     },
     "execution_count": 9,
     "metadata": {},
     "output_type": "execute_result"
    }
   ],
   "source": [
    "Res_HC"
   ]
  },
  {
   "cell_type": "code",
   "execution_count": 7,
   "id": "following-environment",
   "metadata": {},
   "outputs": [
    {
     "name": "stdout",
     "output_type": "stream",
     "text": [
      "{\n",
      "  \"shell_port\": 39037,\n",
      "  \"iopub_port\": 58895,\n",
      "  \"stdin_port\": 34813,\n",
      "  \"control_port\": 59445,\n",
      "  \"hb_port\": 58115,\n",
      "  \"ip\": \"127.0.0.1\",\n",
      "  \"key\": \"60c6830f-5f831995eb6d215ea197c0d6\",\n",
      "  \"transport\": \"tcp\",\n",
      "  \"signature_scheme\": \"hmac-sha256\",\n",
      "  \"kernel_name\": \"\"\n",
      "}\n",
      "\n",
      "Paste the above JSON into a file, and connect with:\n",
      "    $> jupyter <app> --existing <file>\n",
      "or, if you are local, you can connect with just:\n",
      "    $> jupyter <app> --existing kernel-b8628dab-12ed-49aa-a67a-de03442afd59.json\n",
      "or even just:\n",
      "    $> jupyter <app> --existing\n",
      "if this is the most recent Jupyter kernel you have started.\n"
     ]
    }
   ],
   "source": [
    "%connect_info"
   ]
  },
  {
   "cell_type": "code",
   "execution_count": null,
   "id": "veterinary-arctic",
   "metadata": {},
   "outputs": [],
   "source": []
  }
 ],
 "metadata": {
  "kernelspec": {
   "display_name": "Python 3",
   "language": "python",
   "name": "python3"
  },
  "language_info": {
   "codemirror_mode": {
    "name": "ipython",
    "version": 3
   },
   "file_extension": ".py",
   "mimetype": "text/x-python",
   "name": "python",
   "nbconvert_exporter": "python",
   "pygments_lexer": "ipython3",
   "version": "3.7.6"
  }
 },
 "nbformat": 4,
 "nbformat_minor": 5
}
