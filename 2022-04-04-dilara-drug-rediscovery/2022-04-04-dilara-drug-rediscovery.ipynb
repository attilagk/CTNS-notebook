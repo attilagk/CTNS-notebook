{
 "cells": [
  {
   "cell_type": "code",
   "execution_count": 1,
   "id": "57dd8648",
   "metadata": {},
   "outputs": [
    {
     "name": "stdout",
     "output_type": "stream",
     "text": [
      "The autoreload extension is already loaded. To reload it, use:\n",
      "  %reload_ext autoreload\n"
     ]
    }
   ],
   "source": [
    "%load_ext autoreload\n",
    "%autoreload 2\n",
    "%reload_ext autoreload\n",
    "import pandas as pd\n",
    "import numpy as np\n",
    "import matplotlib.pyplot as plt\n",
    "import rediscovery_rate\n",
    "import attila_utils"
   ]
  },
  {
   "cell_type": "markdown",
   "id": "c797c056",
   "metadata": {},
   "source": [
    "## Old data frame"
   ]
  },
  {
   "cell_type": "code",
   "execution_count": 2,
   "id": "0d567b5c",
   "metadata": {},
   "outputs": [],
   "source": [
    "fpath = '../../results/2021-12-02-proximity-various-ADgenesets/merged-proximity-chembl.csv'\n",
    "usecols = range(6)\n",
    "merged = pd.read_csv(fpath, index_col=0, skiprows=1, usecols=usecols).rename_axis('drug_chembl_id', axis=0)\n",
    "fpath = '../../results/2021-12-02-proximity-various-ADgenesets/merged-proximity-chembl.csv'\n",
    "sel_gsets = ['knowledge', 'TWAS2+', 'agora2+', 'AD DE APOE3-APOE3', 'AD DE APOE4-APOE4', 'APOE3-4 DE neuron', 'APOE3-4 DE astrocyte', 'APOE3-4 DE microglia']\n",
    "merged_ranks = pd.read_csv(fpath, index_col=0, header=[0, 1]).rename_axis('drug_chembl_id', axis=0).xs('rank', axis=1, level=1)[sel_gsets]\n",
    "fpath = '../../results/2021-12-13-chembl-drug-info/drug-indication.csv'\n",
    "indications = pd.read_csv(fpath, index_col='drug_chembl_id')\n",
    "# D000544 is Alzheimer disease\n",
    "mp4ad = indications.loc[indications.mesh_id == 'D000544', ['max_phase_for_ind']].rename({'max_phase_for_ind': 'max_phase_for_AD'}, axis=1)\n",
    "fpath = '../../results/2021-12-13-chembl-drug-info/drug-info-bbb.csv'\n",
    "info_bbb = pd.read_csv(fpath, index_col=0).drop(['drug_name'], axis=1)\n",
    "fpath = '../../results/2022-01-14-rank-aggregation/aggregated-ranks.csv'\n",
    "agg_ranks = pd.read_csv(fpath, index_col='rank')\n",
    "top_drugs = pd.DataFrame({'aggregate rank': agg_ranks.index}, index=agg_ranks.MC3).rename_axis('drug_chembl_id', axis=0)\n",
    "drugs = pd.merge(merged, info_bbb, how='left', on='drug_chembl_id')\n",
    "drugs = pd.merge(drugs, mp4ad, how='left', on='drug_chembl_id')\n",
    "drugs = pd.merge(drugs, top_drugs, how='left', on='drug_chembl_id')\n",
    "drugs = pd.merge(drugs, merged_ranks, how='left', on='drug_chembl_id')\n",
    "drugs = drugs.sort_values('aggregate rank')"
   ]
  },
  {
   "cell_type": "markdown",
   "id": "65fc676e",
   "metadata": {},
   "source": [
    "## New data frames"
   ]
  },
  {
   "cell_type": "code",
   "execution_count": 3,
   "id": "32e6ed3e",
   "metadata": {},
   "outputs": [],
   "source": [
    "drugs_rmta = rediscovery_rate.make_drugs_df(screenpath='../../results/proximity-runs/rmta-apoe3-apoe4/rmta-apoe3-apoe4.csv', sort_by_z=True)"
   ]
  },
  {
   "cell_type": "code",
   "execution_count": 4,
   "id": "74ba3ae3",
   "metadata": {},
   "outputs": [],
   "source": [
    "drugs_aggreg = rediscovery_rate.make_drugs_df(screenpath='../../results/2021-12-02-proximity-various-ADgenesets/merged-proximity-chembl.csv', sort_by_z=False)\n",
    "fpath = '../../results/2022-01-14-rank-aggregation/aggregated-ranks.csv'\n",
    "agg_ranks = pd.read_csv(fpath, index_col='rank')\n",
    "top_drugs = pd.DataFrame({'aggregate rank': agg_ranks.index}, index=agg_ranks.MC3).rename_axis('drug_chembl_id', axis=0)\n",
    "drugs_aggreg = pd.merge(drugs_aggreg, top_drugs, how='left', on='drug_chembl_id')\n",
    "drugs_aggreg = drugs_aggreg.sort_values('aggregate rank')"
   ]
  },
  {
   "cell_type": "markdown",
   "id": "a89610e0",
   "metadata": {},
   "source": [
    "## Testing\n",
    "\n",
    "This section reproduces earlier results (see [2022-01-14-top-drugs](https://github.com/attilagk/CTNS-notebook/blob/main/2022-01-14-top-drugs/2022-01-14-top-drugs.ipynb))"
   ]
  },
  {
   "cell_type": "code",
   "execution_count": 5,
   "id": "16892c9b",
   "metadata": {},
   "outputs": [
    {
     "data": {
      "text/plain": [
       "(2.8089473684210526, 2.8089473684210526)"
      ]
     },
     "execution_count": 5,
     "metadata": {},
     "output_type": "execute_result"
    }
   ],
   "source": [
    "def top_bottom(drugs=drugs, topk=100, min_max_phase_for_ind=1, ind_col='max_phase_for_AD'):\n",
    "    bottoml = drugs['aggregate rank'].count()\n",
    "    #bottomk = len(drugs) - topk\n",
    "    df = drugs.copy()\n",
    "    df['tested4AD'] = drugs[ind_col] >= min_max_phase_for_ind\n",
    "    top = df.iloc[:topk]\n",
    "    bottom = df.iloc[-bottoml:]\n",
    "    top_avg, bottom_avg = [df.loc[df['tested4AD'], ind_col].sum() / xk for df, xk in zip([top, bottom], [topk, bottoml])]\n",
    "    ratio = top_avg / bottom_avg\n",
    "    return(ratio)\n",
    "\n",
    "top_bottom(drugs), top_bottom(drugs_aggreg)"
   ]
  },
  {
   "cell_type": "code",
   "execution_count": 6,
   "id": "95ed0c17",
   "metadata": {},
   "outputs": [
    {
     "data": {
      "text/plain": [
       "2.8089473684210526"
      ]
     },
     "execution_count": 6,
     "metadata": {},
     "output_type": "execute_result"
    }
   ],
   "source": [
    "rediscovery_rate.rel_rediscovery_rate(drugs, bottoml=593)"
   ]
  },
  {
   "cell_type": "code",
   "execution_count": 7,
   "id": "4e93f36e",
   "metadata": {},
   "outputs": [
    {
     "data": {
      "text/html": [
       "<div>\n",
       "<style scoped>\n",
       "    .dataframe tbody tr th:only-of-type {\n",
       "        vertical-align: middle;\n",
       "    }\n",
       "\n",
       "    .dataframe tbody tr th {\n",
       "        vertical-align: top;\n",
       "    }\n",
       "\n",
       "    .dataframe thead th {\n",
       "        text-align: right;\n",
       "    }\n",
       "</style>\n",
       "<table border=\"1\" class=\"dataframe\">\n",
       "  <thead>\n",
       "    <tr style=\"text-align: right;\">\n",
       "      <th></th>\n",
       "      <th>top-t</th>\n",
       "      <th>rel rediscovery rate</th>\n",
       "    </tr>\n",
       "  </thead>\n",
       "  <tbody>\n",
       "    <tr>\n",
       "      <th>0</th>\n",
       "      <td>10</td>\n",
       "      <td>0.000000</td>\n",
       "    </tr>\n",
       "    <tr>\n",
       "      <th>1</th>\n",
       "      <td>20</td>\n",
       "      <td>3.121053</td>\n",
       "    </tr>\n",
       "    <tr>\n",
       "      <th>2</th>\n",
       "      <td>30</td>\n",
       "      <td>2.080702</td>\n",
       "    </tr>\n",
       "    <tr>\n",
       "      <th>3</th>\n",
       "      <td>40</td>\n",
       "      <td>2.730921</td>\n",
       "    </tr>\n",
       "    <tr>\n",
       "      <th>4</th>\n",
       "      <td>50</td>\n",
       "      <td>2.184737</td>\n",
       "    </tr>\n",
       "  </tbody>\n",
       "</table>\n",
       "</div>"
      ],
      "text/plain": [
       "   top-t  rel rediscovery rate\n",
       "0     10              0.000000\n",
       "1     20              3.121053\n",
       "2     30              2.080702\n",
       "3     40              2.730921\n",
       "4     50              2.184737"
      ]
     },
     "execution_count": 7,
     "metadata": {},
     "output_type": "execute_result"
    }
   ],
   "source": [
    "rrrs = rediscovery_rate.rel_rediscovery_rates(drugs, bottoml=593)#.plot(kind='scatter', x='top-t', y='rel rediscovery rate')\n",
    "rrrs.head()"
   ]
  },
  {
   "cell_type": "code",
   "execution_count": 8,
   "id": "b1a99ae1",
   "metadata": {},
   "outputs": [
    {
     "data": {
      "text/plain": [
       "<AxesSubplot:xlabel='top-t', ylabel='rel rediscovery rate'>"
      ]
     },
     "execution_count": 8,
     "metadata": {},
     "output_type": "execute_result"
    },
    {
     "data": {
      "image/png": "[encoded data removed]",
      "text/plain": [
       "<Figure size 432x288 with 1 Axes>"
      ]
     },
     "metadata": {
      "needs_background": "light"
     },
     "output_type": "display_data"
    }
   ],
   "source": [
    "rrrs.plot(kind='scatter', x='top-t', y='rel rediscovery rate')"
   ]
  },
  {
   "cell_type": "markdown",
   "id": "950193f7",
   "metadata": {},
   "source": [
    "## Validation of rMTA based screen\n",
    "\n",
    "This shows that the rMTA based ranking of ChEMBL drugs is uninformative for AD drug rediscovery since the orange line (rMTA) is close to 1."
   ]
  },
  {
   "cell_type": "code",
   "execution_count": 9,
   "id": "6c2c4a53",
   "metadata": {},
   "outputs": [
    {
     "data": {
      "text/plain": [
       "Text(0, 0.5, 'rel rediscovery rate')"
      ]
     },
     "execution_count": 9,
     "metadata": {},
     "output_type": "execute_result"
    },
    {
     "data": {
      "image/png": "[encoded data removed]",
      "text/plain": [
       "<Figure size 432x288 with 1 Axes>"
      ]
     },
     "metadata": {
      "needs_background": "light"
     },
     "output_type": "display_data"
    }
   ],
   "source": [
    "rrrs_rmta = rediscovery_rate.rel_rediscovery_rates(drugs_rmta, bottoml=600)\n",
    "rrrs_aggreg = rediscovery_rate.rel_rediscovery_rates(drugs_aggreg, bottoml=600)\n",
    "fig, ax = plt.subplots()\n",
    "rrrs_aggreg.plot(kind='line', x='top-t', y='rel rediscovery rate', ax=ax, label='aggregated')\n",
    "rrrs_rmta.plot(kind='line', x='top-t', y='rel rediscovery rate', ax=ax, label='rMTA')\n",
    "ax.hlines(1, 0, 600, color='black', linewidth=0.5, linestyle='dashed')\n",
    "ax.set_ylabel('rel rediscovery rate')"
   ]
  },
  {
   "cell_type": "markdown",
   "id": "9a1bb5fb",
   "metadata": {},
   "source": [
    "## Validation of Dilara's DrugBank drugs\n",
    "\n",
    "Dilara discovered several drugs using DrugBank.  Below I convert DrugBank IDs to ChEMBL IDs (some are not convertable based on `chembl2drugbank.tsv` by UniChem) and some are not contained in the set of phase 3-4 ChEMBL drugs.\n",
    "\n",
    "The analysis shows that the remaining of Dilara's drugs do not include any drug with AD indication, which gives 0 rediscovery rate."
   ]
  },
  {
   "cell_type": "code",
   "execution_count": 10,
   "id": "6a880619",
   "metadata": {},
   "outputs": [],
   "source": [
    "inpath = '../../resources/tunahan/Drug_Target_GeneList_rMTA_APOE.xlsx'\n",
    "drugbank_l = [pd.read_excel(inpath, index_col='DrugBankID', sheet_name=celltype)[['gene']] for celltype in ['neuron', 'astrocyte', 'microglia']]\n",
    "drugbank_ids = list(pd.concat(drugbank_l, axis=0).index.dropna().drop_duplicates())"
   ]
  },
  {
   "cell_type": "code",
   "execution_count": 11,
   "id": "3d6bbc02",
   "metadata": {},
   "outputs": [
    {
     "data": {
      "text/html": [
       "<div>\n",
       "<style scoped>\n",
       "    .dataframe tbody tr th:only-of-type {\n",
       "        vertical-align: middle;\n",
       "    }\n",
       "\n",
       "    .dataframe tbody tr th {\n",
       "        vertical-align: top;\n",
       "    }\n",
       "\n",
       "    .dataframe thead th {\n",
       "        text-align: right;\n",
       "    }\n",
       "</style>\n",
       "<table border=\"1\" class=\"dataframe\">\n",
       "  <thead>\n",
       "    <tr style=\"text-align: right;\">\n",
       "      <th></th>\n",
       "      <th>drug_name</th>\n",
       "      <th>max_phase</th>\n",
       "      <th>indication_class</th>\n",
       "      <th>uniprot_name</th>\n",
       "      <th>target_name</th>\n",
       "      <th>d</th>\n",
       "      <th>avg_d_H0</th>\n",
       "      <th>sdev_d_H0</th>\n",
       "      <th>z</th>\n",
       "      <th>p</th>\n",
       "      <th>max_phase_for_AD</th>\n",
       "      <th>rank by z</th>\n",
       "    </tr>\n",
       "    <tr>\n",
       "      <th>drug_chembl_id</th>\n",
       "      <th></th>\n",
       "      <th></th>\n",
       "      <th></th>\n",
       "      <th></th>\n",
       "      <th></th>\n",
       "      <th></th>\n",
       "      <th></th>\n",
       "      <th></th>\n",
       "      <th></th>\n",
       "      <th></th>\n",
       "      <th></th>\n",
       "      <th></th>\n",
       "    </tr>\n",
       "  </thead>\n",
       "  <tbody>\n",
       "    <tr>\n",
       "      <th>CHEMBL1543</th>\n",
       "      <td>GLUTATHIONE</td>\n",
       "      <td>3</td>\n",
       "      <td>NaN</td>\n",
       "      <td>GSTK1</td>\n",
       "      <td>Glutathione S-transferase kappa 1</td>\n",
       "      <td>2.000000</td>\n",
       "      <td>1.867000</td>\n",
       "      <td>0.342507</td>\n",
       "      <td>0.388313</td>\n",
       "      <td>0.651108</td>\n",
       "      <td>NaN</td>\n",
       "      <td>1366</td>\n",
       "    </tr>\n",
       "    <tr>\n",
       "      <th>CHEMBL75880</th>\n",
       "      <td>PERHEXILINE</td>\n",
       "      <td>4</td>\n",
       "      <td>Vasodilator (coronary)</td>\n",
       "      <td>EGFR|FYN|ACM4|ACM5|CP2D6|ACM1|ACM3|SC6A2|KCNH2...</td>\n",
       "      <td>Epidermal growth factor receptor erbB1|Tyrosin...</td>\n",
       "      <td>2.300000</td>\n",
       "      <td>2.089200</td>\n",
       "      <td>0.150011</td>\n",
       "      <td>1.405228</td>\n",
       "      <td>0.920023</td>\n",
       "      <td>NaN</td>\n",
       "      <td>2021</td>\n",
       "    </tr>\n",
       "    <tr>\n",
       "      <th>CHEMBL457</th>\n",
       "      <td>GEMFIBROZIL</td>\n",
       "      <td>4</td>\n",
       "      <td>Antihyperlipidemic</td>\n",
       "      <td>GEMI|TTHY|CP2C9|SMAD3|SMN|SO1B3</td>\n",
       "      <td>Geminin|Transthyretin|Cytochrome P450 2C9|Moth...</td>\n",
       "      <td>2.000000</td>\n",
       "      <td>1.860600</td>\n",
       "      <td>0.172880</td>\n",
       "      <td>0.806338</td>\n",
       "      <td>0.789976</td>\n",
       "      <td>0.0</td>\n",
       "      <td>1736</td>\n",
       "    </tr>\n",
       "    <tr>\n",
       "      <th>CHEMBL1567463</th>\n",
       "      <td>CHOLINE ALFOSCERATE</td>\n",
       "      <td>3</td>\n",
       "      <td>NaN</td>\n",
       "      <td>UBP1</td>\n",
       "      <td>Ubiquitin carboxyl-terminal hydrolase 1</td>\n",
       "      <td>2.000000</td>\n",
       "      <td>1.955000</td>\n",
       "      <td>0.225776</td>\n",
       "      <td>0.199312</td>\n",
       "      <td>0.578991</td>\n",
       "      <td>NaN</td>\n",
       "      <td>1105</td>\n",
       "    </tr>\n",
       "    <tr>\n",
       "      <th>CHEMBL190461</th>\n",
       "      <td>CANNABIDIOL</td>\n",
       "      <td>4</td>\n",
       "      <td>NaN</td>\n",
       "      <td>CP1A1|CNR1|CNR2|GPR55</td>\n",
       "      <td>Cytochrome P450 1A1|Cannabinoid CB1 receptor|C...</td>\n",
       "      <td>3.000000</td>\n",
       "      <td>2.293333</td>\n",
       "      <td>0.272764</td>\n",
       "      <td>2.590766</td>\n",
       "      <td>0.995212</td>\n",
       "      <td>NaN</td>\n",
       "      <td>2323</td>\n",
       "    </tr>\n",
       "    <tr>\n",
       "      <th>CHEMBL773</th>\n",
       "      <td>GLYCINE</td>\n",
       "      <td>4</td>\n",
       "      <td>NaN</td>\n",
       "      <td>O51E2</td>\n",
       "      <td>Olfactory receptor 51E2</td>\n",
       "      <td>NaN</td>\n",
       "      <td>NaN</td>\n",
       "      <td>NaN</td>\n",
       "      <td>NaN</td>\n",
       "      <td>NaN</td>\n",
       "      <td>0.0</td>\n",
       "      <td>2424</td>\n",
       "    </tr>\n",
       "    <tr>\n",
       "      <th>CHEMBL513</th>\n",
       "      <td>CARMUSTINE</td>\n",
       "      <td>4</td>\n",
       "      <td>Antineoplastic</td>\n",
       "      <td>AL1A1|GSHR|THB|ARSA|PPARG|BLM|EHMT2</td>\n",
       "      <td>Aldehyde dehydrogenase 1A1|Glutathione reducta...</td>\n",
       "      <td>1.714286</td>\n",
       "      <td>1.976857</td>\n",
       "      <td>0.127276</td>\n",
       "      <td>-2.063013</td>\n",
       "      <td>0.019556</td>\n",
       "      <td>NaN</td>\n",
       "      <td>70</td>\n",
       "    </tr>\n",
       "    <tr>\n",
       "      <th>CHEMBL648</th>\n",
       "      <td>CYCLIZINE</td>\n",
       "      <td>4</td>\n",
       "      <td>Anti-Emetic,Antihistaminic,Antinauseant</td>\n",
       "      <td>LX15B|ACM2|ACM4|ACM5|ADA2A|CP2D6|ACM1|ACM3|ADA...</td>\n",
       "      <td>Arachidonate 15-lipoxygenase, type II|Muscarin...</td>\n",
       "      <td>2.333333</td>\n",
       "      <td>2.162667</td>\n",
       "      <td>0.107876</td>\n",
       "      <td>1.582056</td>\n",
       "      <td>0.943182</td>\n",
       "      <td>NaN</td>\n",
       "      <td>2097</td>\n",
       "    </tr>\n",
       "    <tr>\n",
       "      <th>CHEMBL472</th>\n",
       "      <td>GLYBURIDE</td>\n",
       "      <td>4</td>\n",
       "      <td>Antidiabetic</td>\n",
       "      <td>MEN1|ABCC9|SO2B1|GCR|CP3A4|CP2D6|CP2C9|TSHR|AP...</td>\n",
       "      <td>Menin/Histone-lysine N-methyltransferase MLL|S...</td>\n",
       "      <td>2.052632</td>\n",
       "      <td>2.066579</td>\n",
       "      <td>0.087830</td>\n",
       "      <td>-0.158800</td>\n",
       "      <td>0.436913</td>\n",
       "      <td>NaN</td>\n",
       "      <td>699</td>\n",
       "    </tr>\n",
       "    <tr>\n",
       "      <th>CHEMBL36</th>\n",
       "      <td>PYRIMETHAMINE</td>\n",
       "      <td>4</td>\n",
       "      <td>Antimalarial</td>\n",
       "      <td>GEMI|IDHC|DYR|ESR1|CP1A2|HEXA|HEXB|CP3A4|CP2D6...</td>\n",
       "      <td>Geminin|Isocitrate dehydrogenase [NADP] cytopl...</td>\n",
       "      <td>1.833333</td>\n",
       "      <td>2.055583</td>\n",
       "      <td>0.106917</td>\n",
       "      <td>-2.078708</td>\n",
       "      <td>0.018822</td>\n",
       "      <td>NaN</td>\n",
       "      <td>68</td>\n",
       "    </tr>\n",
       "    <tr>\n",
       "      <th>CHEMBL231813</th>\n",
       "      <td>TELAPREVIR</td>\n",
       "      <td>4</td>\n",
       "      <td>NaN</td>\n",
       "      <td>CATL2|THRB|TRY1|CATL1|CATB|ELNE|CMA1|CATK|CATF...</td>\n",
       "      <td>Cathepsin L2|Thrombin|Trypsin I|Cathepsin L|Ca...</td>\n",
       "      <td>2.300000</td>\n",
       "      <td>2.149800</td>\n",
       "      <td>0.130000</td>\n",
       "      <td>1.155386</td>\n",
       "      <td>0.876034</td>\n",
       "      <td>NaN</td>\n",
       "      <td>1916</td>\n",
       "    </tr>\n",
       "    <tr>\n",
       "      <th>CHEMBL639</th>\n",
       "      <td>AZELASTINE</td>\n",
       "      <td>4</td>\n",
       "      <td>Anti-Asthmatic; Anti-Allergic</td>\n",
       "      <td>CP2D6|ACM1|5HT2C|ADA1A|HRH1|ADA1B|5HT2B|KCNH2|...</td>\n",
       "      <td>Cytochrome P450 2D6|Muscarinic acetylcholine r...</td>\n",
       "      <td>2.555556</td>\n",
       "      <td>2.183778</td>\n",
       "      <td>0.136729</td>\n",
       "      <td>2.719082</td>\n",
       "      <td>0.996727</td>\n",
       "      <td>NaN</td>\n",
       "      <td>2337</td>\n",
       "    </tr>\n",
       "    <tr>\n",
       "      <th>CHEMBL682</th>\n",
       "      <td>AMODIAQUINE</td>\n",
       "      <td>4</td>\n",
       "      <td>Antimalarial,Antiprotozoal</td>\n",
       "      <td>A4|CP2C8|CP2D6|CP2J2</td>\n",
       "      <td>Beta amyloid A4 protein|Cytochrome P450 2C8|Cy...</td>\n",
       "      <td>2.250000</td>\n",
       "      <td>2.046500</td>\n",
       "      <td>0.226302</td>\n",
       "      <td>0.899239</td>\n",
       "      <td>0.815737</td>\n",
       "      <td>NaN</td>\n",
       "      <td>1803</td>\n",
       "    </tr>\n",
       "    <tr>\n",
       "      <th>CHEMBL421</th>\n",
       "      <td>SULFASALAZINE</td>\n",
       "      <td>4</td>\n",
       "      <td>Antibacterial</td>\n",
       "      <td>MRP4|SO2B1|CAH1|CAH2|LMNA|TSHR|MK01|NTCP|HIF1A...</td>\n",
       "      <td>Multidrug resistance-associated protein 4|Solu...</td>\n",
       "      <td>1.800000</td>\n",
       "      <td>2.100400</td>\n",
       "      <td>0.137912</td>\n",
       "      <td>-2.178194</td>\n",
       "      <td>0.014696</td>\n",
       "      <td>NaN</td>\n",
       "      <td>60</td>\n",
       "    </tr>\n",
       "    <tr>\n",
       "      <th>CHEMBL50</th>\n",
       "      <td>QUERCETIN</td>\n",
       "      <td>3</td>\n",
       "      <td>NaN</td>\n",
       "      <td>MGA|CAH12|NUAK1|KDM1A|THRB|CAH1|CAH2|PA21B|P53...</td>\n",
       "      <td>Alpha glucosidase|Carbonic anhydrase XII|NUAK ...</td>\n",
       "      <td>1.988372</td>\n",
       "      <td>2.002116</td>\n",
       "      <td>0.040878</td>\n",
       "      <td>-0.336223</td>\n",
       "      <td>0.368351</td>\n",
       "      <td>NaN</td>\n",
       "      <td>557</td>\n",
       "    </tr>\n",
       "    <tr>\n",
       "      <th>CHEMBL82202</th>\n",
       "      <td>PYRIDOXAL PHOSPHATE</td>\n",
       "      <td>3</td>\n",
       "      <td>NaN</td>\n",
       "      <td>P2RX1</td>\n",
       "      <td>P2X purinoceptor 1</td>\n",
       "      <td>4.000000</td>\n",
       "      <td>2.559000</td>\n",
       "      <td>0.580103</td>\n",
       "      <td>2.484043</td>\n",
       "      <td>0.993505</td>\n",
       "      <td>NaN</td>\n",
       "      <td>2302</td>\n",
       "    </tr>\n",
       "  </tbody>\n",
       "</table>\n",
       "</div>"
      ],
      "text/plain": [
       "                          drug_name  max_phase  \\\n",
       "drug_chembl_id                                   \n",
       "CHEMBL1543              GLUTATHIONE          3   \n",
       "CHEMBL75880             PERHEXILINE          4   \n",
       "CHEMBL457               GEMFIBROZIL          4   \n",
       "CHEMBL1567463   CHOLINE ALFOSCERATE          3   \n",
       "CHEMBL190461            CANNABIDIOL          4   \n",
       "CHEMBL773                   GLYCINE          4   \n",
       "CHEMBL513                CARMUSTINE          4   \n",
       "CHEMBL648                 CYCLIZINE          4   \n",
       "CHEMBL472                 GLYBURIDE          4   \n",
       "CHEMBL36              PYRIMETHAMINE          4   \n",
       "CHEMBL231813             TELAPREVIR          4   \n",
       "CHEMBL639                AZELASTINE          4   \n",
       "CHEMBL682               AMODIAQUINE          4   \n",
       "CHEMBL421             SULFASALAZINE          4   \n",
       "CHEMBL50                  QUERCETIN          3   \n",
       "CHEMBL82202     PYRIDOXAL PHOSPHATE          3   \n",
       "\n",
       "                                       indication_class  \\\n",
       "drug_chembl_id                                            \n",
       "CHEMBL1543                                          NaN   \n",
       "CHEMBL75880                      Vasodilator (coronary)   \n",
       "CHEMBL457                            Antihyperlipidemic   \n",
       "CHEMBL1567463                                       NaN   \n",
       "CHEMBL190461                                        NaN   \n",
       "CHEMBL773                                           NaN   \n",
       "CHEMBL513                                Antineoplastic   \n",
       "CHEMBL648       Anti-Emetic,Antihistaminic,Antinauseant   \n",
       "CHEMBL472                                  Antidiabetic   \n",
       "CHEMBL36                                   Antimalarial   \n",
       "CHEMBL231813                                        NaN   \n",
       "CHEMBL639                 Anti-Asthmatic; Anti-Allergic   \n",
       "CHEMBL682                    Antimalarial,Antiprotozoal   \n",
       "CHEMBL421                                 Antibacterial   \n",
       "CHEMBL50                                            NaN   \n",
       "CHEMBL82202                                         NaN   \n",
       "\n",
       "                                                     uniprot_name  \\\n",
       "drug_chembl_id                                                      \n",
       "CHEMBL1543                                                  GSTK1   \n",
       "CHEMBL75880     EGFR|FYN|ACM4|ACM5|CP2D6|ACM1|ACM3|SC6A2|KCNH2...   \n",
       "CHEMBL457                         GEMI|TTHY|CP2C9|SMAD3|SMN|SO1B3   \n",
       "CHEMBL1567463                                                UBP1   \n",
       "CHEMBL190461                                CP1A1|CNR1|CNR2|GPR55   \n",
       "CHEMBL773                                                   O51E2   \n",
       "CHEMBL513                     AL1A1|GSHR|THB|ARSA|PPARG|BLM|EHMT2   \n",
       "CHEMBL648       LX15B|ACM2|ACM4|ACM5|ADA2A|CP2D6|ACM1|ACM3|ADA...   \n",
       "CHEMBL472       MEN1|ABCC9|SO2B1|GCR|CP3A4|CP2D6|CP2C9|TSHR|AP...   \n",
       "CHEMBL36        GEMI|IDHC|DYR|ESR1|CP1A2|HEXA|HEXB|CP3A4|CP2D6...   \n",
       "CHEMBL231813    CATL2|THRB|TRY1|CATL1|CATB|ELNE|CMA1|CATK|CATF...   \n",
       "CHEMBL639       CP2D6|ACM1|5HT2C|ADA1A|HRH1|ADA1B|5HT2B|KCNH2|...   \n",
       "CHEMBL682                                    A4|CP2C8|CP2D6|CP2J2   \n",
       "CHEMBL421       MRP4|SO2B1|CAH1|CAH2|LMNA|TSHR|MK01|NTCP|HIF1A...   \n",
       "CHEMBL50        MGA|CAH12|NUAK1|KDM1A|THRB|CAH1|CAH2|PA21B|P53...   \n",
       "CHEMBL82202                                                 P2RX1   \n",
       "\n",
       "                                                      target_name         d  \\\n",
       "drug_chembl_id                                                                \n",
       "CHEMBL1543                      Glutathione S-transferase kappa 1  2.000000   \n",
       "CHEMBL75880     Epidermal growth factor receptor erbB1|Tyrosin...  2.300000   \n",
       "CHEMBL457       Geminin|Transthyretin|Cytochrome P450 2C9|Moth...  2.000000   \n",
       "CHEMBL1567463             Ubiquitin carboxyl-terminal hydrolase 1  2.000000   \n",
       "CHEMBL190461    Cytochrome P450 1A1|Cannabinoid CB1 receptor|C...  3.000000   \n",
       "CHEMBL773                                 Olfactory receptor 51E2       NaN   \n",
       "CHEMBL513       Aldehyde dehydrogenase 1A1|Glutathione reducta...  1.714286   \n",
       "CHEMBL648       Arachidonate 15-lipoxygenase, type II|Muscarin...  2.333333   \n",
       "CHEMBL472       Menin/Histone-lysine N-methyltransferase MLL|S...  2.052632   \n",
       "CHEMBL36        Geminin|Isocitrate dehydrogenase [NADP] cytopl...  1.833333   \n",
       "CHEMBL231813    Cathepsin L2|Thrombin|Trypsin I|Cathepsin L|Ca...  2.300000   \n",
       "CHEMBL639       Cytochrome P450 2D6|Muscarinic acetylcholine r...  2.555556   \n",
       "CHEMBL682       Beta amyloid A4 protein|Cytochrome P450 2C8|Cy...  2.250000   \n",
       "CHEMBL421       Multidrug resistance-associated protein 4|Solu...  1.800000   \n",
       "CHEMBL50        Alpha glucosidase|Carbonic anhydrase XII|NUAK ...  1.988372   \n",
       "CHEMBL82202                                    P2X purinoceptor 1  4.000000   \n",
       "\n",
       "                avg_d_H0  sdev_d_H0         z         p  max_phase_for_AD  \\\n",
       "drug_chembl_id                                                              \n",
       "CHEMBL1543      1.867000   0.342507  0.388313  0.651108               NaN   \n",
       "CHEMBL75880     2.089200   0.150011  1.405228  0.920023               NaN   \n",
       "CHEMBL457       1.860600   0.172880  0.806338  0.789976               0.0   \n",
       "CHEMBL1567463   1.955000   0.225776  0.199312  0.578991               NaN   \n",
       "CHEMBL190461    2.293333   0.272764  2.590766  0.995212               NaN   \n",
       "CHEMBL773            NaN        NaN       NaN       NaN               0.0   \n",
       "CHEMBL513       1.976857   0.127276 -2.063013  0.019556               NaN   \n",
       "CHEMBL648       2.162667   0.107876  1.582056  0.943182               NaN   \n",
       "CHEMBL472       2.066579   0.087830 -0.158800  0.436913               NaN   \n",
       "CHEMBL36        2.055583   0.106917 -2.078708  0.018822               NaN   \n",
       "CHEMBL231813    2.149800   0.130000  1.155386  0.876034               NaN   \n",
       "CHEMBL639       2.183778   0.136729  2.719082  0.996727               NaN   \n",
       "CHEMBL682       2.046500   0.226302  0.899239  0.815737               NaN   \n",
       "CHEMBL421       2.100400   0.137912 -2.178194  0.014696               NaN   \n",
       "CHEMBL50        2.002116   0.040878 -0.336223  0.368351               NaN   \n",
       "CHEMBL82202     2.559000   0.580103  2.484043  0.993505               NaN   \n",
       "\n",
       "                rank by z  \n",
       "drug_chembl_id             \n",
       "CHEMBL1543           1366  \n",
       "CHEMBL75880          2021  \n",
       "CHEMBL457            1736  \n",
       "CHEMBL1567463        1105  \n",
       "CHEMBL190461         2323  \n",
       "CHEMBL773            2424  \n",
       "CHEMBL513              70  \n",
       "CHEMBL648            2097  \n",
       "CHEMBL472             699  \n",
       "CHEMBL36               68  \n",
       "CHEMBL231813         1916  \n",
       "CHEMBL639            2337  \n",
       "CHEMBL682            1803  \n",
       "CHEMBL421              60  \n",
       "CHEMBL50              557  \n",
       "CHEMBL82202          2302  "
      ]
     },
     "execution_count": 11,
     "metadata": {},
     "output_type": "execute_result"
    }
   ],
   "source": [
    "drugbank2chembl = pd.read_csv('../../resources/UniChem/chembl2drugbank.tsv', sep='\\t', index_col=\"To src:'2'\").rename({\"From src:'1'\": 'ChEMBL ID'}, axis=1).rename_axis(index='DrugBank ID')['ChEMBL ID']\n",
    "convertable_drugbank_ids = set(drugbank_ids).intersection(set(drugbank2chembl.index))\n",
    "dilara_drugs_chembl_ids = list(set(drugbank2chembl.loc[convertable_drugbank_ids].to_list()).intersection(set(drugs_rmta.index)))\n",
    "drugs_rmta.loc[dilara_drugs_chembl_ids]"
   ]
  },
  {
   "cell_type": "code",
   "execution_count": 12,
   "id": "0b16686d",
   "metadata": {},
   "outputs": [
    {
     "data": {
      "text/plain": [
       "0.0"
      ]
     },
     "execution_count": 12,
     "metadata": {},
     "output_type": "execute_result"
    }
   ],
   "source": [
    "drugs_rmta.loc[dilara_drugs_chembl_ids, 'max_phase_for_AD'].sum()"
   ]
  },
  {
   "cell_type": "code",
   "execution_count": 13,
   "id": "586f0407",
   "metadata": {},
   "outputs": [
    {
     "name": "stdout",
     "output_type": "stream",
     "text": [
      "{\n",
      "  \"shell_port\": 56635,\n",
      "  \"iopub_port\": 56636,\n",
      "  \"stdin_port\": 56637,\n",
      "  \"control_port\": 56639,\n",
      "  \"hb_port\": 56638,\n",
      "  \"ip\": \"127.0.0.1\",\n",
      "  \"key\": \"fdd013eb-793a5dbf4b7c272106367735\",\n",
      "  \"transport\": \"tcp\",\n",
      "  \"signature_scheme\": \"hmac-sha256\",\n",
      "  \"kernel_name\": \"\"\n",
      "}\n",
      "\n",
      "Paste the above JSON into a file, and connect with:\n",
      "    $> jupyter <app> --existing <file>\n",
      "or, if you are local, you can connect with just:\n",
      "    $> jupyter <app> --existing kernel-ef087fb0-9dab-4acf-9d0f-dcfd7d48cde6.json\n",
      "or even just:\n",
      "    $> jupyter <app> --existing\n",
      "if this is the most recent Jupyter kernel you have started.\n"
     ]
    }
   ],
   "source": [
    "%connect_info"
   ]
  },
  {
   "cell_type": "code",
   "execution_count": null,
   "id": "27b8d07f",
   "metadata": {},
   "outputs": [],
   "source": []
  }
 ],
 "metadata": {
  "kernelspec": {
   "display_name": "Python 3",
   "language": "python",
   "name": "python3"
  },
  "language_info": {
   "codemirror_mode": {
    "name": "ipython",
    "version": 3
   },
   "file_extension": ".py",
   "mimetype": "text/x-python",
   "name": "python",
   "nbconvert_exporter": "python",
   "pygments_lexer": "ipython3",
   "version": "3.8.8"
  }
 },
 "nbformat": 4,
 "nbformat_minor": 5
}
