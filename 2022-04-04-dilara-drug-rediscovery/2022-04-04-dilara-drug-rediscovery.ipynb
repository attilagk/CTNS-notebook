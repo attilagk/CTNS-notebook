{
 "cells": [
  {
   "cell_type": "code",
   "execution_count": 1,
   "id": "d306a043",
   "metadata": {},
   "outputs": [
    {
     "name": "stdout",
     "output_type": "stream",
     "text": [
      "The autoreload extension is already loaded. To reload it, use:\n",
      "  %reload_ext autoreload\n"
     ]
    }
   ],
   "source": [
    "%load_ext autoreload\n",
    "%autoreload 2\n",
    "%reload_ext autoreload\n",
    "import pandas as pd\n",
    "import numpy as np\n",
    "import matplotlib.pyplot as plt\n",
    "import rediscovery_rate\n",
    "import attila_utils"
   ]
  },
  {
   "cell_type": "markdown",
   "id": "c82324c0",
   "metadata": {},
   "source": [
    "## Old data frame"
   ]
  },
  {
   "cell_type": "code",
   "execution_count": 2,
   "id": "f5048d3c",
   "metadata": {},
   "outputs": [],
   "source": [
    "fpath = '../../results/2021-12-02-proximity-various-ADgenesets/merged-proximity-chembl.csv'\n",
    "usecols = range(6)\n",
    "merged = pd.read_csv(fpath, index_col=0, skiprows=1, usecols=usecols).rename_axis('drug_chembl_id', axis=0)\n",
    "fpath = '../../results/2021-12-02-proximity-various-ADgenesets/merged-proximity-chembl.csv'\n",
    "sel_gsets = ['knowledge', 'TWAS2+', 'agora2+', 'AD DE APOE3-APOE3', 'AD DE APOE4-APOE4', 'APOE3-4 DE neuron', 'APOE3-4 DE astrocyte', 'APOE3-4 DE microglia']\n",
    "merged_ranks = pd.read_csv(fpath, index_col=0, header=[0, 1]).rename_axis('drug_chembl_id', axis=0).xs('rank', axis=1, level=1)[sel_gsets]\n",
    "fpath = '../../results/2021-12-13-chembl-drug-info/drug-indication.csv'\n",
    "indications = pd.read_csv(fpath, index_col='drug_chembl_id')\n",
    "# D000544 is Alzheimer disease\n",
    "mp4ad = indications.loc[indications.mesh_id == 'D000544', ['max_phase_for_ind']].rename({'max_phase_for_ind': 'max_phase_for_AD'}, axis=1)\n",
    "fpath = '../../results/2021-12-13-chembl-drug-info/drug-info-bbb.csv'\n",
    "info_bbb = pd.read_csv(fpath, index_col=0).drop(['drug_name'], axis=1)\n",
    "fpath = '../../results/2022-01-14-rank-aggregation/aggregated-ranks.csv'\n",
    "agg_ranks = pd.read_csv(fpath, index_col='rank')\n",
    "top_drugs = pd.DataFrame({'aggregate rank': agg_ranks.index}, index=agg_ranks.MC3).rename_axis('drug_chembl_id', axis=0)\n",
    "drugs = pd.merge(merged, info_bbb, how='left', on='drug_chembl_id')\n",
    "drugs = pd.merge(drugs, mp4ad, how='left', on='drug_chembl_id')\n",
    "drugs = pd.merge(drugs, top_drugs, how='left', on='drug_chembl_id')\n",
    "drugs = pd.merge(drugs, merged_ranks, how='left', on='drug_chembl_id')\n",
    "drugs = drugs.sort_values('aggregate rank')"
   ]
  },
  {
   "cell_type": "markdown",
   "id": "e8b9d105",
   "metadata": {},
   "source": [
    "## New data frames"
   ]
  },
  {
   "cell_type": "code",
   "execution_count": 3,
   "id": "9cbd0fec",
   "metadata": {},
   "outputs": [],
   "source": [
    "drugs_rmta = rediscovery_rate.make_drugs_df(screenpath='../../results/proximity-runs/rmta-apoe3-apoe4/rmta-apoe3-apoe4.csv', sort_by_z=True)"
   ]
  },
  {
   "cell_type": "code",
   "execution_count": 4,
   "id": "e34738e1",
   "metadata": {},
   "outputs": [],
   "source": [
    "drugs_aggreg = rediscovery_rate.make_drugs_df(screenpath='../../results/2021-12-02-proximity-various-ADgenesets/merged-proximity-chembl.csv', sort_by_z=False)\n",
    "fpath = '../../results/2022-01-14-rank-aggregation/aggregated-ranks.csv'\n",
    "agg_ranks = pd.read_csv(fpath, index_col='rank')\n",
    "top_drugs = pd.DataFrame({'aggregate rank': agg_ranks.index}, index=agg_ranks.MC3).rename_axis('drug_chembl_id', axis=0)\n",
    "drugs_aggreg = pd.merge(drugs_aggreg, top_drugs, how='left', on='drug_chembl_id')\n",
    "drugs_aggreg = drugs_aggreg.sort_values('aggregate rank')"
   ]
  },
  {
   "cell_type": "markdown",
   "id": "247400c7",
   "metadata": {},
   "source": [
    "## Testing"
   ]
  },
  {
   "cell_type": "code",
   "execution_count": 35,
   "id": "be8b067c",
   "metadata": {},
   "outputs": [
    {
     "data": {
      "text/plain": [
       "(2.8089473684210526, 2.8089473684210526)"
      ]
     },
     "execution_count": 35,
     "metadata": {},
     "output_type": "execute_result"
    }
   ],
   "source": [
    "def top_bottom(drugs=drugs, topk=100, min_max_phase_for_ind=1, ind_col='max_phase_for_AD'):\n",
    "    bottoml = drugs['aggregate rank'].count()\n",
    "    #bottomk = len(drugs) - topk\n",
    "    df = drugs.copy()\n",
    "    df['tested4AD'] = drugs[ind_col] >= min_max_phase_for_ind\n",
    "    top = df.iloc[:topk]\n",
    "    bottom = df.iloc[-bottoml:]\n",
    "    top_avg, bottom_avg = [df.loc[df['tested4AD'], ind_col].sum() / xk for df, xk in zip([top, bottom], [topk, bottoml])]\n",
    "    ratio = top_avg / bottom_avg\n",
    "    return(ratio)\n",
    "\n",
    "top_bottom(drugs), top_bottom(drugs_aggreg)"
   ]
  },
  {
   "cell_type": "code",
   "execution_count": 37,
   "id": "c6dc40cc",
   "metadata": {},
   "outputs": [
    {
     "data": {
      "text/plain": [
       "2.8089473684210526"
      ]
     },
     "execution_count": 37,
     "metadata": {},
     "output_type": "execute_result"
    }
   ],
   "source": [
    "rediscovery_rate.rel_rediscovery_rate(drugs, bottoml=593)"
   ]
  },
  {
   "cell_type": "code",
   "execution_count": 40,
   "id": "f67b0548",
   "metadata": {},
   "outputs": [
    {
     "data": {
      "text/html": [
       "<div>\n",
       "<style scoped>\n",
       "    .dataframe tbody tr th:only-of-type {\n",
       "        vertical-align: middle;\n",
       "    }\n",
       "\n",
       "    .dataframe tbody tr th {\n",
       "        vertical-align: top;\n",
       "    }\n",
       "\n",
       "    .dataframe thead th {\n",
       "        text-align: right;\n",
       "    }\n",
       "</style>\n",
       "<table border=\"1\" class=\"dataframe\">\n",
       "  <thead>\n",
       "    <tr style=\"text-align: right;\">\n",
       "      <th></th>\n",
       "      <th>top-t</th>\n",
       "      <th>rel rediscovery rate</th>\n",
       "    </tr>\n",
       "  </thead>\n",
       "  <tbody>\n",
       "    <tr>\n",
       "      <th>0</th>\n",
       "      <td>10</td>\n",
       "      <td>0.000000</td>\n",
       "    </tr>\n",
       "    <tr>\n",
       "      <th>1</th>\n",
       "      <td>20</td>\n",
       "      <td>3.121053</td>\n",
       "    </tr>\n",
       "    <tr>\n",
       "      <th>2</th>\n",
       "      <td>30</td>\n",
       "      <td>2.080702</td>\n",
       "    </tr>\n",
       "    <tr>\n",
       "      <th>3</th>\n",
       "      <td>40</td>\n",
       "      <td>2.730921</td>\n",
       "    </tr>\n",
       "    <tr>\n",
       "      <th>4</th>\n",
       "      <td>50</td>\n",
       "      <td>2.184737</td>\n",
       "    </tr>\n",
       "  </tbody>\n",
       "</table>\n",
       "</div>"
      ],
      "text/plain": [
       "   top-t  rel rediscovery rate\n",
       "0     10              0.000000\n",
       "1     20              3.121053\n",
       "2     30              2.080702\n",
       "3     40              2.730921\n",
       "4     50              2.184737"
      ]
     },
     "execution_count": 40,
     "metadata": {},
     "output_type": "execute_result"
    }
   ],
   "source": [
    "rrrs = rediscovery_rate.rel_rediscovery_rates(drugs, bottoml=593)#.plot(kind='scatter', x='top-t', y='rel rediscovery rate')\n",
    "rrrs.head()"
   ]
  },
  {
   "cell_type": "code",
   "execution_count": 41,
   "id": "b76a66ba",
   "metadata": {},
   "outputs": [
    {
     "data": {
      "text/plain": [
       "<AxesSubplot:xlabel='top-t', ylabel='rel rediscovery rate'>"
      ]
     },
     "execution_count": 41,
     "metadata": {},
     "output_type": "execute_result"
    },
    {
     "data": {
      "image/png": "[encoded data removed]",
      "text/plain": [
       "<Figure size 432x288 with 1 Axes>"
      ]
     },
     "metadata": {
      "needs_background": "light"
     },
     "output_type": "display_data"
    }
   ],
   "source": [
    "rrrs.plot(kind='scatter', x='top-t', y='rel rediscovery rate')"
   ]
  },
  {
   "cell_type": "code",
   "execution_count": 6,
   "id": "7655aeca",
   "metadata": {},
   "outputs": [
    {
     "name": "stdout",
     "output_type": "stream",
     "text": [
      "{\n",
      "  \"shell_port\": 56635,\n",
      "  \"iopub_port\": 56636,\n",
      "  \"stdin_port\": 56637,\n",
      "  \"control_port\": 56639,\n",
      "  \"hb_port\": 56638,\n",
      "  \"ip\": \"127.0.0.1\",\n",
      "  \"key\": \"fdd013eb-793a5dbf4b7c272106367735\",\n",
      "  \"transport\": \"tcp\",\n",
      "  \"signature_scheme\": \"hmac-sha256\",\n",
      "  \"kernel_name\": \"\"\n",
      "}\n",
      "\n",
      "Paste the above JSON into a file, and connect with:\n",
      "    $> jupyter <app> --existing <file>\n",
      "or, if you are local, you can connect with just:\n",
      "    $> jupyter <app> --existing kernel-ef087fb0-9dab-4acf-9d0f-dcfd7d48cde6.json\n",
      "or even just:\n",
      "    $> jupyter <app> --existing\n",
      "if this is the most recent Jupyter kernel you have started.\n"
     ]
    }
   ],
   "source": [
    "%connect_info"
   ]
  },
  {
   "cell_type": "code",
   "execution_count": null,
   "id": "ef3b35f1",
   "metadata": {},
   "outputs": [],
   "source": []
  }
 ],
 "metadata": {
  "kernelspec": {
   "display_name": "Python 3",
   "language": "python",
   "name": "python3"
  },
  "language_info": {
   "codemirror_mode": {
    "name": "ipython",
    "version": 3
   },
   "file_extension": ".py",
   "mimetype": "text/x-python",
   "name": "python",
   "nbconvert_exporter": "python",
   "pygments_lexer": "ipython3",
   "version": "3.8.8"
  }
 },
 "nbformat": 4,
 "nbformat_minor": 5
}
