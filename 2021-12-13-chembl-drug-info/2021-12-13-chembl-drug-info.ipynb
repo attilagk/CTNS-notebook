{
 "cells": [
  {
   "cell_type": "code",
   "execution_count": 1,
   "id": "30cef590",
   "metadata": {},
   "outputs": [
    {
     "name": "stdout",
     "output_type": "stream",
     "text": [
      "The autoreload extension is already loaded. To reload it, use:\n",
      "  %reload_ext autoreload\n"
     ]
    }
   ],
   "source": [
    "%load_ext autoreload\n",
    "%autoreload 2\n",
    "%reload_ext autoreload\n",
    "import pandas as pd\n",
    "import numpy as np\n",
    "import matplotlib.pyplot as plt\n",
    "import attila_utils"
   ]
  },
  {
   "cell_type": "markdown",
   "id": "53fe0b68",
   "metadata": {},
   "source": [
    "The following SQL scripts extract from ChEMBL information on indications for each drug as well as standard InChi and canonical SMILES."
   ]
  },
  {
   "cell_type": "code",
   "execution_count": 2,
   "id": "bdd28478",
   "metadata": {},
   "outputs": [
    {
     "name": "stdout",
     "output_type": "stream",
     "text": [
      "drug-indication.sql  drug-info.sql\r\n"
     ]
    }
   ],
   "source": [
    "ls *.sql"
   ]
  },
  {
   "cell_type": "markdown",
   "id": "ddfca6e2",
   "metadata": {},
   "source": [
    "Import the result of a network based ChEMBL screen"
   ]
  },
  {
   "cell_type": "code",
   "execution_count": 10,
   "id": "7dcb4823",
   "metadata": {},
   "outputs": [
    {
     "data": {
      "text/plain": [
       "(2413, 11)"
      ]
     },
     "execution_count": 10,
     "metadata": {},
     "output_type": "execute_result"
    }
   ],
   "source": [
    "def read_prox(fpath):\n",
    "    fpath = '../../results/proximity-runs/' + fpath\n",
    "    df = pd.read_csv(fpath, index_col=0)\n",
    "    df = df.sort_values('z').dropna(subset=['z'])\n",
    "    df['rank'] = np.arange(len(df), dtype=np.int64) + 1\n",
    "    df = df.rename_axis('drug_chembl_id', index=True)\n",
    "    return(df)\n",
    "\n",
    "fpath = 'AD-genes-knowledge-extended/AD-genes-knowledge-extended.csv'\n",
    "prox_knowledge = read_prox(fpath)\n",
    "prox_knowledge.shape"
   ]
  },
  {
   "cell_type": "markdown",
   "id": "c35eac03",
   "metadata": {},
   "source": [
    "## BBB permeabilities"
   ]
  },
  {
   "cell_type": "code",
   "execution_count": 4,
   "id": "39bf5de7",
   "metadata": {},
   "outputs": [
    {
     "data": {
      "text/plain": [
       "Index(['drug_chembl_id', 'drug_name', 'standard_inchi', 'canonical_smiles'], dtype='object')"
      ]
     },
     "execution_count": 4,
     "metadata": {},
     "output_type": "execute_result"
    }
   ],
   "source": [
    "fpath = '../../results/2021-12-13-chembl-drug-info/drug-info.csv'\n",
    "chembl_ids = pd.read_csv(fpath)\n",
    "chembl_ids.columns"
   ]
  },
  {
   "cell_type": "code",
   "execution_count": 5,
   "id": "1707b23c",
   "metadata": {},
   "outputs": [
    {
     "data": {
      "text/plain": [
       "Index(['NO.', 'compound_name', 'IUPAC_name', 'SMILES', 'CID', 'logBB',\n",
       "       'BBB+/BBB-', 'Inchi', 'threshold', 'reference', 'group', 'comments'],\n",
       "      dtype='object')"
      ]
     },
     "execution_count": 5,
     "metadata": {},
     "output_type": "execute_result"
    }
   ],
   "source": [
    "fpath = '../../resources/B3DB/B3DB_classification.tsv'\n",
    "dtypes = {'compound_name': 'str', 'IUPAC_name': 'str', 'SMILES': 'str', 'CID': np.float64, 'logBB': np.float64,\n",
    "         'BBB+/BBB-': 'category', 'Inchi': 'str', 'group': 'category'}\n",
    "b3db = pd.read_csv(fpath, sep='\\t', dtype=dtypes)\n",
    "b3db.columns"
   ]
  },
  {
   "cell_type": "code",
   "execution_count": 6,
   "id": "bcda62ff",
   "metadata": {},
   "outputs": [
    {
     "data": {
      "text/html": [
       "<div>\n",
       "<style scoped>\n",
       "    .dataframe tbody tr th:only-of-type {\n",
       "        vertical-align: middle;\n",
       "    }\n",
       "\n",
       "    .dataframe tbody tr th {\n",
       "        vertical-align: top;\n",
       "    }\n",
       "\n",
       "    .dataframe thead th {\n",
       "        text-align: right;\n",
       "    }\n",
       "</style>\n",
       "<table border=\"1\" class=\"dataframe\">\n",
       "  <thead>\n",
       "    <tr style=\"text-align: right;\">\n",
       "      <th></th>\n",
       "      <th>drug_name</th>\n",
       "      <th>standard_inchi</th>\n",
       "      <th>logBB</th>\n",
       "      <th>BBB+/BBB-</th>\n",
       "      <th>group</th>\n",
       "    </tr>\n",
       "    <tr>\n",
       "      <th>drug_chembl_id</th>\n",
       "      <th></th>\n",
       "      <th></th>\n",
       "      <th></th>\n",
       "      <th></th>\n",
       "      <th></th>\n",
       "    </tr>\n",
       "  </thead>\n",
       "  <tbody>\n",
       "    <tr>\n",
       "      <th>CHEMBL1000</th>\n",
       "      <td>CETIRIZINE</td>\n",
       "      <td>InChI=1S/C21H25ClN2O3/c22-19-8-6-18(7-9-19)21(...</td>\n",
       "      <td>NaN</td>\n",
       "      <td>BBB-</td>\n",
       "      <td>B</td>\n",
       "    </tr>\n",
       "    <tr>\n",
       "      <th>CHEMBL100116</th>\n",
       "      <td>PENTAZOCINE</td>\n",
       "      <td>InChI=1S/C19H27NO/c1-13(2)7-9-20-10-8-19(4)14(...</td>\n",
       "      <td>0.54</td>\n",
       "      <td>BBB+</td>\n",
       "      <td>A</td>\n",
       "    </tr>\n",
       "    <tr>\n",
       "      <th>CHEMBL1002</th>\n",
       "      <td>LEVOSALBUTAMOL</td>\n",
       "      <td>InChI=1S/C13H21NO3/c1-13(2,3)14-7-12(17)9-4-5-...</td>\n",
       "      <td>NaN</td>\n",
       "      <td>NaN</td>\n",
       "      <td>NaN</td>\n",
       "    </tr>\n",
       "    <tr>\n",
       "      <th>CHEMBL100259</th>\n",
       "      <td>URIDINE</td>\n",
       "      <td>InChI=1S/C9H12N2O6/c12-3-4-6(14)7(15)8(17-4)11...</td>\n",
       "      <td>NaN</td>\n",
       "      <td>NaN</td>\n",
       "      <td>NaN</td>\n",
       "    </tr>\n",
       "    <tr>\n",
       "      <th>CHEMBL1003</th>\n",
       "      <td>CLAVULANATE POTASSIUM</td>\n",
       "      <td>InChI=1S/C8H9NO5.K/c10-2-1-4-7(8(12)13)9-5(11)...</td>\n",
       "      <td>NaN</td>\n",
       "      <td>NaN</td>\n",
       "      <td>NaN</td>\n",
       "    </tr>\n",
       "    <tr>\n",
       "      <th>...</th>\n",
       "      <td>...</td>\n",
       "      <td>...</td>\n",
       "      <td>...</td>\n",
       "      <td>...</td>\n",
       "      <td>...</td>\n",
       "    </tr>\n",
       "    <tr>\n",
       "      <th>CHEMBL996</th>\n",
       "      <td>CEFOXITIN</td>\n",
       "      <td>InChI=1S/C16H17N3O7S2/c1-25-16(18-10(20)5-9-3-...</td>\n",
       "      <td>NaN</td>\n",
       "      <td>NaN</td>\n",
       "      <td>NaN</td>\n",
       "    </tr>\n",
       "    <tr>\n",
       "      <th>CHEMBL9967</th>\n",
       "      <td>PIRENZEPINE</td>\n",
       "      <td>InChI=1S/C19H21N5O2/c1-22-9-11-23(12-10-22)13-...</td>\n",
       "      <td>NaN</td>\n",
       "      <td>NaN</td>\n",
       "      <td>NaN</td>\n",
       "    </tr>\n",
       "    <tr>\n",
       "      <th>CHEMBL997</th>\n",
       "      <td>IBANDRONIC ACID</td>\n",
       "      <td>InChI=1S/C9H23NO7P2/c1-3-4-5-7-10(2)8-6-9(11,1...</td>\n",
       "      <td>NaN</td>\n",
       "      <td>BBB-</td>\n",
       "      <td>C</td>\n",
       "    </tr>\n",
       "    <tr>\n",
       "      <th>CHEMBL998</th>\n",
       "      <td>LORATADINE</td>\n",
       "      <td>InChI=1S/C22H23ClN2O2/c1-2-27-22(26)25-12-9-15...</td>\n",
       "      <td>-0.30</td>\n",
       "      <td>BBB+</td>\n",
       "      <td>A</td>\n",
       "    </tr>\n",
       "    <tr>\n",
       "      <th>CHEMBL99946</th>\n",
       "      <td>LEVOMILNACIPRAN</td>\n",
       "      <td>InChI=1S/C15H22N2O/c1-3-17(4-2)14(18)15(10-13(...</td>\n",
       "      <td>NaN</td>\n",
       "      <td>NaN</td>\n",
       "      <td>NaN</td>\n",
       "    </tr>\n",
       "  </tbody>\n",
       "</table>\n",
       "<p>5655 rows × 5 columns</p>\n",
       "</div>"
      ],
      "text/plain": [
       "                            drug_name  \\\n",
       "drug_chembl_id                          \n",
       "CHEMBL1000                 CETIRIZINE   \n",
       "CHEMBL100116              PENTAZOCINE   \n",
       "CHEMBL1002             LEVOSALBUTAMOL   \n",
       "CHEMBL100259                  URIDINE   \n",
       "CHEMBL1003      CLAVULANATE POTASSIUM   \n",
       "...                               ...   \n",
       "CHEMBL996                   CEFOXITIN   \n",
       "CHEMBL9967                PIRENZEPINE   \n",
       "CHEMBL997             IBANDRONIC ACID   \n",
       "CHEMBL998                  LORATADINE   \n",
       "CHEMBL99946           LEVOMILNACIPRAN   \n",
       "\n",
       "                                                   standard_inchi  logBB  \\\n",
       "drug_chembl_id                                                             \n",
       "CHEMBL1000      InChI=1S/C21H25ClN2O3/c22-19-8-6-18(7-9-19)21(...    NaN   \n",
       "CHEMBL100116    InChI=1S/C19H27NO/c1-13(2)7-9-20-10-8-19(4)14(...   0.54   \n",
       "CHEMBL1002      InChI=1S/C13H21NO3/c1-13(2,3)14-7-12(17)9-4-5-...    NaN   \n",
       "CHEMBL100259    InChI=1S/C9H12N2O6/c12-3-4-6(14)7(15)8(17-4)11...    NaN   \n",
       "CHEMBL1003      InChI=1S/C8H9NO5.K/c10-2-1-4-7(8(12)13)9-5(11)...    NaN   \n",
       "...                                                           ...    ...   \n",
       "CHEMBL996       InChI=1S/C16H17N3O7S2/c1-25-16(18-10(20)5-9-3-...    NaN   \n",
       "CHEMBL9967      InChI=1S/C19H21N5O2/c1-22-9-11-23(12-10-22)13-...    NaN   \n",
       "CHEMBL997       InChI=1S/C9H23NO7P2/c1-3-4-5-7-10(2)8-6-9(11,1...    NaN   \n",
       "CHEMBL998       InChI=1S/C22H23ClN2O2/c1-2-27-22(26)25-12-9-15...  -0.30   \n",
       "CHEMBL99946     InChI=1S/C15H22N2O/c1-3-17(4-2)14(18)15(10-13(...    NaN   \n",
       "\n",
       "               BBB+/BBB- group  \n",
       "drug_chembl_id                  \n",
       "CHEMBL1000          BBB-     B  \n",
       "CHEMBL100116        BBB+     A  \n",
       "CHEMBL1002           NaN   NaN  \n",
       "CHEMBL100259         NaN   NaN  \n",
       "CHEMBL1003           NaN   NaN  \n",
       "...                  ...   ...  \n",
       "CHEMBL996            NaN   NaN  \n",
       "CHEMBL9967           NaN   NaN  \n",
       "CHEMBL997           BBB-     C  \n",
       "CHEMBL998           BBB+     A  \n",
       "CHEMBL99946          NaN   NaN  \n",
       "\n",
       "[5655 rows x 5 columns]"
      ]
     },
     "execution_count": 6,
     "metadata": {},
     "output_type": "execute_result"
    }
   ],
   "source": [
    "chembl_bbb = pd.merge(left=chembl_ids, right=b3db, how='left', left_on='standard_inchi', right_on='Inchi')\n",
    "chembl_bbb = chembl_bbb.drop(['canonical_smiles', 'NO.', 'compound_name', 'IUPAC_name', 'SMILES', 'CID', 'Inchi', 'threshold', 'reference', 'comments'], axis=1)\n",
    "chembl_bbb = chembl_bbb.set_index('drug_chembl_id')\n",
    "fpath = '../../results/2021-12-13-chembl-drug-info/drug-info-bbb.csv'\n",
    "chembl_bbb.to_csv(fpath, index=True)\n",
    "chembl_bbb"
   ]
  },
  {
   "cell_type": "code",
   "execution_count": 31,
   "id": "2c55e0fd",
   "metadata": {},
   "outputs": [
    {
     "data": {
      "text/plain": [
       "(2413, 15)"
      ]
     },
     "execution_count": 31,
     "metadata": {},
     "output_type": "execute_result"
    }
   ],
   "source": [
    "\n",
    "prox_knowledge_info = prox_knowledge.join(df)\n",
    "prox_knowledge_info.shape"
   ]
  },
  {
   "cell_type": "code",
   "execution_count": 14,
   "id": "fc87e449",
   "metadata": {},
   "outputs": [
    {
     "name": "stdout",
     "output_type": "stream",
     "text": [
      "{\n",
      "  \"shell_port\": 56290,\n",
      "  \"iopub_port\": 56291,\n",
      "  \"stdin_port\": 56292,\n",
      "  \"control_port\": 56294,\n",
      "  \"hb_port\": 56293,\n",
      "  \"ip\": \"127.0.0.1\",\n",
      "  \"key\": \"e609821d-1f32f28d42e2553056de871b\",\n",
      "  \"transport\": \"tcp\",\n",
      "  \"signature_scheme\": \"hmac-sha256\",\n",
      "  \"kernel_name\": \"\"\n",
      "}\n",
      "\n",
      "Paste the above JSON into a file, and connect with:\n",
      "    $> jupyter <app> --existing <file>\n",
      "or, if you are local, you can connect with just:\n",
      "    $> jupyter <app> --existing kernel-23d54cee-0675-44bb-b806-784fa86511a7.json\n",
      "or even just:\n",
      "    $> jupyter <app> --existing\n",
      "if this is the most recent Jupyter kernel you have started.\n"
     ]
    }
   ],
   "source": [
    "%connect_info"
   ]
  },
  {
   "cell_type": "code",
   "execution_count": null,
   "id": "de82a626",
   "metadata": {},
   "outputs": [],
   "source": []
  }
 ],
 "metadata": {
  "kernelspec": {
   "display_name": "Python 3",
   "language": "python",
   "name": "python3"
  },
  "language_info": {
   "codemirror_mode": {
    "name": "ipython",
    "version": 3
   },
   "file_extension": ".py",
   "mimetype": "text/x-python",
   "name": "python",
   "nbconvert_exporter": "python",
   "pygments_lexer": "ipython3",
   "version": "3.8.8"
  }
 },
 "nbformat": 4,
 "nbformat_minor": 5
}
