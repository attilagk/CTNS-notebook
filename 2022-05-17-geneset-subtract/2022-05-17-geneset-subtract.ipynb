{
 "cells": [
  {
   "cell_type": "code",
   "execution_count": 1,
   "id": "04efa0c2",
   "metadata": {},
   "outputs": [
    {
     "name": "stdout",
     "output_type": "stream",
     "text": [
      "The autoreload extension is already loaded. To reload it, use:\n",
      "  %reload_ext autoreload\n"
     ]
    }
   ],
   "source": [
    "%load_ext autoreload\n",
    "%autoreload 2\n",
    "%reload_ext autoreload\n",
    "import pandas as pd\n",
    "import numpy as np\n",
    "import matplotlib.pyplot as plt\n",
    "import functools\n",
    "from matplotlib_venn import venn2\n",
    "import attila_utils"
   ]
  },
  {
   "cell_type": "markdown",
   "id": "08706f71",
   "metadata": {},
   "source": [
    "## Summary\n",
    "\n",
    "Finding the earliest genes that drive Alzheimer's disease(AD).  It is expected (by Madhav) that those early genes tend to be contained in the differentially expressed gene sets (DEGs) emerging from comparing APOE3 vs APOE4 carrying iPSCs.  We have been working with three of such DEG sets:\n",
    "1. 'APOE3-4 DE neuron'\n",
    "1. 'APOE3-4 DE astrocyte'\n",
    "1. 'APOE3-4 DE microglia'\n",
    "\n",
    "However, it may also be expected that these gene sets also contain genes involved in later stages of AD.  To isolate the early genes from the late genes we define late AD genes in terms of other gene sets below such as 'knowledge', 'TWAS2+',...\n",
    "\n",
    "We actually define two versions of late AD genes: 'late AD genes v1' is a subset of 'late AD genes v2', therefore subtracting v2 from any of the APOE3-4 DE sets is expected to result in a smaller set than subtracting v2 does.\n",
    "\n",
    "What we see below is that subtracting even 'late AD genes v2' from some APOE3-4 DE set results in a gene set that is only slightly smaller than the APOE3-4 DE set.\n",
    "\n",
    "## Preparations"
   ]
  },
  {
   "cell_type": "code",
   "execution_count": 2,
   "id": "66ee6c65",
   "metadata": {},
   "outputs": [],
   "source": [
    "fpath_gset = {\\\n",
    "'knowledge': '../../results/2021-07-01-high-conf-ADgenes/AD-genes-knowledge-extended',\n",
    "'TWAS2+': '../../results/2021-07-01-high-conf-ADgenes/AD-genes-TWAS2plus',\n",
    "'agora2+': '../../resources/agora/AD-genes-agora-2plus-nominations',\n",
    "'agora': '../../resources/agora/AD-genes-agora',\n",
    "'DESudhir': '../../resources/CMap/sudhir-varma/up-down.genes-noNAs',\n",
    "'AD DE APOE3-APOE3': '../../results/2021-11-28-ad-de-genes-apoe/ad-de-genes-apoe3-apoe3',\n",
    "'AD DE APOE4-APOE4': '../../results/2021-11-28-ad-de-genes-apoe/ad-de-genes-apoe4-apoe4',\n",
    "'APOE3-4 DE neuron': '../../results/2021-12-08-apoe-de-genes-tunahan/Neuron-apoe-de',\n",
    "'APOE3-4 DE astrocyte': '../../results/2021-12-08-apoe-de-genes-tunahan/Astrocyte-apoe-de',\n",
    "'APOE3-4 DE microglia': '../../results/2021-12-08-apoe-de-genes-tunahan/Microglia-like-apoe-de',\n",
    "'rMTA-APOE3-4': '../../results/2022-02-25-dilara-rmta-geneset/rmta-apoe3-apoe4',\n",
    "             }"
   ]
  },
  {
   "cell_type": "code",
   "execution_count": 3,
   "id": "253577e1",
   "metadata": {},
   "outputs": [],
   "source": [
    "def read_gset(fpath):\n",
    "    with open(fpath) as f:\n",
    "        gset = set([s.strip() for s in f.readlines()])\n",
    "    return(gset)\n",
    "\n",
    "gset = {name: read_gset(fpath) for name, fpath in fpath_gset.items()}"
   ]
  },
  {
   "cell_type": "markdown",
   "id": "3b30c6dc",
   "metadata": {},
   "source": [
    "## Early and late AD genes"
   ]
  },
  {
   "cell_type": "code",
   "execution_count": 4,
   "id": "4c25433f",
   "metadata": {},
   "outputs": [
    {
     "name": "stdout",
     "output_type": "stream",
     "text": [
      "583 late AD genes\n",
      "1288 late AD genes v2\n",
      "368 APOE3-4 DE genes\n"
     ]
    }
   ],
   "source": [
    "lates = ['knowledge', 'TWAS2+', 'agora2+', 'AD DE APOE3-APOE3', 'AD DE APOE4-APOE4']\n",
    "late_genes = functools.reduce(lambda a, b: a.union(b), [gset[k] for k in lates])\n",
    "lates_v2 = ['knowledge', 'TWAS2+', 'agora', 'DESudhir', 'AD DE APOE3-APOE3', 'AD DE APOE4-APOE4']\n",
    "late_genes_v2 = functools.reduce(lambda a, b: a.union(b), [gset[k] for k in lates_v2])\n",
    "earlies = ['APOE3-4 DE neuron', 'APOE3-4 DE astrocyte', 'APOE3-4 DE microglia']\n",
    "early_genes = functools.reduce(lambda a, b: a.union(b), [gset[k] for k in earlies])\n",
    "print(len(late_genes), 'late AD genes')\n",
    "print(len(late_genes_v2), 'late AD genes v2')\n",
    "print(len(early_genes), 'APOE3-4 DE genes')"
   ]
  },
  {
   "cell_type": "code",
   "execution_count": 5,
   "id": "33130d0f",
   "metadata": {},
   "outputs": [
    {
     "data": {
      "text/plain": [
       "['named-figure/APOE3-4-DE-minus-late.png',\n",
       " 'named-figure/APOE3-4-DE-minus-late.pdf']"
      ]
     },
     "execution_count": 5,
     "metadata": {},
     "output_type": "execute_result"
    },
    {
     "data": {
      "image/png": "[encoded data removed]",
      "text/plain": [
       "<Figure size 432x288 with 1 Axes>"
      ]
     },
     "metadata": {},
     "output_type": "display_data"
    }
   ],
   "source": [
    "def my_venn2(late_g, label2):\n",
    "    partition = dict()\n",
    "    partition['10'] = early_genes.difference(late_g)\n",
    "    partition['01'] = late_g.difference(early_genes)\n",
    "    partition['11'] = early_genes.intersection(late_g)\n",
    "    subsets = {k: len(v) for k, v in partition.items()}\n",
    "    fig, ax = plt.subplots()\n",
    "    venn2(subsets=subsets, set_labels=('APOE3-4 DE genes', label2), ax=ax)\n",
    "    return((fig, ax))\n",
    "\n",
    "fig, ax = my_venn2(late_genes, 'late AD genes v1')\n",
    "attila_utils.savefig(fig, 'APOE3-4-DE-minus-late')"
   ]
  },
  {
   "cell_type": "code",
   "execution_count": 6,
   "id": "82d7fb97",
   "metadata": {},
   "outputs": [
    {
     "data": {
      "text/plain": [
       "['named-figure/APOE3-4-DE-minus-late-v2.png',\n",
       " 'named-figure/APOE3-4-DE-minus-late-v2.pdf']"
      ]
     },
     "execution_count": 6,
     "metadata": {},
     "output_type": "execute_result"
    },
    {
     "data": {
      "image/png": "[encoded data removed]",
      "text/plain": [
       "<Figure size 432x288 with 1 Axes>"
      ]
     },
     "metadata": {},
     "output_type": "display_data"
    }
   ],
   "source": [
    "fig, ax = my_venn2(late_genes_v2, 'late AD genes v2')\n",
    "attila_utils.savefig(fig, 'APOE3-4-DE-minus-late-v2')"
   ]
  },
  {
   "cell_type": "code",
   "execution_count": 7,
   "id": "e4d84ae0",
   "metadata": {},
   "outputs": [
    {
     "data": {
      "text/plain": [
       "['named-figure/APOE3-4-DE-minus-late-celltype.png',\n",
       " 'named-figure/APOE3-4-DE-minus-late-celltype.pdf']"
      ]
     },
     "execution_count": 7,
     "metadata": {},
     "output_type": "execute_result"
    },
    {
     "data": {
      "image/png": "[encoded data removed]",
      "text/plain": [
       "<Figure size 576x576 with 3 Axes>"
      ]
     },
     "metadata": {},
     "output_type": "display_data"
    }
   ],
   "source": [
    "def my_venn2_celltype(early, ax):\n",
    "    partition = dict()\n",
    "    partition['10'] = gset[early].difference(late_genes)\n",
    "    partition['01'] = late_genes.difference(gset[early])\n",
    "    partition['11'] = gset[early].intersection(late_genes)\n",
    "    subsets = {k: len(v) for k, v in partition.items()}\n",
    "    venn2(subsets=subsets, set_labels=(early, 'late AD genes v1'), ax=ax)\n",
    "\n",
    "fig, ax = plt.subplots(len(earlies), 1, figsize=(8, 8))\n",
    "for early, axi in zip(earlies, ax):\n",
    "    my_venn2_celltype(early, axi)\n",
    "\n",
    "attila_utils.savefig(fig, 'APOE3-4-DE-minus-late-celltype')"
   ]
  },
  {
   "cell_type": "code",
   "execution_count": 8,
   "id": "12b02498",
   "metadata": {},
   "outputs": [
    {
     "name": "stdout",
     "output_type": "stream",
     "text": [
      "{\n",
      "  \"shell_port\": 49518,\n",
      "  \"iopub_port\": 49519,\n",
      "  \"stdin_port\": 49520,\n",
      "  \"control_port\": 49522,\n",
      "  \"hb_port\": 49521,\n",
      "  \"ip\": \"127.0.0.1\",\n",
      "  \"key\": \"0005d1e0-000e8df4790c650c30b16035\",\n",
      "  \"transport\": \"tcp\",\n",
      "  \"signature_scheme\": \"hmac-sha256\",\n",
      "  \"kernel_name\": \"\"\n",
      "}\n",
      "\n",
      "Paste the above JSON into a file, and connect with:\n",
      "    $> jupyter <app> --existing <file>\n",
      "or, if you are local, you can connect with just:\n",
      "    $> jupyter <app> --existing kernel-02a76223-3869-47f6-9382-343ccfbaa475.json\n",
      "or even just:\n",
      "    $> jupyter <app> --existing\n",
      "if this is the most recent Jupyter kernel you have started.\n"
     ]
    }
   ],
   "source": [
    "%connect_info"
   ]
  },
  {
   "cell_type": "code",
   "execution_count": null,
   "id": "32489076",
   "metadata": {},
   "outputs": [],
   "source": []
  }
 ],
 "metadata": {
  "kernelspec": {
   "display_name": "Python 3",
   "language": "python",
   "name": "python3"
  },
  "language_info": {
   "codemirror_mode": {
    "name": "ipython",
    "version": 3
   },
   "file_extension": ".py",
   "mimetype": "text/x-python",
   "name": "python",
   "nbconvert_exporter": "python",
   "pygments_lexer": "ipython3",
   "version": "3.8.8"
  }
 },
 "nbformat": 4,
 "nbformat_minor": 5
}
