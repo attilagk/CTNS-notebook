{
 "cells": [
  {
   "cell_type": "code",
   "execution_count": 1,
   "id": "b13492dd",
   "metadata": {},
   "outputs": [
    {
     "name": "stderr",
     "output_type": "stream",
     "text": [
      "Loading required package: BiocGenerics\n",
      "\n",
      "Loading required package: parallel\n",
      "\n",
      "\n",
      "Attaching package: ‘BiocGenerics’\n",
      "\n",
      "\n",
      "The following objects are masked from ‘package:parallel’:\n",
      "\n",
      "    clusterApply, clusterApplyLB, clusterCall, clusterEvalQ,\n",
      "    clusterExport, clusterMap, parApply, parCapply, parLapply,\n",
      "    parLapplyLB, parRapply, parSapply, parSapplyLB\n",
      "\n",
      "\n",
      "The following objects are masked from ‘package:stats’:\n",
      "\n",
      "    IQR, mad, sd, var, xtabs\n",
      "\n",
      "\n",
      "The following objects are masked from ‘package:base’:\n",
      "\n",
      "    anyDuplicated, append, as.data.frame, basename, cbind, colnames,\n",
      "    dirname, do.call, duplicated, eval, evalq, Filter, Find, get, grep,\n",
      "    grepl, intersect, is.unsorted, lapply, Map, mapply, match, mget,\n",
      "    order, paste, pmax, pmax.int, pmin, pmin.int, Position, rank,\n",
      "    rbind, Reduce, rownames, sapply, setdiff, sort, table, tapply,\n",
      "    union, unique, unsplit, which, which.max, which.min\n",
      "\n",
      "\n",
      "Loading required package: graph\n",
      "\n",
      "Loading required package: Biobase\n",
      "\n",
      "Welcome to Bioconductor\n",
      "\n",
      "    Vignettes contain introductory material; view with\n",
      "    'browseVignettes()'. To cite Bioconductor, see\n",
      "    'citation(\"Biobase\")', and for packages 'citation(\"pkgname\")'.\n",
      "\n",
      "\n",
      "Loading required package: GO.db\n",
      "\n",
      "Loading required package: AnnotationDbi\n",
      "\n",
      "Loading required package: stats4\n",
      "\n",
      "Loading required package: IRanges\n",
      "\n",
      "Loading required package: S4Vectors\n",
      "\n",
      "\n",
      "Attaching package: ‘S4Vectors’\n",
      "\n",
      "\n",
      "The following object is masked from ‘package:base’:\n",
      "\n",
      "    expand.grid\n",
      "\n",
      "\n",
      "\n",
      "\n",
      "Loading required package: SparseM\n",
      "\n",
      "\n",
      "Attaching package: ‘SparseM’\n",
      "\n",
      "\n",
      "The following object is masked from ‘package:base’:\n",
      "\n",
      "    backsolve\n",
      "\n",
      "\n",
      "\n",
      "groupGOTerms: \tGOBPTerm, GOMFTerm, GOCCTerm environments built.\n",
      "\n",
      "\n",
      "Attaching package: ‘topGO’\n",
      "\n",
      "\n",
      "The following object is masked from ‘package:IRanges’:\n",
      "\n",
      "    members\n",
      "\n",
      "\n"
     ]
    }
   ],
   "source": [
    "library(topGO)\n",
    "library(ALL)\n",
    "data(ALL)\n",
    "data(geneList)"
   ]
  },
  {
   "cell_type": "code",
   "execution_count": 2,
   "id": "3a6caa14",
   "metadata": {},
   "outputs": [
    {
     "name": "stderr",
     "output_type": "stream",
     "text": [
      "Loading required package: org.Hs.eg.db\n",
      "\n",
      "\n",
      "\n",
      "\n",
      "\n"
     ]
    }
   ],
   "source": [
    "affyLib <- paste(annotation(ALL), \"db\", sep = \".\")\n",
    "library(package = affyLib, character.only = TRUE)"
   ]
  },
  {
   "cell_type": "code",
   "execution_count": 3,
   "id": "69b6d854",
   "metadata": {},
   "outputs": [
    {
     "data": {
      "text/html": [
       "<style>\n",
       ".dl-inline {width: auto; margin:0; padding: 0}\n",
       ".dl-inline>dt, .dl-inline>dd {float: none; width: auto; display: inline-block}\n",
       ".dl-inline>dt::after {content: \":\\0020\"; padding-right: .5ex}\n",
       ".dl-inline>dt:not(:first-of-type) {padding-left: .5ex}\n",
       "</style><dl class=dl-inline><dt>1095_s_at</dt><dd>1</dd><dt>1130_at</dt><dd>1</dd><dt>1196_at</dt><dd>0.622379515088384</dd><dt>1329_s_at</dt><dd>0.541224021203357</dd><dt>1340_s_at</dt><dd>1</dd><dt>1342_g_at</dt><dd>1</dd></dl>\n"
      ],
      "text/latex": [
       "\\begin{description*}\n",
       "\\item[1095\\textbackslash{}\\_s\\textbackslash{}\\_at] 1\n",
       "\\item[1130\\textbackslash{}\\_at] 1\n",
       "\\item[1196\\textbackslash{}\\_at] 0.622379515088384\n",
       "\\item[1329\\textbackslash{}\\_s\\textbackslash{}\\_at] 0.541224021203357\n",
       "\\item[1340\\textbackslash{}\\_s\\textbackslash{}\\_at] 1\n",
       "\\item[1342\\textbackslash{}\\_g\\textbackslash{}\\_at] 1\n",
       "\\end{description*}\n"
      ],
      "text/markdown": [
       "1095_s_at\n",
       ":   11130_at\n",
       ":   11196_at\n",
       ":   0.6223795150883841329_s_at\n",
       ":   0.5412240212033571340_s_at\n",
       ":   11342_g_at\n",
       ":   1\n",
       "\n"
      ],
      "text/plain": [
       "1095_s_at   1130_at   1196_at 1329_s_at 1340_s_at 1342_g_at \n",
       "1.0000000 1.0000000 0.6223795 0.5412240 1.0000000 1.0000000 "
      ]
     },
     "metadata": {},
     "output_type": "display_data"
    }
   ],
   "source": [
    "head(geneList)"
   ]
  },
  {
   "cell_type": "code",
   "execution_count": 4,
   "id": "f686f1f4",
   "metadata": {},
   "outputs": [
    {
     "data": {
      "text/html": [
       "323"
      ],
      "text/latex": [
       "323"
      ],
      "text/markdown": [
       "323"
      ],
      "text/plain": [
       "[1] 323"
      ]
     },
     "metadata": {},
     "output_type": "display_data"
    }
   ],
   "source": [
    "length(geneList)"
   ]
  },
  {
   "cell_type": "code",
   "execution_count": 5,
   "id": "9805a6ee",
   "metadata": {},
   "outputs": [
    {
     "data": {
      "text/html": [
       "50"
      ],
      "text/latex": [
       "50"
      ],
      "text/markdown": [
       "50"
      ],
      "text/plain": [
       "[1] 50"
      ]
     },
     "metadata": {},
     "output_type": "display_data"
    }
   ],
   "source": [
    "sum(topDiffGenes(geneList))"
   ]
  },
  {
   "cell_type": "code",
   "execution_count": 6,
   "id": "1da1f6c2",
   "metadata": {},
   "outputs": [
    {
     "name": "stderr",
     "output_type": "stream",
     "text": [
      "\n",
      "Building most specific GOs .....\n",
      "\n",
      "Warning message in result_fetch(res@ptr, n = n):\n",
      "“SQL statements must be issued with dbExecute() or dbSendStatement() instead of dbGetQuery() or dbSendQuery().”\n",
      "\t( 1647 GO terms found. )\n",
      "\n",
      "\n",
      "Build GO DAG topology ..........\n",
      "\n",
      "\t( 4545 GO terms and 10466 relations. )\n",
      "\n",
      "\n",
      "Annotating nodes ...............\n",
      "\n",
      "\t( 310 genes annotated to the GO terms. )\n",
      "\n"
     ]
    }
   ],
   "source": [
    "sampleGOdata <- new(\"topGOdata\", description = \"Simple session\", ontology = \"BP\", allGenes = geneList, geneSelectionFun = topDiffGenes, nodeSize = 10, annot = annFUN.db, affyLib = affyLib)"
   ]
  },
  {
   "cell_type": "code",
   "execution_count": 7,
   "id": "ba7545b9",
   "metadata": {},
   "outputs": [
    {
     "data": {
      "text/plain": [
       "\n",
       "------------------------- topGOdata object -------------------------\n",
       "\n",
       " Description:\n",
       "   -  Simple session \n",
       "\n",
       " Ontology:\n",
       "   -  BP \n",
       "\n",
       " 323 available genes (all genes from the array):\n",
       "   - symbol:  1095_s_at 1130_at 1196_at 1329_s_at 1340_s_at  ...\n",
       "   - score :  1 1 0.62238 0.541224 1  ...\n",
       "   - 50  significant genes. \n",
       "\n",
       " 310 feasible genes (genes that can be used in the analysis):\n",
       "   - symbol:  1095_s_at 1130_at 1196_at 1329_s_at 1340_s_at  ...\n",
       "   - score :  1 1 0.62238 0.541224 1  ...\n",
       "   - 46  significant genes. \n",
       "\n",
       " GO graph (nodes with at least  10  genes):\n",
       "   - a graph with directed edges\n",
       "   - number of nodes = 1110 \n",
       "   - number of edges = 2400 \n",
       "\n",
       "------------------------- topGOdata object -------------------------\n"
      ]
     },
     "metadata": {},
     "output_type": "display_data"
    }
   ],
   "source": [
    "sampleGOdata"
   ]
  },
  {
   "cell_type": "code",
   "execution_count": 8,
   "id": "f34c3225",
   "metadata": {},
   "outputs": [
    {
     "data": {
      "text/html": [
       "<style>\n",
       ".dl-inline {width: auto; margin:0; padding: 0}\n",
       ".dl-inline>dt, .dl-inline>dd {float: none; width: auto; display: inline-block}\n",
       ".dl-inline>dt::after {content: \":\\0020\"; padding-right: .5ex}\n",
       ".dl-inline>dt:not(:first-of-type) {padding-left: .5ex}\n",
       "</style><dl class=dl-inline><dt>1095_s_at</dt><dd>FALSE</dd><dt>1130_at</dt><dd>FALSE</dd><dt>1196_at</dt><dd>FALSE</dd><dt>1329_s_at</dt><dd>FALSE</dd><dt>1340_s_at</dt><dd>FALSE</dd><dt>1342_g_at</dt><dd>FALSE</dd></dl>\n"
      ],
      "text/latex": [
       "\\begin{description*}\n",
       "\\item[1095\\textbackslash{}\\_s\\textbackslash{}\\_at] FALSE\n",
       "\\item[1130\\textbackslash{}\\_at] FALSE\n",
       "\\item[1196\\textbackslash{}\\_at] FALSE\n",
       "\\item[1329\\textbackslash{}\\_s\\textbackslash{}\\_at] FALSE\n",
       "\\item[1340\\textbackslash{}\\_s\\textbackslash{}\\_at] FALSE\n",
       "\\item[1342\\textbackslash{}\\_g\\textbackslash{}\\_at] FALSE\n",
       "\\end{description*}\n"
      ],
      "text/markdown": [
       "1095_s_at\n",
       ":   FALSE1130_at\n",
       ":   FALSE1196_at\n",
       ":   FALSE1329_s_at\n",
       ":   FALSE1340_s_at\n",
       ":   FALSE1342_g_at\n",
       ":   FALSE\n",
       "\n"
      ],
      "text/plain": [
       "1095_s_at   1130_at   1196_at 1329_s_at 1340_s_at 1342_g_at \n",
       "    FALSE     FALSE     FALSE     FALSE     FALSE     FALSE "
      ]
     },
     "metadata": {},
     "output_type": "display_data"
    }
   ],
   "source": [
    "head(topDiffGenes(geneList))"
   ]
  },
  {
   "cell_type": "code",
   "execution_count": 9,
   "id": "6c1f0b72",
   "metadata": {},
   "outputs": [
    {
     "name": "stderr",
     "output_type": "stream",
     "text": [
      "\n",
      "\t\t\t -- Classic Algorithm -- \n",
      "\n",
      "\t\t the algorithm is scoring 988 nontrivial nodes\n",
      "\t\t parameters: \n",
      "\t\t\t test statistic: fisher\n",
      "\n"
     ]
    }
   ],
   "source": [
    "resultFisher <- runTest(sampleGOdata, algorithm = \"classic\", statistic = \"fisher\")"
   ]
  },
  {
   "cell_type": "code",
   "execution_count": 10,
   "id": "9f81644f",
   "metadata": {},
   "outputs": [
    {
     "data": {
      "text/plain": [
       "\n",
       "Description: Simple session \n",
       "Ontology: BP \n",
       "'classic' algorithm with the 'fisher' test\n",
       "1110 GO terms scored: 48 terms with p < 0.01\n",
       "Annotation data:\n",
       "    Annotated genes: 310 \n",
       "    Significant genes: 46 \n",
       "    Min. no. of genes annotated to a GO: 10 \n",
       "    Nontrivial nodes: 988 "
      ]
     },
     "metadata": {},
     "output_type": "display_data"
    }
   ],
   "source": [
    "resultFisher"
   ]
  },
  {
   "cell_type": "code",
   "execution_count": 11,
   "id": "7b353d7f",
   "metadata": {},
   "outputs": [
    {
     "name": "stderr",
     "output_type": "stream",
     "text": [
      "\n",
      "\t\t\t -- Classic Algorithm -- \n",
      "\n",
      "\t\t the algorithm is scoring 1110 nontrivial nodes\n",
      "\t\t parameters: \n",
      "\t\t\t test statistic: ks\n",
      "\t\t\t score order: increasing\n",
      "\n",
      "\n",
      "\t\t\t -- Elim Algorithm -- \n",
      "\n",
      "\t\t the algorithm is scoring 1110 nontrivial nodes\n",
      "\t\t parameters: \n",
      "\t\t\t test statistic: ks\n",
      "\t\t\t cutOff: 0.01\n",
      "\t\t\t score order: increasing\n",
      "\n",
      "\n",
      "\t Level 15:\t1 nodes to be scored\t(0 eliminated genes)\n",
      "\n",
      "\n",
      "\t Level 14:\t3 nodes to be scored\t(0 eliminated genes)\n",
      "\n",
      "\n",
      "\t Level 13:\t12 nodes to be scored\t(0 eliminated genes)\n",
      "\n",
      "\n",
      "\t Level 12:\t26 nodes to be scored\t(0 eliminated genes)\n",
      "\n",
      "\n",
      "\t Level 11:\t41 nodes to be scored\t(0 eliminated genes)\n",
      "\n",
      "\n",
      "\t Level 10:\t69 nodes to be scored\t(0 eliminated genes)\n",
      "\n",
      "\n",
      "\t Level 9:\t111 nodes to be scored\t(40 eliminated genes)\n",
      "\n",
      "\n",
      "\t Level 8:\t135 nodes to be scored\t(69 eliminated genes)\n",
      "\n",
      "\n",
      "\t Level 7:\t169 nodes to be scored\t(95 eliminated genes)\n",
      "\n",
      "\n",
      "\t Level 6:\t179 nodes to be scored\t(167 eliminated genes)\n",
      "\n",
      "\n",
      "\t Level 5:\t171 nodes to be scored\t(167 eliminated genes)\n",
      "\n",
      "\n",
      "\t Level 4:\t117 nodes to be scored\t(210 eliminated genes)\n",
      "\n",
      "\n",
      "\t Level 3:\t57 nodes to be scored\t(219 eliminated genes)\n",
      "\n",
      "\n",
      "\t Level 2:\t18 nodes to be scored\t(233 eliminated genes)\n",
      "\n",
      "\n",
      "\t Level 1:\t1 nodes to be scored\t(233 eliminated genes)\n",
      "\n"
     ]
    }
   ],
   "source": [
    "resultKS <- runTest(sampleGOdata, algorithm = \"classic\", statistic = \"ks\")\n",
    "resultKS.elim <- runTest(sampleGOdata, algorithm = \"elim\", statistic = \"ks\")"
   ]
  },
  {
   "cell_type": "code",
   "execution_count": 12,
   "id": "c483fe09",
   "metadata": {},
   "outputs": [],
   "source": [
    "allRes <- GenTable(sampleGOdata, classicFisher = resultFisher,\n",
    "                   classicKS = resultKS, elimKS = resultKS.elim,\n",
    "                   orderBy = \"elimKS\", ranksOf = \"classicFisher\", topNodes = 10)"
   ]
  },
  {
   "cell_type": "code",
   "execution_count": 13,
   "id": "e11780e4",
   "metadata": {},
   "outputs": [
    {
     "data": {
      "text/html": [
       "<table class=\"dataframe\">\n",
       "<caption>A data.frame: 10 × 9</caption>\n",
       "<thead>\n",
       "\t<tr><th></th><th scope=col>GO.ID</th><th scope=col>Term</th><th scope=col>Annotated</th><th scope=col>Significant</th><th scope=col>Expected</th><th scope=col>Rank in classicFisher</th><th scope=col>classicFisher</th><th scope=col>classicKS</th><th scope=col>elimKS</th></tr>\n",
       "\t<tr><th></th><th scope=col>&lt;chr&gt;</th><th scope=col>&lt;chr&gt;</th><th scope=col>&lt;int&gt;</th><th scope=col>&lt;int&gt;</th><th scope=col>&lt;dbl&gt;</th><th scope=col>&lt;int&gt;</th><th scope=col>&lt;chr&gt;</th><th scope=col>&lt;chr&gt;</th><th scope=col>&lt;chr&gt;</th></tr>\n",
       "</thead>\n",
       "<tbody>\n",
       "\t<tr><th scope=row>1</th><td>GO:0051301</td><td>cell division                              </td><td>145</td><td>16</td><td>21.52</td><td>952</td><td>0.97383</td><td>1.0e-07</td><td>3.1e-07</td></tr>\n",
       "\t<tr><th scope=row>2</th><td>GO:0031668</td><td>cellular response to extracellular stimu...</td><td> 12</td><td> 8</td><td> 1.78</td><td>  1</td><td>4.2e-05</td><td>0.00013</td><td>0.00013</td></tr>\n",
       "\t<tr><th scope=row>3</th><td>GO:0010389</td><td>regulation of G2/M transition of mitotic...</td><td> 30</td><td> 7</td><td> 4.45</td><td>260</td><td>0.13535</td><td>0.00019</td><td>0.00019</td></tr>\n",
       "\t<tr><th scope=row>4</th><td>GO:0051726</td><td>regulation of cell cycle                   </td><td>134</td><td>17</td><td>19.88</td><td>812</td><td>0.86271</td><td>2.2e-05</td><td>0.00067</td></tr>\n",
       "\t<tr><th scope=row>5</th><td>GO:0140014</td><td>mitotic nuclear division                   </td><td> 90</td><td> 6</td><td>13.35</td><td>982</td><td>0.99838</td><td>0.00177</td><td>0.00177</td></tr>\n",
       "\t<tr><th scope=row>6</th><td>GO:0050851</td><td>antigen receptor-mediated signaling path...</td><td> 11</td><td> 7</td><td> 1.63</td><td>  7</td><td>0.00021</td><td>0.00208</td><td>0.00208</td></tr>\n",
       "\t<tr><th scope=row>7</th><td>GO:0051276</td><td>chromosome organization                    </td><td> 88</td><td> 7</td><td>13.06</td><td>969</td><td>0.99261</td><td>0.00218</td><td>0.00218</td></tr>\n",
       "\t<tr><th scope=row>8</th><td>GO:0048638</td><td>regulation of developmental growth         </td><td> 13</td><td> 3</td><td> 1.93</td><td>426</td><td>0.30050</td><td>0.00261</td><td>0.00261</td></tr>\n",
       "\t<tr><th scope=row>9</th><td>GO:1900221</td><td>regulation of amyloid-beta clearance       </td><td> 10</td><td> 5</td><td> 1.48</td><td> 42</td><td>0.00827</td><td>0.00287</td><td>0.00287</td></tr>\n",
       "\t<tr><th scope=row>10</th><td>GO:0000278</td><td>mitotic cell cycle                         </td><td>147</td><td>14</td><td>21.81</td><td>978</td><td>0.99648</td><td>8.6e-07</td><td>0.00339</td></tr>\n",
       "</tbody>\n",
       "</table>\n"
      ],
      "text/latex": [
       "A data.frame: 10 × 9\n",
       "\\begin{tabular}{r|lllllllll}\n",
       "  & GO.ID & Term & Annotated & Significant & Expected & Rank in classicFisher & classicFisher & classicKS & elimKS\\\\\n",
       "  & <chr> & <chr> & <int> & <int> & <dbl> & <int> & <chr> & <chr> & <chr>\\\\\n",
       "\\hline\n",
       "\t1 & GO:0051301 & cell division                               & 145 & 16 & 21.52 & 952 & 0.97383 & 1.0e-07 & 3.1e-07\\\\\n",
       "\t2 & GO:0031668 & cellular response to extracellular stimu... &  12 &  8 &  1.78 &   1 & 4.2e-05 & 0.00013 & 0.00013\\\\\n",
       "\t3 & GO:0010389 & regulation of G2/M transition of mitotic... &  30 &  7 &  4.45 & 260 & 0.13535 & 0.00019 & 0.00019\\\\\n",
       "\t4 & GO:0051726 & regulation of cell cycle                    & 134 & 17 & 19.88 & 812 & 0.86271 & 2.2e-05 & 0.00067\\\\\n",
       "\t5 & GO:0140014 & mitotic nuclear division                    &  90 &  6 & 13.35 & 982 & 0.99838 & 0.00177 & 0.00177\\\\\n",
       "\t6 & GO:0050851 & antigen receptor-mediated signaling path... &  11 &  7 &  1.63 &   7 & 0.00021 & 0.00208 & 0.00208\\\\\n",
       "\t7 & GO:0051276 & chromosome organization                     &  88 &  7 & 13.06 & 969 & 0.99261 & 0.00218 & 0.00218\\\\\n",
       "\t8 & GO:0048638 & regulation of developmental growth          &  13 &  3 &  1.93 & 426 & 0.30050 & 0.00261 & 0.00261\\\\\n",
       "\t9 & GO:1900221 & regulation of amyloid-beta clearance        &  10 &  5 &  1.48 &  42 & 0.00827 & 0.00287 & 0.00287\\\\\n",
       "\t10 & GO:0000278 & mitotic cell cycle                          & 147 & 14 & 21.81 & 978 & 0.99648 & 8.6e-07 & 0.00339\\\\\n",
       "\\end{tabular}\n"
      ],
      "text/markdown": [
       "\n",
       "A data.frame: 10 × 9\n",
       "\n",
       "| <!--/--> | GO.ID &lt;chr&gt; | Term &lt;chr&gt; | Annotated &lt;int&gt; | Significant &lt;int&gt; | Expected &lt;dbl&gt; | Rank in classicFisher &lt;int&gt; | classicFisher &lt;chr&gt; | classicKS &lt;chr&gt; | elimKS &lt;chr&gt; |\n",
       "|---|---|---|---|---|---|---|---|---|---|\n",
       "| 1 | GO:0051301 | cell division                               | 145 | 16 | 21.52 | 952 | 0.97383 | 1.0e-07 | 3.1e-07 |\n",
       "| 2 | GO:0031668 | cellular response to extracellular stimu... |  12 |  8 |  1.78 |   1 | 4.2e-05 | 0.00013 | 0.00013 |\n",
       "| 3 | GO:0010389 | regulation of G2/M transition of mitotic... |  30 |  7 |  4.45 | 260 | 0.13535 | 0.00019 | 0.00019 |\n",
       "| 4 | GO:0051726 | regulation of cell cycle                    | 134 | 17 | 19.88 | 812 | 0.86271 | 2.2e-05 | 0.00067 |\n",
       "| 5 | GO:0140014 | mitotic nuclear division                    |  90 |  6 | 13.35 | 982 | 0.99838 | 0.00177 | 0.00177 |\n",
       "| 6 | GO:0050851 | antigen receptor-mediated signaling path... |  11 |  7 |  1.63 |   7 | 0.00021 | 0.00208 | 0.00208 |\n",
       "| 7 | GO:0051276 | chromosome organization                     |  88 |  7 | 13.06 | 969 | 0.99261 | 0.00218 | 0.00218 |\n",
       "| 8 | GO:0048638 | regulation of developmental growth          |  13 |  3 |  1.93 | 426 | 0.30050 | 0.00261 | 0.00261 |\n",
       "| 9 | GO:1900221 | regulation of amyloid-beta clearance        |  10 |  5 |  1.48 |  42 | 0.00827 | 0.00287 | 0.00287 |\n",
       "| 10 | GO:0000278 | mitotic cell cycle                          | 147 | 14 | 21.81 | 978 | 0.99648 | 8.6e-07 | 0.00339 |\n",
       "\n"
      ],
      "text/plain": [
       "   GO.ID      Term                                        Annotated Significant\n",
       "1  GO:0051301 cell division                               145       16         \n",
       "2  GO:0031668 cellular response to extracellular stimu...  12        8         \n",
       "3  GO:0010389 regulation of G2/M transition of mitotic...  30        7         \n",
       "4  GO:0051726 regulation of cell cycle                    134       17         \n",
       "5  GO:0140014 mitotic nuclear division                     90        6         \n",
       "6  GO:0050851 antigen receptor-mediated signaling path...  11        7         \n",
       "7  GO:0051276 chromosome organization                      88        7         \n",
       "8  GO:0048638 regulation of developmental growth           13        3         \n",
       "9  GO:1900221 regulation of amyloid-beta clearance         10        5         \n",
       "10 GO:0000278 mitotic cell cycle                          147       14         \n",
       "   Expected Rank in classicFisher classicFisher classicKS elimKS \n",
       "1  21.52    952                   0.97383       1.0e-07   3.1e-07\n",
       "2   1.78      1                   4.2e-05       0.00013   0.00013\n",
       "3   4.45    260                   0.13535       0.00019   0.00019\n",
       "4  19.88    812                   0.86271       2.2e-05   0.00067\n",
       "5  13.35    982                   0.99838       0.00177   0.00177\n",
       "6   1.63      7                   0.00021       0.00208   0.00208\n",
       "7  13.06    969                   0.99261       0.00218   0.00218\n",
       "8   1.93    426                   0.30050       0.00261   0.00261\n",
       "9   1.48     42                   0.00827       0.00287   0.00287\n",
       "10 21.81    978                   0.99648       8.6e-07   0.00339"
      ]
     },
     "metadata": {},
     "output_type": "display_data"
    }
   ],
   "source": [
    "allRes"
   ]
  },
  {
   "cell_type": "code",
   "execution_count": 14,
   "id": "fce84e7f",
   "metadata": {},
   "outputs": [
    {
     "data": {
      "text/plain": [
       "R version 3.6.3 (2020-02-29)\n",
       "Platform: x86_64-apple-darwin15.6.0 (64-bit)\n",
       "Running under: macOS  10.16\n",
       "\n",
       "Matrix products: default\n",
       "BLAS:   /Library/Frameworks/R.framework/Versions/3.6/Resources/lib/libRblas.0.dylib\n",
       "LAPACK: /Library/Frameworks/R.framework/Versions/3.6/Resources/lib/libRlapack.dylib\n",
       "\n",
       "locale:\n",
       "[1] en_US.UTF-8/en_US.UTF-8/en_US.UTF-8/C/en_US.UTF-8/en_US.UTF-8\n",
       "\n",
       "attached base packages:\n",
       "[1] stats4    parallel  stats     graphics  grDevices utils     datasets \n",
       "[8] methods   base     \n",
       "\n",
       "other attached packages:\n",
       " [1] hgu95av2.db_3.2.3    org.Hs.eg.db_3.10.0  ALL_1.28.0          \n",
       " [4] topGO_2.38.1         SparseM_1.81         GO.db_3.10.0        \n",
       " [7] AnnotationDbi_1.48.0 IRanges_2.20.2       S4Vectors_0.24.4    \n",
       "[10] Biobase_2.46.0       graph_1.64.0         BiocGenerics_0.32.0 \n",
       "\n",
       "loaded via a namespace (and not attached):\n",
       " [1] Rcpp_1.0.8.3       pillar_1.7.0       compiler_3.6.3     base64enc_0.1-3   \n",
       " [5] tools_3.6.3        digest_0.6.29      uuid_1.1-0         bit_4.0.4         \n",
       " [9] lattice_0.20-45    jsonlite_1.8.0     evaluate_0.15      RSQLite_2.2.14    \n",
       "[13] memoise_2.0.1      lifecycle_1.0.1    pkgconfig_2.0.3    rlang_1.0.2       \n",
       "[17] IRdisplay_1.1      cli_3.3.0          DBI_1.1.2          IRkernel_1.3      \n",
       "[21] fastmap_1.1.0      repr_1.1.4         vctrs_0.4.1        grid_3.6.3        \n",
       "[25] bit64_4.0.5        glue_1.6.2         fansi_1.0.3        pbdZMQ_0.3-7      \n",
       "[29] blob_1.2.3         matrixStats_0.62.0 ellipsis_0.3.2     htmltools_0.5.2   \n",
       "[33] utf8_1.2.2         cachem_1.0.6       crayon_1.5.1      "
      ]
     },
     "metadata": {},
     "output_type": "display_data"
    }
   ],
   "source": [
    "sessionInfo()"
   ]
  },
  {
   "cell_type": "code",
   "execution_count": null,
   "id": "0d4acf05",
   "metadata": {},
   "outputs": [],
   "source": []
  }
 ],
 "metadata": {
  "kernelspec": {
   "display_name": "R",
   "language": "R",
   "name": "ir"
  },
  "language_info": {
   "codemirror_mode": "r",
   "file_extension": ".r",
   "mimetype": "text/x-r-source",
   "name": "R",
   "pygments_lexer": "r",
   "version": "3.6.3"
  }
 },
 "nbformat": 4,
 "nbformat_minor": 5
}
