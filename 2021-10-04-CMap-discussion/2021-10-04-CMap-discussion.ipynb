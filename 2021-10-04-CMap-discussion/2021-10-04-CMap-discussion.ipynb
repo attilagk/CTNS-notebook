{
 "cells": [
  {
   "cell_type": "markdown",
   "id": "03870e4c",
   "metadata": {},
   "source": [
    "Use CMap on the LINC1000 data set to rank drugs and other perturbations based on their similarity to the transcriptomic signature of Alzheimer's disease."
   ]
  },
  {
   "cell_type": "markdown",
   "id": "a8eb9f31",
   "metadata": {},
   "source": [
    "We use the [query tool](https://clue.io/query/query) of the CMap portal [clue.io](https://clue.io/query).  (See an alternative tool [here](https://maayanlab.cloud/l1000cds2/#/index).)  The input data are up and down regulated genes in AD compiled by Sudhir Varma using multiple GEO datasets and an R script calculating a FDR adjusted p value for each gene's differential expression test.  The number of genes in each set corresponds to the upper size limit of gene sets for CMap."
   ]
  },
  {
   "cell_type": "code",
   "execution_count": 7,
   "id": "ac7fefbe",
   "metadata": {},
   "outputs": [
    {
     "name": "stdout",
     "output_type": "stream",
     "text": [
      "     150 up.genes.txt up regulated genes, including:\n",
      "NACC2\r\n",
      "SNRNP48\r\n",
      "FOXF1\r\n",
      "CRB2\r\n",
      "INHBB\r\n",
      "POU3F2\r\n",
      "KLHL24\r\n",
      "TRPM7\r\n",
      "TFEB\r\n",
      "NA\r\n",
      "     149 down.genes.txt up regulated genes, including:\n",
      "GALNT17\r\n",
      "SCG5\r\n",
      "MRPL14\r\n",
      "MRPL32\r\n",
      "NDRG4\r\n",
      "REEP1\r\n",
      "SLC1A1\r\n",
      "MRPL44\r\n",
      "SLC1A6\r\n",
      "ASAH2B\r\n"
     ]
    }
   ],
   "source": [
    "%%bash\n",
    "cd ~/CTNS/resources/CMap/sudhir-varma/\n",
    "echo \"$(wc -l up.genes.txt) up regulated genes, including:\"\n",
    "head up.genes.txt\n",
    "echo \"$(wc -l down.genes.txt) up regulated genes, including:\"\n",
    "head down.genes.txt"
   ]
  },
  {
   "cell_type": "markdown",
   "id": "c1ce8c50",
   "metadata": {},
   "source": [
    "Mapping from BRD ID to DrugBank ID is difficult.\n",
    "\n",
    "See [this](https://think-lab.github.io/d/51/) and [this](https://www.biostars.org/p/249949/) threads on old forums."
   ]
  },
  {
   "cell_type": "code",
   "execution_count": null,
   "id": "0b7796d6",
   "metadata": {},
   "outputs": [],
   "source": []
  }
 ],
 "metadata": {
  "kernelspec": {
   "display_name": "Python 3",
   "language": "python",
   "name": "python3"
  },
  "language_info": {
   "codemirror_mode": {
    "name": "ipython",
    "version": 3
   },
   "file_extension": ".py",
   "mimetype": "text/x-python",
   "name": "python",
   "nbconvert_exporter": "python",
   "pygments_lexer": "ipython3",
   "version": "3.8.8"
  }
 },
 "nbformat": 4,
 "nbformat_minor": 5
}
