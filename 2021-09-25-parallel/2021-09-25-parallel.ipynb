{
 "cells": [
  {
   "cell_type": "code",
   "execution_count": 39,
   "id": "framed-exhaust",
   "metadata": {},
   "outputs": [
    {
     "name": "stdout",
     "output_type": "stream",
     "text": [
      "The autoreload extension is already loaded. To reload it, use:\n",
      "  %reload_ext autoreload\n"
     ]
    }
   ],
   "source": [
    "%load_ext autoreload\n",
    "%autoreload 2\n",
    "%reload_ext autoreload\n",
    "#from drugbank_downloader import download_drugbank, open_drugbank\n",
    "import repos_tools\n",
    "import proximity\n",
    "import pandas as pd\n",
    "import matplotlib.pyplot as plt\n",
    "import attila_utils\n",
    "from toolbox import wrappers\n",
    "from toolbox import network_utilities\n",
    "import pickle"
   ]
  },
  {
   "cell_type": "markdown",
   "id": "brutal-receptor",
   "metadata": {},
   "source": [
    "## Running interactively"
   ]
  },
  {
   "cell_type": "code",
   "execution_count": 40,
   "id": "opposed-partition",
   "metadata": {},
   "outputs": [
    {
     "data": {
      "text/html": [
       "<div>\n",
       "<style scoped>\n",
       "    .dataframe tbody tr th:only-of-type {\n",
       "        vertical-align: middle;\n",
       "    }\n",
       "\n",
       "    .dataframe tbody tr th {\n",
       "        vertical-align: top;\n",
       "    }\n",
       "\n",
       "    .dataframe thead th {\n",
       "        text-align: right;\n",
       "    }\n",
       "</style>\n",
       "<table border=\"1\" class=\"dataframe\">\n",
       "  <thead>\n",
       "    <tr style=\"text-align: right;\">\n",
       "      <th></th>\n",
       "      <th></th>\n",
       "      <th>symbol</th>\n",
       "      <th>name</th>\n",
       "      <th>category</th>\n",
       "      <th>organism</th>\n",
       "      <th>known_action</th>\n",
       "      <th>actions</th>\n",
       "      <th>hgnc_id</th>\n",
       "      <th>group</th>\n",
       "      <th>entrez_id</th>\n",
       "    </tr>\n",
       "    <tr>\n",
       "      <th>drugbank_id</th>\n",
       "      <th>uniprot_id</th>\n",
       "      <th></th>\n",
       "      <th></th>\n",
       "      <th></th>\n",
       "      <th></th>\n",
       "      <th></th>\n",
       "      <th></th>\n",
       "      <th></th>\n",
       "      <th></th>\n",
       "      <th></th>\n",
       "    </tr>\n",
       "  </thead>\n",
       "  <tbody>\n",
       "    <tr>\n",
       "      <th>DB00006</th>\n",
       "      <th>P00734</th>\n",
       "      <td>F2</td>\n",
       "      <td>Prothrombin</td>\n",
       "      <td>target</td>\n",
       "      <td>Humans</td>\n",
       "      <td>yes</td>\n",
       "      <td>inhibitor</td>\n",
       "      <td>HGNC:3535</td>\n",
       "      <td>approved</td>\n",
       "      <td>2147</td>\n",
       "    </tr>\n",
       "    <tr>\n",
       "      <th>DB00007</th>\n",
       "      <th>P30968</th>\n",
       "      <td>GNRHR</td>\n",
       "      <td>Gonadotropin-releasing hormone receptor</td>\n",
       "      <td>target</td>\n",
       "      <td>Humans</td>\n",
       "      <td>yes</td>\n",
       "      <td>agonist</td>\n",
       "      <td>HGNC:4421</td>\n",
       "      <td>approved</td>\n",
       "      <td>2798</td>\n",
       "    </tr>\n",
       "    <tr>\n",
       "      <th rowspan=\"2\" valign=\"top\">DB00014</th>\n",
       "      <th>P22888</th>\n",
       "      <td>LHCGR</td>\n",
       "      <td>Lutropin-choriogonadotropic hormone receptor</td>\n",
       "      <td>target</td>\n",
       "      <td>Humans</td>\n",
       "      <td>yes</td>\n",
       "      <td>agonist</td>\n",
       "      <td>HGNC:6585</td>\n",
       "      <td>approved</td>\n",
       "      <td>3973</td>\n",
       "    </tr>\n",
       "    <tr>\n",
       "      <th>P30968</th>\n",
       "      <td>GNRHR</td>\n",
       "      <td>Gonadotropin-releasing hormone receptor</td>\n",
       "      <td>target</td>\n",
       "      <td>Humans</td>\n",
       "      <td>yes</td>\n",
       "      <td>agonist</td>\n",
       "      <td>HGNC:4421</td>\n",
       "      <td>approved</td>\n",
       "      <td>2798</td>\n",
       "    </tr>\n",
       "    <tr>\n",
       "      <th>DB00035</th>\n",
       "      <th>P30518</th>\n",
       "      <td>AVPR2</td>\n",
       "      <td>Vasopressin V2 receptor</td>\n",
       "      <td>target</td>\n",
       "      <td>Humans</td>\n",
       "      <td>yes</td>\n",
       "      <td>agonist</td>\n",
       "      <td>HGNC:897</td>\n",
       "      <td>approved</td>\n",
       "      <td>554</td>\n",
       "    </tr>\n",
       "    <tr>\n",
       "      <th>...</th>\n",
       "      <th>...</th>\n",
       "      <td>...</td>\n",
       "      <td>...</td>\n",
       "      <td>...</td>\n",
       "      <td>...</td>\n",
       "      <td>...</td>\n",
       "      <td>...</td>\n",
       "      <td>...</td>\n",
       "      <td>...</td>\n",
       "      <td>...</td>\n",
       "    </tr>\n",
       "    <tr>\n",
       "      <th>DB15822</th>\n",
       "      <th>P21802</th>\n",
       "      <td>FGFR2</td>\n",
       "      <td>Fibroblast growth factor receptor 2</td>\n",
       "      <td>target</td>\n",
       "      <td>Humans</td>\n",
       "      <td>unknown</td>\n",
       "      <td>inhibitor</td>\n",
       "      <td>HGNC:3689</td>\n",
       "      <td>approved</td>\n",
       "      <td>2263</td>\n",
       "    </tr>\n",
       "    <tr>\n",
       "      <th>DB15873</th>\n",
       "      <th>P30874</th>\n",
       "      <td>SSTR2</td>\n",
       "      <td>Somatostatin receptor type 2</td>\n",
       "      <td>target</td>\n",
       "      <td>Humans</td>\n",
       "      <td>yes</td>\n",
       "      <td>binder</td>\n",
       "      <td>HGNC:11331</td>\n",
       "      <td>approved</td>\n",
       "      <td>6752</td>\n",
       "    </tr>\n",
       "    <tr>\n",
       "      <th>DB15982</th>\n",
       "      <th>P03952</th>\n",
       "      <td>KLKB1</td>\n",
       "      <td>Plasma kallikrein</td>\n",
       "      <td>target</td>\n",
       "      <td>Humans</td>\n",
       "      <td>yes</td>\n",
       "      <td>inhibitor</td>\n",
       "      <td>HGNC:6371</td>\n",
       "      <td>approved</td>\n",
       "      <td>3818</td>\n",
       "    </tr>\n",
       "    <tr>\n",
       "      <th>DB16019</th>\n",
       "      <th>P07288</th>\n",
       "      <td>KLK3</td>\n",
       "      <td>Prostate-specific antigen</td>\n",
       "      <td>target</td>\n",
       "      <td>Humans</td>\n",
       "      <td>yes</td>\n",
       "      <td>binder</td>\n",
       "      <td>HGNC:6364</td>\n",
       "      <td>approved</td>\n",
       "      <td>354</td>\n",
       "    </tr>\n",
       "    <tr>\n",
       "      <th>DB16353</th>\n",
       "      <th>P23467</th>\n",
       "      <td>PTPRB</td>\n",
       "      <td>Receptor-type tyrosine-protein phosphatase beta</td>\n",
       "      <td>target</td>\n",
       "      <td>Humans</td>\n",
       "      <td>yes</td>\n",
       "      <td>inhibitor</td>\n",
       "      <td>HGNC:9665</td>\n",
       "      <td>investigational</td>\n",
       "      <td>5787</td>\n",
       "    </tr>\n",
       "  </tbody>\n",
       "</table>\n",
       "<p>12999 rows × 9 columns</p>\n",
       "</div>"
      ],
      "text/plain": [
       "                       symbol  \\\n",
       "drugbank_id uniprot_id          \n",
       "DB00006     P00734         F2   \n",
       "DB00007     P30968      GNRHR   \n",
       "DB00014     P22888      LHCGR   \n",
       "            P30968      GNRHR   \n",
       "DB00035     P30518      AVPR2   \n",
       "...                       ...   \n",
       "DB15822     P21802      FGFR2   \n",
       "DB15873     P30874      SSTR2   \n",
       "DB15982     P03952      KLKB1   \n",
       "DB16019     P07288       KLK3   \n",
       "DB16353     P23467      PTPRB   \n",
       "\n",
       "                                                                   name  \\\n",
       "drugbank_id uniprot_id                                                    \n",
       "DB00006     P00734                                          Prothrombin   \n",
       "DB00007     P30968              Gonadotropin-releasing hormone receptor   \n",
       "DB00014     P22888         Lutropin-choriogonadotropic hormone receptor   \n",
       "            P30968              Gonadotropin-releasing hormone receptor   \n",
       "DB00035     P30518                              Vasopressin V2 receptor   \n",
       "...                                                                 ...   \n",
       "DB15822     P21802                  Fibroblast growth factor receptor 2   \n",
       "DB15873     P30874                         Somatostatin receptor type 2   \n",
       "DB15982     P03952                                    Plasma kallikrein   \n",
       "DB16019     P07288                            Prostate-specific antigen   \n",
       "DB16353     P23467      Receptor-type tyrosine-protein phosphatase beta   \n",
       "\n",
       "                       category organism known_action    actions     hgnc_id  \\\n",
       "drugbank_id uniprot_id                                                         \n",
       "DB00006     P00734       target   Humans          yes  inhibitor   HGNC:3535   \n",
       "DB00007     P30968       target   Humans          yes    agonist   HGNC:4421   \n",
       "DB00014     P22888       target   Humans          yes    agonist   HGNC:6585   \n",
       "            P30968       target   Humans          yes    agonist   HGNC:4421   \n",
       "DB00035     P30518       target   Humans          yes    agonist    HGNC:897   \n",
       "...                         ...      ...          ...        ...         ...   \n",
       "DB15822     P21802       target   Humans      unknown  inhibitor   HGNC:3689   \n",
       "DB15873     P30874       target   Humans          yes     binder  HGNC:11331   \n",
       "DB15982     P03952       target   Humans          yes  inhibitor   HGNC:6371   \n",
       "DB16019     P07288       target   Humans          yes     binder   HGNC:6364   \n",
       "DB16353     P23467       target   Humans          yes  inhibitor   HGNC:9665   \n",
       "\n",
       "                                  group entrez_id  \n",
       "drugbank_id uniprot_id                             \n",
       "DB00006     P00734             approved      2147  \n",
       "DB00007     P30968             approved      2798  \n",
       "DB00014     P22888             approved      3973  \n",
       "            P30968             approved      2798  \n",
       "DB00035     P30518             approved       554  \n",
       "...                                 ...       ...  \n",
       "DB15822     P21802             approved      2263  \n",
       "DB15873     P30874             approved      6752  \n",
       "DB15982     P03952             approved      3818  \n",
       "DB16019     P07288             approved       354  \n",
       "DB16353     P23467      investigational      5787  \n",
       "\n",
       "[12999 rows x 9 columns]"
      ]
     },
     "execution_count": 40,
     "metadata": {},
     "output_type": "execute_result"
    }
   ],
   "source": [
    "fpath = '../../results/2021-08-11-drugbank/drugbank-filtered-proteins.csv'\n",
    "drugbank_prot = pd.read_csv(fpath, index_col=(0, 1), dtype={'entrez_id': 'str'})\n",
    "drugbank_prot"
   ]
  },
  {
   "cell_type": "markdown",
   "id": "upper-rental",
   "metadata": {},
   "source": [
    "First we calculate proximities for five drugs asynchronously given the knowledge based AD gene set."
   ]
  },
  {
   "cell_type": "code",
   "execution_count": 51,
   "id": "considered-municipality",
   "metadata": {},
   "outputs": [
    {
     "name": "stdout",
     "output_type": "stream",
     "text": [
      "{'MT-ND2', 'MT-ND1'}\n",
      "dumping results to /tmp/2021-10-03T19:53:39.010971.p\n",
      "total runtime: 42.8s\n"
     ]
    }
   ],
   "source": [
    "drugbank_prot_small = drugbank_prot.iloc[0:9]\n",
    "val = proximity.calculate_proximities(drugbank_prot_small, asynchronous=True)"
   ]
  },
  {
   "cell_type": "markdown",
   "id": "afraid-fiction",
   "metadata": {},
   "source": [
    "Next we repeat the calculations but **synchronously**.  We see that although individual drugs are computed faster the total runtime is still much slower."
   ]
  },
  {
   "cell_type": "code",
   "execution_count": null,
   "id": "proud-triangle",
   "metadata": {},
   "outputs": [],
   "source": [
    "val1 = proximity.calculate_proximities(drugbank_prot_small, asynchronous=False)"
   ]
  },
  {
   "cell_type": "markdown",
   "id": "explicit-extra",
   "metadata": {},
   "source": [
    "Now repeat asynchronously but with the **knowledge, TWAS2+, IAPS** AD gene set.  Larger disease gene set increases run times."
   ]
  },
  {
   "cell_type": "code",
   "execution_count": null,
   "id": "expanded-barbados",
   "metadata": {},
   "outputs": [],
   "source": [
    "val = proximity.calculate_proximities(drugbank_prot_small, asynchronous=True, dis_genes_fpath='../../results/2021-07-01-high-conf-ADgenes/AD-genes-knowledge-TWAS2plus-IAPS')"
   ]
  },
  {
   "cell_type": "code",
   "execution_count": null,
   "id": "wicked-contract",
   "metadata": {},
   "outputs": [],
   "source": [
    "val"
   ]
  },
  {
   "cell_type": "markdown",
   "id": "approved-ordinance",
   "metadata": {},
   "source": [
    "## Running from the script\n",
    "\n",
    "The `knowledge-test.cfg` config file contains all the conditions."
   ]
  },
  {
   "cell_type": "code",
   "execution_count": 4,
   "id": "analyzed-animal",
   "metadata": {},
   "outputs": [
    {
     "name": "stdout",
     "output_type": "stream",
     "text": [
      "[DEFAULT]\n",
      "dis_genes_fpath = /home/attila/CTNS/results/2021-07-01-high-conf-ADgenes/AD-genes-knowledge\n",
      "network_fpath = /home/attila/CTNS/resources/PPI/Cheng2019/network.sif\n",
      "id_mapping_file = /home/attila/CTNS/resources/PPI/geneid_to_symbol.txt\n",
      "drugbank_prot_fpath = /home/attila/CTNS/results/2021-08-11-drugbank/drugbank-filtered-proteins.csv\n",
      "drugbank_all_drugs_fpath = /home/attila/CTNS/results/2021-08-11-drugbank/drugbank-all-drugs.csv\n",
      "asynchronous = yes\n",
      "max_workers = 7\n",
      "test_run = yes\n",
      "out_csv = knowledge-test.csv\n"
     ]
    }
   ],
   "source": [
    "%%bash\n",
    "cd ../../results/2021-09-25-parallel/\n",
    "cat knowledge-test.cfg"
   ]
  },
  {
   "cell_type": "markdown",
   "id": "dressed-possession",
   "metadata": {},
   "source": [
    "The config file is passed to `proximity.py`"
   ]
  },
  {
   "cell_type": "code",
   "execution_count": 5,
   "id": "rough-district",
   "metadata": {},
   "outputs": [
    {
     "name": "stderr",
     "output_type": "stream",
     "text": [
      "bash: line 2: /home/attila/CTNS/notebooks/src/proximity.py: No such file or directory\n"
     ]
    },
    {
     "ename": "CalledProcessError",
     "evalue": "Command 'b'cd ../../results/2021-09-25-parallel/\\n/home/attila/CTNS/notebooks/src/proximity.py knowledge-test.cfg\\n'' returned non-zero exit status 127.",
     "output_type": "error",
     "traceback": [
      "\u001b[0;31m---------------------------------------------------------------------------\u001b[0m",
      "\u001b[0;31mCalledProcessError\u001b[0m                        Traceback (most recent call last)",
      "\u001b[0;32m<ipython-input-5-125e53dacf92>\u001b[0m in \u001b[0;36m<module>\u001b[0;34m\u001b[0m\n\u001b[0;32m----> 1\u001b[0;31m \u001b[0mget_ipython\u001b[0m\u001b[0;34m(\u001b[0m\u001b[0;34m)\u001b[0m\u001b[0;34m.\u001b[0m\u001b[0mrun_cell_magic\u001b[0m\u001b[0;34m(\u001b[0m\u001b[0;34m'bash'\u001b[0m\u001b[0;34m,\u001b[0m \u001b[0;34m''\u001b[0m\u001b[0;34m,\u001b[0m \u001b[0;34m'cd ../../results/2021-09-25-parallel/\\n/home/attila/CTNS/notebooks/src/proximity.py knowledge-test.cfg\\n'\u001b[0m\u001b[0;34m)\u001b[0m\u001b[0;34m\u001b[0m\u001b[0;34m\u001b[0m\u001b[0m\n\u001b[0m",
      "\u001b[0;32m/usr/local/anaconda3/lib/python3.8/site-packages/IPython/core/interactiveshell.py\u001b[0m in \u001b[0;36mrun_cell_magic\u001b[0;34m(self, magic_name, line, cell)\u001b[0m\n\u001b[1;32m   2397\u001b[0m             \u001b[0;32mwith\u001b[0m \u001b[0mself\u001b[0m\u001b[0;34m.\u001b[0m\u001b[0mbuiltin_trap\u001b[0m\u001b[0;34m:\u001b[0m\u001b[0;34m\u001b[0m\u001b[0;34m\u001b[0m\u001b[0m\n\u001b[1;32m   2398\u001b[0m                 \u001b[0margs\u001b[0m \u001b[0;34m=\u001b[0m \u001b[0;34m(\u001b[0m\u001b[0mmagic_arg_s\u001b[0m\u001b[0;34m,\u001b[0m \u001b[0mcell\u001b[0m\u001b[0;34m)\u001b[0m\u001b[0;34m\u001b[0m\u001b[0;34m\u001b[0m\u001b[0m\n\u001b[0;32m-> 2399\u001b[0;31m                 \u001b[0mresult\u001b[0m \u001b[0;34m=\u001b[0m \u001b[0mfn\u001b[0m\u001b[0;34m(\u001b[0m\u001b[0;34m*\u001b[0m\u001b[0margs\u001b[0m\u001b[0;34m,\u001b[0m \u001b[0;34m**\u001b[0m\u001b[0mkwargs\u001b[0m\u001b[0;34m)\u001b[0m\u001b[0;34m\u001b[0m\u001b[0;34m\u001b[0m\u001b[0m\n\u001b[0m\u001b[1;32m   2400\u001b[0m             \u001b[0;32mreturn\u001b[0m \u001b[0mresult\u001b[0m\u001b[0;34m\u001b[0m\u001b[0;34m\u001b[0m\u001b[0m\n\u001b[1;32m   2401\u001b[0m \u001b[0;34m\u001b[0m\u001b[0m\n",
      "\u001b[0;32m/usr/local/anaconda3/lib/python3.8/site-packages/IPython/core/magics/script.py\u001b[0m in \u001b[0;36mnamed_script_magic\u001b[0;34m(line, cell)\u001b[0m\n\u001b[1;32m    140\u001b[0m             \u001b[0;32melse\u001b[0m\u001b[0;34m:\u001b[0m\u001b[0;34m\u001b[0m\u001b[0;34m\u001b[0m\u001b[0m\n\u001b[1;32m    141\u001b[0m                 \u001b[0mline\u001b[0m \u001b[0;34m=\u001b[0m \u001b[0mscript\u001b[0m\u001b[0;34m\u001b[0m\u001b[0;34m\u001b[0m\u001b[0m\n\u001b[0;32m--> 142\u001b[0;31m             \u001b[0;32mreturn\u001b[0m \u001b[0mself\u001b[0m\u001b[0;34m.\u001b[0m\u001b[0mshebang\u001b[0m\u001b[0;34m(\u001b[0m\u001b[0mline\u001b[0m\u001b[0;34m,\u001b[0m \u001b[0mcell\u001b[0m\u001b[0;34m)\u001b[0m\u001b[0;34m\u001b[0m\u001b[0;34m\u001b[0m\u001b[0m\n\u001b[0m\u001b[1;32m    143\u001b[0m \u001b[0;34m\u001b[0m\u001b[0m\n\u001b[1;32m    144\u001b[0m         \u001b[0;31m# write a basic docstring:\u001b[0m\u001b[0;34m\u001b[0m\u001b[0;34m\u001b[0m\u001b[0;34m\u001b[0m\u001b[0m\n",
      "\u001b[0;32m/usr/local/anaconda3/lib/python3.8/site-packages/decorator.py\u001b[0m in \u001b[0;36mfun\u001b[0;34m(*args, **kw)\u001b[0m\n\u001b[1;32m    229\u001b[0m             \u001b[0;32mif\u001b[0m \u001b[0;32mnot\u001b[0m \u001b[0mkwsyntax\u001b[0m\u001b[0;34m:\u001b[0m\u001b[0;34m\u001b[0m\u001b[0;34m\u001b[0m\u001b[0m\n\u001b[1;32m    230\u001b[0m                 \u001b[0margs\u001b[0m\u001b[0;34m,\u001b[0m \u001b[0mkw\u001b[0m \u001b[0;34m=\u001b[0m \u001b[0mfix\u001b[0m\u001b[0;34m(\u001b[0m\u001b[0margs\u001b[0m\u001b[0;34m,\u001b[0m \u001b[0mkw\u001b[0m\u001b[0;34m,\u001b[0m \u001b[0msig\u001b[0m\u001b[0;34m)\u001b[0m\u001b[0;34m\u001b[0m\u001b[0;34m\u001b[0m\u001b[0m\n\u001b[0;32m--> 231\u001b[0;31m             \u001b[0;32mreturn\u001b[0m \u001b[0mcaller\u001b[0m\u001b[0;34m(\u001b[0m\u001b[0mfunc\u001b[0m\u001b[0;34m,\u001b[0m \u001b[0;34m*\u001b[0m\u001b[0;34m(\u001b[0m\u001b[0mextras\u001b[0m \u001b[0;34m+\u001b[0m \u001b[0margs\u001b[0m\u001b[0;34m)\u001b[0m\u001b[0;34m,\u001b[0m \u001b[0;34m**\u001b[0m\u001b[0mkw\u001b[0m\u001b[0;34m)\u001b[0m\u001b[0;34m\u001b[0m\u001b[0;34m\u001b[0m\u001b[0m\n\u001b[0m\u001b[1;32m    232\u001b[0m     \u001b[0mfun\u001b[0m\u001b[0;34m.\u001b[0m\u001b[0m__name__\u001b[0m \u001b[0;34m=\u001b[0m \u001b[0mfunc\u001b[0m\u001b[0;34m.\u001b[0m\u001b[0m__name__\u001b[0m\u001b[0;34m\u001b[0m\u001b[0;34m\u001b[0m\u001b[0m\n\u001b[1;32m    233\u001b[0m     \u001b[0mfun\u001b[0m\u001b[0;34m.\u001b[0m\u001b[0m__doc__\u001b[0m \u001b[0;34m=\u001b[0m \u001b[0mfunc\u001b[0m\u001b[0;34m.\u001b[0m\u001b[0m__doc__\u001b[0m\u001b[0;34m\u001b[0m\u001b[0;34m\u001b[0m\u001b[0m\n",
      "\u001b[0;32m/usr/local/anaconda3/lib/python3.8/site-packages/IPython/core/magic.py\u001b[0m in \u001b[0;36m<lambda>\u001b[0;34m(f, *a, **k)\u001b[0m\n\u001b[1;32m    185\u001b[0m     \u001b[0;31m# but it's overkill for just that one bit of state.\u001b[0m\u001b[0;34m\u001b[0m\u001b[0;34m\u001b[0m\u001b[0;34m\u001b[0m\u001b[0m\n\u001b[1;32m    186\u001b[0m     \u001b[0;32mdef\u001b[0m \u001b[0mmagic_deco\u001b[0m\u001b[0;34m(\u001b[0m\u001b[0marg\u001b[0m\u001b[0;34m)\u001b[0m\u001b[0;34m:\u001b[0m\u001b[0;34m\u001b[0m\u001b[0;34m\u001b[0m\u001b[0m\n\u001b[0;32m--> 187\u001b[0;31m         \u001b[0mcall\u001b[0m \u001b[0;34m=\u001b[0m \u001b[0;32mlambda\u001b[0m \u001b[0mf\u001b[0m\u001b[0;34m,\u001b[0m \u001b[0;34m*\u001b[0m\u001b[0ma\u001b[0m\u001b[0;34m,\u001b[0m \u001b[0;34m**\u001b[0m\u001b[0mk\u001b[0m\u001b[0;34m:\u001b[0m \u001b[0mf\u001b[0m\u001b[0;34m(\u001b[0m\u001b[0;34m*\u001b[0m\u001b[0ma\u001b[0m\u001b[0;34m,\u001b[0m \u001b[0;34m**\u001b[0m\u001b[0mk\u001b[0m\u001b[0;34m)\u001b[0m\u001b[0;34m\u001b[0m\u001b[0;34m\u001b[0m\u001b[0m\n\u001b[0m\u001b[1;32m    188\u001b[0m \u001b[0;34m\u001b[0m\u001b[0m\n\u001b[1;32m    189\u001b[0m         \u001b[0;32mif\u001b[0m \u001b[0mcallable\u001b[0m\u001b[0;34m(\u001b[0m\u001b[0marg\u001b[0m\u001b[0;34m)\u001b[0m\u001b[0;34m:\u001b[0m\u001b[0;34m\u001b[0m\u001b[0;34m\u001b[0m\u001b[0m\n",
      "\u001b[0;32m/usr/local/anaconda3/lib/python3.8/site-packages/IPython/core/magics/script.py\u001b[0m in \u001b[0;36mshebang\u001b[0;34m(self, line, cell)\u001b[0m\n\u001b[1;32m    243\u001b[0m             \u001b[0msys\u001b[0m\u001b[0;34m.\u001b[0m\u001b[0mstderr\u001b[0m\u001b[0;34m.\u001b[0m\u001b[0mflush\u001b[0m\u001b[0;34m(\u001b[0m\u001b[0;34m)\u001b[0m\u001b[0;34m\u001b[0m\u001b[0;34m\u001b[0m\u001b[0m\n\u001b[1;32m    244\u001b[0m         \u001b[0;32mif\u001b[0m \u001b[0margs\u001b[0m\u001b[0;34m.\u001b[0m\u001b[0mraise_error\u001b[0m \u001b[0;32mand\u001b[0m \u001b[0mp\u001b[0m\u001b[0;34m.\u001b[0m\u001b[0mreturncode\u001b[0m\u001b[0;34m!=\u001b[0m\u001b[0;36m0\u001b[0m\u001b[0;34m:\u001b[0m\u001b[0;34m\u001b[0m\u001b[0;34m\u001b[0m\u001b[0m\n\u001b[0;32m--> 245\u001b[0;31m             \u001b[0;32mraise\u001b[0m \u001b[0mCalledProcessError\u001b[0m\u001b[0;34m(\u001b[0m\u001b[0mp\u001b[0m\u001b[0;34m.\u001b[0m\u001b[0mreturncode\u001b[0m\u001b[0;34m,\u001b[0m \u001b[0mcell\u001b[0m\u001b[0;34m,\u001b[0m \u001b[0moutput\u001b[0m\u001b[0;34m=\u001b[0m\u001b[0mout\u001b[0m\u001b[0;34m,\u001b[0m \u001b[0mstderr\u001b[0m\u001b[0;34m=\u001b[0m\u001b[0merr\u001b[0m\u001b[0;34m)\u001b[0m\u001b[0;34m\u001b[0m\u001b[0;34m\u001b[0m\u001b[0m\n\u001b[0m\u001b[1;32m    246\u001b[0m \u001b[0;34m\u001b[0m\u001b[0m\n\u001b[1;32m    247\u001b[0m     \u001b[0;32mdef\u001b[0m \u001b[0m_run_script\u001b[0m\u001b[0;34m(\u001b[0m\u001b[0mself\u001b[0m\u001b[0;34m,\u001b[0m \u001b[0mp\u001b[0m\u001b[0;34m,\u001b[0m \u001b[0mcell\u001b[0m\u001b[0;34m,\u001b[0m \u001b[0mto_close\u001b[0m\u001b[0;34m)\u001b[0m\u001b[0;34m:\u001b[0m\u001b[0;34m\u001b[0m\u001b[0;34m\u001b[0m\u001b[0m\n",
      "\u001b[0;31mCalledProcessError\u001b[0m: Command 'b'cd ../../results/2021-09-25-parallel/\\n/home/attila/CTNS/notebooks/src/proximity.py knowledge-test.cfg\\n'' returned non-zero exit status 127."
     ]
    }
   ],
   "source": [
    "%%bash\n",
    "cd ../../results/2021-09-25-parallel/\n",
    "/home/attila/CTNS/notebooks/src/proximity.py knowledge-test.cfg"
   ]
  },
  {
   "cell_type": "code",
   "execution_count": 6,
   "id": "toxic-virginia",
   "metadata": {},
   "outputs": [
    {
     "name": "stdout",
     "output_type": "stream",
     "text": [
      "{\n",
      "  \"shell_port\": 56268,\n",
      "  \"iopub_port\": 56269,\n",
      "  \"stdin_port\": 56270,\n",
      "  \"control_port\": 56272,\n",
      "  \"hb_port\": 56271,\n",
      "  \"ip\": \"127.0.0.1\",\n",
      "  \"key\": \"47c6bbbd-109207fe096ebb5e4572e224\",\n",
      "  \"transport\": \"tcp\",\n",
      "  \"signature_scheme\": \"hmac-sha256\",\n",
      "  \"kernel_name\": \"\"\n",
      "}\n",
      "\n",
      "Paste the above JSON into a file, and connect with:\n",
      "    $> jupyter <app> --existing <file>\n",
      "or, if you are local, you can connect with just:\n",
      "    $> jupyter <app> --existing kernel-78d7b721-6f63-4d2c-899a-a6c6566b8605.json\n",
      "or even just:\n",
      "    $> jupyter <app> --existing\n",
      "if this is the most recent Jupyter kernel you have started.\n"
     ]
    }
   ],
   "source": [
    "%connect_info"
   ]
  },
  {
   "cell_type": "code",
   "execution_count": null,
   "id": "blank-algebra",
   "metadata": {},
   "outputs": [],
   "source": []
  }
 ],
 "metadata": {
  "kernelspec": {
   "display_name": "Python 3",
   "language": "python",
   "name": "python3"
  },
  "language_info": {
   "codemirror_mode": {
    "name": "ipython",
    "version": 3
   },
   "file_extension": ".py",
   "mimetype": "text/x-python",
   "name": "python",
   "nbconvert_exporter": "python",
   "pygments_lexer": "ipython3",
   "version": "3.8.8"
  }
 },
 "nbformat": 4,
 "nbformat_minor": 5
}
