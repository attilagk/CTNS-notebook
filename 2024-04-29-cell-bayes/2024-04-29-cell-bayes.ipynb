{
 "cells": [
  {
   "cell_type": "code",
   "execution_count": 1,
   "id": "f6cb8429-4808-494c-a83e-6f1d4d0930bd",
   "metadata": {},
   "outputs": [],
   "source": [
    "%load_ext autoreload\n",
    "%autoreload 2\n",
    "%reload_ext autoreload\n",
    "import arviz as az\n",
    "import pymc as pm\n",
    "import pandas as pd\n",
    "import numpy as np\n",
    "import matplotlib.pyplot as plt\n",
    "import matplotlib.patches as mpatches\n",
    "import seaborn as sns\n",
    "import cellbayesassay as cba\n",
    "import os.path\n",
    "import re\n",
    "import warnings\n",
    "import attila_utils"
   ]
  },
  {
   "cell_type": "code",
   "execution_count": 2,
   "id": "d53e100a-e6d0-40de-b4ce-cab8af788141",
   "metadata": {},
   "outputs": [],
   "source": [
    "TI_conc_fpaths = {\n",
    "    (2, 4, 5, 6, 7, 8): 'a',\n",
    "    (3, 9): 'b',\n",
    "}"
   ]
  },
  {
   "cell_type": "code",
   "execution_count": 3,
   "id": "80d7d401-d4e3-4e50-bd9d-8eecfc7046da",
   "metadata": {},
   "outputs": [
    {
     "data": {
      "text/html": [
       "<div>\n",
       "<style scoped>\n",
       "    .dataframe tbody tr th:only-of-type {\n",
       "        vertical-align: middle;\n",
       "    }\n",
       "\n",
       "    .dataframe tbody tr th {\n",
       "        vertical-align: top;\n",
       "    }\n",
       "\n",
       "    .dataframe thead th {\n",
       "        text-align: right;\n",
       "    }\n",
       "</style>\n",
       "<table border=\"1\" class=\"dataframe\">\n",
       "  <thead>\n",
       "    <tr style=\"text-align: right;\">\n",
       "      <th></th>\n",
       "      <th>QPS experiment number</th>\n",
       "      <th>exp_type</th>\n",
       "      <th>fpath</th>\n",
       "    </tr>\n",
       "    <tr>\n",
       "      <th>Experiment</th>\n",
       "      <th></th>\n",
       "      <th></th>\n",
       "      <th></th>\n",
       "    </tr>\n",
       "  </thead>\n",
       "  <tbody>\n",
       "    <tr>\n",
       "      <th>Aβ clearance (BV2 cells)</th>\n",
       "      <td>3.0</td>\n",
       "      <td>b</td>\n",
       "      <td>../../resources/cell-based-assays/test-items3b...</td>\n",
       "    </tr>\n",
       "    <tr>\n",
       "      <th>Aβ release (H4 cells)</th>\n",
       "      <td>4.0</td>\n",
       "      <td>a</td>\n",
       "      <td>../../resources/cell-based-assays/test-items3a...</td>\n",
       "    </tr>\n",
       "    <tr>\n",
       "      <th>Aβ toxicity (primary neurons)</th>\n",
       "      <td>2.0</td>\n",
       "      <td>a</td>\n",
       "      <td>../../resources/cell-based-assays/test-items3a...</td>\n",
       "    </tr>\n",
       "    <tr>\n",
       "      <th>LPS neuroinflammation (BV2 cells)</th>\n",
       "      <td>6.0</td>\n",
       "      <td>a</td>\n",
       "      <td>../../resources/cell-based-assays/test-items3a...</td>\n",
       "    </tr>\n",
       "    <tr>\n",
       "      <th>Neurite outgrowth (primary neurons)</th>\n",
       "      <td>7.0</td>\n",
       "      <td>a</td>\n",
       "      <td>../../resources/cell-based-assays/test-items3a...</td>\n",
       "    </tr>\n",
       "    <tr>\n",
       "      <th>Tau phoshorylation</th>\n",
       "      <td>5.0</td>\n",
       "      <td>a</td>\n",
       "      <td>../../resources/cell-based-assays/test-items3a...</td>\n",
       "    </tr>\n",
       "    <tr>\n",
       "      <th>Trophic factor withdrawal (primary neurons)</th>\n",
       "      <td>8.0</td>\n",
       "      <td>a</td>\n",
       "      <td>../../resources/cell-based-assays/test-items3a...</td>\n",
       "    </tr>\n",
       "  </tbody>\n",
       "</table>\n",
       "</div>"
      ],
      "text/plain": [
       "                                             QPS experiment number exp_type  \\\n",
       "Experiment                                                                    \n",
       "Aβ clearance (BV2 cells)                                       3.0        b   \n",
       "Aβ release (H4 cells)                                          4.0        a   \n",
       "Aβ toxicity (primary neurons)                                  2.0        a   \n",
       "LPS neuroinflammation (BV2 cells)                              6.0        a   \n",
       "Neurite outgrowth (primary neurons)                            7.0        a   \n",
       "Tau phoshorylation                                             5.0        a   \n",
       "Trophic factor withdrawal (primary neurons)                    8.0        a   \n",
       "\n",
       "                                                                                         fpath  \n",
       "Experiment                                                                                      \n",
       "Aβ clearance (BV2 cells)                     ../../resources/cell-based-assays/test-items3b...  \n",
       "Aβ release (H4 cells)                        ../../resources/cell-based-assays/test-items3a...  \n",
       "Aβ toxicity (primary neurons)                ../../resources/cell-based-assays/test-items3a...  \n",
       "LPS neuroinflammation (BV2 cells)            ../../resources/cell-based-assays/test-items3a...  \n",
       "Neurite outgrowth (primary neurons)          ../../resources/cell-based-assays/test-items3a...  \n",
       "Tau phoshorylation                           ../../resources/cell-based-assays/test-items3a...  \n",
       "Trophic factor withdrawal (primary neurons)  ../../resources/cell-based-assays/test-items3a...  "
      ]
     },
     "execution_count": 3,
     "metadata": {},
     "output_type": "execute_result"
    }
   ],
   "source": [
    "fpath = '../../resources/cell-based-assays/data-format-specification.xlsx'\n",
    "qps_exp_num = pd.read_excel(fpath, sheet_name='Allowed values', usecols=['Experiment', 'QPS experiment number'], index_col='Experiment')\n",
    "qps_exp_num = qps_exp_num.dropna()\n",
    "s = pd.concat([pd.Series(v, index=list(k)) for k, v in TI_conc_fpaths.items()])\n",
    "qps_exp_num['exp_type'] = qps_exp_num['QPS experiment number'].apply(lambda x: s.loc[x])\n",
    "qps_exp_num['fpath'] = qps_exp_num.exp_type.apply(lambda x: '../../resources/cell-based-assays/test-items3' + x + '.csv')\n",
    "qps_exp_num"
   ]
  },
  {
   "cell_type": "code",
   "execution_count": 4,
   "id": "81be8ca6-d1a5-415d-9973-029beaaa1a22",
   "metadata": {},
   "outputs": [
    {
     "data": {
      "text/html": [
       "<div>\n",
       "<style scoped>\n",
       "    .dataframe tbody tr th:only-of-type {\n",
       "        vertical-align: middle;\n",
       "    }\n",
       "\n",
       "    .dataframe tbody tr th {\n",
       "        vertical-align: top;\n",
       "    }\n",
       "\n",
       "    .dataframe thead th {\n",
       "        text-align: right;\n",
       "    }\n",
       "</style>\n",
       "<table border=\"1\" class=\"dataframe\">\n",
       "  <thead>\n",
       "    <tr style=\"text-align: right;\">\n",
       "      <th></th>\n",
       "      <th>Study</th>\n",
       "      <th>Experiment</th>\n",
       "      <th>Assay</th>\n",
       "      <th>Batch</th>\n",
       "      <th>Plate</th>\n",
       "      <th>TI</th>\n",
       "      <th>Name</th>\n",
       "      <th>conc</th>\n",
       "      <th>concentration</th>\n",
       "      <th>conc_log10</th>\n",
       "      <th>Activity</th>\n",
       "    </tr>\n",
       "  </thead>\n",
       "  <tbody>\n",
       "    <tr>\n",
       "      <th>0</th>\n",
       "      <td>CO25360</td>\n",
       "      <td>Aβ release (H4 cells)</td>\n",
       "      <td>Aβ38</td>\n",
       "      <td>1</td>\n",
       "      <td>1</td>\n",
       "      <td>TI1</td>\n",
       "      <td>Valproic acid</td>\n",
       "      <td>c1</td>\n",
       "      <td>5.000000e-05</td>\n",
       "      <td>-4.30103</td>\n",
       "      <td>3431.0</td>\n",
       "    </tr>\n",
       "    <tr>\n",
       "      <th>1</th>\n",
       "      <td>CO25360</td>\n",
       "      <td>Aβ release (H4 cells)</td>\n",
       "      <td>Aβ38</td>\n",
       "      <td>1</td>\n",
       "      <td>1</td>\n",
       "      <td>TI1</td>\n",
       "      <td>Valproic acid</td>\n",
       "      <td>c1</td>\n",
       "      <td>5.000000e-05</td>\n",
       "      <td>-4.30103</td>\n",
       "      <td>3704.0</td>\n",
       "    </tr>\n",
       "    <tr>\n",
       "      <th>2</th>\n",
       "      <td>CO25360</td>\n",
       "      <td>Aβ release (H4 cells)</td>\n",
       "      <td>Aβ38</td>\n",
       "      <td>1</td>\n",
       "      <td>1</td>\n",
       "      <td>TI1</td>\n",
       "      <td>Valproic acid</td>\n",
       "      <td>c1</td>\n",
       "      <td>5.000000e-05</td>\n",
       "      <td>-4.30103</td>\n",
       "      <td>3536.0</td>\n",
       "    </tr>\n",
       "    <tr>\n",
       "      <th>3</th>\n",
       "      <td>CO25360</td>\n",
       "      <td>Aβ release (H4 cells)</td>\n",
       "      <td>Aβ38</td>\n",
       "      <td>1</td>\n",
       "      <td>1</td>\n",
       "      <td>TI1</td>\n",
       "      <td>Valproic acid</td>\n",
       "      <td>c1</td>\n",
       "      <td>5.000000e-05</td>\n",
       "      <td>-4.30103</td>\n",
       "      <td>3595.0</td>\n",
       "    </tr>\n",
       "    <tr>\n",
       "      <th>4</th>\n",
       "      <td>CO25360</td>\n",
       "      <td>Aβ release (H4 cells)</td>\n",
       "      <td>Aβ38</td>\n",
       "      <td>1</td>\n",
       "      <td>1</td>\n",
       "      <td>TI1</td>\n",
       "      <td>Valproic acid</td>\n",
       "      <td>c1</td>\n",
       "      <td>5.000000e-05</td>\n",
       "      <td>-4.30103</td>\n",
       "      <td>3863.0</td>\n",
       "    </tr>\n",
       "    <tr>\n",
       "      <th>...</th>\n",
       "      <td>...</td>\n",
       "      <td>...</td>\n",
       "      <td>...</td>\n",
       "      <td>...</td>\n",
       "      <td>...</td>\n",
       "      <td>...</td>\n",
       "      <td>...</td>\n",
       "      <td>...</td>\n",
       "      <td>...</td>\n",
       "      <td>...</td>\n",
       "      <td>...</td>\n",
       "    </tr>\n",
       "    <tr>\n",
       "      <th>2749</th>\n",
       "      <td>CO25360</td>\n",
       "      <td>Aβ clearance (BV2 cells)</td>\n",
       "      <td>Aβ42 SN</td>\n",
       "      <td>2</td>\n",
       "      <td>1</td>\n",
       "      <td>TI17</td>\n",
       "      <td>C188-9</td>\n",
       "      <td>c3</td>\n",
       "      <td>1.000000e-07</td>\n",
       "      <td>-7.00000</td>\n",
       "      <td>105.0</td>\n",
       "    </tr>\n",
       "    <tr>\n",
       "      <th>2750</th>\n",
       "      <td>CO25360</td>\n",
       "      <td>Aβ clearance (BV2 cells)</td>\n",
       "      <td>Aβ42 SN</td>\n",
       "      <td>2</td>\n",
       "      <td>1</td>\n",
       "      <td>TI17</td>\n",
       "      <td>C188-9</td>\n",
       "      <td>c3</td>\n",
       "      <td>1.000000e-07</td>\n",
       "      <td>-7.00000</td>\n",
       "      <td>117.0</td>\n",
       "    </tr>\n",
       "    <tr>\n",
       "      <th>2751</th>\n",
       "      <td>CO25360</td>\n",
       "      <td>Aβ clearance (BV2 cells)</td>\n",
       "      <td>Aβ42 SN</td>\n",
       "      <td>2</td>\n",
       "      <td>1</td>\n",
       "      <td>TI17</td>\n",
       "      <td>C188-9</td>\n",
       "      <td>c3</td>\n",
       "      <td>1.000000e-07</td>\n",
       "      <td>-7.00000</td>\n",
       "      <td>112.0</td>\n",
       "    </tr>\n",
       "    <tr>\n",
       "      <th>2752</th>\n",
       "      <td>CO25360</td>\n",
       "      <td>Aβ clearance (BV2 cells)</td>\n",
       "      <td>Aβ42 SN</td>\n",
       "      <td>2</td>\n",
       "      <td>1</td>\n",
       "      <td>TI17</td>\n",
       "      <td>C188-9</td>\n",
       "      <td>c3</td>\n",
       "      <td>1.000000e-07</td>\n",
       "      <td>-7.00000</td>\n",
       "      <td>88.0</td>\n",
       "    </tr>\n",
       "    <tr>\n",
       "      <th>2753</th>\n",
       "      <td>CO25360</td>\n",
       "      <td>Aβ clearance (BV2 cells)</td>\n",
       "      <td>Aβ42 SN</td>\n",
       "      <td>2</td>\n",
       "      <td>1</td>\n",
       "      <td>TI17</td>\n",
       "      <td>C188-9</td>\n",
       "      <td>c3</td>\n",
       "      <td>1.000000e-07</td>\n",
       "      <td>-7.00000</td>\n",
       "      <td>101.0</td>\n",
       "    </tr>\n",
       "  </tbody>\n",
       "</table>\n",
       "<p>2754 rows × 11 columns</p>\n",
       "</div>"
      ],
      "text/plain": [
       "        Study                Experiment    Assay  Batch  Plate    TI  \\\n",
       "0     CO25360     Aβ release (H4 cells)     Aβ38      1      1   TI1   \n",
       "1     CO25360     Aβ release (H4 cells)     Aβ38      1      1   TI1   \n",
       "2     CO25360     Aβ release (H4 cells)     Aβ38      1      1   TI1   \n",
       "3     CO25360     Aβ release (H4 cells)     Aβ38      1      1   TI1   \n",
       "4     CO25360     Aβ release (H4 cells)     Aβ38      1      1   TI1   \n",
       "...       ...                       ...      ...    ...    ...   ...   \n",
       "2749  CO25360  Aβ clearance (BV2 cells)  Aβ42 SN      2      1  TI17   \n",
       "2750  CO25360  Aβ clearance (BV2 cells)  Aβ42 SN      2      1  TI17   \n",
       "2751  CO25360  Aβ clearance (BV2 cells)  Aβ42 SN      2      1  TI17   \n",
       "2752  CO25360  Aβ clearance (BV2 cells)  Aβ42 SN      2      1  TI17   \n",
       "2753  CO25360  Aβ clearance (BV2 cells)  Aβ42 SN      2      1  TI17   \n",
       "\n",
       "               Name conc  concentration  conc_log10  Activity  \n",
       "0     Valproic acid   c1   5.000000e-05    -4.30103    3431.0  \n",
       "1     Valproic acid   c1   5.000000e-05    -4.30103    3704.0  \n",
       "2     Valproic acid   c1   5.000000e-05    -4.30103    3536.0  \n",
       "3     Valproic acid   c1   5.000000e-05    -4.30103    3595.0  \n",
       "4     Valproic acid   c1   5.000000e-05    -4.30103    3863.0  \n",
       "...             ...  ...            ...         ...       ...  \n",
       "2749         C188-9   c3   1.000000e-07    -7.00000     105.0  \n",
       "2750         C188-9   c3   1.000000e-07    -7.00000     117.0  \n",
       "2751         C188-9   c3   1.000000e-07    -7.00000     112.0  \n",
       "2752         C188-9   c3   1.000000e-07    -7.00000      88.0  \n",
       "2753         C188-9   c3   1.000000e-07    -7.00000     101.0  \n",
       "\n",
       "[2754 rows x 11 columns]"
      ]
     },
     "execution_count": 4,
     "metadata": {},
     "output_type": "execute_result"
    }
   ],
   "source": [
    "data_fpath = '../../resources/cell-based-assays/data-format-specification_NIA_AB-CO25360-cleaned.xlsx'\n",
    "data_a, data_b = [cba.get_data(data_fpath, sheet_name='Sheet1', TI_fpath='../../resources/cell-based-assays/test-items3' + et + '.csv') for et in ['a', 'b']]\n",
    "data = pd.concat([df.loc[df.Experiment.isin(qps_exp_num.loc[qps_exp_num.exp_type == et].index)] for et, df in zip(['a', 'b'], [data_a, data_b])], axis=0)\n",
    "data"
   ]
  },
  {
   "cell_type": "code",
   "execution_count": 5,
   "id": "c6f1a1c5-95dd-4c86-9e6a-d015ffbaf997",
   "metadata": {},
   "outputs": [
    {
     "name": "stdout",
     "output_type": "stream",
     "text": [
      "                                                 study  \\\n",
      "CO25360 Aβ clearance (BV2 cells) Aβ42 Ly TI1   CO25360   \n",
      "                                         TI10  CO25360   \n",
      "                                         TI11  CO25360   \n",
      "                                         TI12  CO25360   \n",
      "                                         TI13  CO25360   \n",
      "...                                                ...   \n",
      "        Aβ release (H4 cells)    Aβ42    TI5   CO25360   \n",
      "                                         TI6   CO25360   \n",
      "                                         TI7   CO25360   \n",
      "                                         TI8   CO25360   \n",
      "                                         TI9   CO25360   \n",
      "\n",
      "                                                                  exper  \\\n",
      "CO25360 Aβ clearance (BV2 cells) Aβ42 Ly TI1   Aβ clearance (BV2 cells)   \n",
      "                                         TI10  Aβ clearance (BV2 cells)   \n",
      "                                         TI11  Aβ clearance (BV2 cells)   \n",
      "                                         TI12  Aβ clearance (BV2 cells)   \n",
      "                                         TI13  Aβ clearance (BV2 cells)   \n",
      "...                                                                 ...   \n",
      "        Aβ release (H4 cells)    Aβ42    TI5      Aβ release (H4 cells)   \n",
      "                                         TI6      Aβ release (H4 cells)   \n",
      "                                         TI7      Aβ release (H4 cells)   \n",
      "                                         TI8      Aβ release (H4 cells)   \n",
      "                                         TI9      Aβ release (H4 cells)   \n",
      "\n",
      "                                                 assay    TI  \n",
      "CO25360 Aβ clearance (BV2 cells) Aβ42 Ly TI1   Aβ42 Ly   TI1  \n",
      "                                         TI10  Aβ42 Ly  TI10  \n",
      "                                         TI11  Aβ42 Ly  TI11  \n",
      "                                         TI12  Aβ42 Ly  TI12  \n",
      "                                         TI13  Aβ42 Ly  TI13  \n",
      "...                                                ...   ...  \n",
      "        Aβ release (H4 cells)    Aβ42    TI5      Aβ42   TI5  \n",
      "                                         TI6      Aβ42   TI6  \n",
      "                                         TI7      Aβ42   TI7  \n",
      "                                         TI8      Aβ42   TI8  \n",
      "                                         TI9      Aβ42   TI9  \n",
      "\n",
      "[135 rows x 4 columns]\n"
     ]
    }
   ],
   "source": [
    "check_data = True\n",
    "if check_data:\n",
    "    testdf = cba.fit_multiple_units(data, unit_list=None, do_fit=False, do_print=False)\n",
    "    print(testdf)"
   ]
  },
  {
   "cell_type": "code",
   "execution_count": 6,
   "id": "31d86dcd-33b7-461e-b844-31e8172b5687",
   "metadata": {},
   "outputs": [
    {
     "data": {
      "image/png": "[encoded data removed]",
      "text/plain": [
       "<Figure size 640x480 with 1 Axes>"
      ]
     },
     "metadata": {},
     "output_type": "display_data"
    }
   ],
   "source": [
    "def data_plotter(exper='Aβ clearance (BV2 cells)', assay='Aβ42 Ly', TI='TI1', data=data):\n",
    "    fig, ax = plt.subplots()\n",
    "    data_reshaped = cba.extract_regr_data('CO25360', exper, assay, TI, data, return_data_reshaped=True, accept_multi_batches=True)\n",
    "    ax = cba.plot_data(ax, data_reshaped)\n",
    "    return((fig, ax))\n",
    "\n",
    "fig, ax = data_plotter(exper='Aβ clearance (BV2 cells)', assay='Aβ42 Ly', TI='TI1')"
   ]
  },
  {
   "cell_type": "code",
   "execution_count": 7,
   "id": "f7abdfb4-76f0-4476-baa3-ced57a75e926",
   "metadata": {},
   "outputs": [
    {
     "data": {
      "image/png": "[encoded data removed]",
      "text/plain": [
       "<Figure size 640x480 with 1 Axes>"
      ]
     },
     "metadata": {},
     "output_type": "display_data"
    }
   ],
   "source": [
    "fig, ax = data_plotter(exper='Aβ clearance (BV2 cells)', assay='Aβ42 Ly', TI='TI27')"
   ]
  },
  {
   "cell_type": "code",
   "execution_count": 8,
   "id": "a7fc44f6-cddd-42f5-a1ea-ebbebc073151",
   "metadata": {},
   "outputs": [
    {
     "data": {
      "image/png": "[encoded data removed]",
      "text/plain": [
       "<Figure size 640x480 with 1 Axes>"
      ]
     },
     "metadata": {},
     "output_type": "display_data"
    }
   ],
   "source": [
    "fig, ax = data_plotter(exper='Aβ clearance (BV2 cells)', assay='Aβ42 SN', TI='TI27')"
   ]
  },
  {
   "cell_type": "code",
   "execution_count": 9,
   "id": "40e11439-ecd5-46b5-8aed-6f2d857e9a55",
   "metadata": {},
   "outputs": [
    {
     "data": {
      "image/png": "[encoded data removed]",
      "text/plain": [
       "<Figure size 640x480 with 1 Axes>"
      ]
     },
     "metadata": {},
     "output_type": "display_data"
    }
   ],
   "source": [
    "fig, ax = data_plotter(exper='Aβ release (H4 cells)', assay='Aβ38', TI='TI27')"
   ]
  },
  {
   "cell_type": "code",
   "execution_count": 10,
   "id": "c3224843-67bc-4227-8942-57dec01eafbe",
   "metadata": {},
   "outputs": [
    {
     "data": {
      "image/png": "[encoded data removed]",
      "text/plain": [
       "<Figure size 640x480 with 1 Axes>"
      ]
     },
     "metadata": {},
     "output_type": "display_data"
    }
   ],
   "source": [
    "fig, ax = data_plotter(exper='Aβ release (H4 cells)', assay='Aβ40', TI='TI27')"
   ]
  },
  {
   "cell_type": "code",
   "execution_count": 11,
   "id": "85f047f6-ce53-4f2f-982a-e64c84617339",
   "metadata": {},
   "outputs": [
    {
     "data": {
      "image/png": "[encoded data removed]",
      "text/plain": [
       "<Figure size 640x480 with 1 Axes>"
      ]
     },
     "metadata": {},
     "output_type": "display_data"
    }
   ],
   "source": [
    "fig, ax = data_plotter(exper='Aβ release (H4 cells)', assay='Aβ42', TI='TI27')"
   ]
  },
  {
   "cell_type": "code",
   "execution_count": 12,
   "id": "76bc7941-63d0-4b40-a2c5-8562891b97a9",
   "metadata": {},
   "outputs": [
    {
     "name": "stdout",
     "output_type": "stream",
     "text": [
      "{\n",
      "  \"shell_port\": 64242,\n",
      "  \"iopub_port\": 64243,\n",
      "  \"stdin_port\": 64244,\n",
      "  \"control_port\": 64246,\n",
      "  \"hb_port\": 64245,\n",
      "  \"ip\": \"127.0.0.1\",\n",
      "  \"key\": \"b0de5479-9ea4519635902cb9180fbd5e\",\n",
      "  \"transport\": \"tcp\",\n",
      "  \"signature_scheme\": \"hmac-sha256\",\n",
      "  \"kernel_name\": \"python3\",\n",
      "  \"jupyter_session\": \"/Users/jonesa7/CTNS/notebooks/2024-04-29-cell-bayes/Untitled.ipynb\"\n",
      "}\n",
      "\n",
      "Paste the above JSON into a file, and connect with:\n",
      "    $> jupyter <app> --existing <file>\n",
      "or, if you are local, you can connect with just:\n",
      "    $> jupyter <app> --existing kernel-3b497993-b65d-4a13-9202-f0d82236bafb.json\n",
      "or even just:\n",
      "    $> jupyter <app> --existing\n",
      "if this is the most recent Jupyter kernel you have started.\n"
     ]
    }
   ],
   "source": [
    "%connect_info"
   ]
  },
  {
   "cell_type": "code",
   "execution_count": null,
   "id": "8a0c7be0-fae8-4e4f-a449-194dcf0f39ae",
   "metadata": {},
   "outputs": [],
   "source": []
  }
 ],
 "metadata": {
  "kernelspec": {
   "display_name": "Python 3 (ipykernel)",
   "language": "python",
   "name": "python3"
  },
  "language_info": {
   "codemirror_mode": {
    "name": "ipython",
    "version": 3
   },
   "file_extension": ".py",
   "mimetype": "text/x-python",
   "name": "python",
   "nbconvert_exporter": "python",
   "pygments_lexer": "ipython3",
   "version": "3.11.0"
  }
 },
 "nbformat": 4,
 "nbformat_minor": 5
}
