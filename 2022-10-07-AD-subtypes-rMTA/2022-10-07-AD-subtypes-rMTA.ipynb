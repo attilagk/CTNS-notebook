{
 "cells": [
  {
   "cell_type": "code",
   "execution_count": 1,
   "id": "d795dfcd",
   "metadata": {},
   "outputs": [
    {
     "name": "stdout",
     "output_type": "stream",
     "text": [
      "The autoreload extension is already loaded. To reload it, use:\n",
      "  %reload_ext autoreload\n"
     ]
    }
   ],
   "source": [
    "%load_ext autoreload\n",
    "%autoreload 2\n",
    "%reload_ext autoreload\n",
    "import pandas as pd"
   ]
  },
  {
   "cell_type": "code",
   "execution_count": 2,
   "id": "8f22be16",
   "metadata": {},
   "outputs": [],
   "source": [
    "inpath = '../../resources/tunahan/AD-subtypes-rMTA/rMTA_gene_list.xlsx'\n",
    "def write_geneset(subtype='A'):\n",
    "    df = pd.read_excel(inpath, sheet_name=subtype, usecols=['symbol'])\n",
    "    outpath = '../../resources/tunahan/AD-subtypes-rMTA/rMTA-AD-subtype-' + subtype\n",
    "    df.to_csv(outpath, header=False, index=False)\n",
    "    return(df)\n",
    "\n",
    "subtypes = ['A', 'B', 'C1', 'C2']\n",
    "gsets = [write_geneset(subtype) for subtype in subtypes]"
   ]
  },
  {
   "cell_type": "code",
   "execution_count": 3,
   "id": "eba3763d",
   "metadata": {},
   "outputs": [
    {
     "name": "stdout",
     "output_type": "stream",
     "text": [
      "{\n",
      "  \"shell_port\": 51428,\n",
      "  \"iopub_port\": 51429,\n",
      "  \"stdin_port\": 51430,\n",
      "  \"control_port\": 51432,\n",
      "  \"hb_port\": 51431,\n",
      "  \"ip\": \"127.0.0.1\",\n",
      "  \"key\": \"ec10bd26-26f83613eb4e58ff20b67604\",\n",
      "  \"transport\": \"tcp\",\n",
      "  \"signature_scheme\": \"hmac-sha256\",\n",
      "  \"kernel_name\": \"\"\n",
      "}\n",
      "\n",
      "Paste the above JSON into a file, and connect with:\n",
      "    $> jupyter <app> --existing <file>\n",
      "or, if you are local, you can connect with just:\n",
      "    $> jupyter <app> --existing kernel-16ba0c7a-81c6-4109-bd26-34a29a926b4d.json\n",
      "or even just:\n",
      "    $> jupyter <app> --existing\n",
      "if this is the most recent Jupyter kernel you have started.\n"
     ]
    }
   ],
   "source": [
    "%connect_info"
   ]
  },
  {
   "cell_type": "code",
   "execution_count": null,
   "id": "05d37fb4",
   "metadata": {},
   "outputs": [],
   "source": []
  }
 ],
 "metadata": {
  "kernelspec": {
   "display_name": "Python 3",
   "language": "python",
   "name": "python3"
  },
  "language_info": {
   "codemirror_mode": {
    "name": "ipython",
    "version": 3
   },
   "file_extension": ".py",
   "mimetype": "text/x-python",
   "name": "python",
   "nbconvert_exporter": "python",
   "pygments_lexer": "ipython3",
   "version": "3.8.8"
  }
 },
 "nbformat": 4,
 "nbformat_minor": 5
}
