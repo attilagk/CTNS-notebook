{
 "cells": [
  {
   "cell_type": "code",
   "execution_count": 1,
   "id": "76f1fff2",
   "metadata": {},
   "outputs": [
    {
     "name": "stdout",
     "output_type": "stream",
     "text": [
      "The autoreload extension is already loaded. To reload it, use:\n",
      "  %reload_ext autoreload\n"
     ]
    }
   ],
   "source": [
    "%load_ext autoreload\n",
    "%autoreload 2\n",
    "%reload_ext autoreload\n",
    "import bibtexparser\n",
    "#import time\n",
    "#import datetime\n",
    "import zulu"
   ]
  },
  {
   "cell_type": "code",
   "execution_count": 2,
   "id": "e83c990f",
   "metadata": {},
   "outputs": [
    {
     "name": "stdout",
     "output_type": "stream",
     "text": [
      "[{'url': 'https://www.sciencedirect.com/science/article/pii/S0303264716300764', 'keywords': 'Flux balance analysis, Metabolic networks, Transcriptional regulatory networks, Data integration, Integrated regulatory-metabolic models', 'doi': 'https://doi.org/10.1016/j.biosystems.2016.06.001', 'abstract': 'A major goal of systems biology is to build predictive computational models of cellular metabolism. Availability of complete genome sequences and wealth of legacy biochemical information has led to the reconstruction of genome-scale metabolic networks in the last 15 years for several organisms across the three domains of life. Due to paucity of information on kinetic parameters associated with metabolic reactions, the constraint-based modelling approach, flux balance analysis (FBA), has proved to be a vital alternative to investigate the capabilities of reconstructed metabolic networks. In parallel, advent of high-throughput technologies has led to the generation of massive amounts of omics data on transcriptional regulation comprising mRNA transcript levels and genome-wide binding profile of transcriptional regulators. A frontier area in metabolic systems biology has been the development of methods to integrate the available transcriptional regulatory information into constraint-based models of reconstructed metabolic networks in order to increase the predictive capabilities of computational models and understand the regulation of cellular metabolism. Here, we review the existing methods to integrate transcriptional regulatory information into constraint-based models of metabolic networks.', 'volume': '147', 'pages': '1-10', 'issn': '0303-2647', 'year': '2016', 'title': 'Advances in the integration of transcriptional regulatory information into genome-scale metabolic models', 'journal': 'Biosystems', 'author': 'R.P. Vivek-Ananth and Areejit Samal', 'ENTRYTYPE': 'article', 'ID': 'VivekAnanth2016'}, {'url': 'https://doi.org/10.1152/physrev.00035.2018', 'eprint': 'https://doi.org/10.1152/physrev.00035.2018', 'doi': '10.1152/physrev.00035.2018', 'abstract': 'Metabolomics uses advanced analytical chemistry techniques to enable the high-throughput characterization of metabolites from cells, organs, tissues, or biofluids. The rapid growth in metabolomics is leading to a renewed interest in metabolism and the role that small molecule metabolites play in many biological processes. As a result, traditional views of metabolites as being simply the “bricks and mortar” of cells or just the fuel for cellular energetics are being upended. Indeed, metabolites appear to have much more varied and far more important roles as signaling molecules, immune modulators, endogenous toxins, and environmental sensors. This review explores how metabolomics is yielding important new insights into a number of important biological and physiological processes. In particular, a major focus is on illustrating how metabolomics and discoveries made through metabolomics are improving our understanding of both normal physiology and the pathophysiology of many diseases. These discoveries are yielding new insights into how metabolites influence organ function, immune function, nutrient sensing, and gut physiology. Collectively, this work is leading to a much more unified and system-wide perspective of biology wherein metabolites, proteins, and genes are understood to interact synergistically to modify the actions and functions of organelles, organs, and organisms.', 'volume': '99', 'pages': '1819-1875', 'number': '4', 'note': 'PMID: 31434538', 'year': '2019', 'title': 'Metabolomics for Investigating Physiological and Pathophysiological Processes', 'journal': 'Physiological Reviews', 'author': 'Wishart, David S.', 'ENTRYTYPE': 'article', 'ID': 'Wishart2019'}, {'url': 'https://www.sciencedirect.com/science/article/pii/S0197245698000385', 'keywords': 'Aging, Alzheimer’s, cognitive impairment, dementia, estrogen', 'doi': 'https://doi.org/10.1016/S0197-2456(98)00038-5', 'abstract': 'Evidence from animal, human cross-sectional, case-control, and prospective studies indicate that hormone replacement therapy (HRT) is a promising treatment to delay the onset of symptoms of dementia. The Women’s Health Initiative Memory Study (WHIMS) is the first double-masked, randomized, placebo-controlled, long-term clinical trial designed to test the hypothesis that HRT reduces the incidence of all-cause dementia in women aged 65 and older. WHIMS, an ancillary study to the Women’s Health Initiative (WHI) funded by the National Institutes of Health, will recruit a subgroup of women aged 65 and older from among those enrolling in the HRT trial of the WHI. The WHI clinical centers and 10 affiliated satellites plan to enroll approximately 8300 women into WHIMS over a 2-year period. Participants will be followed annually for 6 years, receiving cognitive assessments via the Modified Mini-Mental State (3MS) Examination. Women who screen positively for cognitive impairment on the basis of an educational and age-adjusted 3MS cutpoint proceed to more extensive neuropsychological testing and neurologic evaluation. Each woman suspected to have dementia then undergoes a series of laboratory tests that confirm the clinical diagnosis and classify the type of dementia. WHIMS is designed to provide more than 80% statistical power to detect a 40% reduction in the rate of all-cause dementia, an effect that could have profound public health implications for older women’s health and functioning. Controlled Clinical Trials 1998;19:604–621', 'volume': '19', 'pages': '604-621', 'number': '6', 'issn': '0197-2456', 'year': '1998', 'title': 'The Women’s Health Initiative Memory Study (WHIMS): A Trial of the Effect of Estrogen Therapy in Preventing and Slowing the Progression of Dementia', 'journal': 'Controlled Clinical Trials', 'author': 'Sally A. Shumaker and Beth A. Reboussin and Mark A. Espeland and Stephen R. Rapp and Wendy L. McBee and Maggie Dailey and Deborah Bowen and Tim Terrell and Beverly N. Jones', 'ENTRYTYPE': 'article', 'ID': 'Shumaker1998'}, {'url': 'https://www.sciencedirect.com/science/article/pii/S1367593121000818', 'modificationdate': '2023-01-25T14:52:45', 'keywords': 'Machine learning, Drug repurposing, Drug discovery', 'doi': 'https://doi.org/10.1016/j.cbpa.2021.06.001', 'creationdate': '2023-01-25T14:52:45', 'abstract': 'Drug repurposing aims to find new uses for already existing and approved drugs. We now provide a brief overview of recent developments in drug repurposing using machine learning alongside other computational approaches for comparison. We also highlight several applications for cancer using kinase inhibitors, Alzheimer’s disease as well as COVID-19.', 'volume': '65', 'pages': '74-84', 'note': 'Mechanistic Biology * Machine Learning in Chemical Biology', 'issn': '1367-5931', 'year': '2021', 'title': 'Recent advances in drug repurposing using machine learning', 'journal': 'Current Opinion in Chemical Biology', 'author': 'Fabio Urbina and Ana C. Puhl and Sean Ekins', 'ENTRYTYPE': 'article', 'ID': 'Urbina2021'}, {'url': 'https://doi.org/10.1038/s41587-022-01628-0', 'refid': 'Heinken2023', 'modificationdate': '2023-01-26T16:19:35', 'doi': '10.1038/s41587-022-01628-0', 'creationdate': '2023-01-26T16:19:35', 'abstract': 'The human microbiome influences the efficacy and safety of a wide variety of commonly prescribed drugs. Designing precision medicine approaches that incorporate microbial metabolism would require strain- and molecule-resolved, scalable computational modeling. Here, we extend our previous resource of genome-scale metabolic reconstructions of human gut microorganisms with a greatly expanded version. AGORA2 (assembly of gut organisms through reconstruction and analysis, version 2) accounts for 7,302 strains, includes strain-resolved drug degradation and biotransformation capabilities for 98 drugs, and was extensively curated based on comparative genomics and literature searches. The microbial reconstructions performed very well against three independently assembled experimental datasets with an accuracy of 0.72 to 0.84, surpassing other reconstruction resources and predicted known microbial drug transformations with an accuracy of 0.81. We demonstrate that AGORA2 enables personalized, strain-resolved modeling by predicting the drug conversion potential of the gut microbiomes from 616 patients with colorectal cancer and controls, which greatly varied between individuals and correlated with age, sex, body mass index and disease stages. AGORA2 serves as a knowledge base for the human microbiome and paves the way to personalized, predictive analysis of host-microbiome metabolic interactions.', 'issn': '1546-1696', 'year': '2023', 'title': 'Genome-scale metabolic reconstruction of 7,302 human microorganisms for personalized medicine', 'journal': 'Nature Biotechnology', 'author': 'Heinken, Almut and Hertel, Johannes and Acharya, Geeta and Ravcheev, Dmitry A. and Nyga, Malgorzata and Okpala, Onyedika Emmanuel and Hogan, Marcus and Magnúsdóttir, Stefanía and Martinelli, Filippo and Nap, Bram and Preciat, German and Edirisinghe, Janaka N. and Henry, Christopher S. and Fleming, Ronan M. T. and Thiele, Ines', 'ENTRYTYPE': 'article', 'ID': 'Heinken2023'}, {'title-abbreviation': 'Hepatology', 'subset': 'IM', 'status': 'MEDLINE', 'source': 'Hepatology. 1988 Mar-Apr;8(2):358-65. doi: 10.1002/hep.1840080228.', 'revised': '20190828', 'registry-number': 'G1JO7801AE (Cholic Acid)', 'publication-status': 'ppublish', 'owner': 'NLM', 'nlm-unique-id': '8302946', 'modificationdate': '2023-01-28T22:12:32', 'language': 'eng', 'keywords': 'Animals, Bile Acids and Salts/*biosynthesis, Biliary Fistula/enzymology/*metabolism, Chenodeoxycholic Acid/biosynthesis/metabolism, Cholesterol/metabolism, Cholesterol 7-alpha-Hydroxylase/metabolism, Cholic Acid, Cholic Acids/*pharmacology, Chronic Disease, Deoxycholic Acid/*analogs & derivatives, Hydroxymethylglutaryl CoA Reductases/metabolism, Liver/enzymology, Male, Phospholipids/metabolism, Rats, Rats, Inbred Strains, Taurine/metabolism, Ursodeoxycholic Acid/analogs & derivatives/*pharmacology', 'issue': '2', 'history': '1988/03/01 00:00 [entrez]', 'grantno': 'P01 DK38030/DK/NIDDK NIH HHS/United States', 'creationdate': '2023-01-28T22:12:32', 'completed': '19880523', 'article-pii': 'S0270913988000552', 'article-doi': '10.1002/hep.1840080228', 'address': 'United States', 'abstract': 'Bile acid synthesis is thought to be regulated by a negative feedback mechanism which is presumably dependent upon the flux of bile acids in the enterohepatic circulation. To characterize further the role of bile acids in regulation of bile acid synthesis, we have administered pure taurine or glycine conjugates of ursodeoxycholic acid or cholic acid to chronic bile fistula rats by continuous intraduodenal infusion, thus simulating restoration of the enterohepatic circulation. The effects of these bile salt infusions on bile acid synthesis, biliary cholesterol and phospholipid secretion and on the activities of the hepatic microsomal enzymes cholesterol 7 alpha-hydroxylase and HMG-CoA reductase were evaluated. Because the rate of biliary bile salt secretion in rats with intact exteriorized enterohepatic circulation averaged 27.1 +/- 1.4 mumoles per 100 gm rat per hr, infusion rates for bile fistula studies were chosen to match (24 to 36 mumoles per 100 gm rat per hr) or exceed (48 mumoles per 100 gm rat per hr) this physiological flux. Infusion of tauroursodeoxycholic acid for 48 hr at 24 and 48 mumoles per 100 gm rat per hr failed to suppress cholic acid synthesis. Bile flow and biliary cholesterol and phospholipid secretion exhibited small, dose-dependent increases with tauroursodeoxycholic acid infusions. No suppression of cholesterol 7 alpha-hydroxylase or HMG-CoA reductase activity was observed. By contrast, taurocholic acid inhibited synthesis of chenodeoxycholate and its metabolites alpha- and beta-muricholate by 10% (NS), 66% (p less than 0.05) and 75% (p less than 0.05) at infusion rates of 24, 36 and 48 mumoles per 100 gm rat per hr, respectively.(ABSTRACT TRUNCATED AT 250 WORDS)', 'print-issn': '0270-9139', 'linking-issn': '0270-9139', 'volume': '8', 'pages': '358-65', 'month': 'Mar-Apr', 'year': '1988', 'title': 'Regulation of bile acid synthesis. I. Effects of conjugated ursodeoxycholate and cholate on bile acid synthesis in chronic bile fistula rat.', 'journal': 'Hepatology (Baltimore, Md.)', 'author': 'Heuman, D. M. and Hernandez, C. R. and Hylemon, P. B. and Kubaska, W. M. and Hartman, C. and Vlahcevic, Z. R.', 'ENTRYTYPE': 'article', 'ID': 'Heuman1988'}, {'url': 'https://doi.org/10.1093/toxsci/kfn268', 'modificationdate': '2023-01-29T17:22:33', 'eprint': 'https://academic.oup.com/toxsci/article-pdf/108/2/225/10988608/kfn268.pdf', 'doi': '10.1093/toxsci/kfn268', 'creationdate': '2023-01-29T17:22:33', 'abstract': '{Sulfotransferase-2A1 catalyzes the formation of bile acid-sulfates (BA-sulfates). Sulfation of BAs increases their solubility, decreases their intestinal absorption, and enhances their fecal and urinary excretion. BA-sulfates are also less toxic than their unsulfated counterparts. Therefore, sulfation is an important detoxification pathway of BAs. Major species differences in BA sulfation exist. In humans, only a small proportion of BAs in bile and serum are sulfated, whereas more than 70\\\\\\\\% of BAs in urine are sulfated, indicating their efficient elimination in urine. The formation of BA-sulfates increases during cholestatic diseases. Therefore, sulfation may play an important role in maintaining BA homeostasis under pathologic conditions. Farnesoid X receptor, pregnane X receptor, constitutive androstane receptor, and vitamin D receptor are potential nuclear receptors that may be involved in the regulation of BA sulfation. This review highlights current knowledge about the enzymes and transporters involved in the formation and elimination of BA-sulfates, the effect of sulfation on the pharmacologic and toxicologic properties of BAs, the role of BA sulfation in cholestatic diseases, and the regulation of BA sulfation.}', 'volume': '108', 'pages': '225-246', 'number': '2', 'month': '01', 'issn': '1096-6080', 'year': '2009', 'title': '{Bile Acid Sulfation: A Pathway of Bile Acid Elimination and Detoxification}', 'journal': 'Toxicological Sciences', 'author': 'Alnouti, Yazen', 'ENTRYTYPE': 'article', 'ID': 'Alnouti2009'}, {'url': 'https://www.sciencedirect.com/science/article/pii/S0022227520320526', 'modificationdate': '2023-01-29T17:23:14', 'keywords': 'brain cholesterol, apolipoprotein E, cell membrane, isotope dilution–mass spectrometry, hippocampus, senile plaques, depression, blood–brain barrier', 'doi': 'https://doi.org/10.1016/S0022-2275(20)32052-6', 'creationdate': '2023-01-29T17:23:14', 'abstract': \"Alzheimer's disease (AD) is characterized by the presence of senile plaques, neurofibrillary tangles, and neuronal cell loss associated with membrane cholesterol release. 24S-hydroxycholesterol (24S-OH-Chol) is an enzymatically oxidized product of cholesterol mainly synthesized in the brain. We tested the hypothesis that plasma levels of this oxysterol could be used as a putative biochemical marker for an altered cholesterol homeostasis in the brain of AD patients. Thirty patients with clinical criteria for AD, 30 healthy volunteers, 18 depressed patients, and 12 patients with vascular dementia (non-Alzheimer demented) were studied. Plasma concentrations of 24S-OH-Chol were assayed by isotope dilution–mass spectrometry, cholesterol was measured enzymatically, and apolipoprotein E (apoE) was genotyped by polymerase chain reaction and restricted fragment length polymorphism. The concentration of 24S-OH-Chol in AD and non-Alzheimer demented patients was modestly but significantly higher than in healthy controls and in depressed patients. There was no significant difference in the concentrations of 24S-OH-Chol between depressed patients and healthy controls nor between AD and non-Alzheimer demented patients. The apoE ϵ4 allele influences plasma 24S-OH-Chol. However, this influence could be completely accounted for by the elevated plasma cholesterol in apoE4 hetero- or homozygotes. Plasma 24S-OH-Chol levels correlated negatively with the severity of dementia. AD and vascular demented patients appear to have higher circulating levels of 24S-OH-Chol than depressed patients and healthy controls. We speculate that 24S-OH-Chol plasma levels may potentially be used as an early biochemical marker for an altered cholesterol homeostasis in the central nervous system. —Lütjohann, D., A. Papassotiropoulos, I. Björkhem, S. Locatelli, M. Bagli, R. D. Oehring, U. Schlegel, F. Jessen, M. L. Rao, K. von Bergmann, and R. Heun. Plasma 24S-hydroxycholesterol (cerebrosterol) is increased in Alzheimer and vascular demented patients.\", 'volume': '41', 'pages': '195-198', 'number': '2', 'issn': '0022-2275', 'year': '2000', 'title': 'Plasma 24S-hydroxycholesterol (cerebrosterol) is increased in Alzheimer and vascular demented patients', 'journal': 'Journal of Lipid Research', 'author': 'Dieter Lütjohann and Andreas Papassotiropoulos and Ingemar Björkhem and Sandra Locatelli and Metin Bagli and Randi D. Oehring and Uwe Schlegel and Frank Jessen and Marie Luise Rao and Klaus {von Bergmann} and Reinhard Heun', 'ENTRYTYPE': 'article', 'ID': 'Luetjohann2000'}, {'url': 'https://doi.org/10.1093/bioinformatics/btab017', 'modificationdate': '2023-01-31T15:39:45', 'eprint': 'https://academic.oup.com/bioinformatics/article-pdf/37/13/1785/39353017/btab017.pdf', 'doi': '10.1093/bioinformatics/btab017', 'creationdate': '2023-01-31T15:39:45', 'abstract': '{The significant decline in the cost of genome sequencing has dramatically changed the typical bioinformatics pipeline for analysing sequencing data. Where traditionally, the computational challenge of sequencing is now secondary to genomic data analysis. Short read alignment (SRA) is a ubiquitous process within every modern bioinformatics pipeline in the field of genomics and is often regarded as the principal computational bottleneck. Many hardware and software approaches have been provided to solve the challenge of acceleration. However, previous attempts to increase throughput using many-core processing strategies have enjoyed limited success, mainly due to a dependence on global memory for each computational block. The limited scalability and high energy costs of many-core SRA implementations pose a significant constraint in maintaining acceleration. The Networks-On-Chip (NoC) hardware interconnect mechanism has advanced the scalability of many-core computing systems and, more recently, has demonstrated potential in SRA implementations by integrating multiple computational blocks such as pre-alignment filtering and sequence alignment efficiently, while minimizing memory latency and global memory access. This article provides a state of the art review on current hardware acceleration strategies for genomic data analysis, and it establishes the challenges and opportunities of utilizing NoCs as a critical building block in next-generation sequencing (NGS) technologies for advancing the speed of analysis.}', 'volume': '37', 'pages': '1785-1795', 'number': '13', 'month': '05', 'issn': '1367-4803', 'year': '2021', 'title': '{Hardware acceleration of genomics data analysis: challenges and opportunities}', 'journal': 'Bioinformatics', 'author': 'Robinson, Tony and Harkin, Jim and Shukla, Priyank', 'ENTRYTYPE': 'article', 'ID': 'Robinson2021'}, {'url': 'https://doi.org/10.1038/nrg.2017.113', 'refid': 'Langmead2018', 'modificationdate': '2023-01-31T15:58:21', 'doi': '10.1038/nrg.2017.113', 'creationdate': '2023-01-31T15:58:20', 'abstract': \"Cloud computing is a paradigm whereby computational resources such as computers, storage and bandwidth can be rented on a pay-for-what-you-use basis.The cloud's chief advantages are elasticity and convenience. Elasticity refers to the ability to rent and pay for the exact resources needed, and convenience refers to the fact that the user need not deal with the disadvantages of owning or maintaining the resources.Archives of sequencing data are vast and rapidly growing. Cloud computing is an important enabler for recent efforts to reanalyse large cross-sections of archived sequencing data.The cloud is becoming a popular venue for hosting large international collaborations, which benefit from the ability to hold data securely in a single location and proximate to the computational infrastructure that will be used to analyse it.Funders of genomics research are increasingly aware of the cloud and its advantages and are beginning to allocate funds and create cloud-based resources accordingly.Cloud clusters can be configured with security measures needed to adhere to privacy standards, such as those from the Database of Genotypes and Phenotypes (dbGaP).\", 'volume': '19', 'pages': '208--219', 'number': '4', 'issn': '1471-0064', 'year': '2018', 'title': 'Cloud computing for genomic data analysis and collaboration', 'journal': 'Nature Reviews Genetics', 'author': 'Langmead, Ben and Nellore, Abhinav', 'ENTRYTYPE': 'article', 'ID': 'Langmead2018'}]\n"
     ]
    }
   ],
   "source": [
    "def get_BibDatabase(fpath_bib):\n",
    "    with open(fpath_bib) as inbibf:\n",
    "        inbib = bibtexparser.load(inbibf)\n",
    "    return(inbib)\n",
    "\n",
    "testmode = True\n",
    "testmode_thrs = 12\n",
    "fpath_bib = '../../results/2023-02-01-bibliography/in.bib' if testmode else '/Users/jonesa7/bibliography/library-copy.bib'\n",
    "inbib = get_BibDatabase(fpath_bib)\n",
    "if len(inbib.entries) < testmode_thrs: # for small test bibliographies\n",
    "    print(inbib.entries)"
   ]
  },
  {
   "cell_type": "code",
   "execution_count": 3,
   "id": "fbe7c403",
   "metadata": {},
   "outputs": [
    {
     "data": {
      "text/plain": [
       "'2023-01-25T14:52:45'"
      ]
     },
     "execution_count": 3,
     "metadata": {},
     "output_type": "execute_result"
    }
   ],
   "source": [
    "dated_entries = inbib.entries[-7:]\n",
    "dateless_entries = inbib.entries[:-7]\n",
    "firstdatestr = dated_entries[0]['modificationdate']\n",
    "firstdatestr"
   ]
  },
  {
   "cell_type": "code",
   "execution_count": 4,
   "id": "3726fa88",
   "metadata": {},
   "outputs": [],
   "source": [
    "fistdate = zulu.parse(firstdatestr)\n",
    "\n",
    "def add_field2entry(entry, days2subtract, fistdate=fistdate, field='modificationdate'):\n",
    "    datestr = fistdate.subtract(days=days2subtract).format()\n",
    "    entry[field] = datestr\n",
    "    return(entry)\n",
    "\n",
    "def update_entry(entry, days2subtract, fistdate=fistdate):\n",
    "    entry = add_field2entry(entry, days2subtract, fistdate=fistdate, field='creationdate')\n",
    "    entry = add_field2entry(entry, days2subtract, fistdate=fistdate, field='modificationdate')\n",
    "    return(entry)"
   ]
  },
  {
   "cell_type": "code",
   "execution_count": 5,
   "id": "c2764cf2",
   "metadata": {},
   "outputs": [
    {
     "name": "stdout",
     "output_type": "stream",
     "text": [
      "['2023-01-21T14:52:45+00:00', '2023-01-22T14:52:45+00:00', '2023-01-23T14:52:45+00:00']\n"
     ]
    }
   ],
   "source": [
    "days2subtractl = list(range(len(dateless_entries) + 1, 0, -1))\n",
    "updated_entries = [update_entry(e, d) for e, d in zip(dateless_entries.copy(), days2subtractl)]\n",
    "if len(updated_entries) < testmode_thrs:\n",
    "    print([e['creationdate'] for e in updated_entries])"
   ]
  },
  {
   "cell_type": "code",
   "execution_count": 6,
   "id": "86327e7e",
   "metadata": {},
   "outputs": [],
   "source": [
    "db = bibtexparser.bibdatabase.BibDatabase()\n",
    "db.entries = updated_entries + dated_entries\n",
    "writer = bibtexparser.bwriter.BibTexWriter()\n",
    "fpath_outbib = '../../results/2023-02-01-bibliography/out.bib' if testmode else '../../results/2023-02-01-bibliography/library.bib'\n",
    "with open(fpath_outbib, 'w') as bibfile:\n",
    "    bibfile.write(writer.write(db))"
   ]
  },
  {
   "cell_type": "code",
   "execution_count": 7,
   "id": "89c061a0",
   "metadata": {},
   "outputs": [
    {
     "name": "stdout",
     "output_type": "stream",
     "text": [
      "{\n",
      "  \"shell_port\": 65355,\n",
      "  \"iopub_port\": 65356,\n",
      "  \"stdin_port\": 65357,\n",
      "  \"control_port\": 65359,\n",
      "  \"hb_port\": 65358,\n",
      "  \"ip\": \"127.0.0.1\",\n",
      "  \"key\": \"53e6c58b-163fc04806227db2a5cccf4b\",\n",
      "  \"transport\": \"tcp\",\n",
      "  \"signature_scheme\": \"hmac-sha256\",\n",
      "  \"kernel_name\": \"\"\n",
      "}\n",
      "\n",
      "Paste the above JSON into a file, and connect with:\n",
      "    $> jupyter <app> --existing <file>\n",
      "or, if you are local, you can connect with just:\n",
      "    $> jupyter <app> --existing kernel-6f017b5e-98a2-4dbb-82d6-9d82d2ca2224.json\n",
      "or even just:\n",
      "    $> jupyter <app> --existing\n",
      "if this is the most recent Jupyter kernel you have started.\n"
     ]
    }
   ],
   "source": [
    "%connect_info"
   ]
  },
  {
   "cell_type": "code",
   "execution_count": null,
   "id": "5b8cf60e",
   "metadata": {},
   "outputs": [],
   "source": []
  }
 ],
 "metadata": {
  "kernelspec": {
   "display_name": "Python 3 (ipykernel)",
   "language": "python",
   "name": "python3"
  },
  "language_info": {
   "codemirror_mode": {
    "name": "ipython",
    "version": 3
   },
   "file_extension": ".py",
   "mimetype": "text/x-python",
   "name": "python",
   "nbconvert_exporter": "python",
   "pygments_lexer": "ipython3",
   "version": "3.9.13"
  }
 },
 "nbformat": 4,
 "nbformat_minor": 5
}
