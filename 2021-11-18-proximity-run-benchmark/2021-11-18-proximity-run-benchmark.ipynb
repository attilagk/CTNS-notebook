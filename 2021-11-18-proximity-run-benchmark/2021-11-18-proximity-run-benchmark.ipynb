{
 "cells": [
  {
   "cell_type": "code",
   "execution_count": 1,
   "id": "4e5b75bf",
   "metadata": {},
   "outputs": [
    {
     "name": "stdout",
     "output_type": "stream",
     "text": [
      "The autoreload extension is already loaded. To reload it, use:\n",
      "  %reload_ext autoreload\n",
      "GenRev not found, steiner wont work\n",
      "Import error: Negex. Using keyword matching instead\n",
      "Import error: Funcassociate. Make sure that funcassociate is in toolbox!\n"
     ]
    }
   ],
   "source": [
    "%load_ext autoreload\n",
    "%autoreload 2\n",
    "%reload_ext autoreload\n",
    "import pandas as pd\n",
    "import numpy as np\n",
    "import matplotlib.pyplot as plt\n",
    "from scipy import stats\n",
    "import proximity\n",
    "import attila_utils\n",
    "from toolbox import wrappers\n",
    "import functools\n",
    "import time\n",
    "import datetime\n",
    "import os.path\n",
    "import repos_tools"
   ]
  },
  {
   "cell_type": "code",
   "execution_count": 2,
   "id": "3127509a",
   "metadata": {},
   "outputs": [],
   "source": [
    "dtn_path = '../../results/2021-10-24-chembl-query/chembl-avg_p_activities-phase_3_4-avg_p_act_5plus.csv'\n",
    "index_col = ('drug_chembl_id', 'target_uniprot_ac')\n",
    "drug_target_network = pd.read_csv(dtn_path, index_col=index_col, dtype={'entrez_id': 'str'})\n",
    "drug_target_network = proximity.preprocess_chembl_dtn(drug_target_network)\n",
    "gb = drug_target_network.groupby(axis=0, level=0)\n",
    "\n",
    "def multi_union(row):\n",
    "    # takes union of sets of entrez_ids across multiple rows\n",
    "    res = functools.reduce(lambda a, b: a.union(b), row.entrez_id)\n",
    "    return(res)\n",
    "\n",
    "dtnl = gb.apply(lambda row: (row.index.get_level_values(0)[0], multi_union(row))).to_list()"
   ]
  },
  {
   "cell_type": "code",
   "execution_count": 3,
   "id": "c21c2961",
   "metadata": {},
   "outputs": [],
   "source": [
    "dtnl_nT = [len(g) for d, g in dtnl]\n",
    "dtn_sample = [dtnl[dtnl_nT.index(np.round(np.sqrt(x)))] for x in [1, 10, 100, 1000, 10000]]"
   ]
  },
  {
   "cell_type": "code",
   "execution_count": 4,
   "id": "59ba860d",
   "metadata": {},
   "outputs": [],
   "source": [
    "network_fpath = '../../resources/PPI/Cheng2019/network.sif'\n",
    "network = wrappers.get_network(network_fpath, only_lcc = True)"
   ]
  },
  {
   "cell_type": "markdown",
   "id": "1c989a4b",
   "metadata": {},
   "source": [
    "Creating subsets of the 584 agora AD gene set:"
   ]
  },
  {
   "cell_type": "code",
   "execution_count": 5,
   "id": "902f50cf",
   "metadata": {},
   "outputs": [
    {
     "data": {
      "text/plain": [
       "[584, 184, 58, 18]"
      ]
     },
     "execution_count": 5,
     "metadata": {},
     "output_type": "execute_result"
    }
   ],
   "source": [
    "agora_ngenes = [np.int64(584 / np.sqrt(x)) for x in [1, 10, 100, 1000]]\n",
    "agora_ngenes"
   ]
  },
  {
   "cell_type": "code",
   "execution_count": 6,
   "id": "33604324",
   "metadata": {},
   "outputs": [
    {
     "name": "stdout",
     "output_type": "stream",
     "text": [
      "      18 AD-genes-agora-18\n",
      "     184 AD-genes-agora-184\n",
      "      66 AD-genes-agora-2plus-nominations\n",
      "      58 AD-genes-agora-58\n",
      "     584 AD-genes-agora-584\n",
      "     910 total\n"
     ]
    }
   ],
   "source": [
    "%%bash\n",
    "cd ../../resources/agora\n",
    "cut -f1 -d',' genes-list.csv | sed -n '2,$ p' | sort > AD-genes-agora\n",
    "for n in 584 184 58 18; do\n",
    "    head -n $n AD-genes-agora > AD-genes-agora-$n\n",
    "done\n",
    "\n",
    "wc -l AD-genes-agora-*"
   ]
  },
  {
   "cell_type": "code",
   "execution_count": 7,
   "id": "8ef184ed",
   "metadata": {},
   "outputs": [
    {
     "name": "stdout",
     "output_type": "stream",
     "text": [
      "{'MT-ND2', 'MT-ND1'}\n",
      "{'SEPT5', 'IARS', 'AL049840.1', 'YARS', 'SEPT10', 'SEPT11'}\n",
      "{'AL049840.1'}\n",
      "{'AL049840.1'}\n",
      "{'AL049840.1'}\n"
     ]
    }
   ],
   "source": [
    "gsetfpath = '../../results/2021-07-01-high-conf-ADgenes/AD-genes-knowledge'\n",
    "id_mapping_file = '../../resources/PPI/geneid_to_symbol.txt'\n",
    "def read_geneset(gsetfpath, id_mapping_file=id_mapping_file, network=network):\n",
    "    gset = wrappers.convert_to_geneid(file_name=gsetfpath, id_type='symbol', id_mapping_file=id_mapping_file)\n",
    "    gset, gset_dropped = repos_tools.drop_genes_notin_network(gset, network)\n",
    "    return(gset)\n",
    "\n",
    "dis_genes = read_geneset(gsetfpath)\n",
    "dis_gene_sets = {n: read_geneset('../../resources/agora/AD-genes-agora-' + str(n)) for n in agora_ngenes}"
   ]
  },
  {
   "cell_type": "code",
   "execution_count": 8,
   "id": "ce877c54",
   "metadata": {},
   "outputs": [],
   "source": [
    "def time_process_drug(item, network, dis_genes):\n",
    "    start = time.time()\n",
    "    proximity.process_drug(item, network, dis_genes)\n",
    "    runtime = time.time() - start\n",
    "    return(runtime)\n",
    "\n",
    "scaling_fpath = '../../results/2021-11-18-proximity-run-benchmark/scaling.csv'\n",
    "if os.path.exists(scaling_fpath):\n",
    "    scaling = pd.read_csv(scaling_fpath, index_col=0)\n",
    "else:\n",
    "    d = {n: [time_process_drug(item, network, genes) for item in dtn_sample] for n, genes in dis_gene_sets.items()}\n",
    "    scaling = pd.DataFrame(d, index=[len(b) for a, b in dtn_sample])\n",
    "    scaling.to_csv(scaling_fpath)"
   ]
  },
  {
   "cell_type": "markdown",
   "id": "ced9fcdb",
   "metadata": {},
   "source": [
    "## Runtime scales linearly with the size of the input gene set\n",
    "\n",
    "The following plot shows that runtime $t$ grows by a factor of $10$ when the size $n$ of the input gene set grows $10\\times$.\n",
    "\\begin{equation}\n",
    "\\log t \\approx 1 \\times \\log n + a\n",
    "\\end{equation}\n",
    "Therefore\n",
    "\\begin{equation}\n",
    "t \\approx a n,\n",
    "\\end{equation}\n",
    "which means that runtime $t$ scales linearly with the size $n$ of the input gene set."
   ]
  },
  {
   "cell_type": "code",
   "execution_count": 9,
   "id": "09824633",
   "metadata": {},
   "outputs": [
    {
     "data": {
      "text/plain": [
       "['named-figure/runtime-n_disease_genes.png',\n",
       " 'named-figure/runtime-n_disease_genes.pdf']"
      ]
     },
     "execution_count": 9,
     "metadata": {},
     "output_type": "execute_result"
    },
    {
     "data": {
      "image/png": "[encoded data removed]",
      "text/plain": [
       "<Figure size 432x288 with 1 Axes>"
      ]
     },
     "metadata": {
      "needs_background": "light"
     },
     "output_type": "display_data"
    }
   ],
   "source": [
    "fig, ax = plt.subplots()\n",
    "ngen = scaling.columns.to_list()\n",
    "ngen.reverse()\n",
    "\n",
    "for ntarg in scaling.index:\n",
    "    label = '{} target'.format(ntarg) if ntarg == 1 else '{} targets'.format(ntarg)\n",
    "    runt = scaling.loc[ntarg].to_list()\n",
    "    runt.reverse()\n",
    "    ax.plot(ngen, runt, label=label, linestyle='dotted', marker='o')\n",
    "ax.set_yscale('log')\n",
    "ax.set_xlabel(r'$n$ disease genes')\n",
    "ax.set_ylabel('runtime (s)')\n",
    "ax.grid()\n",
    "ax.legend()\n",
    "\n",
    "attila_utils.savefig(fig, 'runtime-n_disease_genes')"
   ]
  },
  {
   "cell_type": "markdown",
   "id": "10636577",
   "metadata": {},
   "source": [
    "The following plot shows that runtime scales supralinearly with the number of targets.  However, the slope is quite shallow: for instance going from 1 target to 10 targets increases the runtime only about 5-7 fold.  Going from 10 targets to 100 targets increases the runtime about 10 fold."
   ]
  },
  {
   "cell_type": "code",
   "execution_count": 10,
   "id": "ce71a481",
   "metadata": {},
   "outputs": [
    {
     "data": {
      "text/plain": [
       "['named-figure/runtime-n_targets.png', 'named-figure/runtime-n_targets.pdf']"
      ]
     },
     "execution_count": 10,
     "metadata": {},
     "output_type": "execute_result"
    },
    {
     "data": {
      "image/png": "[encoded data removed]",
      "text/plain": [
       "<Figure size 432x288 with 1 Axes>"
      ]
     },
     "metadata": {
      "needs_background": "light"
     },
     "output_type": "display_data"
    }
   ],
   "source": [
    "fig, ax = plt.subplots()\n",
    "for ngenes in scaling.columns:\n",
    "    label = '{} AD genes'.format(ngenes)\n",
    "    ax.plot(scaling.index, scaling[ngenes], label=label, linestyle='dotted', marker='o')\n",
    "ax.legend()\n",
    "ax.set_xscale('log')\n",
    "ax.set_yscale('log')\n",
    "ax.set_xlabel(r'$n$ targets')\n",
    "ax.set_ylabel('runtime (s)')\n",
    "ax.grid()\n",
    "\n",
    "attila_utils.savefig(fig, 'runtime-n_targets')"
   ]
  },
  {
   "cell_type": "markdown",
   "id": "d127fe2c",
   "metadata": {},
   "source": [
    "## Parallel efficiency\n",
    "\n",
    "What follows is the analysis of the benefits and costs of running `proximity.py` with increasing CPUs on NIH's HPC server Biowulf.  Hyperthreading was enabled thus 1 core means 2 CPUs.  The benefit is, of course, a faster run of `proximity.py`.  The drawback is possibly longer waiting time in the queue managed by the job scheduling system, SLURM.\n",
    "\n",
    "Test run conditions:\n",
    "* input: knowledge based AD genes\n",
    "* input: first 10% of drug-target interactions in the drug-target network\n",
    "* [E5 2650 Xeon processors](https://ark.intel.com/content/www/us/en/ark/products/64590/intel-xeon-processor-e52650-20m-cache-2-00-ghz-8-00-gts-intel-qpi.html) see --constraint=x2650 #SBATCH directive in test-$n$cpu.cfg"
   ]
  },
  {
   "cell_type": "code",
   "execution_count": 11,
   "id": "98108d0a",
   "metadata": {},
   "outputs": [],
   "source": [
    "ncpus = pd.read_csv('../../results/2021-11-18-proximity-run-benchmark/ncpus.csv')\n",
    "ncpus = ncpus.loc[ncpus.Status == 'COMPLETED']\n",
    "ncpus['log10 Runtime (min)'] = ncpus['Runtime (min)'].apply(np.log10)\n",
    "ncpus['log2 CPUs'] = np.int64(ncpus.CPUs.apply(np.log2))\n",
    "ncpus['Parallel efficiency'] = ncpus.apply(lambda row: ncpus.loc[ncpus.CPUs == 2, 'Runtime (min)'] * 2 / row['Runtime (min)'] / row['CPUs'], axis=1)"
   ]
  },
  {
   "cell_type": "markdown",
   "id": "da531f31",
   "metadata": {},
   "source": [
    "Thus we used the following definition (see [this page](https://researchcomputing.princeton.edu/support/knowledge-base/scaling-analysis)):\n",
    "\\begin{equation}\n",
    "\\text{parallel efficiency at } n \\text{ CPUs} = \\frac{\\text{runtime at } 2 \\text{ CPUs} * 2}{\\text{runtime at } n \\text{ CPUs} * n}\n",
    "\\end{equation}"
   ]
  },
  {
   "cell_type": "code",
   "execution_count": 12,
   "id": "393a74af",
   "metadata": {
    "scrolled": true
   },
   "outputs": [
    {
     "data": {
      "text/plain": [
       "['named-figure/runtime-parallel_efficiency-queue-n_cpus.png',\n",
       " 'named-figure/runtime-parallel_efficiency-queue-n_cpus.pdf']"
      ]
     },
     "execution_count": 12,
     "metadata": {},
     "output_type": "execute_result"
    },
    {
     "data": {
      "image/png": "[encoded data removed]",
      "text/plain": [
       "<Figure size 288x432 with 3 Axes>"
      ]
     },
     "metadata": {
      "needs_background": "light"
     },
     "output_type": "display_data"
    }
   ],
   "source": [
    "fig, ax = plt.subplots(3, 1, figsize=(4, 6), sharex=True)\n",
    "ax[0] = ncpus.plot(kind='scatter', y='log10 Runtime (min)', x='log2 CPUs', ax=ax[0])\n",
    "ax[0].set_yticks(ncpus['log10 Runtime (min)'])\n",
    "ax[0].set_yticklabels(ncpus['Runtime (min)'].apply(np.round).apply(np.int64))\n",
    "ax[0].set_ylabel('Runtime (min)')\n",
    "ax[1] = ncpus.plot(kind='scatter', y='Parallel efficiency', x='log2 CPUs', ax=ax[1])\n",
    "ax[2].set_xticks(ncpus['log2 CPUs'])\n",
    "ax[2].set_xticklabels(ncpus['CPUs'].apply(np.int64))\n",
    "ax[2].set_xlabel('n CPUs (x2650)')\n",
    "ax[2] = ncpus.plot(kind='scatter', y='In Queue (min)', x='log2 CPUs', ax=ax[2])\n",
    "\n",
    "attila_utils.savefig(fig, 'runtime-parallel_efficiency-queue-n_cpus')"
   ]
  },
  {
   "cell_type": "markdown",
   "id": "569b8c0c",
   "metadata": {},
   "source": [
    "## Estimated and measured runtime for a complete screen\n",
    "\n",
    "We see that parallel efficiency is the highest at 8 CPUs.  Yet, the waiting times in the queue are short (albeit with a small drug target network that's only 10% of the complete one) so it might be a good practice just running at 16 CPUs instead of 8 to obtain results faster.\n",
    "\n",
    "$\\approx 10\\%$ of the drug-target network is processed in 43 min at 16 CPUs so we *estimate* $10 \\times 43 \\text{ min} = 7.2 \\text{ h}$ for $100\\%$ of the drug-target network.  However, the `jobhist` command output shows that the *measured* runtime is only 05:38:26 $\\approx 5.6 \\text{ h}$\n",
    "\n"
   ]
  },
  {
   "cell_type": "code",
   "execution_count": 13,
   "id": "fb2703e6",
   "metadata": {},
   "outputs": [
    {
     "name": "stdout",
     "output_type": "stream",
     "text": [
      "\n",
      "JobId              : 27239098\n",
      "User               : jonesa7\n",
      "Submitted          : 20211122 15:58:05\n",
      "Started            : 20211122 16:01:49\n",
      "Ended              : 20211122 21:40:15\n",
      "Submission Path    : /data/jonesa7/results/2021-11-18-proximity-run-benchmark\n",
      "Submission Command : sbatch --cpus-per-task=16 --time=10:00:00 knowledge-16cpu.sh\n",
      "\n",
      "Jobid        Partition       State  Nodes  CPUs      Walltime       Runtime         MemReq  MemUsed  Nodelist\n",
      "27239098          norm   COMPLETED      1    16      10:00:00      05:38:26      2.0GB/cpu    2.0GB  cn0023\n",
      "\n"
     ]
    }
   ],
   "source": [
    "%%bash\n",
    "cat ../../results/2021-11-18-proximity-run-benchmark/knowledge-16cpu.jobhist"
   ]
  },
  {
   "cell_type": "markdown",
   "id": "20c9c277",
   "metadata": {},
   "source": [
    "## Best practices of running `proximity.py` on Biowulf\n",
    "\n",
    "Use the following settings\n",
    "\n",
    "* 16 CPUs: ` --cpus-per-task=16`\n",
    "* E5 2650 Xeon processors: `--constraint=x2650`\n",
    "* walltime with +25% safety margin: as a function of $n$ AD genes, see table below"
   ]
  },
  {
   "cell_type": "code",
   "execution_count": 14,
   "id": "ae82f0b5",
   "metadata": {},
   "outputs": [
    {
     "data": {
      "text/html": [
       "<div>\n",
       "<style scoped>\n",
       "    .dataframe tbody tr th:only-of-type {\n",
       "        vertical-align: middle;\n",
       "    }\n",
       "\n",
       "    .dataframe tbody tr th {\n",
       "        vertical-align: top;\n",
       "    }\n",
       "\n",
       "    .dataframe thead th {\n",
       "        text-align: right;\n",
       "    }\n",
       "</style>\n",
       "<table border=\"1\" class=\"dataframe\">\n",
       "  <thead>\n",
       "    <tr style=\"text-align: right;\">\n",
       "      <th></th>\n",
       "      <th>Runtime estimate (h)</th>\n",
       "      <th>Runtime estimate</th>\n",
       "      <th>+25% walltime</th>\n",
       "    </tr>\n",
       "    <tr>\n",
       "      <th>n AD genes</th>\n",
       "      <th></th>\n",
       "      <th></th>\n",
       "      <th></th>\n",
       "    </tr>\n",
       "  </thead>\n",
       "  <tbody>\n",
       "    <tr>\n",
       "      <th>24</th>\n",
       "      <td>5.607222</td>\n",
       "      <td>0 days 05:36:00</td>\n",
       "      <td>0 days 07:01:00</td>\n",
       "    </tr>\n",
       "    <tr>\n",
       "      <th>27</th>\n",
       "      <td>6.308125</td>\n",
       "      <td>0 days 06:18:00</td>\n",
       "      <td>0 days 07:53:00</td>\n",
       "    </tr>\n",
       "    <tr>\n",
       "      <th>31</th>\n",
       "      <td>7.242662</td>\n",
       "      <td>0 days 07:15:00</td>\n",
       "      <td>0 days 09:03:00</td>\n",
       "    </tr>\n",
       "    <tr>\n",
       "      <th>35</th>\n",
       "      <td>8.177199</td>\n",
       "      <td>0 days 08:11:00</td>\n",
       "      <td>0 days 10:13:00</td>\n",
       "    </tr>\n",
       "    <tr>\n",
       "      <th>40</th>\n",
       "      <td>9.345370</td>\n",
       "      <td>0 days 09:21:00</td>\n",
       "      <td>0 days 11:41:00</td>\n",
       "    </tr>\n",
       "    <tr>\n",
       "      <th>46</th>\n",
       "      <td>10.747176</td>\n",
       "      <td>0 days 10:45:00</td>\n",
       "      <td>0 days 13:26:00</td>\n",
       "    </tr>\n",
       "    <tr>\n",
       "      <th>52</th>\n",
       "      <td>12.148981</td>\n",
       "      <td>0 days 12:09:00</td>\n",
       "      <td>0 days 15:11:00</td>\n",
       "    </tr>\n",
       "    <tr>\n",
       "      <th>59</th>\n",
       "      <td>13.784421</td>\n",
       "      <td>0 days 13:47:00</td>\n",
       "      <td>0 days 17:14:00</td>\n",
       "    </tr>\n",
       "    <tr>\n",
       "      <th>67</th>\n",
       "      <td>15.653495</td>\n",
       "      <td>0 days 15:39:00</td>\n",
       "      <td>0 days 19:34:00</td>\n",
       "    </tr>\n",
       "    <tr>\n",
       "      <th>76</th>\n",
       "      <td>17.756204</td>\n",
       "      <td>0 days 17:45:00</td>\n",
       "      <td>0 days 22:12:00</td>\n",
       "    </tr>\n",
       "    <tr>\n",
       "      <th>87</th>\n",
       "      <td>20.326181</td>\n",
       "      <td>0 days 20:20:00</td>\n",
       "      <td>1 days 01:24:00</td>\n",
       "    </tr>\n",
       "    <tr>\n",
       "      <th>99</th>\n",
       "      <td>23.129792</td>\n",
       "      <td>0 days 23:08:00</td>\n",
       "      <td>1 days 04:55:00</td>\n",
       "    </tr>\n",
       "    <tr>\n",
       "      <th>112</th>\n",
       "      <td>26.167037</td>\n",
       "      <td>1 days 02:10:00</td>\n",
       "      <td>1 days 08:43:00</td>\n",
       "    </tr>\n",
       "    <tr>\n",
       "      <th>128</th>\n",
       "      <td>29.905185</td>\n",
       "      <td>1 days 05:54:00</td>\n",
       "      <td>1 days 13:23:00</td>\n",
       "    </tr>\n",
       "    <tr>\n",
       "      <th>145</th>\n",
       "      <td>33.876968</td>\n",
       "      <td>1 days 09:53:00</td>\n",
       "      <td>1 days 18:21:00</td>\n",
       "    </tr>\n",
       "    <tr>\n",
       "      <th>165</th>\n",
       "      <td>38.549653</td>\n",
       "      <td>1 days 14:33:00</td>\n",
       "      <td>2 days 00:11:00</td>\n",
       "    </tr>\n",
       "    <tr>\n",
       "      <th>188</th>\n",
       "      <td>43.923241</td>\n",
       "      <td>1 days 19:55:00</td>\n",
       "      <td>2 days 06:54:00</td>\n",
       "    </tr>\n",
       "    <tr>\n",
       "      <th>214</th>\n",
       "      <td>49.997731</td>\n",
       "      <td>2 days 02:00:00</td>\n",
       "      <td>2 days 14:30:00</td>\n",
       "    </tr>\n",
       "    <tr>\n",
       "      <th>243</th>\n",
       "      <td>56.773125</td>\n",
       "      <td>2 days 08:46:00</td>\n",
       "      <td>2 days 22:58:00</td>\n",
       "    </tr>\n",
       "    <tr>\n",
       "      <th>276</th>\n",
       "      <td>64.483056</td>\n",
       "      <td>2 days 16:29:00</td>\n",
       "      <td>3 days 08:36:00</td>\n",
       "    </tr>\n",
       "    <tr>\n",
       "      <th>314</th>\n",
       "      <td>73.361157</td>\n",
       "      <td>3 days 01:22:00</td>\n",
       "      <td>3 days 19:42:00</td>\n",
       "    </tr>\n",
       "    <tr>\n",
       "      <th>357</th>\n",
       "      <td>83.407431</td>\n",
       "      <td>3 days 11:24:00</td>\n",
       "      <td>4 days 08:16:00</td>\n",
       "    </tr>\n",
       "    <tr>\n",
       "      <th>406</th>\n",
       "      <td>94.855509</td>\n",
       "      <td>3 days 22:51:00</td>\n",
       "      <td>4 days 22:34:00</td>\n",
       "    </tr>\n",
       "    <tr>\n",
       "      <th>462</th>\n",
       "      <td>107.939028</td>\n",
       "      <td>4 days 11:56:00</td>\n",
       "      <td>5 days 14:55:00</td>\n",
       "    </tr>\n",
       "    <tr>\n",
       "      <th>526</th>\n",
       "      <td>122.891620</td>\n",
       "      <td>5 days 02:53:00</td>\n",
       "      <td>6 days 09:37:00</td>\n",
       "    </tr>\n",
       "    <tr>\n",
       "      <th>598</th>\n",
       "      <td>139.713287</td>\n",
       "      <td>5 days 19:43:00</td>\n",
       "      <td>7 days 06:38:00</td>\n",
       "    </tr>\n",
       "    <tr>\n",
       "      <th>680</th>\n",
       "      <td>158.871296</td>\n",
       "      <td>6 days 14:52:00</td>\n",
       "      <td>8 days 06:35:00</td>\n",
       "    </tr>\n",
       "    <tr>\n",
       "      <th>773</th>\n",
       "      <td>180.599282</td>\n",
       "      <td>7 days 12:36:00</td>\n",
       "      <td>9 days 09:45:00</td>\n",
       "    </tr>\n",
       "    <tr>\n",
       "      <th>879</th>\n",
       "      <td>205.364514</td>\n",
       "      <td>8 days 13:22:00</td>\n",
       "      <td>10 days 16:42:00</td>\n",
       "    </tr>\n",
       "    <tr>\n",
       "      <th>1000</th>\n",
       "      <td>233.634259</td>\n",
       "      <td>9 days 17:38:00</td>\n",
       "      <td>12 days 04:03:00</td>\n",
       "    </tr>\n",
       "  </tbody>\n",
       "</table>\n",
       "</div>"
      ],
      "text/plain": [
       "            Runtime estimate (h) Runtime estimate    +25% walltime\n",
       "n AD genes                                                        \n",
       "24                      5.607222  0 days 05:36:00  0 days 07:01:00\n",
       "27                      6.308125  0 days 06:18:00  0 days 07:53:00\n",
       "31                      7.242662  0 days 07:15:00  0 days 09:03:00\n",
       "35                      8.177199  0 days 08:11:00  0 days 10:13:00\n",
       "40                      9.345370  0 days 09:21:00  0 days 11:41:00\n",
       "46                     10.747176  0 days 10:45:00  0 days 13:26:00\n",
       "52                     12.148981  0 days 12:09:00  0 days 15:11:00\n",
       "59                     13.784421  0 days 13:47:00  0 days 17:14:00\n",
       "67                     15.653495  0 days 15:39:00  0 days 19:34:00\n",
       "76                     17.756204  0 days 17:45:00  0 days 22:12:00\n",
       "87                     20.326181  0 days 20:20:00  1 days 01:24:00\n",
       "99                     23.129792  0 days 23:08:00  1 days 04:55:00\n",
       "112                    26.167037  1 days 02:10:00  1 days 08:43:00\n",
       "128                    29.905185  1 days 05:54:00  1 days 13:23:00\n",
       "145                    33.876968  1 days 09:53:00  1 days 18:21:00\n",
       "165                    38.549653  1 days 14:33:00  2 days 00:11:00\n",
       "188                    43.923241  1 days 19:55:00  2 days 06:54:00\n",
       "214                    49.997731  2 days 02:00:00  2 days 14:30:00\n",
       "243                    56.773125  2 days 08:46:00  2 days 22:58:00\n",
       "276                    64.483056  2 days 16:29:00  3 days 08:36:00\n",
       "314                    73.361157  3 days 01:22:00  3 days 19:42:00\n",
       "357                    83.407431  3 days 11:24:00  4 days 08:16:00\n",
       "406                    94.855509  3 days 22:51:00  4 days 22:34:00\n",
       "462                   107.939028  4 days 11:56:00  5 days 14:55:00\n",
       "526                   122.891620  5 days 02:53:00  6 days 09:37:00\n",
       "598                   139.713287  5 days 19:43:00  7 days 06:38:00\n",
       "680                   158.871296  6 days 14:52:00  8 days 06:35:00\n",
       "773                   180.599282  7 days 12:36:00  9 days 09:45:00\n",
       "879                   205.364514  8 days 13:22:00 10 days 16:42:00\n",
       "1000                  233.634259  9 days 17:38:00 12 days 04:03:00"
      ]
     },
     "execution_count": 14,
     "metadata": {},
     "output_type": "execute_result"
    }
   ],
   "source": [
    "refrunt = 5 + 36 / 60 + 26 / 3600 # in hours\n",
    "ngenes = np.int64(np.round(np.logspace(np.log10(24), np.log10(1000), 30)))\n",
    "walltimes = pd.DataFrame({'Runtime estimate (h)': [n / 24 * refrunt for n in ngenes]}, index=ngenes)\n",
    "walltimes.index = walltimes.index.set_names('n AD genes')\n",
    "walltimes['Runtime estimate'] = walltimes['Runtime estimate (h)'].apply(lambda h: datetime.timedelta(minutes=np.round(h * 60)))\n",
    "walltimes['+25% walltime'] = walltimes['Runtime estimate (h)'].apply(lambda h: datetime.timedelta(minutes=np.round(h * 60 * 1.25)))\n",
    "walltimes"
   ]
  },
  {
   "cell_type": "code",
   "execution_count": 15,
   "id": "bc5714c5",
   "metadata": {},
   "outputs": [
    {
     "name": "stdout",
     "output_type": "stream",
     "text": [
      "{\n",
      "  \"shell_port\": 56897,\n",
      "  \"iopub_port\": 56898,\n",
      "  \"stdin_port\": 56899,\n",
      "  \"control_port\": 56901,\n",
      "  \"hb_port\": 56900,\n",
      "  \"ip\": \"127.0.0.1\",\n",
      "  \"key\": \"f1bdd111-9e963beae301bbc798bfd30c\",\n",
      "  \"transport\": \"tcp\",\n",
      "  \"signature_scheme\": \"hmac-sha256\",\n",
      "  \"kernel_name\": \"\"\n",
      "}\n",
      "\n",
      "Paste the above JSON into a file, and connect with:\n",
      "    $> jupyter <app> --existing <file>\n",
      "or, if you are local, you can connect with just:\n",
      "    $> jupyter <app> --existing kernel-e723b8fb-8ad9-4b3c-a08f-ec7b8e44c998.json\n",
      "or even just:\n",
      "    $> jupyter <app> --existing\n",
      "if this is the most recent Jupyter kernel you have started.\n"
     ]
    }
   ],
   "source": [
    "%connect_info"
   ]
  },
  {
   "cell_type": "code",
   "execution_count": null,
   "id": "b2bc0556",
   "metadata": {},
   "outputs": [],
   "source": []
  }
 ],
 "metadata": {
  "kernelspec": {
   "display_name": "Python 3",
   "language": "python",
   "name": "python3"
  },
  "language_info": {
   "codemirror_mode": {
    "name": "ipython",
    "version": 3
   },
   "file_extension": ".py",
   "mimetype": "text/x-python",
   "name": "python",
   "nbconvert_exporter": "python",
   "pygments_lexer": "ipython3",
   "version": "3.8.8"
  }
 },
 "nbformat": 4,
 "nbformat_minor": 5
}
