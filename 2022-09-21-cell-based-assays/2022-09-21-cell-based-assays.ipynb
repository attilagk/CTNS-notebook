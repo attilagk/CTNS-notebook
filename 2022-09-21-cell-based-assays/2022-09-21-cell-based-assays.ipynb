{
 "cells": [
  {
   "cell_type": "code",
   "execution_count": 1,
   "id": "18771d6b",
   "metadata": {},
   "outputs": [
    {
     "name": "stdout",
     "output_type": "stream",
     "text": [
      "The autoreload extension is already loaded. To reload it, use:\n",
      "  %reload_ext autoreload\n"
     ]
    }
   ],
   "source": [
    "%load_ext autoreload\n",
    "%autoreload 2\n",
    "%reload_ext autoreload\n",
    "import pandas as pd\n",
    "import numpy as np\n",
    "import matplotlib.pyplot as plt\n",
    "from matplotlib import gridspec\n",
    "import attila_utils"
   ]
  },
  {
   "cell_type": "code",
   "execution_count": 2,
   "id": "c33ae4bd",
   "metadata": {},
   "outputs": [
    {
     "data": {
      "text/html": [
       "<div>\n",
       "<style scoped>\n",
       "    .dataframe tbody tr th:only-of-type {\n",
       "        vertical-align: middle;\n",
       "    }\n",
       "\n",
       "    .dataframe tbody tr th {\n",
       "        vertical-align: top;\n",
       "    }\n",
       "\n",
       "    .dataframe thead th {\n",
       "        text-align: right;\n",
       "    }\n",
       "</style>\n",
       "<table border=\"1\" class=\"dataframe\">\n",
       "  <thead>\n",
       "    <tr style=\"text-align: right;\">\n",
       "      <th></th>\n",
       "      <th></th>\n",
       "      <th>(class, assay, concentration)</th>\n",
       "      <th>Chenodiol (TUDCA)</th>\n",
       "      <th>Cysteamine HCl (Cysteamine)</th>\n",
       "      <th>Arundine (3,3'-Diindolylmethane)</th>\n",
       "      <th>conc</th>\n",
       "    </tr>\n",
       "    <tr>\n",
       "      <th>class</th>\n",
       "      <th>assay</th>\n",
       "      <th>concentration</th>\n",
       "      <th></th>\n",
       "      <th></th>\n",
       "      <th></th>\n",
       "      <th></th>\n",
       "    </tr>\n",
       "  </thead>\n",
       "  <tbody>\n",
       "    <tr>\n",
       "      <th rowspan=\"3\" valign=\"top\">A$\\beta$ induced toxicity</th>\n",
       "      <th rowspan=\"3\" valign=\"top\">MTT (viability)</th>\n",
       "      <th>c1</th>\n",
       "      <td>NaN</td>\n",
       "      <td>NaN</td>\n",
       "      <td>NaN</td>\n",
       "      <td>c1</td>\n",
       "    </tr>\n",
       "    <tr>\n",
       "      <th>c2</th>\n",
       "      <td>NaN</td>\n",
       "      <td>NaN</td>\n",
       "      <td>NaN</td>\n",
       "      <td>c2</td>\n",
       "    </tr>\n",
       "    <tr>\n",
       "      <th>c3</th>\n",
       "      <td>NaN</td>\n",
       "      <td>NaN</td>\n",
       "      <td>NaN</td>\n",
       "      <td>c3</td>\n",
       "    </tr>\n",
       "    <tr>\n",
       "      <th rowspan=\"2\" valign=\"top\">A$\\beta$ clearance</th>\n",
       "      <th rowspan=\"2\" valign=\"top\">Abeta in SN</th>\n",
       "      <th>c4</th>\n",
       "      <td>0.0</td>\n",
       "      <td>0.0</td>\n",
       "      <td>0.0</td>\n",
       "      <td>c4</td>\n",
       "    </tr>\n",
       "    <tr>\n",
       "      <th>c5</th>\n",
       "      <td>0.0</td>\n",
       "      <td>1.0</td>\n",
       "      <td>-1.0</td>\n",
       "      <td>c5</td>\n",
       "    </tr>\n",
       "    <tr>\n",
       "      <th>...</th>\n",
       "      <th>...</th>\n",
       "      <th>...</th>\n",
       "      <td>...</td>\n",
       "      <td>...</td>\n",
       "      <td>...</td>\n",
       "      <td>...</td>\n",
       "    </tr>\n",
       "    <tr>\n",
       "      <th rowspan=\"2\" valign=\"top\">Trophic factor withdrawal</th>\n",
       "      <th rowspan=\"2\" valign=\"top\">LDH (cell death)</th>\n",
       "      <th>c2</th>\n",
       "      <td>0.0</td>\n",
       "      <td>0.0</td>\n",
       "      <td>0.0</td>\n",
       "      <td>c2</td>\n",
       "    </tr>\n",
       "    <tr>\n",
       "      <th>c3</th>\n",
       "      <td>0.0</td>\n",
       "      <td>0.0</td>\n",
       "      <td>0.0</td>\n",
       "      <td>c3</td>\n",
       "    </tr>\n",
       "    <tr>\n",
       "      <th rowspan=\"3\" valign=\"top\">Tau aggregation</th>\n",
       "      <th rowspan=\"3\" valign=\"top\">Tau aggregation ΔRFU</th>\n",
       "      <th>c4</th>\n",
       "      <td>NaN</td>\n",
       "      <td>NaN</td>\n",
       "      <td>NaN</td>\n",
       "      <td>c4</td>\n",
       "    </tr>\n",
       "    <tr>\n",
       "      <th>c5</th>\n",
       "      <td>NaN</td>\n",
       "      <td>NaN</td>\n",
       "      <td>NaN</td>\n",
       "      <td>c5</td>\n",
       "    </tr>\n",
       "    <tr>\n",
       "      <th>c6</th>\n",
       "      <td>NaN</td>\n",
       "      <td>NaN</td>\n",
       "      <td>NaN</td>\n",
       "      <td>c6</td>\n",
       "    </tr>\n",
       "  </tbody>\n",
       "</table>\n",
       "<p>75 rows × 4 columns</p>\n",
       "</div>"
      ],
      "text/plain": [
       "('class', 'assay', 'concentration')                           Chenodiol (TUDCA)  \\\n",
       "class                     assay                concentration                      \n",
       "A$\\beta$ induced toxicity MTT (viability)      c1                           NaN   \n",
       "                                               c2                           NaN   \n",
       "                                               c3                           NaN   \n",
       "A$\\beta$ clearance        Abeta in SN          c4                           0.0   \n",
       "                                               c5                           0.0   \n",
       "...                                                                         ...   \n",
       "Trophic factor withdrawal LDH (cell death)     c2                           0.0   \n",
       "                                               c3                           0.0   \n",
       "Tau aggregation           Tau aggregation ΔRFU c4                           NaN   \n",
       "                                               c5                           NaN   \n",
       "                                               c6                           NaN   \n",
       "\n",
       "('class', 'assay', 'concentration')                           Cysteamine HCl (Cysteamine)  \\\n",
       "class                     assay                concentration                                \n",
       "A$\\beta$ induced toxicity MTT (viability)      c1                                     NaN   \n",
       "                                               c2                                     NaN   \n",
       "                                               c3                                     NaN   \n",
       "A$\\beta$ clearance        Abeta in SN          c4                                     0.0   \n",
       "                                               c5                                     1.0   \n",
       "...                                                                                   ...   \n",
       "Trophic factor withdrawal LDH (cell death)     c2                                     0.0   \n",
       "                                               c3                                     0.0   \n",
       "Tau aggregation           Tau aggregation ΔRFU c4                                     NaN   \n",
       "                                               c5                                     NaN   \n",
       "                                               c6                                     NaN   \n",
       "\n",
       "('class', 'assay', 'concentration')                           Arundine (3,3'-Diindolylmethane)  \\\n",
       "class                     assay                concentration                                     \n",
       "A$\\beta$ induced toxicity MTT (viability)      c1                                          NaN   \n",
       "                                               c2                                          NaN   \n",
       "                                               c3                                          NaN   \n",
       "A$\\beta$ clearance        Abeta in SN          c4                                          0.0   \n",
       "                                               c5                                         -1.0   \n",
       "...                                                                                        ...   \n",
       "Trophic factor withdrawal LDH (cell death)     c2                                          0.0   \n",
       "                                               c3                                          0.0   \n",
       "Tau aggregation           Tau aggregation ΔRFU c4                                          NaN   \n",
       "                                               c5                                          NaN   \n",
       "                                               c6                                          NaN   \n",
       "\n",
       "('class', 'assay', 'concentration')                          conc  \n",
       "class                     assay                concentration       \n",
       "A$\\beta$ induced toxicity MTT (viability)      c1              c1  \n",
       "                                               c2              c2  \n",
       "                                               c3              c3  \n",
       "A$\\beta$ clearance        Abeta in SN          c4              c4  \n",
       "                                               c5              c5  \n",
       "...                                                           ...  \n",
       "Trophic factor withdrawal LDH (cell death)     c2              c2  \n",
       "                                               c3              c3  \n",
       "Tau aggregation           Tau aggregation ΔRFU c4              c4  \n",
       "                                               c5              c5  \n",
       "                                               c6              c6  \n",
       "\n",
       "[75 rows x 4 columns]"
      ]
     },
     "execution_count": 2,
     "metadata": {},
     "output_type": "execute_result"
    }
   ],
   "source": [
    "results = pd.read_excel('../../results/experimental/cell-based-assays.xlsx', 'Sheet2', header=[0, 1, 2])\n",
    "results = results.rename(dict(zip(results.columns, ['Chenodiol', 'Cysteamine-HCl', 'Arundine'])), axis=1)\n",
    "results = results.set_index(('class', 'assay', 'concentration'))\n",
    "results = results.drop(results.columns[0], axis=1)\n",
    "results = results.transpose()\n",
    "results = results.rename_axis(['class', 'assay', 'concentration'], axis='index')\n",
    "results['conc'] = results.index.get_level_values('concentration')\n",
    "results['class'] = pd.Categorical(results.index.get_level_values('class'))\n",
    "new_class_names = [r'A$\\beta$ induced toxicity', r'A$\\beta$ clearance', r'A$\\beta$ secretion', 'Tau phosphorylation', 'LPS neuroinflammation', 'Neurogenesis and neurite outgrowth', 'Trophic factor withdrawal', 'Tau aggregation']\n",
    "mapper = dict(zip(results['class'].cat.categories, new_class_names))\n",
    "results = results.drop('class', axis=1)\n",
    "results = results.rename(mapper, axis=0, level=0)\n",
    "results"
   ]
  },
  {
   "cell_type": "code",
   "execution_count": 3,
   "id": "accb55b7",
   "metadata": {},
   "outputs": [],
   "source": [
    "plt.rcParams['figure.facecolor'] = 'lightgray'"
   ]
  },
  {
   "cell_type": "code",
   "execution_count": 4,
   "id": "1d097c71",
   "metadata": {},
   "outputs": [
    {
     "data": {
      "text/plain": [
       "{'A$\\\\beta$ clearance': 3.0,\n",
       " 'A$\\\\beta$ induced toxicity': 1.0,\n",
       " 'A$\\\\beta$ secretion': 3.0,\n",
       " 'LPS neuroinflammation': 6.0,\n",
       " 'Neurogenesis and neurite outgrowth': 4.0,\n",
       " 'Tau aggregation': 1.0,\n",
       " 'Tau phosphorylation': 3.0,\n",
       " 'Trophic factor withdrawal': 4.0}"
      ]
     },
     "execution_count": 4,
     "metadata": {},
     "output_type": "execute_result"
    }
   ],
   "source": [
    "gb_class = results.groupby('class')\n",
    "assays_per_class = {name: len(df) / 3 for name, df in gb_class}\n",
    "assays_per_class"
   ]
  },
  {
   "cell_type": "code",
   "execution_count": 5,
   "id": "765b5a33",
   "metadata": {},
   "outputs": [
    {
     "data": {
      "text/plain": [
       "[Text(0, 0, 'Chenodiol (TUDCA)'),\n",
       " Text(1, 0, 'Cysteamine HCl (Cysteamine)'),\n",
       " Text(2, 0, \"Arundine (3,3'-Diindolylmethane)\")]"
      ]
     },
     "execution_count": 5,
     "metadata": {},
     "output_type": "execute_result"
    },
    {
     "data": {
      "image/png": "[encoded data removed]",
      "text/plain": [
       "<Figure size 288x864 with 25 Axes>"
      ]
     },
     "metadata": {
      "needs_background": "light"
     },
     "output_type": "display_data"
    }
   ],
   "source": [
    "fig = plt.figure(figsize=(4, 12))\n",
    "outer_grid = gridspec.GridSpec(len(gb_class), 1, height_ratios = list(assays_per_class.values()), figure=fig, hspace=0.5) \n",
    "\n",
    "def process_class(classname, classdata, i, fig):\n",
    "    n_assays = int(len(classdata) / 3)\n",
    "    first_assay_name = classdata.index.get_level_values('assay')[0]\n",
    "    inner_gs = gridspec.GridSpecFromSubplotSpec(n_assays, 1, subplot_spec=outer_grid[i], hspace=0.25)\n",
    "    gb_assay = classdata.groupby('assay')\n",
    "    for j, zipitem in enumerate(zip(inner_gs, gb_assay)):\n",
    "        cell, gbitem = zipitem\n",
    "        ax = plt.subplot(cell)\n",
    "        assay_name, assay_data = gbitem\n",
    "        plot_assay(ax, assay_name, assay_data)\n",
    "        if j == 0:\n",
    "            ax.set_title(classname)\n",
    "    return(ax)\n",
    "\n",
    "def plot_assay(axi, assay_name, assay_data):\n",
    "        axi.imshow(assay_data.iloc[:, range(3)], aspect='auto', interpolation='none', cmap='bwr', vmin=-3, vmax=3)\n",
    "        axi.set_xticks(range(3))\n",
    "        axi.set_yticks(range(assay_data.shape[0]))\n",
    "        axi.set_yticklabels(assay_data.conc, fontsize=7)\n",
    "        axi.set_ylabel(assay_name, rotation=0, verticalalignment='center', horizontalalignment='right')\n",
    "        axi.tick_params(right=True, left=False, labelright=True, labelleft=False)\n",
    "        axi.set_xticks([])\n",
    "        #axi.set_xticklabels([])\n",
    "        return(axi)\n",
    "\n",
    "\n",
    "for i, classinfo in enumerate(gb_class):\n",
    "    classname, classdata = classinfo\n",
    "    axi = process_class(classname, classdata, i, fig)\n",
    "axi.set_xticks(range(3))\n",
    "axi.set_xticklabels(results.columns[:-1], rotation=-45, horizontalalignment='left')"
   ]
  },
  {
   "cell_type": "code",
   "execution_count": 6,
   "id": "40fe254b",
   "metadata": {},
   "outputs": [
    {
     "name": "stdout",
     "output_type": "stream",
     "text": [
      "{\n",
      "  \"shell_port\": 57757,\n",
      "  \"iopub_port\": 57758,\n",
      "  \"stdin_port\": 57759,\n",
      "  \"control_port\": 57761,\n",
      "  \"hb_port\": 57760,\n",
      "  \"ip\": \"127.0.0.1\",\n",
      "  \"key\": \"192b6eda-fcf68202299b329a540fc75a\",\n",
      "  \"transport\": \"tcp\",\n",
      "  \"signature_scheme\": \"hmac-sha256\",\n",
      "  \"kernel_name\": \"\"\n",
      "}\n",
      "\n",
      "Paste the above JSON into a file, and connect with:\n",
      "    $> jupyter <app> --existing <file>\n",
      "or, if you are local, you can connect with just:\n",
      "    $> jupyter <app> --existing kernel-da6a8744-3d2b-473c-90e7-75c28a21a897.json\n",
      "or even just:\n",
      "    $> jupyter <app> --existing\n",
      "if this is the most recent Jupyter kernel you have started.\n"
     ]
    }
   ],
   "source": [
    "%connect_info"
   ]
  },
  {
   "cell_type": "code",
   "execution_count": null,
   "id": "7b742035",
   "metadata": {},
   "outputs": [],
   "source": []
  }
 ],
 "metadata": {
  "kernelspec": {
   "display_name": "Python 3",
   "language": "python",
   "name": "python3"
  },
  "language_info": {
   "codemirror_mode": {
    "name": "ipython",
    "version": 3
   },
   "file_extension": ".py",
   "mimetype": "text/x-python",
   "name": "python",
   "nbconvert_exporter": "python",
   "pygments_lexer": "ipython3",
   "version": "3.8.8"
  }
 },
 "nbformat": 4,
 "nbformat_minor": 5
}
