{
 "cells": [
  {
   "cell_type": "markdown",
   "id": "20700160",
   "metadata": {},
   "source": [
    "## Rank aggregation\n",
    "\n",
    "Multiple lists of ranks have been obtained with network based proximity"
   ]
  },
  {
   "cell_type": "code",
   "execution_count": 1,
   "id": "58bb82db",
   "metadata": {},
   "outputs": [],
   "source": [
    "library(TopKLists)"
   ]
  },
  {
   "cell_type": "code",
   "execution_count": 2,
   "id": "afff6c51",
   "metadata": {},
   "outputs": [
    {
     "name": "stdout",
     "output_type": "stream",
     "text": [
      "'data.frame':\t2413 obs. of  15 variables:\n",
      " $ drug_name           : Factor w/ 2401 levels \"(D)-SERINE\",\"(R)-MELPHALAN\",..: 1528 1974 1262 1226 1874 1843 1417 1411 258 606 ...\n",
      " $ max_phase           : int  3 3 4 4 4 4 4 3 3 4 ...\n",
      " $ indication_class    : Factor w/ 402 levels \"\",\"Acidifier\",..: 1 1 1 1 1 375 1 1 25 1 ...\n",
      " $ uniprot_name        : Factor w/ 1964 levels \"5HT1A\",\"5HT1A|5HT1D|5HT1B\",..: 1693 1693 1799 1804 1804 1804 1804 1804 1804 1804 ...\n",
      " $ target_name         : Factor w/ 1972 levels \"11-beta-hydroxysteroid dehydrogenase 1|11-beta-hydroxysteroid dehydrogenase 2\",..: 604 604 1347 1348 1348 1348 1348 1348 1348 1348 ...\n",
      " $ knowledge           : int  1 2 3 4 5 6 7 8 9 10 ...\n",
      " $ knowledge.U.TWAS2.  : int  10 11 22 15 12 13 14 17 18 16 ...\n",
      " $ agora2.             : int  216 215 1251 1158 1159 1160 1155 1156 1154 1157 ...\n",
      " $ agora               : int  2252 2253 208 324 323 322 317 319 318 320 ...\n",
      " $ DESudhir            : int  1419 1418 268 47 46 44 41 42 40 45 ...\n",
      " $ AD.DE.APOE3.APOE3   : int  1272 1273 239 46 42 43 41 44 47 45 ...\n",
      " $ AD.DE.APOE4.APOE4   : int  1236 1237 1239 1807 1809 1810 1811 1808 1806 1804 ...\n",
      " $ APOE3.4.DE.neuron   : int  1493 1492 471 556 553 554 550 555 551 557 ...\n",
      " $ APOE3.4.DE.astrocyte: int  1937 1936 637 1406 1408 1410 1409 1403 1405 1407 ...\n",
      " $ APOE3.4.DE.microglia: int  222 223 1466 1356 1358 1359 1354 1353 1352 1357 ...\n"
     ]
    }
   ],
   "source": [
    "fpath <- \"../../results/2021-12-02-proximity-various-ADgenesets/merged-proximity-chembl.csv\"\n",
    "df <- read.csv(fpath, skip = 2, row.names = 1)\n",
    "str(df)"
   ]
  },
  {
   "cell_type": "code",
   "execution_count": 3,
   "id": "b6445dfe",
   "metadata": {},
   "outputs": [
    {
     "ename": "ERROR",
     "evalue": "Error in eval(expr, envir, enclos): object 'x' not found\n",
     "output_type": "error",
     "traceback": [
      "Error in eval(expr, envir, enclos): object 'x' not found\nTraceback:\n"
     ]
    }
   ],
   "source": [
    "x"
   ]
  },
  {
   "cell_type": "code",
   "execution_count": 4,
   "id": "585c9b51",
   "metadata": {},
   "outputs": [
    {
     "data": {
      "text/html": [
       "<style>\n",
       ".list-inline {list-style: none; margin:0; padding: 0}\n",
       ".list-inline>li {display: inline-block}\n",
       ".list-inline>li:not(:last-child)::after {content: \"\\00b7\"; padding: 0 .5ex}\n",
       "</style>\n",
       "<ol class=list-inline><li>'df'</li><li>'fpath'</li></ol>\n"
      ],
      "text/latex": [
       "\\begin{enumerate*}\n",
       "\\item 'df'\n",
       "\\item 'fpath'\n",
       "\\end{enumerate*}\n"
      ],
      "text/markdown": [
       "1. 'df'\n",
       "2. 'fpath'\n",
       "\n",
       "\n"
      ],
      "text/plain": [
       "[1] \"df\"    \"fpath\""
      ]
     },
     "metadata": {},
     "output_type": "display_data"
    }
   ],
   "source": [
    "ls()"
   ]
  },
  {
   "cell_type": "code",
   "execution_count": null,
   "id": "58afbf62",
   "metadata": {},
   "outputs": [],
   "source": []
  }
 ],
 "metadata": {
  "kernelspec": {
   "display_name": "R",
   "language": "R",
   "name": "ir"
  },
  "language_info": {
   "codemirror_mode": "r",
   "file_extension": ".r",
   "mimetype": "text/x-r-source",
   "name": "R",
   "pygments_lexer": "r",
   "version": "3.6.3"
  }
 },
 "nbformat": 4,
 "nbformat_minor": 5
}
