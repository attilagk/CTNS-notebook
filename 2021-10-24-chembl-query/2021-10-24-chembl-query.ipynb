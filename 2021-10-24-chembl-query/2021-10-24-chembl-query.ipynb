{
 "cells": [
  {
   "cell_type": "markdown",
   "id": "1940f0df",
   "metadata": {},
   "source": [
    "Here we refine the drug-target relations that we previously obtained from DrugBank.  The refinement concerns drug's activities on their targets and follows [the methods of Cheng et al 2018](https://www.ncbi.nlm.nih.gov/pmc/articles/PMC6043492/#Sec7title), who filtered out low activity/affinity drug-target pairs by applying a 10 µM cutoff to $K_i, K_d, \\mathrm{IC}_{50}$ or $\\mathrm{EC}_{50}$."
   ]
  },
  {
   "cell_type": "code",
   "execution_count": 1,
   "id": "def3a2ec",
   "metadata": {},
   "outputs": [
    {
     "name": "stdout",
     "output_type": "stream",
     "text": [
      "GenRev not found, steiner wont work\n",
      "Import error: Negex. Using keyword matching instead\n",
      "Import error: Funcassociate. Make sure that funcassociate is in toolbox!\n"
     ]
    }
   ],
   "source": [
    "%load_ext autoreload\n",
    "%autoreload 2\n",
    "%reload_ext autoreload\n",
    "#from drugbank_downloader import download_drugbank, open_drugbank\n",
    "import repos_tools\n",
    "import pandas as pd\n",
    "import matplotlib.pyplot as plt\n",
    "import attila_utils"
   ]
  },
  {
   "cell_type": "markdown",
   "id": "87f98173",
   "metadata": {},
   "source": [
    "## Create drug-target network from ChEMBL\n",
    "\n",
    "The following workflow creates a CSV formatted drug-target network from several tables of ChEMBL's SQLite database (see the [relational database schema](https://www.ebi.ac.uk/chembl/db_schema)).\n",
    "\n",
    "1. for each phase 3 or 4 drug retreive all human targets\n",
    "1. for each target retreive all $n$ activity assays and calculate $p\\mathrm{Activity} = - \\log_{10} \\mathrm{Activity}$, where $\\mathrm{Activity}$ is in $nM$ and may be $K_i, K_d, \\mathrm{IC}_{50}, \\mathrm{EC}_{50}, ...$\n",
    "1. for each drug we remove low activity targets requiring that $n^{-1}\\sum_{a=1}^n p\\mathrm{Activity} \\ge 5$\n",
    "\n",
    "The last step corresponds to filtering with a $10 \\mu M$ cutoff as Cheng et al 2018 performed.\n",
    "\n",
    "For more details see the source code of `drug_target_avg_activity.sql`."
   ]
  },
  {
   "cell_type": "raw",
   "id": "53a10b62",
   "metadata": {},
   "source": [
    "cd $HOME/CTNS/results/2021-10-24-chembl-query\n",
    "sqlite3 ../../resources/ChEMBL/chembl_29_sqlite/chembl_29.db\n",
    "sqlite> .mode csv\n",
    "sqlite> .once chembl-avg_p_activities-phase_3_4-avg_p_act_5plus.csv\n",
    "sqlite> .read ../../notebooks/2021-10-24-chembl-query/drug_target_avg_activity.sql"
   ]
  },
  {
   "cell_type": "markdown",
   "id": "1d093290",
   "metadata": {},
   "source": [
    "The last command executes the `SQL` selection script and writes the resulting table to `chembl-avg_p_activities-phase_3_4-avg_p_act_5plus.csv`."
   ]
  },
  {
   "cell_type": "markdown",
   "id": "42384438",
   "metadata": {},
   "source": [
    "## Adjust table for proximity calculation\n",
    "\n",
    "1. extend table with Entrez gene IDs\n",
    "1. ensure it complies with the `src/proximity.py` script"
   ]
  },
  {
   "cell_type": "code",
   "execution_count": 2,
   "id": "c176d6a0",
   "metadata": {},
   "outputs": [
    {
     "name": "stdout",
     "output_type": "stream",
     "text": [
      "{\n",
      "  \"shell_port\": 61593,\n",
      "  \"iopub_port\": 61594,\n",
      "  \"stdin_port\": 61595,\n",
      "  \"control_port\": 61597,\n",
      "  \"hb_port\": 61596,\n",
      "  \"ip\": \"127.0.0.1\",\n",
      "  \"key\": \"5ca5db7b-25ad7678f7f3bb524e8c97f7\",\n",
      "  \"transport\": \"tcp\",\n",
      "  \"signature_scheme\": \"hmac-sha256\",\n",
      "  \"kernel_name\": \"\"\n",
      "}\n",
      "\n",
      "Paste the above JSON into a file, and connect with:\n",
      "    $> jupyter <app> --existing <file>\n",
      "or, if you are local, you can connect with just:\n",
      "    $> jupyter <app> --existing kernel-52108dde-b8f2-413a-a9d5-30da6408c6ae.json\n",
      "or even just:\n",
      "    $> jupyter <app> --existing\n",
      "if this is the most recent Jupyter kernel you have started.\n"
     ]
    }
   ],
   "source": [
    "%connect_info"
   ]
  },
  {
   "cell_type": "code",
   "execution_count": null,
   "id": "9428d7bd",
   "metadata": {},
   "outputs": [],
   "source": []
  }
 ],
 "metadata": {
  "kernelspec": {
   "display_name": "Python 3",
   "language": "python",
   "name": "python3"
  },
  "language_info": {
   "codemirror_mode": {
    "name": "ipython",
    "version": 3
   },
   "file_extension": ".py",
   "mimetype": "text/x-python",
   "name": "python",
   "nbconvert_exporter": "python",
   "pygments_lexer": "ipython3",
   "version": "3.8.8"
  }
 },
 "nbformat": 4,
 "nbformat_minor": 5
}
