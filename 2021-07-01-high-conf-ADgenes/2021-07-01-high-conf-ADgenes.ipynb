{
 "cells": [
  {
   "cell_type": "code",
   "execution_count": 1,
   "id": "fifty-meaning",
   "metadata": {},
   "outputs": [],
   "source": [
    "%load_ext autoreload\n",
    "%autoreload 2\n",
    "%reload_ext autoreload\n",
    "from matplotlib_venn import venn2\n",
    "import pandas as pd"
   ]
  },
  {
   "cell_type": "markdown",
   "id": "prompt-offering",
   "metadata": {},
   "source": [
    "### [PMID_32299494](https://www.ncbi.nlm.nih.gov/pmc/articles/PMC7164172/)\n",
    "\n",
    "An analysis of genetically regulated gene expression across multiple tissues implicates novel gene candidates in Alzheimer’s disease"
   ]
  },
  {
   "cell_type": "code",
   "execution_count": 2,
   "id": "returning-victim",
   "metadata": {},
   "outputs": [],
   "source": [
    "PMID_32299494_CMC = pd.read_csv('../../resources/AD-genes/PMID_32299494/Table6.csv')\n",
    "genesd = {}\n",
    "genesd['PMID_32299494_CMC'] = pd.DataFrame({'Gene': PMID_32299494_CMC['Gene'], 'PMID': 32299494, 'Method': 'S-PrediXcan', 'Tissue': 'DLPFC'})"
   ]
  },
  {
   "cell_type": "code",
   "execution_count": 3,
   "id": "scientific-exhaust",
   "metadata": {},
   "outputs": [],
   "source": [
    "PMID_32299494_FOCUS = pd.read_excel('../../resources/AD-genes/PMID_32299494/13195_2020_611_MOESM6_ESM.xlsx', sheet_name='focus_results')\n",
    "PMID_32299494_FOCUS = PMID_32299494_FOCUS.loc[PMID_32299494_FOCUS['pip'] > 0.25, :]\n",
    "genesd['PMID_32299494_FOCUS'] = pd.DataFrame({'Gene': PMID_32299494_FOCUS['mol_name'], 'PMID': 32299494, 'Method': 'FOCUS', 'Tissue': PMID_32299494_FOCUS['tissue']})"
   ]
  },
  {
   "cell_type": "markdown",
   "id": "macro-research",
   "metadata": {},
   "source": [
    "### [PMID_33417599](https://www.ncbi.nlm.nih.gov/pmc/articles/PMC7819609/)\n",
    "\n",
    "Identifying drug targets for neurological and psychiatric disease via genetics and the brain transcriptome"
   ]
  },
  {
   "cell_type": "code",
   "execution_count": 4,
   "id": "delayed-disposition",
   "metadata": {},
   "outputs": [],
   "source": [
    "PMID_33417599_MR = pd.read_csv('../../resources/AD-genes/PMID_33417599/journal.pgen.1009224.s005.csv')\n",
    "PMID_33417599_MR = PMID_33417599_MR.loc[PMID_33417599_MR['outcome (trait)'] == 'AD', ]\n",
    "genesd['PMID_33417599_MR'] = pd.DataFrame({'Gene': PMID_33417599_MR['exposure (gene)'], 'PMID': 33417599, 'Method': 'MR', 'Tissue': 'DLPFC'})"
   ]
  },
  {
   "cell_type": "markdown",
   "id": "pregnant-disability",
   "metadata": {},
   "source": [
    "### [PMID_30617256](https://www.ncbi.nlm.nih.gov/pmc/articles/PMC6836675/)\n",
    "\n",
    "Genome-wide meta-analysis identifies new loci and functional pathways influencing Alzheimer’s disease risk"
   ]
  },
  {
   "cell_type": "code",
   "execution_count": 5,
   "id": "threatened-oxygen",
   "metadata": {},
   "outputs": [],
   "source": [
    "PMID_30617256 = pd.read_excel('../../resources/AD-genes/PMID_30617256/NIHMS1031924-supplement-Supplemental_Tables.xlsx', sheet_name='Table S19', skiprows=4)\n",
    "PMID_30617256 = PMID_30617256.loc[~ PMID_30617256.Gene.isna(),]\n",
    "genesd['PMID_30617256'] = pd.DataFrame({'Gene': PMID_30617256['Gene'], 'PMID': 30617256, 'Method': 'multiple', 'Tissue': 'multiple'})"
   ]
  },
  {
   "cell_type": "markdown",
   "id": "intermediate-champion",
   "metadata": {},
   "source": [
    "### [PMID_30820047](https://www.ncbi.nlm.nih.gov/pmc/articles/PMC6463297/)\n",
    "\n",
    "Genetic meta-analysis of diagnosed Alzheimer’s disease identifies new risk loci and implicates Aβ, tau, immunity and lipid processing"
   ]
  },
  {
   "cell_type": "code",
   "execution_count": 6,
   "id": "developing-northern",
   "metadata": {},
   "outputs": [],
   "source": [
    "PMID_30820047_MR = pd.read_excel('../../resources/AD-genes/PMID_30820047/NIHMS1021255-supplement-S3.xlsx', sheet_name='Supplementary Table 15', skiprows=2)\n",
    "PMID_30820047_MR = PMID_30820047_MR.loc[~ PMID_30820047_MR['PSMR FDR'].isna(),]\n",
    "genesd['PMID_30820047_MR'] = pd.DataFrame({'Gene': PMID_30820047_MR['Gene'], 'PMID': 30820047, 'Method': 'SMR-Heidi', 'Tissue': 'blood'})"
   ]
  },
  {
   "cell_type": "code",
   "execution_count": 11,
   "id": "aboriginal-excitement",
   "metadata": {},
   "outputs": [
    {
     "data": {
      "text/plain": [
       "{'PMID_32299494_CMC': 12,\n",
       " 'PMID_32299494_FOCUS': 16,\n",
       " 'PMID_33417599_MR': 15,\n",
       " 'PMID_30617256': 16,\n",
       " 'PMID_30820047_MR': 22}"
      ]
     },
     "execution_count": 11,
     "metadata": {},
     "output_type": "execute_result"
    }
   ],
   "source": [
    "{k: len(v) for k, v in genesd.items()}"
   ]
  },
  {
   "cell_type": "code",
   "execution_count": 12,
   "id": "modified-terrace",
   "metadata": {},
   "outputs": [
    {
     "data": {
      "text/plain": [
       "MS4A6A          5\n",
       "CR1             4\n",
       "PTK2B           4\n",
       "SPI1            3\n",
       "PVR             3\n",
       "BIN1            3\n",
       "CLU             2\n",
       "CLPTM1          2\n",
       "HLA-DRB1        2\n",
       "MS4A2           2\n",
       "MS4A4A          2\n",
       "TOMM40          2\n",
       "HLA-DRA         1\n",
       "IGSF23          1\n",
       "EML2            1\n",
       "MYBPC3          1\n",
       "EPHA1           1\n",
       "PVRIG           1\n",
       "UNC79           1\n",
       "BCAM            1\n",
       "TSPAN14         1\n",
       "AP4M1           1\n",
       "CCNT2-AS1       1\n",
       "AC012146.1      1\n",
       "CEACAM19        1\n",
       "GRIK4           1\n",
       "ZNF223          1\n",
       "APOE            1\n",
       "AC135050.3      1\n",
       "X84075          1\n",
       "TAS2R60         1\n",
       "ZNF646          1\n",
       "KAT8            1\n",
       "HLA-DQA1        1\n",
       "CCDC6           1\n",
       "PILRB           1\n",
       "ZNF221          1\n",
       "SLC26A9         1\n",
       "PRSS36          1\n",
       "APOC1           1\n",
       "CUGBP1          1\n",
       "FZD4            1\n",
       "ZNF284          1\n",
       "AP2A2           1\n",
       "IRF2BP1         1\n",
       "RP5-935K16.1    1\n",
       "ACE             1\n",
       "ZNF222          1\n",
       "REEP6           1\n",
       "DMWD            1\n",
       "MAP3K2          1\n",
       "TRAPC6A         1\n",
       "SCIMP           1\n",
       "MS4A3           1\n",
       "APOC4           1\n",
       "PVRL2           1\n",
       "C1QTNF4         1\n",
       "RABEP1          1\n",
       "ZNF45           1\n",
       "Name: Gene, dtype: int64"
      ]
     },
     "execution_count": 12,
     "metadata": {},
     "output_type": "execute_result"
    }
   ],
   "source": [
    "genes = pd.concat(genesd.values())\n",
    "genes.Gene.value_counts()"
   ]
  },
  {
   "cell_type": "code",
   "execution_count": 9,
   "id": "aerial-camping",
   "metadata": {},
   "outputs": [
    {
     "name": "stdout",
     "output_type": "stream",
     "text": [
      "{\n",
      "  \"shell_port\": 55799,\n",
      "  \"iopub_port\": 60023,\n",
      "  \"stdin_port\": 37489,\n",
      "  \"control_port\": 51051,\n",
      "  \"hb_port\": 40167,\n",
      "  \"ip\": \"127.0.0.1\",\n",
      "  \"key\": \"5d7d4bf7-b7cddd8378dc4de9e3e5a56c\",\n",
      "  \"transport\": \"tcp\",\n",
      "  \"signature_scheme\": \"hmac-sha256\",\n",
      "  \"kernel_name\": \"\"\n",
      "}\n",
      "\n",
      "Paste the above JSON into a file, and connect with:\n",
      "    $> jupyter <app> --existing <file>\n",
      "or, if you are local, you can connect with just:\n",
      "    $> jupyter <app> --existing kernel-b72ebfc8-2d50-4953-a1cb-e29e7083267b.json\n",
      "or even just:\n",
      "    $> jupyter <app> --existing\n",
      "if this is the most recent Jupyter kernel you have started.\n"
     ]
    }
   ],
   "source": [
    "%connect_info"
   ]
  },
  {
   "cell_type": "code",
   "execution_count": null,
   "id": "nonprofit-philip",
   "metadata": {},
   "outputs": [],
   "source": []
  }
 ],
 "metadata": {
  "kernelspec": {
   "display_name": "Python 3",
   "language": "python",
   "name": "python3"
  },
  "language_info": {
   "codemirror_mode": {
    "name": "ipython",
    "version": 3
   },
   "file_extension": ".py",
   "mimetype": "text/x-python",
   "name": "python",
   "nbconvert_exporter": "python",
   "pygments_lexer": "ipython3",
   "version": "3.7.6"
  }
 },
 "nbformat": 4,
 "nbformat_minor": 5
}
