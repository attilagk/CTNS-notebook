{
 "cells": [
  {
   "cell_type": "markdown",
   "id": "respiratory-generic",
   "metadata": {},
   "source": [
    "We compile smaller AD gene sets, which we will use as a seed gene set for prioritizing a larger number AD candidate genes.  These smallar AD gene sets come from three types of information sources:\n",
    "1. knowledge bases (from the DISEASES database)\n",
    "1. TWAS (transcriptome-wide association studies)\n",
    "1. the incipient AD proteomic signature (Roberts et al unpublished)"
   ]
  },
  {
   "cell_type": "code",
   "execution_count": 1,
   "id": "fifty-meaning",
   "metadata": {},
   "outputs": [],
   "source": [
    "%load_ext autoreload\n",
    "%autoreload 2\n",
    "%reload_ext autoreload\n",
    "from matplotlib_venn import venn2\n",
    "import pandas as pd\n",
    "import numpy as np\n",
    "import matplotlib.pyplot as plt\n",
    "import seaborn as sns\n",
    "from matplotlib_venn import venn2, venn3\n",
    "import adgenes\n",
    "import attila_utils"
   ]
  },
  {
   "cell_type": "markdown",
   "id": "interracial-religious",
   "metadata": {},
   "source": [
    "## Preparation\n",
    "\n",
    "### Correcting gene symbols\n",
    "\n",
    "Some gene symbols are correct but noncanonical (there's another, more widely used, symbol for the same gene).  Other symbols were mistyped by the authors.  Yet others refer to lincRNAs (long intergenic non-coding RNAs). This was noticed while using the [g:Profiler](https://biit.cs.ut.ee/gprofiler/convert) conversion tool.\n",
    "\n",
    "To correct this I introduce the following dictionary: (TODO)"
   ]
  },
  {
   "cell_type": "code",
   "execution_count": 2,
   "id": "rapid-burns",
   "metadata": {},
   "outputs": [],
   "source": [
    "alt_symbols = {'GIG25': 'SERPINA3', 'PVRL2': 'NECTIN2', 'RP5-935K16.1': 'ENSG00000270081.1', 'AC012146.1': 'ZNF232-AS1', 'TRAPC6A': 'TRPC6', 'AC135050.3': 'ENSG00000260911', 'CUGBP1': 'CELF1', 'CCNT2-AS1': 'CCNT2-AS1'}"
   ]
  },
  {
   "cell_type": "markdown",
   "id": "medieval-quantum",
   "metadata": {},
   "source": [
    "### Transcriptome-wide association studies (TWAS)\n",
    "\n",
    "First we start with AD gene sets from several TWAS.  See PMIDs below to find each publication and [this Google sheet](https://docs.google.com/spreadsheets/d/1n9Zl-bEeetRdHOPBH760vdjfQtTzFPC3THoH7WyfE7E/edit?usp=sharing).\n",
    "\n",
    "### [PMID_32299494](https://www.ncbi.nlm.nih.gov/pmc/articles/PMC7164172/) Gerring et al 2020\n",
    "\n",
    "An analysis of genetically regulated gene expression across multiple tissues implicates novel gene candidates in Alzheimer’s disease"
   ]
  },
  {
   "cell_type": "code",
   "execution_count": 3,
   "id": "returning-victim",
   "metadata": {},
   "outputs": [],
   "source": [
    "PMID_32299494_CMC = pd.read_csv('../../resources/AD-genes/PMID_32299494/Table6.csv')\n",
    "genesd = {}\n",
    "df = pd.DataFrame({'Gene': PMID_32299494_CMC['Gene'], 'Author': 'Gerring', 'PMID': 32299494, 'Method': 'S-PrediXcan', 'Tissue': 'cerebral cortex', 'Score': np.log10(PMID_32299494_CMC['P_CMC'])})\n",
    "genesd['PMID_32299494_CMC'] = adgenes.correct_symbols(df=df, alt_symbols=alt_symbols)"
   ]
  },
  {
   "cell_type": "code",
   "execution_count": 4,
   "id": "scientific-exhaust",
   "metadata": {},
   "outputs": [],
   "source": [
    "PMID_32299494_FOCUS = pd.read_excel('../../resources/AD-genes/PMID_32299494/13195_2020_611_MOESM6_ESM.xlsx', sheet_name='focus_results')\n",
    "PMID_32299494_FOCUS = PMID_32299494_FOCUS.loc[PMID_32299494_FOCUS['pip'] > 0.25, :]\n",
    "PMID_32299494_FOCUS = PMID_32299494_FOCUS.drop(0, 0)\n",
    "df = pd.DataFrame({'Gene': PMID_32299494_FOCUS['mol_name'], 'Author': 'Gerring', 'PMID': 32299494, 'Method': 'FOCUS', 'Tissue': 'multi tissue', 'Score': np.abs(PMID_32299494_FOCUS['twas_z'])})\n",
    "#df = pd.DataFrame({'Gene': PMID_32299494_FOCUS['mol_name'], 'Author': 'Gerring', 'PMID': 32299494, 'Method': 'FOCUS', 'Tissue': PMID_32299494_FOCUS['tissue'], 'Score': np.abs(PMID_32299494_FOCUS['twas_z'])})\n",
    "genesd['PMID_32299494_FOCUS'] = adgenes.correct_symbols(df=df, alt_symbols=alt_symbols)"
   ]
  },
  {
   "cell_type": "markdown",
   "id": "amended-sessions",
   "metadata": {},
   "source": [
    "### [PMID_33417599](https://www.ncbi.nlm.nih.gov/pmc/articles/PMC7819609/) Baird et al 2021\n",
    "\n",
    "Identifying drug targets for neurological and psychiatric disease via genetics and the brain transcriptome"
   ]
  },
  {
   "cell_type": "code",
   "execution_count": 5,
   "id": "delayed-disposition",
   "metadata": {},
   "outputs": [],
   "source": [
    "PMID_33417599_MR = pd.read_csv('../../resources/AD-genes/PMID_33417599/journal.pgen.1009224.s005.csv')\n",
    "PMID_33417599_MR = PMID_33417599_MR.loc[PMID_33417599_MR['outcome (trait)'] == 'AD', ]\n",
    "df = pd.DataFrame({'Gene': PMID_33417599_MR['exposure (gene)'], 'Author': 'Baird', 'PMID': 33417599, 'Method': 'MR', 'Tissue': 'cerebral cortex', 'Score': np.log10(PMID_33417599_MR['P.2'])})\n",
    "genesd['PMID_33417599_MR'] = adgenes.correct_symbols(df=df, alt_symbols=alt_symbols)"
   ]
  },
  {
   "cell_type": "markdown",
   "id": "heard-oriental",
   "metadata": {},
   "source": [
    "### [PMID_30617256](https://www.ncbi.nlm.nih.gov/pmc/articles/PMC6836675/) Jansen et al 2019\n",
    "\n",
    "Genome-wide meta-analysis identifies new loci and functional pathways influencing Alzheimer’s disease risk"
   ]
  },
  {
   "cell_type": "code",
   "execution_count": 6,
   "id": "threatened-oxygen",
   "metadata": {},
   "outputs": [],
   "source": [
    "PMID_30617256 = pd.read_excel('../../resources/AD-genes/PMID_30617256/NIHMS1031924-supplement-Supplemental_Tables.xlsx', sheet_name='Table S19', skiprows=4)\n",
    "PMID_30617256 = PMID_30617256.loc[~ PMID_30617256.Gene.isna(),]\n",
    "df = pd.DataFrame({'Gene': PMID_30617256['Gene'], 'Author': 'Jansen', 'PMID': 30617256, 'Method': 'multi method', 'Tissue': 'multi tissue', 'Score': np.log10(PMID_30617256['P'])})\n",
    "genesd['PMID_30617256'] = adgenes.correct_symbols(df=df, alt_symbols=alt_symbols)"
   ]
  },
  {
   "cell_type": "markdown",
   "id": "micro-puzzle",
   "metadata": {},
   "source": [
    "### [PMID_30820047](https://www.ncbi.nlm.nih.gov/pmc/articles/PMC6463297/) Kunkle et al 2019\n",
    "\n",
    "Genetic meta-analysis of diagnosed Alzheimer’s disease identifies new risk loci and implicates Aβ, tau, immunity and lipid processing"
   ]
  },
  {
   "cell_type": "code",
   "execution_count": 7,
   "id": "developing-northern",
   "metadata": {},
   "outputs": [],
   "source": [
    "PMID_30820047_MR = pd.read_excel('../../resources/AD-genes/PMID_30820047/NIHMS1021255-supplement-S3.xlsx', sheet_name='Supplementary Table 15', skiprows=2)\n",
    "PMID_30820047_MR = PMID_30820047_MR.loc[~ PMID_30820047_MR['PSMR FDR'].isna(),]\n",
    "PMID_30820047_MR = PMID_30820047_MR.groupby('Gene').first()\n",
    "df = pd.DataFrame({'Gene': PMID_30820047_MR.index, 'Author': 'Kunkle', 'PMID': 30820047, 'Method': 'SMR-HEIDI', 'Tissue': 'blood', 'Score': np.log10(PMID_30820047_MR['P SRM'])})\n",
    "genesd['PMID_30820047_MR'] = adgenes.correct_symbols(df=df, alt_symbols=alt_symbols)"
   ]
  },
  {
   "cell_type": "code",
   "execution_count": 8,
   "id": "unable-thickness",
   "metadata": {},
   "outputs": [],
   "source": [
    "PMID_30820047_COLOC = pd.read_excel('../../resources/AD-genes/PMID_30820047/NIHMS1021255-supplement-S3.xlsx', sheet_name='Supplementary Table 14', skiprows=3)\n",
    "PMID_30820047_COLOC = PMID_30820047_COLOC.drop(df.columns[12:], axis=1)\n",
    "PMID_30820047_COLOC = PMID_30820047_COLOC.loc[PMID_30820047_COLOC['GTEx Tissue Class'].isin({'Brain', 'Blood'}), :]\n",
    "PMID_30820047_COLOC = PMID_30820047_COLOC.groupby('Locus').first()\n",
    "df = pd.DataFrame({'Gene': PMID_30820047_COLOC['eQTL Gene Name'], 'Author': 'Kunkle', 'PMID': 30820047, 'Method': 'COLOC', 'Tissue': 'brain or blood', 'Score': PMID_30820047_COLOC['PP.H4.abf']})\n",
    "genesd['PMID_30820047_COLOC'] = adgenes.correct_symbols(df=df, alt_symbols=alt_symbols)"
   ]
  },
  {
   "cell_type": "markdown",
   "id": "leading-drinking",
   "metadata": {},
   "source": [
    "### [PMID_33510477](https://www.ncbi.nlm.nih.gov/pmc/articles/PMC8130821/) Wingo et al 2021\n",
    "\n",
    "Integrating human brain proteomes with genome-wide association data implicates new proteins in Alzheimer’s disease pathogenesis"
   ]
  },
  {
   "cell_type": "code",
   "execution_count": 9,
   "id": "broken-morris",
   "metadata": {},
   "outputs": [],
   "source": [
    "PMID_33510477 = pd.read_excel('../../resources/AD-genes/PMID_33510477/NIHMS1656683-supplement-2.xlsx', sheet_name='SupTb2', skiprows=2)\n",
    "PMID_33510477 = PMID_33510477.loc[PMID_33510477['PWAS.P.fdr'] < 0.05, :]\n",
    "df = pd.DataFrame({'Gene': PMID_33510477['Gene'], 'Author': 'Wingo', 'PMID': 33510477, 'Method': 'SMR-HEIDI & COLOC (PWAS)', 'Tissue': 'cerebral cortex', 'Score': np.log10(PMID_33510477['PWAS.P.fdr'])})\n",
    "genesd['PMID_33510477'] = adgenes.correct_symbols(df=df, alt_symbols=alt_symbols)"
   ]
  },
  {
   "cell_type": "markdown",
   "id": "royal-revision",
   "metadata": {},
   "source": [
    "### [PMID_33589840](https://www.ncbi.nlm.nih.gov/pmc/articles/PMC7610386/) Schwartzentruber et al 2021\n",
    "\n",
    "Genome-wide meta-analysis, fine-mapping, and integrative prioritization implicate new Alzheimer’s disease risk genes\n",
    "\n",
    "For the construction of the prioritized gene list in [Fig 6](https://www.ncbi.nlm.nih.gov/pmc/articles/PMC7610386/figure/F6/) see the figure legend.  Briefly:\n",
    "> The top gene at each locus is shown, as well as the next 13 top genes by model score"
   ]
  },
  {
   "cell_type": "code",
   "execution_count": 10,
   "id": "split-corps",
   "metadata": {},
   "outputs": [],
   "source": [
    "PMID_33589840  = pd.read_excel('../../resources/AD-genes/PMID_33589840/EMS118040-supplement-Supplementary_Tables_1_14.xlsx', sheet_name='13-gene evidence rankings', skiprows=0)\n",
    "PMID_33589840 = PMID_33589840.set_index(PMID_33589840.symbol)\n",
    "# get locusmax, the top gene at each locus\n",
    "g = PMID_33589840.groupby('locus')\n",
    "PMID_33589840_locusmax = PMID_33589840.loc[g['model prob'].idxmax(axis=0), :].copy()\n",
    "PMID_33589840_locusmax\n",
    "# get restmax, the next top 13 genes\n",
    "PMID_33589840_restmax = PMID_33589840.drop(PMID_33589840_locusmax.index).sort_values('model prob', ascending=False).head(n=13)\n",
    "PMID_33589840 = pd.concat([PMID_33589840_locusmax, PMID_33589840_restmax])\n",
    "df = pd.DataFrame({'Gene': PMID_33589840['symbol'], 'Author': 'Schwartzentruber', 'PMID': 33589840, 'Method': 'multi method', 'Tissue': 'multi tissue', 'Score': PMID_33589840['model prob']})\n",
    "genesd['PMID_33589840'] = adgenes.correct_symbols(df=df, alt_symbols=alt_symbols)"
   ]
  },
  {
   "cell_type": "markdown",
   "id": "located-palestinian",
   "metadata": {},
   "source": [
    "### Aggregation of all analyses"
   ]
  },
  {
   "cell_type": "code",
   "execution_count": 11,
   "id": "charming-permit",
   "metadata": {},
   "outputs": [],
   "source": [
    "genes = pd.concat(genesd.values())\n",
    "genes['Analysis'] = genes.apply(lambda x: x.Author + ', ' + x.Method + ', ' + x.Tissue, axis=1)"
   ]
  },
  {
   "cell_type": "markdown",
   "id": "proper-youth",
   "metadata": {},
   "source": [
    "### DISEASES"
   ]
  },
  {
   "cell_type": "code",
   "execution_count": 12,
   "id": "beginning-hometown",
   "metadata": {},
   "outputs": [
    {
     "data": {
      "text/html": [
       "<div>\n",
       "<style scoped>\n",
       "    .dataframe tbody tr th:only-of-type {\n",
       "        vertical-align: middle;\n",
       "    }\n",
       "\n",
       "    .dataframe tbody tr th {\n",
       "        vertical-align: top;\n",
       "    }\n",
       "\n",
       "    .dataframe thead th {\n",
       "        text-align: right;\n",
       "    }\n",
       "</style>\n",
       "<table border=\"1\" class=\"dataframe\">\n",
       "  <thead>\n",
       "    <tr style=\"text-align: right;\">\n",
       "      <th></th>\n",
       "      <th>Ensemble ID</th>\n",
       "      <th>Gene</th>\n",
       "      <th>DOID</th>\n",
       "      <th>Disease</th>\n",
       "      <th>Source</th>\n",
       "      <th>Type</th>\n",
       "      <th>Confidence</th>\n",
       "    </tr>\n",
       "  </thead>\n",
       "  <tbody>\n",
       "    <tr>\n",
       "      <th>8</th>\n",
       "      <td>ENSP00000012443</td>\n",
       "      <td>PPP5C</td>\n",
       "      <td>DOID:10652</td>\n",
       "      <td>Alzheimer's disease</td>\n",
       "      <td>UniProtKB-KW</td>\n",
       "      <td>CURATED</td>\n",
       "      <td>4</td>\n",
       "    </tr>\n",
       "    <tr>\n",
       "      <th>277</th>\n",
       "      <td>ENSP00000222330</td>\n",
       "      <td>GSK3A</td>\n",
       "      <td>DOID:10652</td>\n",
       "      <td>Alzheimer's disease</td>\n",
       "      <td>UniProtKB-KW</td>\n",
       "      <td>CURATED</td>\n",
       "      <td>4</td>\n",
       "    </tr>\n",
       "    <tr>\n",
       "      <th>504</th>\n",
       "      <td>ENSP00000236671</td>\n",
       "      <td>CTSD</td>\n",
       "      <td>DOID:10652</td>\n",
       "      <td>Alzheimer's disease</td>\n",
       "      <td>AmyCo</td>\n",
       "      <td>CURATED</td>\n",
       "      <td>4</td>\n",
       "    </tr>\n",
       "    <tr>\n",
       "      <th>505</th>\n",
       "      <td>ENSP00000236671</td>\n",
       "      <td>CTSD</td>\n",
       "      <td>DOID:10652</td>\n",
       "      <td>Alzheimer's disease</td>\n",
       "      <td>UniProtKB-KW</td>\n",
       "      <td>CURATED</td>\n",
       "      <td>4</td>\n",
       "    </tr>\n",
       "    <tr>\n",
       "      <th>770</th>\n",
       "      <td>ENSP00000252486</td>\n",
       "      <td>APOE</td>\n",
       "      <td>DOID:10652</td>\n",
       "      <td>Alzheimer's disease</td>\n",
       "      <td>AmyCo</td>\n",
       "      <td>CURATED</td>\n",
       "      <td>4</td>\n",
       "    </tr>\n",
       "    <tr>\n",
       "      <th>771</th>\n",
       "      <td>ENSP00000252486</td>\n",
       "      <td>APOE</td>\n",
       "      <td>DOID:10652</td>\n",
       "      <td>Alzheimer's disease</td>\n",
       "      <td>GHR</td>\n",
       "      <td>CURATED</td>\n",
       "      <td>5</td>\n",
       "    </tr>\n",
       "    <tr>\n",
       "      <th>772</th>\n",
       "      <td>ENSP00000252486</td>\n",
       "      <td>APOE</td>\n",
       "      <td>DOID:10652</td>\n",
       "      <td>Alzheimer's disease</td>\n",
       "      <td>UniProtKB-KW</td>\n",
       "      <td>CURATED</td>\n",
       "      <td>4</td>\n",
       "    </tr>\n",
       "    <tr>\n",
       "      <th>866</th>\n",
       "      <td>ENSP00000255040</td>\n",
       "      <td>APCS</td>\n",
       "      <td>DOID:10652</td>\n",
       "      <td>Alzheimer's disease</td>\n",
       "      <td>AmyCo</td>\n",
       "      <td>CURATED</td>\n",
       "      <td>4</td>\n",
       "    </tr>\n",
       "    <tr>\n",
       "      <th>1016</th>\n",
       "      <td>ENSP00000260197</td>\n",
       "      <td>SORL1</td>\n",
       "      <td>DOID:10652</td>\n",
       "      <td>Alzheimer's disease</td>\n",
       "      <td>UniProtKB-KW</td>\n",
       "      <td>CURATED</td>\n",
       "      <td>4</td>\n",
       "    </tr>\n",
       "    <tr>\n",
       "      <th>1024</th>\n",
       "      <td>ENSP00000260408</td>\n",
       "      <td>ADAM10</td>\n",
       "      <td>DOID:10652</td>\n",
       "      <td>Alzheimer's disease</td>\n",
       "      <td>UniProtKB-KW</td>\n",
       "      <td>CURATED</td>\n",
       "      <td>4</td>\n",
       "    </tr>\n",
       "    <tr>\n",
       "      <th>1280</th>\n",
       "      <td>ENSP00000263094</td>\n",
       "      <td>ABCA7</td>\n",
       "      <td>DOID:10652</td>\n",
       "      <td>Alzheimer's disease</td>\n",
       "      <td>UniProtKB-KW</td>\n",
       "      <td>CURATED</td>\n",
       "      <td>4</td>\n",
       "    </tr>\n",
       "    <tr>\n",
       "      <th>1922</th>\n",
       "      <td>ENSP00000284981</td>\n",
       "      <td>APP</td>\n",
       "      <td>DOID:10652</td>\n",
       "      <td>Alzheimer's disease</td>\n",
       "      <td>AmyCo</td>\n",
       "      <td>CURATED</td>\n",
       "      <td>4</td>\n",
       "    </tr>\n",
       "    <tr>\n",
       "      <th>1923</th>\n",
       "      <td>ENSP00000284981</td>\n",
       "      <td>APP</td>\n",
       "      <td>DOID:10652</td>\n",
       "      <td>Alzheimer's disease</td>\n",
       "      <td>GHR</td>\n",
       "      <td>CURATED</td>\n",
       "      <td>5</td>\n",
       "    </tr>\n",
       "    <tr>\n",
       "      <th>1924</th>\n",
       "      <td>ENSP00000284981</td>\n",
       "      <td>APP</td>\n",
       "      <td>DOID:10652</td>\n",
       "      <td>Alzheimer's disease</td>\n",
       "      <td>UniProtKB-KW</td>\n",
       "      <td>CURATED</td>\n",
       "      <td>4</td>\n",
       "    </tr>\n",
       "    <tr>\n",
       "      <th>2088</th>\n",
       "      <td>ENSP00000292385</td>\n",
       "      <td>DBN1</td>\n",
       "      <td>DOID:10652</td>\n",
       "      <td>Alzheimer's disease</td>\n",
       "      <td>UniProtKB-KW</td>\n",
       "      <td>CURATED</td>\n",
       "      <td>4</td>\n",
       "    </tr>\n",
       "    <tr>\n",
       "      <th>2762</th>\n",
       "      <td>ENSP00000315130</td>\n",
       "      <td>CLU</td>\n",
       "      <td>DOID:10652</td>\n",
       "      <td>Alzheimer's disease</td>\n",
       "      <td>AmyCo</td>\n",
       "      <td>CURATED</td>\n",
       "      <td>4</td>\n",
       "    </tr>\n",
       "    <tr>\n",
       "      <th>2987</th>\n",
       "      <td>ENSP00000323929</td>\n",
       "      <td>A2M</td>\n",
       "      <td>DOID:10652</td>\n",
       "      <td>Alzheimer's disease</td>\n",
       "      <td>AmyCo</td>\n",
       "      <td>CURATED</td>\n",
       "      <td>4</td>\n",
       "    </tr>\n",
       "    <tr>\n",
       "      <th>3005</th>\n",
       "      <td>ENSP00000324806</td>\n",
       "      <td>GSK3B</td>\n",
       "      <td>DOID:10652</td>\n",
       "      <td>Alzheimer's disease</td>\n",
       "      <td>UniProtKB-KW</td>\n",
       "      <td>CURATED</td>\n",
       "      <td>4</td>\n",
       "    </tr>\n",
       "    <tr>\n",
       "      <th>3050</th>\n",
       "      <td>ENSP00000326366</td>\n",
       "      <td>PSEN1</td>\n",
       "      <td>DOID:10652</td>\n",
       "      <td>Alzheimer's disease</td>\n",
       "      <td>GHR</td>\n",
       "      <td>CURATED</td>\n",
       "      <td>5</td>\n",
       "    </tr>\n",
       "    <tr>\n",
       "      <th>3051</th>\n",
       "      <td>ENSP00000326366</td>\n",
       "      <td>PSEN1</td>\n",
       "      <td>DOID:10652</td>\n",
       "      <td>Alzheimer's disease</td>\n",
       "      <td>UniProtKB-KW</td>\n",
       "      <td>CURATED</td>\n",
       "      <td>4</td>\n",
       "    </tr>\n",
       "    <tr>\n",
       "      <th>3394</th>\n",
       "      <td>ENSP00000338345</td>\n",
       "      <td>SNCA</td>\n",
       "      <td>DOID:10652</td>\n",
       "      <td>Alzheimer's disease</td>\n",
       "      <td>UniProtKB-KW</td>\n",
       "      <td>CURATED</td>\n",
       "      <td>4</td>\n",
       "    </tr>\n",
       "    <tr>\n",
       "      <th>3497</th>\n",
       "      <td>ENSP00000340820</td>\n",
       "      <td>MAPT</td>\n",
       "      <td>DOID:10652</td>\n",
       "      <td>Alzheimer's disease</td>\n",
       "      <td>AmyCo</td>\n",
       "      <td>CURATED</td>\n",
       "      <td>4</td>\n",
       "    </tr>\n",
       "    <tr>\n",
       "      <th>3498</th>\n",
       "      <td>ENSP00000340820</td>\n",
       "      <td>MAPT</td>\n",
       "      <td>DOID:10652</td>\n",
       "      <td>Alzheimer's disease</td>\n",
       "      <td>UniProtKB-KW</td>\n",
       "      <td>CURATED</td>\n",
       "      <td>4</td>\n",
       "    </tr>\n",
       "    <tr>\n",
       "      <th>3660</th>\n",
       "      <td>ENSP00000345672</td>\n",
       "      <td>CTSB</td>\n",
       "      <td>DOID:10652</td>\n",
       "      <td>Alzheimer's disease</td>\n",
       "      <td>AmyCo</td>\n",
       "      <td>CURATED</td>\n",
       "      <td>4</td>\n",
       "    </tr>\n",
       "    <tr>\n",
       "      <th>4152</th>\n",
       "      <td>ENSP00000354687</td>\n",
       "      <td>MT-ND1</td>\n",
       "      <td>DOID:10652</td>\n",
       "      <td>Alzheimer's disease</td>\n",
       "      <td>UniProtKB-KW</td>\n",
       "      <td>CURATED</td>\n",
       "      <td>4</td>\n",
       "    </tr>\n",
       "    <tr>\n",
       "      <th>4220</th>\n",
       "      <td>ENSP00000355046</td>\n",
       "      <td>MT-ND2</td>\n",
       "      <td>DOID:10652</td>\n",
       "      <td>Alzheimer's disease</td>\n",
       "      <td>UniProtKB-KW</td>\n",
       "      <td>CURATED</td>\n",
       "      <td>4</td>\n",
       "    </tr>\n",
       "    <tr>\n",
       "      <th>4282</th>\n",
       "      <td>ENSP00000355747</td>\n",
       "      <td>PSEN2</td>\n",
       "      <td>DOID:10652</td>\n",
       "      <td>Alzheimer's disease</td>\n",
       "      <td>GHR</td>\n",
       "      <td>CURATED</td>\n",
       "      <td>5</td>\n",
       "    </tr>\n",
       "    <tr>\n",
       "      <th>4283</th>\n",
       "      <td>ENSP00000355747</td>\n",
       "      <td>PSEN2</td>\n",
       "      <td>DOID:10652</td>\n",
       "      <td>Alzheimer's disease</td>\n",
       "      <td>UniProtKB-KW</td>\n",
       "      <td>CURATED</td>\n",
       "      <td>4</td>\n",
       "    </tr>\n",
       "    <tr>\n",
       "      <th>4382</th>\n",
       "      <td>ENSP00000356607</td>\n",
       "      <td>RALGPS2</td>\n",
       "      <td>DOID:10652</td>\n",
       "      <td>Alzheimer's disease</td>\n",
       "      <td>UniProtKB-KW</td>\n",
       "      <td>CURATED</td>\n",
       "      <td>4</td>\n",
       "    </tr>\n",
       "    <tr>\n",
       "      <th>4980</th>\n",
       "      <td>ENSP00000363827</td>\n",
       "      <td>HSPG2</td>\n",
       "      <td>DOID:10652</td>\n",
       "      <td>Alzheimer's disease</td>\n",
       "      <td>AmyCo</td>\n",
       "      <td>CURATED</td>\n",
       "      <td>4</td>\n",
       "    </tr>\n",
       "    <tr>\n",
       "      <th>5664</th>\n",
       "      <td>ENSP00000376793</td>\n",
       "      <td>SERPINA3</td>\n",
       "      <td>DOID:10652</td>\n",
       "      <td>Alzheimer's disease</td>\n",
       "      <td>AmyCo</td>\n",
       "      <td>CURATED</td>\n",
       "      <td>4</td>\n",
       "    </tr>\n",
       "    <tr>\n",
       "      <th>5957</th>\n",
       "      <td>ENSP00000381448</td>\n",
       "      <td>CST3</td>\n",
       "      <td>DOID:10652</td>\n",
       "      <td>Alzheimer's disease</td>\n",
       "      <td>AmyCo</td>\n",
       "      <td>CURATED</td>\n",
       "      <td>4</td>\n",
       "    </tr>\n",
       "    <tr>\n",
       "      <th>6118</th>\n",
       "      <td>ENSP00000385675</td>\n",
       "      <td>IL6</td>\n",
       "      <td>DOID:10652</td>\n",
       "      <td>Alzheimer's disease</td>\n",
       "      <td>AmyCo</td>\n",
       "      <td>CURATED</td>\n",
       "      <td>4</td>\n",
       "    </tr>\n",
       "    <tr>\n",
       "      <th>6508</th>\n",
       "      <td>ENSP00000406022</td>\n",
       "      <td>UNC5C</td>\n",
       "      <td>DOID:10652</td>\n",
       "      <td>Alzheimer's disease</td>\n",
       "      <td>UniProtKB-KW</td>\n",
       "      <td>CURATED</td>\n",
       "      <td>4</td>\n",
       "    </tr>\n",
       "  </tbody>\n",
       "</table>\n",
       "</div>"
      ],
      "text/plain": [
       "          Ensemble ID      Gene        DOID              Disease  \\\n",
       "8     ENSP00000012443     PPP5C  DOID:10652  Alzheimer's disease   \n",
       "277   ENSP00000222330     GSK3A  DOID:10652  Alzheimer's disease   \n",
       "504   ENSP00000236671      CTSD  DOID:10652  Alzheimer's disease   \n",
       "505   ENSP00000236671      CTSD  DOID:10652  Alzheimer's disease   \n",
       "770   ENSP00000252486      APOE  DOID:10652  Alzheimer's disease   \n",
       "771   ENSP00000252486      APOE  DOID:10652  Alzheimer's disease   \n",
       "772   ENSP00000252486      APOE  DOID:10652  Alzheimer's disease   \n",
       "866   ENSP00000255040      APCS  DOID:10652  Alzheimer's disease   \n",
       "1016  ENSP00000260197     SORL1  DOID:10652  Alzheimer's disease   \n",
       "1024  ENSP00000260408    ADAM10  DOID:10652  Alzheimer's disease   \n",
       "1280  ENSP00000263094     ABCA7  DOID:10652  Alzheimer's disease   \n",
       "1922  ENSP00000284981       APP  DOID:10652  Alzheimer's disease   \n",
       "1923  ENSP00000284981       APP  DOID:10652  Alzheimer's disease   \n",
       "1924  ENSP00000284981       APP  DOID:10652  Alzheimer's disease   \n",
       "2088  ENSP00000292385      DBN1  DOID:10652  Alzheimer's disease   \n",
       "2762  ENSP00000315130       CLU  DOID:10652  Alzheimer's disease   \n",
       "2987  ENSP00000323929       A2M  DOID:10652  Alzheimer's disease   \n",
       "3005  ENSP00000324806     GSK3B  DOID:10652  Alzheimer's disease   \n",
       "3050  ENSP00000326366     PSEN1  DOID:10652  Alzheimer's disease   \n",
       "3051  ENSP00000326366     PSEN1  DOID:10652  Alzheimer's disease   \n",
       "3394  ENSP00000338345      SNCA  DOID:10652  Alzheimer's disease   \n",
       "3497  ENSP00000340820      MAPT  DOID:10652  Alzheimer's disease   \n",
       "3498  ENSP00000340820      MAPT  DOID:10652  Alzheimer's disease   \n",
       "3660  ENSP00000345672      CTSB  DOID:10652  Alzheimer's disease   \n",
       "4152  ENSP00000354687    MT-ND1  DOID:10652  Alzheimer's disease   \n",
       "4220  ENSP00000355046    MT-ND2  DOID:10652  Alzheimer's disease   \n",
       "4282  ENSP00000355747     PSEN2  DOID:10652  Alzheimer's disease   \n",
       "4283  ENSP00000355747     PSEN2  DOID:10652  Alzheimer's disease   \n",
       "4382  ENSP00000356607   RALGPS2  DOID:10652  Alzheimer's disease   \n",
       "4980  ENSP00000363827     HSPG2  DOID:10652  Alzheimer's disease   \n",
       "5664  ENSP00000376793  SERPINA3  DOID:10652  Alzheimer's disease   \n",
       "5957  ENSP00000381448      CST3  DOID:10652  Alzheimer's disease   \n",
       "6118  ENSP00000385675       IL6  DOID:10652  Alzheimer's disease   \n",
       "6508  ENSP00000406022     UNC5C  DOID:10652  Alzheimer's disease   \n",
       "\n",
       "            Source     Type  Confidence  \n",
       "8     UniProtKB-KW  CURATED           4  \n",
       "277   UniProtKB-KW  CURATED           4  \n",
       "504          AmyCo  CURATED           4  \n",
       "505   UniProtKB-KW  CURATED           4  \n",
       "770          AmyCo  CURATED           4  \n",
       "771            GHR  CURATED           5  \n",
       "772   UniProtKB-KW  CURATED           4  \n",
       "866          AmyCo  CURATED           4  \n",
       "1016  UniProtKB-KW  CURATED           4  \n",
       "1024  UniProtKB-KW  CURATED           4  \n",
       "1280  UniProtKB-KW  CURATED           4  \n",
       "1922         AmyCo  CURATED           4  \n",
       "1923           GHR  CURATED           5  \n",
       "1924  UniProtKB-KW  CURATED           4  \n",
       "2088  UniProtKB-KW  CURATED           4  \n",
       "2762         AmyCo  CURATED           4  \n",
       "2987         AmyCo  CURATED           4  \n",
       "3005  UniProtKB-KW  CURATED           4  \n",
       "3050           GHR  CURATED           5  \n",
       "3051  UniProtKB-KW  CURATED           4  \n",
       "3394  UniProtKB-KW  CURATED           4  \n",
       "3497         AmyCo  CURATED           4  \n",
       "3498  UniProtKB-KW  CURATED           4  \n",
       "3660         AmyCo  CURATED           4  \n",
       "4152  UniProtKB-KW  CURATED           4  \n",
       "4220  UniProtKB-KW  CURATED           4  \n",
       "4282           GHR  CURATED           5  \n",
       "4283  UniProtKB-KW  CURATED           4  \n",
       "4382  UniProtKB-KW  CURATED           4  \n",
       "4980         AmyCo  CURATED           4  \n",
       "5664         AmyCo  CURATED           4  \n",
       "5957         AmyCo  CURATED           4  \n",
       "6118         AmyCo  CURATED           4  \n",
       "6508  UniProtKB-KW  CURATED           4  "
      ]
     },
     "execution_count": 12,
     "metadata": {},
     "output_type": "execute_result"
    }
   ],
   "source": [
    "cols = ['Ensemble ID', 'Gene', 'DOID', 'Disease', 'Source', 'Type', 'Confidence']\n",
    "diseases = pd.read_csv('../../resources/DISEASES/human_disease_knowledge_filtered.tsv', sep='\\t', names=cols)\n",
    "diseases = diseases.loc[diseases.Disease == \"Alzheimer's disease\", ]\n",
    "diseases = adgenes.correct_symbols(df=diseases, alt_symbols=alt_symbols)\n",
    "diseases"
   ]
  },
  {
   "cell_type": "code",
   "execution_count": 13,
   "id": "swiss-stream",
   "metadata": {},
   "outputs": [],
   "source": [
    "genes_knowledge = set(diseases.Gene)\n",
    "genes_twas = set(genes.Gene)"
   ]
  },
  {
   "cell_type": "markdown",
   "id": "electric-playlist",
   "metadata": {},
   "source": [
    "### Incipient AD proteomic signature\n",
    "These are taken from the unpublished manuscript by Jackson Roberts et al: A Brain Proteomic Signature of Incipient Alzheimer’s Disease in Young APOE ε4 Carriers."
   ]
  },
  {
   "cell_type": "code",
   "execution_count": 14,
   "id": "incorporated-germany",
   "metadata": {},
   "outputs": [],
   "source": [
    "genes_proteo = {'AKT2', 'CAMK2B', 'CAMK2D', 'CCL19', 'DAPK2', 'DUSP3', 'FYN', 'GRP', 'HMOX2', 'IFNL2', 'KPNB1', 'LGALS8', 'LRPAP1', 'LRRTM3', 'MAPK12', 'METAP1', 'PDPK1', 'PRKCB', 'PRKCI', 'RNASEH1', 'SNX4', 'STAT3', 'TBP', 'TOP1', 'YES1'}"
   ]
  },
  {
   "cell_type": "markdown",
   "id": "motivated-spending",
   "metadata": {},
   "source": [
    "## Results\n",
    "\n",
    "### Overlap among AD gene sets\n",
    "\n",
    "These three AD gene sets are:\n",
    "\n",
    "1. knowledge based (from DISEASES)\n",
    "1. union of all sets from all TWAS above\n",
    "1. Incipient AD proteomic signature"
   ]
  },
  {
   "cell_type": "code",
   "execution_count": 15,
   "id": "accepted-auditor",
   "metadata": {},
   "outputs": [
    {
     "data": {
      "text/plain": [
       "['named-figure/knowledge-twas-proteo-venn.png',\n",
       " 'named-figure/knowledge-twas-proteo-venn.pdf']"
      ]
     },
     "execution_count": 15,
     "metadata": {},
     "output_type": "execute_result"
    },
    {
     "data": {
      "image/png": "[encoded data removed]",
      "text/plain": [
       "<Figure size 432x288 with 1 Axes>"
      ]
     },
     "metadata": {},
     "output_type": "display_data"
    }
   ],
   "source": [
    "partition = dict()\n",
    "partition['100'] = genes_knowledge.difference(genes_twas.union(genes_proteo))\n",
    "partition['010'] = genes_twas.difference(genes_knowledge.union(genes_proteo))\n",
    "partition['001'] = genes_proteo.difference(genes_twas.union(genes_knowledge))\n",
    "partition['110'] = genes_knowledge.intersection(genes_twas).difference(genes_proteo)\n",
    "partition['101'] = genes_knowledge.intersection(genes_proteo).difference(genes_twas)\n",
    "partition['011'] = genes_twas.intersection(genes_proteo).difference(genes_knowledge)\n",
    "partition['111'] = genes_knowledge.intersection(genes_twas).intersection(genes_proteo)\n",
    "subsets = {k: len(v) for k, v in partition.items()}\n",
    "fig, ax = plt.subplots()\n",
    "venn3(subsets=subsets, set_labels=('Knowledge', 'TWAS', 'Incipient proteo.'))\n",
    "attila_utils.savefig(fig, 'knowledge-twas-proteo-venn')"
   ]
  },
  {
   "cell_type": "code",
   "execution_count": 16,
   "id": "chronic-yield",
   "metadata": {},
   "outputs": [
    {
     "name": "stdout",
     "output_type": "stream",
     "text": [
      "156 genes in total\n"
     ]
    }
   ],
   "source": [
    "print(sum(subsets.values()), 'genes in total')"
   ]
  },
  {
   "cell_type": "code",
   "execution_count": 17,
   "id": "intermediate-start",
   "metadata": {},
   "outputs": [
    {
     "data": {
      "text/plain": [
       "{'ABCA7', 'ADAM10', 'APOE', 'APP', 'CLU', 'SORL1'}"
      ]
     },
     "execution_count": 17,
     "metadata": {},
     "output_type": "execute_result"
    }
   ],
   "source": [
    "partition['110']"
   ]
  },
  {
   "cell_type": "code",
   "execution_count": 18,
   "id": "committed-translation",
   "metadata": {},
   "outputs": [],
   "source": [
    "#A = genes_knowledge.difference(genes_twas)\n",
    "#B = genes_twas.difference(genes_knowledge)\n",
    "#AB = genes_twas.intersection(genes_knowledge)\n",
    "#fig, ax = plt.subplots()\n",
    "#venn2(subsets = (len(A), len(B), len(AB)), set_labels = ('Knowledge', 'TWAS'), ax=ax)\n",
    "#attila_utils.savefig(fig, 'knowledge-twas-venn')"
   ]
  },
  {
   "cell_type": "markdown",
   "id": "precise-amino",
   "metadata": {},
   "source": [
    "### Number of AD genes for each TWAS"
   ]
  },
  {
   "cell_type": "code",
   "execution_count": 19,
   "id": "aboriginal-excitement",
   "metadata": {},
   "outputs": [
    {
     "name": "stdout",
     "output_type": "stream",
     "text": [
      "AD genes discovered by various TWAS:\n"
     ]
    },
    {
     "data": {
      "text/plain": [
       "{'PMID_32299494_CMC': 12,\n",
       " 'PMID_32299494_FOCUS': 15,\n",
       " 'PMID_33417599_MR': 15,\n",
       " 'PMID_30617256': 16,\n",
       " 'PMID_30820047_MR': 13,\n",
       " 'PMID_30820047_COLOC': 12,\n",
       " 'PMID_33510477': 13,\n",
       " 'PMID_33589840': 50}"
      ]
     },
     "execution_count": 19,
     "metadata": {},
     "output_type": "execute_result"
    }
   ],
   "source": [
    "print('AD genes discovered by various TWAS:')\n",
    "{k: len(v) for k, v in genesd.items()}"
   ]
  },
  {
   "cell_type": "markdown",
   "id": "close-jewelry",
   "metadata": {},
   "source": [
    "### Number of TWAS discovering each AD gene"
   ]
  },
  {
   "cell_type": "code",
   "execution_count": 20,
   "id": "announced-hands",
   "metadata": {},
   "outputs": [
    {
     "data": {
      "text/plain": [
       "['named-figure/no-analyses-inferring-the-same-gene.png',\n",
       " 'named-figure/no-analyses-inferring-the-same-gene.pdf']"
      ]
     },
     "execution_count": 20,
     "metadata": {},
     "output_type": "execute_result"
    },
    {
     "data": {
      "image/png": "[encoded data removed]",
      "text/plain": [
       "<Figure size 288x288 with 1 Axes>"
      ]
     },
     "metadata": {
      "needs_background": "light"
     },
     "output_type": "display_data"
    }
   ],
   "source": [
    "vcounts = genes.Gene.value_counts()\n",
    "fig, ax = plt.subplots(figsize=(4,4))\n",
    "analyses = np.arange(len(genesd) + 1)\n",
    "vcounts.hist(ax=ax, bins=analyses + 0.5)\n",
    "ax.set_xlabel('No. analyses inferring the same gene')\n",
    "ax.set_xticks(analyses)\n",
    "ax.set_ylabel('No. genes inferred')\n",
    "attila_utils.savefig(fig, 'no-analyses-inferring-the-same-gene')"
   ]
  },
  {
   "cell_type": "markdown",
   "id": "particular-destiny",
   "metadata": {},
   "source": [
    "### Concordance between analyses"
   ]
  },
  {
   "cell_type": "code",
   "execution_count": 21,
   "id": "fitted-trader",
   "metadata": {},
   "outputs": [],
   "source": [
    "all_genes = genes.Gene.sort_values().unique()\n",
    "def helper(g, n):\n",
    "    g = g.set_index(g.Gene, drop=False)\n",
    "    g = g.reindex(all_genes, axis=0)\n",
    "    g.Analysis = n\n",
    "    return(g)\n",
    "\n",
    "df = pd.concat([helper(g, n) for n, g in genes.groupby('Analysis')], axis=0)\n",
    "df.Gene = df.index\n",
    "scores = df.pivot(index='Gene', columns='Analysis', values='Score')\n",
    "scores[~ scores.isna()] = 1\n",
    "scores = scores.fillna(0)\n",
    "scores = scores.transpose()"
   ]
  },
  {
   "cell_type": "code",
   "execution_count": 22,
   "id": "bizarre-variable",
   "metadata": {},
   "outputs": [
    {
     "data": {
      "text/plain": [
       "['named-figure/cluster-analyses.png', 'named-figure/cluster-analyses.pdf']"
      ]
     },
     "execution_count": 22,
     "metadata": {},
     "output_type": "execute_result"
    },
    {
     "data": {
      "image/png": "[encoded data removed]",
      "text/plain": [
       "<Figure size 2160x288 with 3 Axes>"
      ]
     },
     "metadata": {
      "needs_background": "light"
     },
     "output_type": "display_data"
    }
   ],
   "source": [
    "g = sns.clustermap(scores, metric='jaccard', col_cluster=False, figsize=(30, 4), cbar_pos=None, cmap=sns.color_palette(\"Blues\", as_cmap=True))\n",
    "ax = g.fig.axes[2]\n",
    "ax.set_xlabel('')\n",
    "ax.set_ylabel('')\n",
    "attila_utils.savefig(g, 'cluster-analyses')"
   ]
  },
  {
   "cell_type": "code",
   "execution_count": 23,
   "id": "about-summary",
   "metadata": {},
   "outputs": [
    {
     "data": {
      "text/plain": [
       "['named-figure/cluster-analyses-genes.png',\n",
       " 'named-figure/cluster-analyses-genes.pdf']"
      ]
     },
     "execution_count": 23,
     "metadata": {},
     "output_type": "execute_result"
    },
    {
     "data": {
      "image/png": "[encoded data removed]",
      "text/plain": [
       "<Figure size 576x288 with 3 Axes>"
      ]
     },
     "metadata": {
      "needs_background": "light"
     },
     "output_type": "display_data"
    }
   ],
   "source": [
    "g = sns.clustermap(scores, metric='jaccard', col_cluster=True, figsize=(8, 4), cbar_pos=None, cmap=sns.color_palette(\"Blues\", as_cmap=True))\n",
    "ax = g.fig.axes[2]\n",
    "labels = ax.set_xticklabels('')\n",
    "ax.set_xticks([])\n",
    "ax.set_xlabel('Genes')\n",
    "ax.set_ylabel('')\n",
    "attila_utils.savefig(g, 'cluster-analyses-genes')"
   ]
  },
  {
   "cell_type": "markdown",
   "id": "appropriate-oakland",
   "metadata": {},
   "source": [
    "### Export"
   ]
  },
  {
   "cell_type": "code",
   "execution_count": 24,
   "id": "hearing-evanescence",
   "metadata": {},
   "outputs": [],
   "source": [
    "def write_geneset(geneset, fpath):\n",
    "    with open(fpath, 'w') as f:\n",
    "        for g in geneset:\n",
    "            print(g, file=f)\n",
    "\n",
    "write_geneset(genes_knowledge, '../../results/2021-07-01-high-conf-ADgenes/AD-genes-knowledge')\n",
    "write_geneset(genes_twas, '../../results/2021-07-01-high-conf-ADgenes/AD-genes-twas')\n",
    "write_geneset(genes_proteo, '../../results/2021-07-01-high-conf-ADgenes/AD-genes-proteo')\n",
    "genes_seed = genes_knowledge.union(genes_twas).union(genes_proteo)\n",
    "write_geneset(genes_seed, '../../results/2021-07-01-high-conf-ADgenes/AD-genes-seed')\n",
    "genes.to_csv('../../results/2021-07-01-high-conf-ADgenes/AD-genes-twas-details.csv', index=False)"
   ]
  },
  {
   "cell_type": "markdown",
   "id": "sonic-health",
   "metadata": {},
   "source": [
    "### Conversion to Enterz IDs\n",
    "[This converter](https://biit.cs.ut.ee/gprofiler/convert) was used to get Entrez IDs and gene descriptions.  Some entities (LincRNAs) could not be converted."
   ]
  },
  {
   "cell_type": "code",
   "execution_count": 25,
   "id": "aerial-camping",
   "metadata": {},
   "outputs": [
    {
     "name": "stdout",
     "output_type": "stream",
     "text": [
      "{\n",
      "  \"shell_port\": 44411,\n",
      "  \"iopub_port\": 49213,\n",
      "  \"stdin_port\": 43591,\n",
      "  \"control_port\": 45897,\n",
      "  \"hb_port\": 51913,\n",
      "  \"ip\": \"127.0.0.1\",\n",
      "  \"key\": \"89f5a6ae-16b8d3c1fb58886e83c8e150\",\n",
      "  \"transport\": \"tcp\",\n",
      "  \"signature_scheme\": \"hmac-sha256\",\n",
      "  \"kernel_name\": \"\"\n",
      "}\n",
      "\n",
      "Paste the above JSON into a file, and connect with:\n",
      "    $> jupyter <app> --existing <file>\n",
      "or, if you are local, you can connect with just:\n",
      "    $> jupyter <app> --existing kernel-f3915753-3019-4bd6-885f-263c114179f1.json\n",
      "or even just:\n",
      "    $> jupyter <app> --existing\n",
      "if this is the most recent Jupyter kernel you have started.\n"
     ]
    }
   ],
   "source": [
    "%connect_info"
   ]
  }
 ],
 "metadata": {
  "kernelspec": {
   "display_name": "Python 3",
   "language": "python",
   "name": "python3"
  },
  "language_info": {
   "codemirror_mode": {
    "name": "ipython",
    "version": 3
   },
   "file_extension": ".py",
   "mimetype": "text/x-python",
   "name": "python",
   "nbconvert_exporter": "python",
   "pygments_lexer": "ipython3",
   "version": "3.7.6"
  }
 },
 "nbformat": 4,
 "nbformat_minor": 5
}
