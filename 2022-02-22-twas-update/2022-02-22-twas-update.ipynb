{
 "cells": [
  {
   "cell_type": "code",
   "execution_count": 1,
   "id": "b50d839c",
   "metadata": {},
   "outputs": [
    {
     "name": "stdout",
     "output_type": "stream",
     "text": [
      "The autoreload extension is already loaded. To reload it, use:\n",
      "  %reload_ext autoreload\n"
     ]
    }
   ],
   "source": [
    "%load_ext autoreload\n",
    "%autoreload 2\n",
    "%reload_ext autoreload\n",
    "import matplotlib.pyplot as plt\n",
    "import pandas as pd\n",
    "import numpy as np\n",
    "import attila_utils"
   ]
  },
  {
   "cell_type": "code",
   "execution_count": 2,
   "id": "acd1a9cb",
   "metadata": {},
   "outputs": [
    {
     "data": {
      "text/html": [
       "<div>\n",
       "<style scoped>\n",
       "    .dataframe tbody tr th:only-of-type {\n",
       "        vertical-align: middle;\n",
       "    }\n",
       "\n",
       "    .dataframe tbody tr th {\n",
       "        vertical-align: top;\n",
       "    }\n",
       "\n",
       "    .dataframe thead th {\n",
       "        text-align: right;\n",
       "    }\n",
       "</style>\n",
       "<table border=\"1\" class=\"dataframe\">\n",
       "  <thead>\n",
       "    <tr style=\"text-align: right;\">\n",
       "      <th></th>\n",
       "      <th>aggregate rank_v1</th>\n",
       "      <th>aggregate rank_v2</th>\n",
       "      <th>change</th>\n",
       "    </tr>\n",
       "    <tr>\n",
       "      <th>drug_chembl_id</th>\n",
       "      <th></th>\n",
       "      <th></th>\n",
       "      <th></th>\n",
       "    </tr>\n",
       "  </thead>\n",
       "  <tbody>\n",
       "    <tr>\n",
       "      <th>CHEMBL477772</th>\n",
       "      <td>2</td>\n",
       "      <td>1</td>\n",
       "      <td>1</td>\n",
       "    </tr>\n",
       "    <tr>\n",
       "      <th>CHEMBL491473</th>\n",
       "      <td>1</td>\n",
       "      <td>2</td>\n",
       "      <td>-1</td>\n",
       "    </tr>\n",
       "    <tr>\n",
       "      <th>CHEMBL939</th>\n",
       "      <td>9</td>\n",
       "      <td>3</td>\n",
       "      <td>6</td>\n",
       "    </tr>\n",
       "    <tr>\n",
       "      <th>CHEMBL446452</th>\n",
       "      <td>3</td>\n",
       "      <td>4</td>\n",
       "      <td>-1</td>\n",
       "    </tr>\n",
       "    <tr>\n",
       "      <th>CHEMBL296306</th>\n",
       "      <td>4</td>\n",
       "      <td>5</td>\n",
       "      <td>-1</td>\n",
       "    </tr>\n",
       "    <tr>\n",
       "      <th>...</th>\n",
       "      <td>...</td>\n",
       "      <td>...</td>\n",
       "      <td>...</td>\n",
       "    </tr>\n",
       "    <tr>\n",
       "      <th>CHEMBL486819</th>\n",
       "      <td>596</td>\n",
       "      <td>587</td>\n",
       "      <td>9</td>\n",
       "    </tr>\n",
       "    <tr>\n",
       "      <th>CHEMBL54349</th>\n",
       "      <td>601</td>\n",
       "      <td>590</td>\n",
       "      <td>11</td>\n",
       "    </tr>\n",
       "    <tr>\n",
       "      <th>CHEMBL972</th>\n",
       "      <td>600</td>\n",
       "      <td>591</td>\n",
       "      <td>9</td>\n",
       "    </tr>\n",
       "    <tr>\n",
       "      <th>CHEMBL2220442</th>\n",
       "      <td>602</td>\n",
       "      <td>592</td>\n",
       "      <td>10</td>\n",
       "    </tr>\n",
       "    <tr>\n",
       "      <th>CHEMBL1200370</th>\n",
       "      <td>603</td>\n",
       "      <td>593</td>\n",
       "      <td>10</td>\n",
       "    </tr>\n",
       "  </tbody>\n",
       "</table>\n",
       "<p>587 rows × 3 columns</p>\n",
       "</div>"
      ],
      "text/plain": [
       "                aggregate rank_v1  aggregate rank_v2  change\n",
       "drug_chembl_id                                              \n",
       "CHEMBL477772                    2                  1       1\n",
       "CHEMBL491473                    1                  2      -1\n",
       "CHEMBL939                       9                  3       6\n",
       "CHEMBL446452                    3                  4      -1\n",
       "CHEMBL296306                    4                  5      -1\n",
       "...                           ...                ...     ...\n",
       "CHEMBL486819                  596                587       9\n",
       "CHEMBL54349                   601                590      11\n",
       "CHEMBL972                     600                591       9\n",
       "CHEMBL2220442                 602                592      10\n",
       "CHEMBL1200370                 603                593      10\n",
       "\n",
       "[587 rows x 3 columns]"
      ]
     },
     "execution_count": 2,
     "metadata": {},
     "output_type": "execute_result"
    }
   ],
   "source": [
    "versions = ['v1', 'v2']\n",
    "def my_read_csv(v):\n",
    "    fpath = '/Users/jonesa7/CTNS/results/2022-01-14-top-drugs/ranked-drugs-' + v + '.csv'\n",
    "    df = pd.read_csv(fpath, index_col='drug_chembl_id')\n",
    "    return(df)\n",
    "\n",
    "v1, v2 = [my_read_csv(v) for v in versions]\n",
    "aggrank = pd.merge(v1[['aggregate rank']], v2[['aggregate rank']], how='right', on='drug_chembl_id', suffixes=('_v1', '_v2'))\n",
    "aggrank = aggrank.dropna()\n",
    "aggrank = aggrank.astype({'aggregate rank_v1': 'int64', 'aggregate rank_v2': 'int64'})\n",
    "aggrank['change'] = aggrank.apply(lambda row: row['aggregate rank_v1'] - row['aggregate rank_v2'], axis=1)\n",
    "aggrank"
   ]
  },
  {
   "cell_type": "code",
   "execution_count": 3,
   "id": "e4dc9933",
   "metadata": {},
   "outputs": [
    {
     "data": {
      "text/plain": [
       "['named-figure/rank-change-v1-v2.png', 'named-figure/rank-change-v1-v2.pdf']"
      ]
     },
     "execution_count": 3,
     "metadata": {},
     "output_type": "execute_result"
    },
    {
     "data": {
      "image/png": "[encoded data removed]",
      "text/plain": [
       "<Figure size 432x288 with 2 Axes>"
      ]
     },
     "metadata": {
      "needs_background": "light"
     },
     "output_type": "display_data"
    }
   ],
   "source": [
    "fig, ax = plt.subplots(1, 2, sharey=True)\n",
    "ax[0].scatter(x='aggregate rank_v2', y='change', data=aggrank, marker='.')\n",
    "ax[0].grid()\n",
    "ax[0].set_xlabel('aggregate rank v2')\n",
    "ax[0].set_ylabel('rank change (v1 to v2)')\n",
    "ax[1].hist(aggrank.change, bins=np.arange(-450, 550, step=100), orientation='horizontal')\n",
    "ax[1].set_xlabel('drugs')\n",
    "ax[1].grid()\n",
    "attila_utils.savefig(fig, 'rank-change-v1-v2')"
   ]
  },
  {
   "cell_type": "code",
   "execution_count": 4,
   "id": "30f76694",
   "metadata": {},
   "outputs": [
    {
     "name": "stdout",
     "output_type": "stream",
     "text": [
      "{\n",
      "  \"shell_port\": 56245,\n",
      "  \"iopub_port\": 56246,\n",
      "  \"stdin_port\": 56247,\n",
      "  \"control_port\": 56249,\n",
      "  \"hb_port\": 56248,\n",
      "  \"ip\": \"127.0.0.1\",\n",
      "  \"key\": \"92b168a0-c429619eaed8b308254d6195\",\n",
      "  \"transport\": \"tcp\",\n",
      "  \"signature_scheme\": \"hmac-sha256\",\n",
      "  \"kernel_name\": \"\"\n",
      "}\n",
      "\n",
      "Paste the above JSON into a file, and connect with:\n",
      "    $> jupyter <app> --existing <file>\n",
      "or, if you are local, you can connect with just:\n",
      "    $> jupyter <app> --existing kernel-d2ac38d9-63c4-4998-bac4-01eb45d6c658.json\n",
      "or even just:\n",
      "    $> jupyter <app> --existing\n",
      "if this is the most recent Jupyter kernel you have started.\n"
     ]
    }
   ],
   "source": [
    "%connect_info"
   ]
  },
  {
   "cell_type": "code",
   "execution_count": null,
   "id": "456e5458",
   "metadata": {},
   "outputs": [],
   "source": []
  }
 ],
 "metadata": {
  "kernelspec": {
   "display_name": "Python 3",
   "language": "python",
   "name": "python3"
  },
  "language_info": {
   "codemirror_mode": {
    "name": "ipython",
    "version": 3
   },
   "file_extension": ".py",
   "mimetype": "text/x-python",
   "name": "python",
   "nbconvert_exporter": "python",
   "pygments_lexer": "ipython3",
   "version": "3.8.8"
  }
 },
 "nbformat": 4,
 "nbformat_minor": 5
}
