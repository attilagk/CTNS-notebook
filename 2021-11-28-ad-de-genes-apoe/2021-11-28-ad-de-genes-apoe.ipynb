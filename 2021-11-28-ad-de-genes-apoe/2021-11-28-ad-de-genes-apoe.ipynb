{
 "cells": [
  {
   "cell_type": "markdown",
   "id": "511ad3a8",
   "metadata": {},
   "source": [
    "Here I analyze differentially expressed (DE) genes in AD given APOE genotype (APOE3/APOE3, APOE3/APOE4, APOE4/APOE4).  The same AD DE genes were used in the [bumetanide repurposing study](https://www.nature.com/articles/s43587-021-00122-7)."
   ]
  },
  {
   "cell_type": "code",
   "execution_count": 1,
   "id": "e83ed53c",
   "metadata": {},
   "outputs": [
    {
     "name": "stdout",
     "output_type": "stream",
     "text": [
      "The autoreload extension is already loaded. To reload it, use:\n",
      "  %reload_ext autoreload\n"
     ]
    }
   ],
   "source": [
    "%load_ext autoreload\n",
    "%autoreload 2\n",
    "%reload_ext autoreload\n",
    "import pandas as pd\n",
    "import matplotlib.pyplot as plt\n",
    "import attila_utils"
   ]
  },
  {
   "cell_type": "markdown",
   "id": "5fb68d1c",
   "metadata": {},
   "source": [
    "The `create_geneset` function takes 150 genes with the highest and lowest (most negative) FC Value to produce an up and down regulated gene set, respectively.  150 is the limit of gene set sizes at https://clue.io/query."
   ]
  },
  {
   "cell_type": "code",
   "execution_count": 2,
   "id": "07fb631b",
   "metadata": {},
   "outputs": [],
   "source": [
    "def create_geneset(genotype='apoe3-apoe3'):\n",
    "    in_fpath = '../../resources/AD-DE-genes-APOE/ad-de-genes-' + genotype + '.xlsx'\n",
    "    df = pd.read_excel(in_fpath, sheet_name=0)\n",
    "    df = df.sort_values(by='FC Value')\n",
    "    down = df.head(150)['symbol']\n",
    "    up = df.tail(150)['symbol']\n",
    "    up_down = pd.concat([up, down])\n",
    "    for name, gset in zip(['up', 'down', 'de'], [up, down, up_down]):\n",
    "        out_fpath = '../../results/2021-11-28-ad-de-genes-apoe/ad-' + name + '-genes-' + genotype\n",
    "        gset.to_csv(out_fpath, header=False, index=False)\n",
    "    return(set(up_down))\n",
    "\n",
    "#de_gsets = {genotype: create_geneset(genotype) for genotype in ('apoe3-apoe3', 'apoe3-apoe4', 'apoe4-apoe4')}\n",
    "de_gsets = {genotype: create_geneset(genotype) for genotype in ('apoe3-apoe3', 'apoe4-apoe4')}"
   ]
  },
  {
   "cell_type": "markdown",
   "id": "a242fbb3",
   "metadata": {},
   "source": [
    "It turns out that `create_geneset` fails for the APOE3/APOE4 data set, because that has fewer than 150 downregulated genes and consequently a few genes end up in both the up and downregulated genesets the function creates.  For that reason the genesets for APOE3/APOE4 have been removed from the `results/2021-11-28-ad-de-genes-apoe` directory."
   ]
  },
  {
   "cell_type": "code",
   "execution_count": 3,
   "id": "2a503893",
   "metadata": {},
   "outputs": [
    {
     "name": "stdout",
     "output_type": "stream",
     "text": [
      "{\n",
      "  \"shell_port\": 65280,\n",
      "  \"iopub_port\": 65281,\n",
      "  \"stdin_port\": 65282,\n",
      "  \"control_port\": 65284,\n",
      "  \"hb_port\": 65283,\n",
      "  \"ip\": \"127.0.0.1\",\n",
      "  \"key\": \"73a92c64-5a6353f670ed5e4415d37fd8\",\n",
      "  \"transport\": \"tcp\",\n",
      "  \"signature_scheme\": \"hmac-sha256\",\n",
      "  \"kernel_name\": \"\"\n",
      "}\n",
      "\n",
      "Paste the above JSON into a file, and connect with:\n",
      "    $> jupyter <app> --existing <file>\n",
      "or, if you are local, you can connect with just:\n",
      "    $> jupyter <app> --existing kernel-3f1d617c-1043-4b04-bebb-700c5990a920.json\n",
      "or even just:\n",
      "    $> jupyter <app> --existing\n",
      "if this is the most recent Jupyter kernel you have started.\n"
     ]
    }
   ],
   "source": [
    "%connect_info"
   ]
  },
  {
   "cell_type": "code",
   "execution_count": null,
   "id": "72cabb91",
   "metadata": {},
   "outputs": [],
   "source": []
  }
 ],
 "metadata": {
  "kernelspec": {
   "display_name": "Python 3",
   "language": "python",
   "name": "python3"
  },
  "language_info": {
   "codemirror_mode": {
    "name": "ipython",
    "version": 3
   },
   "file_extension": ".py",
   "mimetype": "text/x-python",
   "name": "python",
   "nbconvert_exporter": "python",
   "pygments_lexer": "ipython3",
   "version": "3.8.8"
  }
 },
 "nbformat": 4,
 "nbformat_minor": 5
}
