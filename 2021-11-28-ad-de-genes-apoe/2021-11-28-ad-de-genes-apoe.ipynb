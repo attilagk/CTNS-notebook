{
 "cells": [
  {
   "cell_type": "code",
   "execution_count": 1,
   "id": "e83ed53c",
   "metadata": {},
   "outputs": [
    {
     "name": "stdout",
     "output_type": "stream",
     "text": [
      "The autoreload extension is already loaded. To reload it, use:\n",
      "  %reload_ext autoreload\n"
     ]
    }
   ],
   "source": [
    "%load_ext autoreload\n",
    "%autoreload 2\n",
    "%reload_ext autoreload\n",
    "import pandas as pd\n",
    "import matplotlib.pyplot as plt\n",
    "import attila_utils"
   ]
  },
  {
   "cell_type": "markdown",
   "id": "5fb68d1c",
   "metadata": {},
   "source": [
    "The `create_geneset` function takes 150 genes with the highest and lowest (most negative) FC Value to produce an up and down regulated gene set, respectively.  150 is the limit of gene set sizes at https://clue.io/query."
   ]
  },
  {
   "cell_type": "code",
   "execution_count": 2,
   "id": "07fb631b",
   "metadata": {},
   "outputs": [],
   "source": [
    "def create_geneset(genotype='apoe3-apoe3'):\n",
    "    in_fpath = '../../resources/AD-DE-genes-APOE/ad-de-genes-' + genotype + '.xlsx'\n",
    "    df = pd.read_excel(in_fpath, sheet_name=0)\n",
    "    df = df.sort_values(by='FC Value')\n",
    "    down = df.head(150)['symbol']\n",
    "    up = df.tail(150)['symbol']\n",
    "    up_down = pd.concat([up, down])\n",
    "    for name, gset in zip(['up', 'down', 'de'], [up, down, up_down]):\n",
    "        out_fpath = '../../results/2021-11-28-ad-de-genes-apoe/ad-' + name + '-genes-' + genotype\n",
    "        gset.to_csv(out_fpath, header=False, index=False)\n",
    "    return(set(up_down))\n",
    "\n",
    "de_gsets = {genotype: create_geneset(genotype) for genotype in ('apoe3-apoe3', 'apoe3-apoe4', 'apoe4-apoe4')}"
   ]
  },
  {
   "cell_type": "code",
   "execution_count": 3,
   "id": "2a503893",
   "metadata": {},
   "outputs": [
    {
     "name": "stdout",
     "output_type": "stream",
     "text": [
      "{\n",
      "  \"shell_port\": 53040,\n",
      "  \"iopub_port\": 53041,\n",
      "  \"stdin_port\": 53042,\n",
      "  \"control_port\": 53044,\n",
      "  \"hb_port\": 53043,\n",
      "  \"ip\": \"127.0.0.1\",\n",
      "  \"key\": \"1b87234e-70f2a2087c561b07a0a89118\",\n",
      "  \"transport\": \"tcp\",\n",
      "  \"signature_scheme\": \"hmac-sha256\",\n",
      "  \"kernel_name\": \"\"\n",
      "}\n",
      "\n",
      "Paste the above JSON into a file, and connect with:\n",
      "    $> jupyter <app> --existing <file>\n",
      "or, if you are local, you can connect with just:\n",
      "    $> jupyter <app> --existing kernel-ffbdabf9-31cf-456b-b800-31fd023e9fbc.json\n",
      "or even just:\n",
      "    $> jupyter <app> --existing\n",
      "if this is the most recent Jupyter kernel you have started.\n"
     ]
    }
   ],
   "source": [
    "%connect_info"
   ]
  },
  {
   "cell_type": "code",
   "execution_count": null,
   "id": "72cabb91",
   "metadata": {},
   "outputs": [],
   "source": []
  }
 ],
 "metadata": {
  "kernelspec": {
   "display_name": "Python 3",
   "language": "python",
   "name": "python3"
  },
  "language_info": {
   "codemirror_mode": {
    "name": "ipython",
    "version": 3
   },
   "file_extension": ".py",
   "mimetype": "text/x-python",
   "name": "python",
   "nbconvert_exporter": "python",
   "pygments_lexer": "ipython3",
   "version": "3.8.8"
  }
 },
 "nbformat": 4,
 "nbformat_minor": 5
}
