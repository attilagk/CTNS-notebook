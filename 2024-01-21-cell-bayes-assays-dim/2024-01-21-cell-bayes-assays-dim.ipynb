{
 "cells": [
  {
   "cell_type": "code",
   "execution_count": 1,
   "id": "6ac02dce",
   "metadata": {},
   "outputs": [],
   "source": [
    "%load_ext autoreload\n",
    "%autoreload 2\n",
    "%reload_ext autoreload\n",
    "from scipy.stats import spearmanr\n",
    "import re\n",
    "import arviz as az\n",
    "import pymc as pm\n",
    "import pandas as pd\n",
    "import numpy as np\n",
    "import matplotlib.pyplot as plt\n",
    "import matplotlib.patches as mpatches\n",
    "import seaborn as sns\n",
    "import cellbayesassay as cba\n",
    "import pickle\n",
    "import re\n",
    "import os.path\n",
    "import attila_utils"
   ]
  },
  {
   "cell_type": "markdown",
   "id": "bbfee594",
   "metadata": {},
   "source": [
    "## Import data"
   ]
  },
  {
   "cell_type": "code",
   "execution_count": 2,
   "id": "f63aeb8a",
   "metadata": {},
   "outputs": [
    {
     "name": "stderr",
     "output_type": "stream",
     "text": [
      "/var/folders/49/kvzc40q90ygdgsxzf49p1wjmj6bgxh/T/ipykernel_30472/3003499320.py:5: FutureWarning: DataFrame.applymap has been deprecated. Use DataFrame.map instead.\n",
      "  conc2concentration = pd.concat([conc2concentration[other_columns], conc2concentration[cN_columns].applymap(lambda x: x * 1e-6)], axis=1)\n"
     ]
    },
    {
     "data": {
      "text/html": [
       "<div>\n",
       "<style scoped>\n",
       "    .dataframe tbody tr th:only-of-type {\n",
       "        vertical-align: middle;\n",
       "    }\n",
       "\n",
       "    .dataframe tbody tr th {\n",
       "        vertical-align: top;\n",
       "    }\n",
       "\n",
       "    .dataframe thead th {\n",
       "        text-align: right;\n",
       "    }\n",
       "</style>\n",
       "<table border=\"1\" class=\"dataframe\">\n",
       "  <thead>\n",
       "    <tr style=\"text-align: right;\">\n",
       "      <th></th>\n",
       "      <th>TI ID</th>\n",
       "      <th>name</th>\n",
       "      <th>c1</th>\n",
       "      <th>c2</th>\n",
       "      <th>c3</th>\n",
       "      <th>c4</th>\n",
       "      <th>c5</th>\n",
       "      <th>c6</th>\n",
       "      <th>VC</th>\n",
       "      <th>LPS</th>\n",
       "    </tr>\n",
       "    <tr>\n",
       "      <th>TI</th>\n",
       "      <th></th>\n",
       "      <th></th>\n",
       "      <th></th>\n",
       "      <th></th>\n",
       "      <th></th>\n",
       "      <th></th>\n",
       "      <th></th>\n",
       "      <th></th>\n",
       "      <th></th>\n",
       "      <th></th>\n",
       "    </tr>\n",
       "  </thead>\n",
       "  <tbody>\n",
       "    <tr>\n",
       "      <th>TI1</th>\n",
       "      <td>2542</td>\n",
       "      <td>Amiloride</td>\n",
       "      <td>0.000100</td>\n",
       "      <td>0.000010</td>\n",
       "      <td>1.000000e-06</td>\n",
       "      <td>NaN</td>\n",
       "      <td>NaN</td>\n",
       "      <td>NaN</td>\n",
       "      <td>1.000000e-09</td>\n",
       "      <td>1.000000e-09</td>\n",
       "    </tr>\n",
       "    <tr>\n",
       "      <th>TI2</th>\n",
       "      <td>2543</td>\n",
       "      <td>Phenamil methanesulfonate salt</td>\n",
       "      <td>0.000100</td>\n",
       "      <td>0.000010</td>\n",
       "      <td>1.000000e-06</td>\n",
       "      <td>NaN</td>\n",
       "      <td>NaN</td>\n",
       "      <td>NaN</td>\n",
       "      <td>1.000000e-09</td>\n",
       "      <td>1.000000e-09</td>\n",
       "    </tr>\n",
       "    <tr>\n",
       "      <th>TI3</th>\n",
       "      <td>2538</td>\n",
       "      <td>Benzamil hydrochloride hydrate</td>\n",
       "      <td>0.000100</td>\n",
       "      <td>0.000010</td>\n",
       "      <td>1.000000e-06</td>\n",
       "      <td>NaN</td>\n",
       "      <td>NaN</td>\n",
       "      <td>NaN</td>\n",
       "      <td>1.000000e-09</td>\n",
       "      <td>1.000000e-09</td>\n",
       "    </tr>\n",
       "    <tr>\n",
       "      <th>TI4</th>\n",
       "      <td>2544</td>\n",
       "      <td>5-(N,N-Dimethyl)amiloride hydrochloride</td>\n",
       "      <td>0.000100</td>\n",
       "      <td>0.000010</td>\n",
       "      <td>1.000000e-06</td>\n",
       "      <td>NaN</td>\n",
       "      <td>NaN</td>\n",
       "      <td>NaN</td>\n",
       "      <td>1.000000e-09</td>\n",
       "      <td>1.000000e-09</td>\n",
       "    </tr>\n",
       "    <tr>\n",
       "      <th>TI5</th>\n",
       "      <td>2540</td>\n",
       "      <td>5-(N-Ethyl-N-isopropyl)amiloride</td>\n",
       "      <td>0.000100</td>\n",
       "      <td>0.000010</td>\n",
       "      <td>1.000000e-06</td>\n",
       "      <td>NaN</td>\n",
       "      <td>NaN</td>\n",
       "      <td>NaN</td>\n",
       "      <td>1.000000e-09</td>\n",
       "      <td>1.000000e-09</td>\n",
       "    </tr>\n",
       "    <tr>\n",
       "      <th>TI6</th>\n",
       "      <td>2541</td>\n",
       "      <td>5-(N,N-Hexamethylene)amiloride</td>\n",
       "      <td>0.000010</td>\n",
       "      <td>0.000001</td>\n",
       "      <td>2.000000e-07</td>\n",
       "      <td>NaN</td>\n",
       "      <td>NaN</td>\n",
       "      <td>NaN</td>\n",
       "      <td>2.000000e-10</td>\n",
       "      <td>2.000000e-10</td>\n",
       "    </tr>\n",
       "    <tr>\n",
       "      <th>TI7</th>\n",
       "      <td>2539</td>\n",
       "      <td>5-(N-Methyl-N-isobutyl)amiloride</td>\n",
       "      <td>0.000100</td>\n",
       "      <td>0.000010</td>\n",
       "      <td>1.000000e-06</td>\n",
       "      <td>NaN</td>\n",
       "      <td>NaN</td>\n",
       "      <td>NaN</td>\n",
       "      <td>1.000000e-09</td>\n",
       "      <td>1.000000e-09</td>\n",
       "    </tr>\n",
       "    <tr>\n",
       "      <th>TI8</th>\n",
       "      <td>2719</td>\n",
       "      <td>NS 383</td>\n",
       "      <td>0.000100</td>\n",
       "      <td>0.000010</td>\n",
       "      <td>1.000000e-06</td>\n",
       "      <td>NaN</td>\n",
       "      <td>NaN</td>\n",
       "      <td>NaN</td>\n",
       "      <td>1.000000e-09</td>\n",
       "      <td>1.000000e-09</td>\n",
       "    </tr>\n",
       "    <tr>\n",
       "      <th>TI9</th>\n",
       "      <td>2703</td>\n",
       "      <td>A-317567</td>\n",
       "      <td>0.000100</td>\n",
       "      <td>0.000010</td>\n",
       "      <td>1.000000e-06</td>\n",
       "      <td>NaN</td>\n",
       "      <td>NaN</td>\n",
       "      <td>NaN</td>\n",
       "      <td>1.000000e-09</td>\n",
       "      <td>1.000000e-09</td>\n",
       "    </tr>\n",
       "    <tr>\n",
       "      <th>TI10</th>\n",
       "      <td>2816</td>\n",
       "      <td>Cilostazol</td>\n",
       "      <td>0.000050</td>\n",
       "      <td>0.000005</td>\n",
       "      <td>5.000000e-07</td>\n",
       "      <td>NaN</td>\n",
       "      <td>NaN</td>\n",
       "      <td>NaN</td>\n",
       "      <td>5.000000e-10</td>\n",
       "      <td>5.000000e-10</td>\n",
       "    </tr>\n",
       "    <tr>\n",
       "      <th>TI11</th>\n",
       "      <td>2568</td>\n",
       "      <td>DIM-C-pPhOCH3</td>\n",
       "      <td>0.000010</td>\n",
       "      <td>0.000001</td>\n",
       "      <td>2.000000e-07</td>\n",
       "      <td>NaN</td>\n",
       "      <td>NaN</td>\n",
       "      <td>NaN</td>\n",
       "      <td>2.000000e-10</td>\n",
       "      <td>2.000000e-10</td>\n",
       "    </tr>\n",
       "    <tr>\n",
       "      <th>TI12</th>\n",
       "      <td>2569</td>\n",
       "      <td>C-DIM12</td>\n",
       "      <td>0.000010</td>\n",
       "      <td>0.000001</td>\n",
       "      <td>2.000000e-07</td>\n",
       "      <td>NaN</td>\n",
       "      <td>NaN</td>\n",
       "      <td>NaN</td>\n",
       "      <td>2.000000e-10</td>\n",
       "      <td>2.000000e-10</td>\n",
       "    </tr>\n",
       "    <tr>\n",
       "      <th>TI13</th>\n",
       "      <td>2600</td>\n",
       "      <td>Liraglutide</td>\n",
       "      <td>0.000010</td>\n",
       "      <td>0.000001</td>\n",
       "      <td>2.000000e-07</td>\n",
       "      <td>NaN</td>\n",
       "      <td>NaN</td>\n",
       "      <td>NaN</td>\n",
       "      <td>2.000000e-10</td>\n",
       "      <td>2.000000e-10</td>\n",
       "    </tr>\n",
       "    <tr>\n",
       "      <th>TI14</th>\n",
       "      <td>2601</td>\n",
       "      <td>Semaglutide</td>\n",
       "      <td>0.000010</td>\n",
       "      <td>0.000001</td>\n",
       "      <td>2.000000e-07</td>\n",
       "      <td>NaN</td>\n",
       "      <td>NaN</td>\n",
       "      <td>NaN</td>\n",
       "      <td>2.000000e-10</td>\n",
       "      <td>2.000000e-10</td>\n",
       "    </tr>\n",
       "    <tr>\n",
       "      <th>TI15</th>\n",
       "      <td>2817</td>\n",
       "      <td>Hydroxychloroquine racemic</td>\n",
       "      <td>0.000025</td>\n",
       "      <td>0.000002</td>\n",
       "      <td>2.500000e-07</td>\n",
       "      <td>NaN</td>\n",
       "      <td>NaN</td>\n",
       "      <td>NaN</td>\n",
       "      <td>2.500000e-10</td>\n",
       "      <td>2.500000e-10</td>\n",
       "    </tr>\n",
       "    <tr>\n",
       "      <th>TI16/17</th>\n",
       "      <td>2819</td>\n",
       "      <td>(S)Hydroxychloroquine racemic, free base</td>\n",
       "      <td>0.000025</td>\n",
       "      <td>0.000002</td>\n",
       "      <td>2.500000e-07</td>\n",
       "      <td>1.000000e-07</td>\n",
       "      <td>5.000000e-08</td>\n",
       "      <td>1.000000e-08</td>\n",
       "      <td>1.000000e-11</td>\n",
       "      <td>1.000000e-11</td>\n",
       "    </tr>\n",
       "    <tr>\n",
       "      <th>TI18/19</th>\n",
       "      <td>2820</td>\n",
       "      <td>(R)Hydroxychloroquine racemic, free base</td>\n",
       "      <td>0.000025</td>\n",
       "      <td>0.000002</td>\n",
       "      <td>2.500000e-07</td>\n",
       "      <td>1.000000e-07</td>\n",
       "      <td>5.000000e-08</td>\n",
       "      <td>1.000000e-08</td>\n",
       "      <td>1.000000e-11</td>\n",
       "      <td>1.000000e-11</td>\n",
       "    </tr>\n",
       "  </tbody>\n",
       "</table>\n",
       "</div>"
      ],
      "text/plain": [
       "         TI ID                                      name        c1        c2  \\\n",
       "TI                                                                             \n",
       "TI1       2542                                Amiloride   0.000100  0.000010   \n",
       "TI2       2543            Phenamil methanesulfonate salt  0.000100  0.000010   \n",
       "TI3       2538            Benzamil hydrochloride hydrate  0.000100  0.000010   \n",
       "TI4       2544   5-(N,N-Dimethyl)amiloride hydrochloride  0.000100  0.000010   \n",
       "TI5       2540          5-(N-Ethyl-N-isopropyl)amiloride  0.000100  0.000010   \n",
       "TI6       2541            5-(N,N-Hexamethylene)amiloride  0.000010  0.000001   \n",
       "TI7       2539          5-(N-Methyl-N-isobutyl)amiloride  0.000100  0.000010   \n",
       "TI8       2719                                   NS 383   0.000100  0.000010   \n",
       "TI9       2703                                 A-317567   0.000100  0.000010   \n",
       "TI10      2816                                Cilostazol  0.000050  0.000005   \n",
       "TI11      2568                             DIM-C-pPhOCH3  0.000010  0.000001   \n",
       "TI12      2569                                   C-DIM12  0.000010  0.000001   \n",
       "TI13      2600                               Liraglutide  0.000010  0.000001   \n",
       "TI14      2601                               Semaglutide  0.000010  0.000001   \n",
       "TI15      2817                Hydroxychloroquine racemic  0.000025  0.000002   \n",
       "TI16/17   2819  (S)Hydroxychloroquine racemic, free base  0.000025  0.000002   \n",
       "TI18/19   2820  (R)Hydroxychloroquine racemic, free base  0.000025  0.000002   \n",
       "\n",
       "                   c3            c4            c5            c6            VC  \\\n",
       "TI                                                                              \n",
       "TI1      1.000000e-06           NaN           NaN           NaN  1.000000e-09   \n",
       "TI2      1.000000e-06           NaN           NaN           NaN  1.000000e-09   \n",
       "TI3      1.000000e-06           NaN           NaN           NaN  1.000000e-09   \n",
       "TI4      1.000000e-06           NaN           NaN           NaN  1.000000e-09   \n",
       "TI5      1.000000e-06           NaN           NaN           NaN  1.000000e-09   \n",
       "TI6      2.000000e-07           NaN           NaN           NaN  2.000000e-10   \n",
       "TI7      1.000000e-06           NaN           NaN           NaN  1.000000e-09   \n",
       "TI8      1.000000e-06           NaN           NaN           NaN  1.000000e-09   \n",
       "TI9      1.000000e-06           NaN           NaN           NaN  1.000000e-09   \n",
       "TI10     5.000000e-07           NaN           NaN           NaN  5.000000e-10   \n",
       "TI11     2.000000e-07           NaN           NaN           NaN  2.000000e-10   \n",
       "TI12     2.000000e-07           NaN           NaN           NaN  2.000000e-10   \n",
       "TI13     2.000000e-07           NaN           NaN           NaN  2.000000e-10   \n",
       "TI14     2.000000e-07           NaN           NaN           NaN  2.000000e-10   \n",
       "TI15     2.500000e-07           NaN           NaN           NaN  2.500000e-10   \n",
       "TI16/17  2.500000e-07  1.000000e-07  5.000000e-08  1.000000e-08  1.000000e-11   \n",
       "TI18/19  2.500000e-07  1.000000e-07  5.000000e-08  1.000000e-08  1.000000e-11   \n",
       "\n",
       "                  LPS  \n",
       "TI                     \n",
       "TI1      1.000000e-09  \n",
       "TI2      1.000000e-09  \n",
       "TI3      1.000000e-09  \n",
       "TI4      1.000000e-09  \n",
       "TI5      1.000000e-09  \n",
       "TI6      2.000000e-10  \n",
       "TI7      1.000000e-09  \n",
       "TI8      1.000000e-09  \n",
       "TI9      1.000000e-09  \n",
       "TI10     5.000000e-10  \n",
       "TI11     2.000000e-10  \n",
       "TI12     2.000000e-10  \n",
       "TI13     2.000000e-10  \n",
       "TI14     2.000000e-10  \n",
       "TI15     2.500000e-10  \n",
       "TI16/17  1.000000e-11  \n",
       "TI18/19  1.000000e-11  "
      ]
     },
     "execution_count": 2,
     "metadata": {},
     "output_type": "execute_result"
    }
   ],
   "source": [
    "fpath = '../../resources/cell-based-assays/CO28151_outcome-summary_27062023-clean.xlsx'\n",
    "conc2concentration = pd.read_excel(fpath, 1).rename({'TI nr.': 'TI'}, axis=1)\n",
    "cN_columns = [c for c in conc2concentration.columns if re.match('^c[1-6]$', c)]\n",
    "other_columns = [c for c in conc2concentration.columns if not re.match('^c[1-6]$', c)]\n",
    "conc2concentration = pd.concat([conc2concentration[other_columns], conc2concentration[cN_columns].applymap(lambda x: x * 1e-6)], axis=1)\n",
    "conc2concentration['VC'] = conc2concentration.apply(lambda r: r.loc['c6'] * 1e-3 if not np.isnan(r.loc['c6']) else r.loc['c3'] * 1e-3, axis=1)\n",
    "conc2concentration['LPS'] = conc2concentration['VC']\n",
    "conc2concentration = conc2concentration.set_index('TI')\n",
    "conc2concentration"
   ]
  },
  {
   "cell_type": "raw",
   "id": "c9418163",
   "metadata": {},
   "source": [
    "control_TIl = [\n",
    "    'VC',\n",
    "    'VC',\n",
    "    'VC',\n",
    "    'LPS',\n",
    "    'VC'\n",
    "]\n",
    "\n"
   ]
  },
  {
   "cell_type": "code",
   "execution_count": 3,
   "id": "bd15df12",
   "metadata": {},
   "outputs": [],
   "source": [
    "control_TIl = [\n",
    "    'VC',\n",
    "    'VC',\n",
    "    'LPS',\n",
    "    'VC',\n",
    "    'VC'\n",
    "]\n",
    "\n",
    "experimentl = [\n",
    "    'Aβ clearance (BV2 cells)',\n",
    "    'Aβ release (H4 cells)',\n",
    "    'LPS neuroinflammation (BV2 cells)',\n",
    "    'Tau phosphorylation',\n",
    "    'Trophic factor withdrawal (primary neurons)'\n",
    "              ]\n",
    "experimentd = dict(zip(experimentl, np.arange(len(experimentl))))\n",
    "treatmentd = {\n",
    "    'TI11': 'DIM-C-pPhOCH3',\n",
    "    'TI12': 'C-DIM12',\n",
    "}\n",
    "fpath = '../../resources/cell-based-assays/CO28151_data-summary-clean.xlsx'"
   ]
  },
  {
   "cell_type": "code",
   "execution_count": 4,
   "id": "ac2a3403",
   "metadata": {},
   "outputs": [
    {
     "ename": "ModuleNotFoundError",
     "evalue": "No module named 'pandas.core.indexes.numeric'",
     "output_type": "error",
     "traceback": [
      "\u001b[0;31m---------------------------------------------------------------------------\u001b[0m",
      "\u001b[0;31mModuleNotFoundError\u001b[0m                       Traceback (most recent call last)",
      "Cell \u001b[0;32mIn[4], line 34\u001b[0m\n\u001b[1;32m     31\u001b[0m     d \u001b[38;5;241m=\u001b[39m {TI: add_concentrations(extract_TI_exp_data(experiment, TI, control_TI)) \u001b[38;5;28;01mfor\u001b[39;00m TI \u001b[38;5;129;01min\u001b[39;00m TI_list}\n\u001b[1;32m     32\u001b[0m     \u001b[38;5;28;01mreturn\u001b[39;00m(d)\n\u001b[0;32m---> 34\u001b[0m datad1 \u001b[38;5;241m=\u001b[39m pickle\u001b[38;5;241m.\u001b[39mload(\u001b[38;5;28mopen\u001b[39m(\u001b[38;5;124m'\u001b[39m\u001b[38;5;124m../../results/2023-09-26-cell-bayes-assays/data.nc\u001b[39m\u001b[38;5;124m'\u001b[39m, \u001b[38;5;124m'\u001b[39m\u001b[38;5;124mrb\u001b[39m\u001b[38;5;124m'\u001b[39m))\n\u001b[1;32m     35\u001b[0m controls1 \u001b[38;5;241m=\u001b[39m pd\u001b[38;5;241m.\u001b[39mread_csv(\u001b[38;5;124m'\u001b[39m\u001b[38;5;124mTI_26_11_12-controls.csv\u001b[39m\u001b[38;5;124m'\u001b[39m, index_col\u001b[38;5;241m=\u001b[39m\u001b[38;5;124m'\u001b[39m\u001b[38;5;124mexperiment\u001b[39m\u001b[38;5;124m'\u001b[39m)\n\u001b[1;32m     37\u001b[0m key2key_data1 \u001b[38;5;241m=\u001b[39m {\n\u001b[1;32m     38\u001b[0m     \u001b[38;5;124m'\u001b[39m\u001b[38;5;124mAβ clearance (BV2 cells)\u001b[39m\u001b[38;5;124m'\u001b[39m: \u001b[38;5;124m'\u001b[39m\u001b[38;5;124mAbeta clearance\u001b[39m\u001b[38;5;124m'\u001b[39m,\n\u001b[1;32m     39\u001b[0m     \u001b[38;5;124m'\u001b[39m\u001b[38;5;124mAβ release (H4 cells)\u001b[39m\u001b[38;5;124m'\u001b[39m: \u001b[38;5;124m'\u001b[39m\u001b[38;5;124mAbeta release\u001b[39m\u001b[38;5;124m'\u001b[39m,\n\u001b[0;32m   (...)\u001b[0m\n\u001b[1;32m     42\u001b[0m     \u001b[38;5;124m'\u001b[39m\u001b[38;5;124mTrophic factor withdrawal (primary neurons)\u001b[39m\u001b[38;5;124m'\u001b[39m: \u001b[38;5;124m'\u001b[39m\u001b[38;5;124mGF withdrawal\u001b[39m\u001b[38;5;124m'\u001b[39m,\n\u001b[1;32m     43\u001b[0m }\n",
      "\u001b[0;31mModuleNotFoundError\u001b[0m: No module named 'pandas.core.indexes.numeric'"
     ]
    }
   ],
   "source": [
    "def extract_TI_exp_data(experiment, TI, control_TI='VC', batchvars=['Batch', 'Plate'], experimentd=experimentd, fpath=fpath):\n",
    "    data = pd.read_excel(fpath, experimentd[experiment])\n",
    "    TI_data = data.loc[data.TI == TI]\n",
    "    # ensure that all treatment TI data are from the same batch:plate\n",
    "    if len(TI_data.groupby(batchvars)) != 1:\n",
    "        print('treatment with multiple batches')\n",
    "        return(None)\n",
    "    b = data.Plate == TI_data.iloc[0].loc['Plate']\n",
    "    # if there's no information on the\n",
    "    if not TI_data.iloc[0].isna().loc['Batch']:\n",
    "        b = b & (data.Batch == data.iloc[0].loc['Batch'])\n",
    "    TI_exp_data = data.loc[b]\n",
    "    TI_exp_data_control = TI_exp_data.loc[TI_exp_data.TI == control_TI].copy()\n",
    "    # if there's no control for the same batch:plate, use controls from all other batch:plate combinations\n",
    "    if len(TI_exp_data_control) == 0:\n",
    "        TI_exp_data_control = data.loc[data.TI == control_TI].copy()\n",
    "    TI_exp_data_control['conc'] = control_TI\n",
    "    TI_exp_data_TI = TI_exp_data.loc[TI_exp_data.TI == TI].copy()\n",
    "    TI_exp_data = pd.concat([TI_exp_data_control, TI_exp_data_TI], axis=0)\n",
    "    return(TI_exp_data)\n",
    "\n",
    "experiment = experimentl[0]\n",
    "TI = list(treatmentd.keys())[0]\n",
    "\n",
    "def add_concentrations(df, conc2concentration=conc2concentration):\n",
    "    df['concentration'] = df.conc.apply(lambda x: conc2concentration.loc[TI, x])\n",
    "    df['conc_log10'] = df.concentration.apply(lambda x: np.log10(x))\n",
    "    return(df)\n",
    "\n",
    "def process_TI_list_exp(experiment, control_TI='VC', TI_list=['TI11', 'TI12'], conc2concentration=conc2concentration):\n",
    "    d = {TI: add_concentrations(extract_TI_exp_data(experiment, TI, control_TI)) for TI in TI_list}\n",
    "    return(d)\n",
    "\n",
    "datad1 = pickle.load(open('../../results/2023-09-26-cell-bayes-assays/data.nc', 'rb'))\n",
    "controls1 = pd.read_csv('TI_26_11_12-controls.csv', index_col='experiment')\n",
    "\n",
    "key2key_data1 = {\n",
    "    'Aβ clearance (BV2 cells)': 'Abeta clearance',\n",
    "    'Aβ release (H4 cells)': 'Abeta release',\n",
    "    'LPS neuroinflammation (BV2 cells)': 'LPS',\n",
    "    'Tau phosphorylation': 'Tau phosphorylation',\n",
    "    'Trophic factor withdrawal (primary neurons)': 'GF withdrawal',\n",
    "}\n",
    "\n",
    "datad = {experiment: process_TI_list_exp(experiment, control_TI=cTI) for experiment, cTI in zip(experimentl, control_TIl)}\n",
    "\n",
    "for pretty_name, name1 in key2key_data1.items():\n",
    "    df = datad1[name1]\n",
    "    df = df.loc[~ df.TI.isin(['TI21', 'TI22'])]\n",
    "    group_var, group_num = controls1.loc[pretty_name, ['group_var', 'TI26']]\n",
    "    if isinstance(group_var, str):\n",
    "        df = df.loc[df[group_var] == group_num]\n",
    "    datad[pretty_name].update({'TI26': df})"
   ]
  },
  {
   "cell_type": "code",
   "execution_count": null,
   "id": "e77cbe89",
   "metadata": {},
   "outputs": [],
   "source": [
    "datad[experimentl[2]]['TI11']"
   ]
  },
  {
   "cell_type": "code",
   "execution_count": null,
   "id": "eebb1647",
   "metadata": {},
   "outputs": [],
   "source": [
    "datad[experimentl[0]]['TI26']"
   ]
  },
  {
   "cell_type": "markdown",
   "id": "cfba97b1",
   "metadata": {},
   "source": [
    "## Plot data\n",
    "\n",
    "### Aβ clearance (BV2 cells)"
   ]
  },
  {
   "cell_type": "code",
   "execution_count": null,
   "id": "52ea1162",
   "metadata": {},
   "outputs": [],
   "source": [
    "def data_plotter(assay, data, group_var=None, sharey=True):\n",
    "    my_treatments = data.keys()\n",
    "    fig, ax = plt.subplots(1, len(my_treatments), sharey=sharey)\n",
    "    for axi, compound in zip(ax, my_treatments):\n",
    "        df = data[compound].copy()\n",
    "        if group_var is not None:\n",
    "            groups = df[group_var].unique()\n",
    "            groupd = dict(zip(groups, ['C' + str(i) for i in range(len(groups))]))\n",
    "            df['color'] = df[group_var].apply(lambda x: groupd[x])\n",
    "        else:\n",
    "            df['color'] = 'C0'\n",
    "        #df['color'] = 'C0'\n",
    "        axi.scatter(x='concentration', y=assay, c='color', data=df, marker='+')\n",
    "        axi.set_xscale('log')\n",
    "        axi.set_title(compound)\n",
    "    fig.suptitle(assay)\n",
    "    return((fig, ax))\n",
    "\n",
    "experiment = 'Aβ clearance (BV2 cells)'\n",
    "datad[experiment]['TI26'] = datad[experiment]['TI26'].rename({'plate': 'Plate'}, axis=1)\n",
    "fig, ax = data_plotter('Aβ42 Ly', datad[experiment], group_var='Plate', sharey=False)"
   ]
  },
  {
   "cell_type": "code",
   "execution_count": null,
   "id": "a3aedc2a",
   "metadata": {},
   "outputs": [],
   "source": [
    "fig, ax = data_plotter('Aβ42 SN', datad[experiment], group_var='Plate')"
   ]
  },
  {
   "cell_type": "markdown",
   "id": "aa08bb32",
   "metadata": {},
   "source": [
    "### Aβ release (H4 cells)"
   ]
  },
  {
   "cell_type": "code",
   "execution_count": null,
   "id": "11ef2690",
   "metadata": {},
   "outputs": [],
   "source": [
    "experiment = 'Aβ release (H4 cells)'\n",
    "datad[experiment]['TI26'] = datad[experiment]['TI26'].rename({'plate': 'Plate'}, axis=1)\n",
    "fig, ax = data_plotter('Aβ38', datad[experiment], group_var='Plate', sharey=True)"
   ]
  },
  {
   "cell_type": "code",
   "execution_count": null,
   "id": "93537efc",
   "metadata": {},
   "outputs": [],
   "source": [
    "fig, ax = data_plotter('Aβ40', datad[experiment], group_var='Plate', sharey=False)"
   ]
  },
  {
   "cell_type": "code",
   "execution_count": null,
   "id": "bbf51368",
   "metadata": {},
   "outputs": [],
   "source": [
    "fig, ax = data_plotter('Aβ42', datad[experiment], group_var='Plate', sharey=False)"
   ]
  },
  {
   "cell_type": "markdown",
   "id": "80552ec5",
   "metadata": {},
   "source": [
    "### LPS neuroinflammation (BV2 cells)"
   ]
  },
  {
   "cell_type": "code",
   "execution_count": null,
   "id": "eb99e6f3",
   "metadata": {},
   "outputs": [],
   "source": [
    "experiment = 'LPS neuroinflammation (BV2 cells)'\n",
    "datad[experiment]['TI26'] = datad[experiment]['TI26'].rename({'Cohort': 'Plate'}, axis=1)\n",
    "fig, ax = data_plotter('IL-10', datad[experiment], group_var='Plate', sharey=True)"
   ]
  },
  {
   "cell_type": "code",
   "execution_count": null,
   "id": "ce99c001",
   "metadata": {},
   "outputs": [],
   "source": [
    "fig, ax = data_plotter('IL-1β', datad[experiment], group_var='Plate', sharey=True)"
   ]
  },
  {
   "cell_type": "code",
   "execution_count": null,
   "id": "a50a58bf",
   "metadata": {},
   "outputs": [],
   "source": [
    "fig, ax = data_plotter('IL-6', datad[experiment], group_var='Plate', sharey=True)"
   ]
  },
  {
   "cell_type": "code",
   "execution_count": null,
   "id": "23412a35",
   "metadata": {},
   "outputs": [],
   "source": [
    "fig, ax = data_plotter('KC/GRO', datad[experiment], group_var='Plate', sharey=True)"
   ]
  },
  {
   "cell_type": "code",
   "execution_count": null,
   "id": "0d5cbc49",
   "metadata": {},
   "outputs": [],
   "source": [
    "fig, ax = data_plotter('TNF-α', datad[experiment], group_var='Plate', sharey=True)"
   ]
  },
  {
   "cell_type": "markdown",
   "id": "cf9960b5",
   "metadata": {},
   "source": [
    "### Tau phoshorylation"
   ]
  },
  {
   "cell_type": "code",
   "execution_count": null,
   "id": "6d8f0720",
   "metadata": {},
   "outputs": [],
   "source": [
    "experiment = 'Tau phosphorylation'\n",
    "\n",
    "fig, ax = plt.subplots(figsize=(4.8, 4.8))\n",
    "ax.scatter(x='pTau (T231) [AU]', y='pTau (T231) [AU2]', data=datad[experiment]['TI11'], label='TI11')\n",
    "ax.scatter(x='pTau (T231) [AU]', y='pTau (T231) [AU2]', data=datad[experiment]['TI12'], label='TI12')\n",
    "#ax.scatter(x='pTau (T231) [AU]', y='pTau (T231) [AU2]', data=datad[experiment]['TI26'], label='TI26')\n"
   ]
  },
  {
   "cell_type": "code",
   "execution_count": null,
   "id": "23f5c65f",
   "metadata": {},
   "outputs": [],
   "source": [
    "experiment = 'Tau phosphorylation'\n",
    "datad[experiment]['TI26'] = datad[experiment]['TI26'].rename({'Cohort': 'Plate', 'Tau [pg/µg prot]': 'Tau [pg/µg]', 'pTau (T231)': 'pTau (T231) [AU2]'}, axis=1)\n",
    "for TI in ['TI11', 'TI12']:\n",
    "    datad[experiment][TI] = datad[experiment][TI].rename({'Ratio pTau /Tau': 'ratio'}, axis=1)\n",
    "\n",
    "for TI in datad[experiment].keys():\n",
    "    datad[experiment][TI] = datad[experiment][TI].rename({'Tau [pg/µg]': 'Tau', 'pTau (T231) [AU2]': 'pTau (T231)', 'ratio': 'pT/T ratio'}, axis=1)\n",
    "\n",
    "#datad[experiment]['TI11'] = datad[experiment]['TI11'].rename({'Ratio pTau /Tau': 'ratio'}, axis=1)\n",
    "#datad[experiment]['TI11'] = datad[experiment]['TI11'].rename({'Ratio pTau /Tau': 'ratio'}, axis=1)\n",
    "\n",
    "fig, ax = data_plotter('Tau', datad[experiment], group_var='Plate', sharey=False)"
   ]
  },
  {
   "cell_type": "code",
   "execution_count": null,
   "id": "405c702e",
   "metadata": {},
   "outputs": [],
   "source": [
    "fig, ax = data_plotter('pTau (T231)', datad[experiment], group_var='Plate', sharey=True)"
   ]
  },
  {
   "cell_type": "code",
   "execution_count": null,
   "id": "90756b85",
   "metadata": {},
   "outputs": [],
   "source": [
    "#datad[experiment]['TI26'] = datad[experiment]['TI26'].rename({'pTau (T231) [AU2]': 'pTau (T231) [AU]'}, axis=1)\n",
    "fig, ax = data_plotter('pTau (T231)', datad[experiment], group_var='Plate', sharey=True)"
   ]
  },
  {
   "cell_type": "code",
   "execution_count": null,
   "id": "7f85f1d9",
   "metadata": {},
   "outputs": [],
   "source": [
    "#datad[experiment]['TI26'] = datad[experiment]['TI26'].rename({'pTau (T231) [AU2]': 'pTau (T231) [AU1]'}, axis=1)\n",
    "fig, ax = data_plotter('pT/T ratio', datad[experiment], group_var='Plate', sharey=False)"
   ]
  },
  {
   "cell_type": "markdown",
   "id": "4fd4a69c",
   "metadata": {},
   "source": [
    "### Trophic factor withdrawal (primary neurons)"
   ]
  },
  {
   "cell_type": "code",
   "execution_count": null,
   "id": "bc568937",
   "metadata": {},
   "outputs": [],
   "source": [
    "experiment = 'Trophic factor withdrawal (primary neurons)'\n",
    "fig, ax = data_plotter('LDH', datad[experiment], group_var=None, sharey=False)"
   ]
  },
  {
   "cell_type": "code",
   "execution_count": null,
   "id": "6510f582",
   "metadata": {},
   "outputs": [],
   "source": [
    "experiment = 'Trophic factor withdrawal (primary neurons)'\n",
    "fig, ax = data_plotter('MTT', datad[experiment], group_var=None, sharey=False)"
   ]
  },
  {
   "cell_type": "code",
   "execution_count": null,
   "id": "c2bfbbdf",
   "metadata": {},
   "outputs": [],
   "source": [
    "def extract_regr_data(exper, assay, TI, datad=datad):\n",
    "    data = datad[exper][TI]\n",
    "    activity = data[assay] / data[assay].std() * 10 # standardization\n",
    "    data = pd.concat([data, activity.to_frame('activity')], axis=1)\n",
    "    y_obs = data['activity'].values\n",
    "    x_obs = data['conc_log10'].values\n",
    "    return((y_obs, x_obs))\n",
    "\n",
    "extract_regr_data('Aβ clearance (BV2 cells)', 'Aβ42 Ly', 'TI26')"
   ]
  },
  {
   "cell_type": "markdown",
   "id": "d3419978",
   "metadata": {},
   "source": [
    "## Create inference data"
   ]
  },
  {
   "cell_type": "code",
   "execution_count": null,
   "id": "6fc23402",
   "metadata": {},
   "outputs": [],
   "source": [
    "treatment2drugname1 = {'TI21': 'TUDCA', 'TI22': 'Cysteamine', 'TI26': 'Arundine'}\n",
    "idatadf1 = cba.idatadf_from_netcdf(subdir='idatadf/', maindir='../../results/2023-09-26-cell-bayes-assays/').rename(columns=treatment2drugname1)"
   ]
  },
  {
   "cell_type": "code",
   "execution_count": null,
   "id": "7fb85d9a",
   "metadata": {},
   "outputs": [],
   "source": [
    "def extract_regr_data(exper, assay, compound, datad=datad):\n",
    "    data = datad[exper][compound]\n",
    "    activity = data[assay] / data[assay].std() * 10 # standardization\n",
    "    data = pd.concat([data, activity.to_frame('activity')], axis=1)\n",
    "    y_obs = data['activity'].values\n",
    "    x_obs = data['conc_log10'].values\n",
    "    return((y_obs, x_obs))\n",
    "\n",
    "\n",
    "def fit_single(exper='Aβ clearance (BV2 cells)', assay='Aβ42 SN', compound='TI11', datad=datad):\n",
    "    y_obs, x_obs = extract_regr_data(exper, assay, compound, datad=datad)\n",
    "    try:\n",
    "        model, idata = [cba.sample_sigmoid_2(y_obs, x_obs, return_model=b) for b in [True, False]]\n",
    "    except pm.SamplingError:\n",
    "        model, idata = (None, None)\n",
    "    index = pd.MultiIndex.from_product([[compound], ['model', 'idata']])\n",
    "    columns = pd.MultiIndex.from_product([[exper], [assay]])\n",
    "    df = pd.DataFrame([model, idata], index=index, columns=columns).transpose()\n",
    "    return(df)\n",
    "\n",
    "\n",
    "def fit_assay(exper='Aβ clearance (BV2 cells)', assay='Aβ42 SN', datad=datad):\n",
    "    compounds = datad[exper].keys()\n",
    "    l = [fit_single(exper=exper, assay=assay, compound=c, datad=datad) for c in compounds]\n",
    "    df = pd.concat(l, axis=1)\n",
    "    return(df)\n",
    "\n",
    "\n",
    "def fit_exper(exper='Aβ clearance (BV2 cells)', assays=['Aβ42 SN', 'Aβ42 Ly'], datad=datad):\n",
    "    l = [fit_assay(exper=exper, assay=a, datad=datad) for a in assays]\n",
    "    df = pd.concat(l, axis=0)\n",
    "    return(df)\n",
    "\n",
    "\n",
    "ideal_H1_increase = cba.read_ideal_H1_increase()\n",
    "\n",
    "assayd = {exper: [assay for assay in ideal_H1_increase.loc[exper].index if assay in datad[exper]['TI11'].columns] for exper in datad.keys()}"
   ]
  },
  {
   "cell_type": "code",
   "execution_count": null,
   "id": "caa5f172",
   "metadata": {},
   "outputs": [],
   "source": [
    "maindir = '../../results/2024-01-21-cell-bayes-assays-dim/'\n",
    "\n",
    "if not os.path.exists(maindir + 'idatadf/fpaths.csv'):\n",
    "    l = [fit_exper(exper=exper, assays=assays) for exper, assays in assayd.items()]\n",
    "    idatadf = pd.concat(l, axis=0).xs('idata', axis=1, level=1)\n",
    "    fpathdf = cba.idatadf_to_netcdf(idatadf, subdir='idatadf/', maindir=maindir)\n",
    "    print('idatadf written to netcdf')\n",
    "else:\n",
    "    idatadf = cba.idatadf_from_netcdf(subdir='idatadf/', maindir=maindir)\n",
    "    print('idatadf read from netcdf')\n",
    "\n",
    "\n",
    "arundine_analogs = pd.read_csv('arundine-analogs.csv', index_col='TI')\n",
    "idatadf = idatadf.rename(arundine_analogs['pretty name'].to_dict(), axis=1)\n",
    "idatadf = idatadf.reindex(arundine_analogs['pretty name'].to_list(), axis=1)\n",
    "idatadf"
   ]
  },
  {
   "cell_type": "markdown",
   "id": "7281e487",
   "metadata": {},
   "source": [
    "## Fit diagnostics"
   ]
  },
  {
   "cell_type": "code",
   "execution_count": null,
   "id": "6cec1731",
   "metadata": {},
   "outputs": [],
   "source": [
    "cba.get_diagnostics(idatadf, az.ess)"
   ]
  },
  {
   "cell_type": "code",
   "execution_count": null,
   "id": "fd4e761f",
   "metadata": {},
   "outputs": [],
   "source": [
    "cba.get_diagnostics(idatadf, az.rhat)"
   ]
  },
  {
   "cell_type": "code",
   "execution_count": null,
   "id": "00f7a45b",
   "metadata": {},
   "outputs": [],
   "source": [
    "cba.get_diagnostics(idatadf, az.mcse)"
   ]
  },
  {
   "cell_type": "markdown",
   "id": "ebfd7863",
   "metadata": {},
   "source": [
    "## Posterior probabilities for hypotheses"
   ]
  },
  {
   "cell_type": "code",
   "execution_count": null,
   "id": "3b42d5d8",
   "metadata": {},
   "outputs": [],
   "source": [
    "poor_fits1 = [\n",
    "    (('LPS neuroinflammation (BV2 cells)', 'IFN-γ'), 'Arundine'),\n",
    "    (('Tau phosphorylation', 'pT/T ratio'), 'Arundine'),\n",
    "    (('Neurite outgrowth (primary neurons)', 'neurogenesis'), 'Cysteamine'),\n",
    "]\n",
    "\n",
    "fpath = '../../results/2023-09-26-cell-bayes-assays/H102_posteriors.csv'\n",
    "if not os.path.exists(fpath):\n",
    "    H102_posteriors1 = cba.get_H102_posterior_from_idatadf(idatadf1, poor_fits1)\n",
    "    #H102_posteriors1.to_csv(fpath)\n",
    "else:\n",
    "    H102_posteriors1 = pd.read_csv(fpath, index_col=[0, 1], header=[0, 1])\n",
    "    \n",
    "H102_posteriors1 = cba.nice_assay_names(H102_posteriors1)\n",
    "H102_posteriors1.style.format(precision=2).background_gradient(axis=None, vmin=0, vmax=1, cmap='hot')"
   ]
  },
  {
   "cell_type": "code",
   "execution_count": null,
   "id": "3af4c7df",
   "metadata": {},
   "outputs": [],
   "source": [
    "poor_fits = [\n",
    "    (('Tau phosphorylation', 'pT/T ratio'), 'Arundine'),\n",
    "    (('Tau phosphorylation', 'pT/T ratio'), 'C-DIM5'),\n",
    "    (('LPS neuroinflammation (BV2 cells)', 'IL-1β'), 'C-DIM5'),\n",
    "    (('LPS neuroinflammation (BV2 cells)', 'IL-1β'), 'C-DIM12'),\n",
    "    (('Aβ release (H4 cells)', 'Aβ42'), 'C-DIM12'),\n",
    "]\n",
    "\n",
    "fpath = '../../results/2024-01-21-cell-bayes-assays-dim/H102_posteriors.csv'\n",
    "if not os.path.exists(fpath):\n",
    "    H102_posteriors = cba.get_H102_posterior_from_idatadf(idatadf, poor_fits)\n",
    "    H102_posteriors.to_csv(fpath)\n",
    "else:\n",
    "    H102_posteriors = pd.read_csv(fpath, index_col=[0, 1], header=[0, 1])\n",
    "    \n",
    "#H102_posteriors = cba.nice_assay_names(H102_posteriors)\n",
    "H102_posteriors.style.format(precision=2).background_gradient(axis=None, vmin=0, vmax=1, cmap='hot')"
   ]
  },
  {
   "cell_type": "code",
   "execution_count": null,
   "id": "e2e6416c",
   "metadata": {},
   "outputs": [],
   "source": [
    "H102_posteriors.mean(axis=0).to_frame('score').transpose().style.format(precision=2).background_gradient(axis=None, vmin=0, vmax=1, cmap='hot')"
   ]
  },
  {
   "cell_type": "code",
   "execution_count": null,
   "id": "ca1f0b56",
   "metadata": {},
   "outputs": [],
   "source": [
    "fig, ax = cba.barchart_H102_posteriors(H102_posteriors1.groupby(level=0, axis=0).mean(), e2l_textbox=False)"
   ]
  },
  {
   "cell_type": "code",
   "execution_count": null,
   "id": "3c2c016c",
   "metadata": {},
   "outputs": [],
   "source": [
    "fig, ax = cba.barchart_H102_posteriors(H102_posteriors.groupby(level=0, axis=0).mean(), e2l_textbox=False)\n",
    "attila_utils.savefig(fig, 'H102_posteriors-exper-mean-barchart')"
   ]
  },
  {
   "cell_type": "code",
   "execution_count": null,
   "id": "d40c34b4",
   "metadata": {},
   "outputs": [],
   "source": [
    "fig, ax = cba.barchart_H102_posteriors(H102_posteriors1, e2l_textbox=True)"
   ]
  },
  {
   "cell_type": "code",
   "execution_count": null,
   "id": "d9c8b907",
   "metadata": {},
   "outputs": [],
   "source": [
    "fig, ax = cba.barchart_H102_posteriors(H102_posteriors, e2l_textbox=True)\n",
    "attila_utils.savefig(fig, 'H102_posteriors-barchart-e2l_textbox')"
   ]
  },
  {
   "cell_type": "code",
   "execution_count": null,
   "id": "04816b07",
   "metadata": {},
   "outputs": [],
   "source": [
    "fig, ax = cba.barchart_H102_posteriors(H102_posteriors, e2l_textbox=False)\n",
    "attila_utils.savefig(fig, 'H102_posteriors-barchart')"
   ]
  },
  {
   "cell_type": "code",
   "execution_count": null,
   "id": "d526748b",
   "metadata": {},
   "outputs": [],
   "source": [
    "fig, ax = cba.violin_posterior_pdf(idatadf1, poor_fits1, text_box=True, H_legend=True)"
   ]
  },
  {
   "cell_type": "code",
   "execution_count": null,
   "id": "9358d99a",
   "metadata": {},
   "outputs": [],
   "source": [
    "fig, ax = cba.violin_posterior_pdf(idatadf, poor_fits, text_box=True, H_legend=True)\n",
    "attila_utils.savefig(fig, 'violin-posterior-pdf-legend')"
   ]
  },
  {
   "cell_type": "code",
   "execution_count": null,
   "id": "6bc56043",
   "metadata": {},
   "outputs": [],
   "source": [
    "fig, ax = cba.violin_posterior_pdf(idatadf, poor_fits, text_box=True, H_legend=True, plot_avg=True)\n",
    "attila_utils.savefig(fig, 'violin-posterior-pdf-legend-avg')"
   ]
  },
  {
   "cell_type": "code",
   "execution_count": null,
   "id": "0ed2efa9",
   "metadata": {},
   "outputs": [],
   "source": [
    "%connect_info"
   ]
  },
  {
   "cell_type": "code",
   "execution_count": null,
   "id": "102551dd",
   "metadata": {},
   "outputs": [],
   "source": []
  }
 ],
 "metadata": {
  "kernelspec": {
   "display_name": "Python 3 (ipykernel)",
   "language": "python",
   "name": "python3"
  },
  "language_info": {
   "codemirror_mode": {
    "name": "ipython",
    "version": 3
   },
   "file_extension": ".py",
   "mimetype": "text/x-python",
   "name": "python",
   "nbconvert_exporter": "python",
   "pygments_lexer": "ipython3",
   "version": "3.11.0"
  }
 },
 "nbformat": 4,
 "nbformat_minor": 5
}
