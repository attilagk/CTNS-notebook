{
 "cells": [
  {
   "cell_type": "markdown",
   "id": "endless-fellow",
   "metadata": {},
   "source": [
    "Testing Guney's `toolbox` package for network based proximity between drug targets and disease genes.\n",
    "\n",
    "Chosen targets:\n",
    "* Hydroxychloroquine targets (TLR7 and TLR9)\n",
    "* two of the AD disease genes\n",
    "\n",
    "AD disease genes:\n",
    "* Guney AD genes: from Guney et al\n",
    "* Knowledge based AD genes: from the DISEASES database\n",
    "* High confidence AD genes: knowledge based + TWAS + incipient proteomic signature\n",
    "\n",
    "Both choices of targets are rather arbitrary.  We expect the two AD disease genes, by definition, to be more proximal than the Hydroxychloroquine targets (which are not AD genes by any definition used in this notebook). The calculations below will support this quantitatively."
   ]
  },
  {
   "cell_type": "code",
   "execution_count": 1,
   "id": "palestinian-costs",
   "metadata": {},
   "outputs": [
    {
     "name": "stdout",
     "output_type": "stream",
     "text": [
      "GenRev not found, steiner wont work\n",
      "Import error: Negex. Using keyword matching instead\n",
      "Import error: Funcassociate. Make sure that funcassociate is in toolbox!\n"
     ]
    }
   ],
   "source": [
    "%load_ext autoreload\n",
    "%autoreload 2\n",
    "%reload_ext autoreload\n",
    "from toolbox import wrappers\n",
    "from toolbox import network_utilities\n",
    "import pandas as pd\n",
    "import numpy as np\n",
    "import scipy.stats\n",
    "from matplotlib_venn import venn2, venn3\n",
    "import matplotlib.pyplot as plt\n",
    "import seaborn as sns\n",
    "import attila_utils"
   ]
  },
  {
   "cell_type": "markdown",
   "id": "stunning-dietary",
   "metadata": {},
   "source": [
    "## Preparations\n",
    "\n",
    "### GeneID -- Symbol mapping\n",
    "\n",
    "`id_mapping_file` comes from [this file](ftp://ftp.ncbi.nih.gov/gene/DATA/GENE_INFO/Mammalia/Homo_sapiens.gene_info.gz) at NCBI; see [parse_ncbi.py](https://github.com/attilagk/guney_code/blob/master/parse_ncbi.py) for details."
   ]
  },
  {
   "cell_type": "code",
   "execution_count": 2,
   "id": "instrumental-syndrome",
   "metadata": {},
   "outputs": [
    {
     "data": {
      "text/html": [
       "<div>\n",
       "<style scoped>\n",
       "    .dataframe tbody tr th:only-of-type {\n",
       "        vertical-align: middle;\n",
       "    }\n",
       "\n",
       "    .dataframe tbody tr th {\n",
       "        vertical-align: top;\n",
       "    }\n",
       "\n",
       "    .dataframe thead th {\n",
       "        text-align: right;\n",
       "    }\n",
       "</style>\n",
       "<table border=\"1\" class=\"dataframe\">\n",
       "  <thead>\n",
       "    <tr style=\"text-align: right;\">\n",
       "      <th></th>\n",
       "      <th>Symbol</th>\n",
       "    </tr>\n",
       "    <tr>\n",
       "      <th>GeneID</th>\n",
       "      <th></th>\n",
       "    </tr>\n",
       "  </thead>\n",
       "  <tbody>\n",
       "    <tr>\n",
       "      <th>1</th>\n",
       "      <td>A1BG</td>\n",
       "    </tr>\n",
       "    <tr>\n",
       "      <th>2</th>\n",
       "      <td>A2M</td>\n",
       "    </tr>\n",
       "    <tr>\n",
       "      <th>3</th>\n",
       "      <td>A2MP1</td>\n",
       "    </tr>\n",
       "    <tr>\n",
       "      <th>9</th>\n",
       "      <td>NAT1</td>\n",
       "    </tr>\n",
       "    <tr>\n",
       "      <th>10</th>\n",
       "      <td>NAT2</td>\n",
       "    </tr>\n",
       "    <tr>\n",
       "      <th>...</th>\n",
       "      <td>...</td>\n",
       "    </tr>\n",
       "    <tr>\n",
       "      <th>8923215</th>\n",
       "      <td>trnD</td>\n",
       "    </tr>\n",
       "    <tr>\n",
       "      <th>8923216</th>\n",
       "      <td>trnP</td>\n",
       "    </tr>\n",
       "    <tr>\n",
       "      <th>8923217</th>\n",
       "      <td>trnA</td>\n",
       "    </tr>\n",
       "    <tr>\n",
       "      <th>8923218</th>\n",
       "      <td>COX1</td>\n",
       "    </tr>\n",
       "    <tr>\n",
       "      <th>8923219</th>\n",
       "      <td>16S rRNA</td>\n",
       "    </tr>\n",
       "  </tbody>\n",
       "</table>\n",
       "<p>63949 rows × 1 columns</p>\n",
       "</div>"
      ],
      "text/plain": [
       "           Symbol\n",
       "GeneID           \n",
       "1            A1BG\n",
       "2             A2M\n",
       "3           A2MP1\n",
       "9            NAT1\n",
       "10           NAT2\n",
       "...           ...\n",
       "8923215      trnD\n",
       "8923216      trnP\n",
       "8923217      trnA\n",
       "8923218      COX1\n",
       "8923219  16S rRNA\n",
       "\n",
       "[63949 rows x 1 columns]"
      ]
     },
     "execution_count": 2,
     "metadata": {},
     "output_type": "execute_result"
    }
   ],
   "source": [
    "id_mapping_file = '../../resources/PPI/geneid_to_symbol.txt'\n",
    "id_symbol = pd.read_csv(id_mapping_file, sep='\\t', index_col='GeneID')\n",
    "id_symbol = id_symbol.set_index(id_symbol.index.astype('str'))\n",
    "id_symbol"
   ]
  },
  {
   "cell_type": "markdown",
   "id": "little-doctrine",
   "metadata": {},
   "source": [
    "### PPI networks\n",
    "\n",
    "I read two PPI networks:\n",
    "1. `network_guney` from Guney et al 2016\n",
    "1. `network_cheng` from Cheng et al 2019\n",
    "\n",
    "Below is the number of binary PPI interactions in each of these networks"
   ]
  },
  {
   "cell_type": "code",
   "execution_count": 3,
   "id": "brilliant-malawi",
   "metadata": {},
   "outputs": [
    {
     "name": "stdout",
     "output_type": "stream",
     "text": [
      " 141296 ../../resources/proximity/data/network/network.sif\n",
      " 217160 ../../resources/PPI/Cheng2019/network.sif\n",
      " 358456 total\n"
     ]
    }
   ],
   "source": [
    "%%bash\n",
    "wc -l ../../resources/proximity/data/network/network.sif ../../resources/PPI/Cheng2019/network.sif"
   ]
  },
  {
   "cell_type": "code",
   "execution_count": 4,
   "id": "romantic-request",
   "metadata": {},
   "outputs": [],
   "source": [
    "network_guney = wrappers.get_network('../../resources/proximity/data/network/network.sif', only_lcc = True)\n",
    "network_cheng = wrappers.get_network('../../resources/PPI/Cheng2019/network.sif', only_lcc = True)"
   ]
  },
  {
   "cell_type": "markdown",
   "id": "documented-viking",
   "metadata": {},
   "source": [
    "### HCQ targets\n",
    "I will use Hydroxychloroquine's targets.  See [this page](https://go.drugbank.com/drugs/DB01611) on drugbank."
   ]
  },
  {
   "cell_type": "code",
   "execution_count": 5,
   "id": "described-dollar",
   "metadata": {},
   "outputs": [],
   "source": [
    "%%bash\n",
    "echo TLR7 > ../../results/2021-08-04-guney-tools/Hydroxychloroquine-targets\n",
    "echo TLR9 >> ../../results/2021-08-04-guney-tools/Hydroxychloroquine-targets"
   ]
  },
  {
   "cell_type": "code",
   "execution_count": 6,
   "id": "powered-clear",
   "metadata": {},
   "outputs": [
    {
     "name": "stdout",
     "output_type": "stream",
     "text": [
      "set()\n"
     ]
    },
    {
     "data": {
      "text/plain": [
       "{'51284', '54106'}"
      ]
     },
     "execution_count": 6,
     "metadata": {},
     "output_type": "execute_result"
    }
   ],
   "source": [
    "HCQ_targets_TLR = wrappers.convert_to_geneid(file_name='../../results/2021-08-04-guney-tools/Hydroxychloroquine-targets', id_type='symbol', id_mapping_file=id_mapping_file)\n",
    "HCQ_targets_TLR"
   ]
  },
  {
   "cell_type": "code",
   "execution_count": 7,
   "id": "strong-conditioning",
   "metadata": {},
   "outputs": [],
   "source": [
    "%%bash\n",
    "echo ACE2 >> ../../results/2021-08-04-guney-tools/Hydroxychloroquine-targets"
   ]
  },
  {
   "cell_type": "code",
   "execution_count": 8,
   "id": "changing-clearing",
   "metadata": {},
   "outputs": [
    {
     "name": "stdout",
     "output_type": "stream",
     "text": [
      "set()\n"
     ]
    },
    {
     "data": {
      "text/plain": [
       "{'51284', '54106', '59272'}"
      ]
     },
     "execution_count": 8,
     "metadata": {},
     "output_type": "execute_result"
    }
   ],
   "source": [
    "HCQ_targets = wrappers.convert_to_geneid(file_name='../../results/2021-08-04-guney-tools/Hydroxychloroquine-targets', id_type='symbol', id_mapping_file=id_mapping_file)\n",
    "HCQ_targets"
   ]
  },
  {
   "cell_type": "markdown",
   "id": "arctic-carroll",
   "metadata": {},
   "source": [
    "### AD gene sets\n",
    "#### Guney AD genes"
   ]
  },
  {
   "cell_type": "code",
   "execution_count": 9,
   "id": "secondary-cleveland",
   "metadata": {},
   "outputs": [],
   "source": [
    "%%bash\n",
    "grep 'alzheimer disease' ../../resources/proximity/data/disease/disease_genes.tsv | \\\n",
    "tr '\\t' '\\n' | sed -n '/^[0-9]\\+/ p' > ../../results/2021-08-04-guney-tools/AD-genes-guney"
   ]
  },
  {
   "cell_type": "code",
   "execution_count": 10,
   "id": "annual-daniel",
   "metadata": {},
   "outputs": [],
   "source": [
    "with open('../../results/2021-08-04-guney-tools/AD-genes-guney') as f:\n",
    "    AD_genes_guney = f.readlines()\n",
    "AD_genes_guney = [x.strip('\\n') for x in AD_genes_guney]"
   ]
  },
  {
   "cell_type": "markdown",
   "id": "balanced-restaurant",
   "metadata": {},
   "source": [
    "Making sure that the gene set is a subset of the network's nodes"
   ]
  },
  {
   "cell_type": "code",
   "execution_count": 11,
   "id": "finnish-bride",
   "metadata": {},
   "outputs": [
    {
     "name": "stdout",
     "output_type": "stream",
     "text": [
      "5 genes removed from 36\n"
     ]
    }
   ],
   "source": [
    "def remove_genes_notin_network(genes, network):\n",
    "    oldsize = len(genes)\n",
    "    newgenes = [y for y in genes if y in network.nodes]\n",
    "    newsize = len(newgenes)\n",
    "    restgenes = set(genes).difference(set(newgenes))\n",
    "    print(oldsize - newsize, 'genes removed from', oldsize)\n",
    "    return((newgenes, restgenes))\n",
    "\n",
    "AD_genes_guney, AD_genes_guney_removed = remove_genes_notin_network(AD_genes_guney, network_cheng)"
   ]
  },
  {
   "cell_type": "markdown",
   "id": "chemical-peripheral",
   "metadata": {},
   "source": [
    "When I use the older, smaller `network_guney` then additional genes are removed (therefore I won't use `network_guney`)."
   ]
  },
  {
   "cell_type": "code",
   "execution_count": 12,
   "id": "interstate-credits",
   "metadata": {},
   "outputs": [
    {
     "name": "stdout",
     "output_type": "stream",
     "text": [
      "2 genes removed from 31\n"
     ]
    }
   ],
   "source": [
    "AD_genes_guney1, AD_genes_guney_removed1 = remove_genes_notin_network(AD_genes_guney, network_guney)"
   ]
  },
  {
   "cell_type": "markdown",
   "id": "manual-tulsa",
   "metadata": {},
   "source": [
    "#### Knowledge based AD genes\n",
    "\n",
    "This is a gene set whose size is similar to `AD_genes_guney` but this set comes from other source of evidence (arguably more reliable source when we consider that knowledge bases contain manually curated genes based on experimental evidence)."
   ]
  },
  {
   "cell_type": "code",
   "execution_count": 13,
   "id": "sapphire-pocket",
   "metadata": {},
   "outputs": [
    {
     "name": "stdout",
     "output_type": "stream",
     "text": [
      "{'MT-ND1', 'MT-ND2'}\n"
     ]
    }
   ],
   "source": [
    "AD_genes_knowledge = wrappers.convert_to_geneid(file_name='../../results/2021-07-01-high-conf-ADgenes/AD-genes-knowledge', id_type='symbol', id_mapping_file=id_mapping_file)"
   ]
  },
  {
   "cell_type": "code",
   "execution_count": 14,
   "id": "figured-engineer",
   "metadata": {},
   "outputs": [
    {
     "name": "stdout",
     "output_type": "stream",
     "text": [
      "0 genes removed from 24\n"
     ]
    }
   ],
   "source": [
    "AD_genes_knowledge, AD_genes_knowledge_removed = remove_genes_notin_network(AD_genes_knowledge, network_cheng)"
   ]
  },
  {
   "cell_type": "markdown",
   "id": "settled-connectivity",
   "metadata": {},
   "source": [
    "#### High confidence AD genes"
   ]
  },
  {
   "cell_type": "code",
   "execution_count": 15,
   "id": "reserved-asthma",
   "metadata": {},
   "outputs": [
    {
     "name": "stdout",
     "output_type": "stream",
     "text": [
      "{'MT-ND2', 'ENSG00000260911', 'ENSG00000270081.1', 'MT-ND1', 'X84075'}\n"
     ]
    }
   ],
   "source": [
    "AD_genes_HC = wrappers.convert_to_geneid(file_name='../../results/2021-07-01-high-conf-ADgenes/AD-genes-seed', id_type='symbol', id_mapping_file=id_mapping_file)"
   ]
  },
  {
   "cell_type": "code",
   "execution_count": 16,
   "id": "virtual-person",
   "metadata": {},
   "outputs": [
    {
     "name": "stdout",
     "output_type": "stream",
     "text": [
      "11 genes removed from 103\n"
     ]
    }
   ],
   "source": [
    "AD_genes_HC, AD_genes_HC_removed = remove_genes_notin_network(AD_genes_HC, network_cheng)"
   ]
  },
  {
   "cell_type": "markdown",
   "id": "polished-recall",
   "metadata": {},
   "source": [
    "## Results\n",
    "\n",
    "### Overlap between AD gene sets\n",
    "\n",
    "Relationship of various AD gene sets are plotted below"
   ]
  },
  {
   "cell_type": "code",
   "execution_count": 17,
   "id": "spectacular-terminology",
   "metadata": {},
   "outputs": [
    {
     "data": {
      "text/plain": [
       "['named-figure/AD-gene-sets-venn2.png', 'named-figure/AD-gene-sets-venn2.pdf']"
      ]
     },
     "execution_count": 17,
     "metadata": {},
     "output_type": "execute_result"
    },
    {
     "data": {
      "image/png": "[encoded data removed]",
      "text/plain": [
       "<Figure size 432x288 with 1 Axes>"
      ]
     },
     "metadata": {},
     "output_type": "display_data"
    }
   ],
   "source": [
    "G = set(AD_genes_guney)\n",
    "K = set(AD_genes_knowledge)\n",
    "H = set(AD_genes_HC)\n",
    "\n",
    "partition = dict()\n",
    "partition['10'] = G.difference(K)\n",
    "partition['01'] = K.difference(G)\n",
    "partition['11'] = G.intersection(K)\n",
    "subsets = {k: len(v) for k, v in partition.items()}\n",
    "fig, ax = plt.subplots()\n",
    "venn2(subsets=subsets, set_labels=('AD_genes_guney', 'AD_genes_knowledge'))\n",
    "attila_utils.savefig(fig, 'AD-gene-sets-venn2')"
   ]
  },
  {
   "cell_type": "markdown",
   "id": "stainless-mechanism",
   "metadata": {},
   "source": [
    "The intersection contains APP, APOE and PSEN1, PSEN2."
   ]
  },
  {
   "cell_type": "code",
   "execution_count": 18,
   "id": "sudden-counter",
   "metadata": {},
   "outputs": [
    {
     "data": {
      "text/plain": [
       "['named-figure/AD-gene-sets-venn3.png', 'named-figure/AD-gene-sets-venn3.pdf']"
      ]
     },
     "execution_count": 18,
     "metadata": {},
     "output_type": "execute_result"
    },
    {
     "data": {
      "image/png": "[encoded data removed]",
      "text/plain": [
       "<Figure size 432x288 with 1 Axes>"
      ]
     },
     "metadata": {},
     "output_type": "display_data"
    }
   ],
   "source": [
    "partition = dict()\n",
    "partition['100'] = G.difference(K.union(H))\n",
    "partition['010'] = K.difference(G.union(H))\n",
    "partition['001'] = H.difference(G.union(K))\n",
    "partition['110'] = G.intersection(K).difference(H)\n",
    "partition['101'] = G.intersection(H).difference(K)\n",
    "partition['011'] = K.intersection(H).difference(G)\n",
    "partition['111'] = G.intersection(K).intersection(H)\n",
    "subsets = {k: len(v) for k, v in partition.items()}\n",
    "fig, ax = plt.subplots()\n",
    "venn3(subsets=subsets, set_labels=('AD_genes_guney', 'AD_genes_knowledge', 'AD_genes_HC'))\n",
    "attila_utils.savefig(fig, 'AD-gene-sets-venn3')"
   ]
  },
  {
   "cell_type": "code",
   "execution_count": 19,
   "id": "requested-cooper",
   "metadata": {},
   "outputs": [],
   "source": [
    "G_knowledge = network_utilities.get_neighborhood_subgraph(network_cheng, AD_genes_knowledge)\n",
    "degrees_knowledge = network_utilities.get_node_degree_related_values(G_knowledge, set())"
   ]
  },
  {
   "cell_type": "code",
   "execution_count": 20,
   "id": "immediate-riding",
   "metadata": {},
   "outputs": [
    {
     "data": {
      "text/html": [
       "<div>\n",
       "<style scoped>\n",
       "    .dataframe tbody tr th:only-of-type {\n",
       "        vertical-align: middle;\n",
       "    }\n",
       "\n",
       "    .dataframe tbody tr th {\n",
       "        vertical-align: top;\n",
       "    }\n",
       "\n",
       "    .dataframe thead th {\n",
       "        text-align: right;\n",
       "    }\n",
       "</style>\n",
       "<table border=\"1\" class=\"dataframe\">\n",
       "  <thead>\n",
       "    <tr style=\"text-align: right;\">\n",
       "      <th></th>\n",
       "      <th>Symbol</th>\n",
       "      <th>d</th>\n",
       "      <th>ld</th>\n",
       "      <th>d2</th>\n",
       "      <th>ld2</th>\n",
       "    </tr>\n",
       "    <tr>\n",
       "      <th>GeneID</th>\n",
       "      <th></th>\n",
       "      <th></th>\n",
       "      <th></th>\n",
       "      <th></th>\n",
       "      <th></th>\n",
       "    </tr>\n",
       "  </thead>\n",
       "  <tbody>\n",
       "    <tr>\n",
       "      <th>348</th>\n",
       "      <td>APOE</td>\n",
       "      <td>62</td>\n",
       "      <td>0</td>\n",
       "      <td>2882</td>\n",
       "      <td>0</td>\n",
       "    </tr>\n",
       "    <tr>\n",
       "      <th>10347</th>\n",
       "      <td>ABCA7</td>\n",
       "      <td>5</td>\n",
       "      <td>0</td>\n",
       "      <td>1985</td>\n",
       "      <td>0</td>\n",
       "    </tr>\n",
       "    <tr>\n",
       "      <th>5663</th>\n",
       "      <td>PSEN1</td>\n",
       "      <td>108</td>\n",
       "      <td>0</td>\n",
       "      <td>2917</td>\n",
       "      <td>0</td>\n",
       "    </tr>\n",
       "    <tr>\n",
       "      <th>1191</th>\n",
       "      <td>CLU</td>\n",
       "      <td>82</td>\n",
       "      <td>0</td>\n",
       "      <td>2858</td>\n",
       "      <td>0</td>\n",
       "    </tr>\n",
       "    <tr>\n",
       "      <th>351</th>\n",
       "      <td>APP</td>\n",
       "      <td>1967</td>\n",
       "      <td>0</td>\n",
       "      <td>3020</td>\n",
       "      <td>0</td>\n",
       "    </tr>\n",
       "    <tr>\n",
       "      <th>55103</th>\n",
       "      <td>RALGPS2</td>\n",
       "      <td>5</td>\n",
       "      <td>0</td>\n",
       "      <td>2014</td>\n",
       "      <td>0</td>\n",
       "    </tr>\n",
       "    <tr>\n",
       "      <th>5664</th>\n",
       "      <td>PSEN2</td>\n",
       "      <td>68</td>\n",
       "      <td>0</td>\n",
       "      <td>2841</td>\n",
       "      <td>0</td>\n",
       "    </tr>\n",
       "  </tbody>\n",
       "</table>\n",
       "</div>"
      ],
      "text/plain": [
       "         Symbol     d  ld    d2  ld2\n",
       "GeneID                              \n",
       "348        APOE    62   0  2882    0\n",
       "10347     ABCA7     5   0  1985    0\n",
       "5663      PSEN1   108   0  2917    0\n",
       "1191        CLU    82   0  2858    0\n",
       "351         APP  1967   0  3020    0\n",
       "55103   RALGPS2     5   0  2014    0\n",
       "5664      PSEN2    68   0  2841    0"
      ]
     },
     "execution_count": 20,
     "metadata": {},
     "output_type": "execute_result"
    }
   ],
   "source": [
    "dk = pd.DataFrame(degrees_knowledge).transpose().rename({0: 'd', 1: 'ld', 2: 'd2', 3: 'ld2'}, axis=1)\n",
    "ik = id_symbol.loc[list(set(AD_genes_guney).intersection(set(AD_genes_knowledge))), ]\n",
    "pd.concat([ik, dk.loc[ik.index, ]], axis=1)"
   ]
  },
  {
   "cell_type": "code",
   "execution_count": 21,
   "id": "viral-sense",
   "metadata": {},
   "outputs": [],
   "source": [
    "G_HCQ = network_utilities.get_neighborhood_subgraph(network_cheng, HCQ_targets)\n",
    "degrees_HCQ = network_utilities.get_node_degree_related_values(G_HCQ, set())"
   ]
  },
  {
   "cell_type": "markdown",
   "id": "marine-strand",
   "metadata": {},
   "source": [
    "Let's calculate the degree of TLR7 and TLR9!"
   ]
  },
  {
   "cell_type": "code",
   "execution_count": 22,
   "id": "starting-meaning",
   "metadata": {},
   "outputs": [
    {
     "data": {
      "text/html": [
       "<div>\n",
       "<style scoped>\n",
       "    .dataframe tbody tr th:only-of-type {\n",
       "        vertical-align: middle;\n",
       "    }\n",
       "\n",
       "    .dataframe tbody tr th {\n",
       "        vertical-align: top;\n",
       "    }\n",
       "\n",
       "    .dataframe thead th {\n",
       "        text-align: right;\n",
       "    }\n",
       "</style>\n",
       "<table border=\"1\" class=\"dataframe\">\n",
       "  <thead>\n",
       "    <tr style=\"text-align: right;\">\n",
       "      <th></th>\n",
       "      <th>Symbol</th>\n",
       "      <th>d</th>\n",
       "      <th>ld</th>\n",
       "      <th>d2</th>\n",
       "      <th>ld2</th>\n",
       "    </tr>\n",
       "    <tr>\n",
       "      <th>GeneID</th>\n",
       "      <th></th>\n",
       "      <th></th>\n",
       "      <th></th>\n",
       "      <th></th>\n",
       "      <th></th>\n",
       "    </tr>\n",
       "  </thead>\n",
       "  <tbody>\n",
       "    <tr>\n",
       "      <th>51284</th>\n",
       "      <td>TLR7</td>\n",
       "      <td>6</td>\n",
       "      <td>0</td>\n",
       "      <td>19</td>\n",
       "      <td>0</td>\n",
       "    </tr>\n",
       "    <tr>\n",
       "      <th>59272</th>\n",
       "      <td>ACE2</td>\n",
       "      <td>5</td>\n",
       "      <td>0</td>\n",
       "      <td>10</td>\n",
       "      <td>0</td>\n",
       "    </tr>\n",
       "    <tr>\n",
       "      <th>54106</th>\n",
       "      <td>TLR9</td>\n",
       "      <td>28</td>\n",
       "      <td>0</td>\n",
       "      <td>33</td>\n",
       "      <td>0</td>\n",
       "    </tr>\n",
       "  </tbody>\n",
       "</table>\n",
       "</div>"
      ],
      "text/plain": [
       "       Symbol   d  ld  d2  ld2\n",
       "GeneID                        \n",
       "51284    TLR7   6   0  19    0\n",
       "59272    ACE2   5   0  10    0\n",
       "54106    TLR9  28   0  33    0"
      ]
     },
     "execution_count": 22,
     "metadata": {},
     "output_type": "execute_result"
    }
   ],
   "source": [
    "dh = pd.DataFrame(degrees_HCQ).transpose().rename({0: 'd', 1: 'ld', 2: 'd2', 3: 'ld2'}, axis=1)\n",
    "ih = id_symbol.loc[HCQ_targets, ]\n",
    "pd.concat([ih, dh.loc[ih.index, ]], axis=1)"
   ]
  },
  {
   "cell_type": "markdown",
   "id": "moved-broadcast",
   "metadata": {},
   "source": [
    "I select ABCA7 and APOE, two AD genes with comparable degrees to TLR7 and TLR9, respectively:"
   ]
  },
  {
   "cell_type": "code",
   "execution_count": 23,
   "id": "cellular-activity",
   "metadata": {},
   "outputs": [],
   "source": [
    "AD_2genes = ['10347', '348']"
   ]
  },
  {
   "cell_type": "markdown",
   "id": "norman-dictionary",
   "metadata": {},
   "source": [
    "### Proximity\n",
    "\n",
    "Now the proximity calculation between `HCQ_targets` and `AD_genes_guney`"
   ]
  },
  {
   "cell_type": "code",
   "execution_count": 24,
   "id": "shaped-imaging",
   "metadata": {},
   "outputs": [],
   "source": [
    "res_guney = wrappers.calculate_proximity(network=network_cheng, nodes_from=HCQ_targets, nodes_to=AD_genes_guney)"
   ]
  },
  {
   "cell_type": "code",
   "execution_count": 25,
   "id": "regulation-beads",
   "metadata": {},
   "outputs": [
    {
     "data": {
      "text/plain": [
       "(2.3333333333333335,\n",
       " 1.4736516197184548,\n",
       " (2.0096666666666665, 0.21963580966884452))"
      ]
     },
     "execution_count": 25,
     "metadata": {},
     "output_type": "execute_result"
    }
   ],
   "source": [
    "res_guney"
   ]
  },
  {
   "cell_type": "markdown",
   "id": "three-stanley",
   "metadata": {},
   "source": [
    "The distance $d = 2.0$ whereas $z \\approx 0.106$ so we can conclude that `HCQ_targets` are not significantly proximal to `AD_genes_guney`.  Note that $z < -2$ would indicate statistically significant proximity."
   ]
  },
  {
   "cell_type": "code",
   "execution_count": 26,
   "id": "beautiful-austin",
   "metadata": {},
   "outputs": [],
   "source": [
    "res_guney_prox = wrappers.calculate_proximity(network=network_cheng, nodes_from=AD_2genes, nodes_to=AD_genes_guney)"
   ]
  },
  {
   "cell_type": "code",
   "execution_count": 27,
   "id": "several-representation",
   "metadata": {},
   "outputs": [
    {
     "data": {
      "text/plain": [
       "(0.0, -6.384836658430075, (1.9305, 0.3023569909891286))"
      ]
     },
     "execution_count": 27,
     "metadata": {},
     "output_type": "execute_result"
    }
   ],
   "source": [
    "res_guney_prox"
   ]
  },
  {
   "cell_type": "markdown",
   "id": "seven-programmer",
   "metadata": {},
   "source": [
    "\n",
    "\n",
    "Thus the small `AD_genes_guney` gene set (31 genes) does not support Hydroxychloroquine's repurposing for AD.  Below I study other AD gene sets that might be better than `AD_genes_guney`."
   ]
  },
  {
   "cell_type": "code",
   "execution_count": 28,
   "id": "warming-spray",
   "metadata": {},
   "outputs": [],
   "source": [
    "res_knowledge = wrappers.calculate_proximity(network=network_cheng, nodes_from=HCQ_targets, nodes_to=AD_genes_knowledge)"
   ]
  },
  {
   "cell_type": "code",
   "execution_count": 29,
   "id": "trying-cosmetic",
   "metadata": {},
   "outputs": [
    {
     "data": {
      "text/plain": [
       "(2.3333333333333335, 1.6040615818701227, (1.978, 0.22152100477281056))"
      ]
     },
     "execution_count": 29,
     "metadata": {},
     "output_type": "execute_result"
    }
   ],
   "source": [
    "res_knowledge"
   ]
  },
  {
   "cell_type": "code",
   "execution_count": 30,
   "id": "southeast-shadow",
   "metadata": {},
   "outputs": [],
   "source": [
    "res_HC = wrappers.calculate_proximity(network=network_cheng, nodes_from=HCQ_targets, nodes_to=AD_genes_HC)"
   ]
  },
  {
   "cell_type": "code",
   "execution_count": 31,
   "id": "german-tucson",
   "metadata": {},
   "outputs": [
    {
     "data": {
      "text/plain": [
       "(2.0, 0.5852559796020538, (1.8593333333333335, 0.24035066973995403))"
      ]
     },
     "execution_count": 31,
     "metadata": {},
     "output_type": "execute_result"
    }
   ],
   "source": [
    "res_HC"
   ]
  },
  {
   "cell_type": "markdown",
   "id": "permanent-commitment",
   "metadata": {},
   "source": [
    "### Changing targets\n",
    "\n",
    "#### 2 AD genes"
   ]
  },
  {
   "cell_type": "code",
   "execution_count": 32,
   "id": "forbidden-workplace",
   "metadata": {},
   "outputs": [],
   "source": [
    "res_knowledge_prox = wrappers.calculate_proximity(network=network_cheng, nodes_from=AD_2genes, nodes_to=AD_genes_knowledge)"
   ]
  },
  {
   "cell_type": "code",
   "execution_count": 33,
   "id": "bulgarian-immigration",
   "metadata": {},
   "outputs": [
    {
     "data": {
      "text/plain": [
       "(0.0, -5.72552492748579, (1.8655, 0.3258216536696111))"
      ]
     },
     "execution_count": 33,
     "metadata": {},
     "output_type": "execute_result"
    }
   ],
   "source": [
    "res_knowledge_prox"
   ]
  },
  {
   "cell_type": "code",
   "execution_count": 34,
   "id": "accessory-assessment",
   "metadata": {},
   "outputs": [],
   "source": [
    "res_HC_prox = wrappers.calculate_proximity(network=network_cheng, nodes_from=AD_2genes, nodes_to=AD_genes_HC)"
   ]
  },
  {
   "cell_type": "code",
   "execution_count": 35,
   "id": "binding-shame",
   "metadata": {},
   "outputs": [
    {
     "data": {
      "text/plain": [
       "(0.0, -5.334161147185035, (1.686, 0.3160759402422146))"
      ]
     },
     "execution_count": 35,
     "metadata": {},
     "output_type": "execute_result"
    }
   ],
   "source": [
    "res_HC_prox"
   ]
  },
  {
   "cell_type": "markdown",
   "id": "contemporary-athens",
   "metadata": {},
   "source": [
    "#### HCQ targets (only TLRs)"
   ]
  },
  {
   "cell_type": "code",
   "execution_count": 36,
   "id": "continued-filter",
   "metadata": {},
   "outputs": [],
   "source": [
    "res_guney_TLR = wrappers.calculate_proximity(network=network_cheng, nodes_from=HCQ_targets_TLR, nodes_to=AD_genes_guney)\n",
    "res_knowledge_TLR = wrappers.calculate_proximity(network=network_cheng, nodes_from=HCQ_targets_TLR, nodes_to=AD_genes_knowledge)\n",
    "res_HC_TLR = wrappers.calculate_proximity(network=network_cheng, nodes_from=HCQ_targets_TLR, nodes_to=AD_genes_HC)"
   ]
  },
  {
   "cell_type": "markdown",
   "id": "loaded-perspective",
   "metadata": {},
   "source": [
    "## Summary"
   ]
  },
  {
   "cell_type": "code",
   "execution_count": 37,
   "id": "bridal-copyright",
   "metadata": {},
   "outputs": [
    {
     "data": {
      "text/html": [
       "<div>\n",
       "<style scoped>\n",
       "    .dataframe tbody tr th:only-of-type {\n",
       "        vertical-align: middle;\n",
       "    }\n",
       "\n",
       "    .dataframe tbody tr th {\n",
       "        vertical-align: top;\n",
       "    }\n",
       "\n",
       "    .dataframe thead th {\n",
       "        text-align: right;\n",
       "    }\n",
       "</style>\n",
       "<table border=\"1\" class=\"dataframe\">\n",
       "  <thead>\n",
       "    <tr style=\"text-align: right;\">\n",
       "      <th></th>\n",
       "      <th></th>\n",
       "      <th>distance</th>\n",
       "      <th>z-score</th>\n",
       "      <th>p-value</th>\n",
       "      <th>- log10 p</th>\n",
       "      <th>target</th>\n",
       "      <th>AD genes</th>\n",
       "    </tr>\n",
       "    <tr>\n",
       "      <th>target</th>\n",
       "      <th>AD genes</th>\n",
       "      <th></th>\n",
       "      <th></th>\n",
       "      <th></th>\n",
       "      <th></th>\n",
       "      <th></th>\n",
       "      <th></th>\n",
       "    </tr>\n",
       "  </thead>\n",
       "  <tbody>\n",
       "    <tr>\n",
       "      <th rowspan=\"3\" valign=\"top\">HCQ targets</th>\n",
       "      <th>Guney</th>\n",
       "      <td>2.333333</td>\n",
       "      <td>1.473652</td>\n",
       "      <td>9.297123e-01</td>\n",
       "      <td>0.031651</td>\n",
       "      <td>HCQ targets</td>\n",
       "      <td>Guney</td>\n",
       "    </tr>\n",
       "    <tr>\n",
       "      <th>Knowledge</th>\n",
       "      <td>2.333333</td>\n",
       "      <td>1.604062</td>\n",
       "      <td>9.456498e-01</td>\n",
       "      <td>0.024270</td>\n",
       "      <td>HCQ targets</td>\n",
       "      <td>Knowledge</td>\n",
       "    </tr>\n",
       "    <tr>\n",
       "      <th>HC</th>\n",
       "      <td>2.000000</td>\n",
       "      <td>0.585256</td>\n",
       "      <td>7.208122e-01</td>\n",
       "      <td>0.142178</td>\n",
       "      <td>HCQ targets</td>\n",
       "      <td>HC</td>\n",
       "    </tr>\n",
       "    <tr>\n",
       "      <th rowspan=\"3\" valign=\"top\">HCQ t: TLRs</th>\n",
       "      <th>Guney</th>\n",
       "      <td>2.000000</td>\n",
       "      <td>0.132331</td>\n",
       "      <td>5.526387e-01</td>\n",
       "      <td>0.257559</td>\n",
       "      <td>HCQ t: TLRs</td>\n",
       "      <td>Guney</td>\n",
       "    </tr>\n",
       "    <tr>\n",
       "      <th>Knowledge</th>\n",
       "      <td>2.500000</td>\n",
       "      <td>2.124546</td>\n",
       "      <td>9.831878e-01</td>\n",
       "      <td>0.007364</td>\n",
       "      <td>HCQ t: TLRs</td>\n",
       "      <td>Knowledge</td>\n",
       "    </tr>\n",
       "    <tr>\n",
       "      <th>HC</th>\n",
       "      <td>2.000000</td>\n",
       "      <td>0.651824</td>\n",
       "      <td>7.427425e-01</td>\n",
       "      <td>0.129162</td>\n",
       "      <td>HCQ t: TLRs</td>\n",
       "      <td>HC</td>\n",
       "    </tr>\n",
       "    <tr>\n",
       "      <th rowspan=\"3\" valign=\"top\">2 AD genes</th>\n",
       "      <th>Guney</th>\n",
       "      <td>0.000000</td>\n",
       "      <td>-6.384837</td>\n",
       "      <td>8.579026e-11</td>\n",
       "      <td>10.066562</td>\n",
       "      <td>2 AD genes</td>\n",
       "      <td>Guney</td>\n",
       "    </tr>\n",
       "    <tr>\n",
       "      <th>Knowledge</th>\n",
       "      <td>0.000000</td>\n",
       "      <td>-5.725525</td>\n",
       "      <td>5.155720e-09</td>\n",
       "      <td>8.287711</td>\n",
       "      <td>2 AD genes</td>\n",
       "      <td>Knowledge</td>\n",
       "    </tr>\n",
       "    <tr>\n",
       "      <th>HC</th>\n",
       "      <td>0.000000</td>\n",
       "      <td>-5.334161</td>\n",
       "      <td>4.799363e-08</td>\n",
       "      <td>7.318816</td>\n",
       "      <td>2 AD genes</td>\n",
       "      <td>HC</td>\n",
       "    </tr>\n",
       "  </tbody>\n",
       "</table>\n",
       "</div>"
      ],
      "text/plain": [
       "                       distance   z-score       p-value  - log10 p  \\\n",
       "target      AD genes                                                 \n",
       "HCQ targets Guney      2.333333  1.473652  9.297123e-01   0.031651   \n",
       "            Knowledge  2.333333  1.604062  9.456498e-01   0.024270   \n",
       "            HC         2.000000  0.585256  7.208122e-01   0.142178   \n",
       "HCQ t: TLRs Guney      2.000000  0.132331  5.526387e-01   0.257559   \n",
       "            Knowledge  2.500000  2.124546  9.831878e-01   0.007364   \n",
       "            HC         2.000000  0.651824  7.427425e-01   0.129162   \n",
       "2 AD genes  Guney      0.000000 -6.384837  8.579026e-11  10.066562   \n",
       "            Knowledge  0.000000 -5.725525  5.155720e-09   8.287711   \n",
       "            HC         0.000000 -5.334161  4.799363e-08   7.318816   \n",
       "\n",
       "                            target   AD genes  \n",
       "target      AD genes                           \n",
       "HCQ targets Guney      HCQ targets      Guney  \n",
       "            Knowledge  HCQ targets  Knowledge  \n",
       "            HC         HCQ targets         HC  \n",
       "HCQ t: TLRs Guney      HCQ t: TLRs      Guney  \n",
       "            Knowledge  HCQ t: TLRs  Knowledge  \n",
       "            HC         HCQ t: TLRs         HC  \n",
       "2 AD genes  Guney       2 AD genes      Guney  \n",
       "            Knowledge   2 AD genes  Knowledge  \n",
       "            HC          2 AD genes         HC  "
      ]
     },
     "execution_count": 37,
     "metadata": {},
     "output_type": "execute_result"
    }
   ],
   "source": [
    "ix = pd.MultiIndex.from_product([ ('HCQ targets', 'HCQ t: TLRs', '2 AD genes'), ('Guney', 'Knowledge', 'HC')])\n",
    "prox = pd.DataFrame(index=ix)\n",
    "prox.loc[('HCQ targets', 'Guney'), ['distance', 'z-score']] = res_guney[:2]\n",
    "prox.loc[('HCQ targets', 'Knowledge'), ['distance', 'z-score']] = res_knowledge[:2]\n",
    "prox.loc[('HCQ targets', 'HC'), ['distance', 'z-score']] = res_HC[:2]\n",
    "\n",
    "prox.loc[('HCQ t: TLRs', 'Guney'), ['distance', 'z-score']] = res_guney_TLR[:2]\n",
    "prox.loc[('HCQ t: TLRs', 'Knowledge'), ['distance', 'z-score']] = res_knowledge_TLR[:2]\n",
    "prox.loc[('HCQ t: TLRs', 'HC'), ['distance', 'z-score']] = res_HC_TLR[:2]\n",
    "\n",
    "prox.loc[('2 AD genes', 'Guney'), ['distance', 'z-score']] = res_guney_prox[:2]\n",
    "prox.loc[('2 AD genes', 'Knowledge'), ['distance', 'z-score']] = res_knowledge_prox[:2]\n",
    "prox.loc[('2 AD genes', 'HC'), ['distance', 'z-score']] = res_HC_prox[:2]\n",
    "\n",
    "prox['p-value'] = prox['z-score'].apply(lambda x: scipy.stats.norm.sf(-x))\n",
    "prox['- log10 p'] = - np.log10(prox['p-value'])\n",
    "prox = prox.rename_axis(['target', 'AD genes'], axis=0)\n",
    "prox['target'] = prox.index.get_level_values('target')\n",
    "prox['AD genes'] = prox.index.get_level_values('AD genes')\n",
    "prox"
   ]
  },
  {
   "cell_type": "code",
   "execution_count": 38,
   "id": "bound-thumb",
   "metadata": {},
   "outputs": [
    {
     "data": {
      "text/plain": [
       "['named-figure/proximity-d-z-p-TLRs.png',\n",
       " 'named-figure/proximity-d-z-p-TLRs.pdf']"
      ]
     },
     "execution_count": 38,
     "metadata": {},
     "output_type": "execute_result"
    },
    {
     "data": {
      "image/png": "[encoded data removed]",
      "text/plain": [
       "<Figure size 576x288 with 3 Axes>"
      ]
     },
     "metadata": {
      "needs_background": "light"
     },
     "output_type": "display_data"
    }
   ],
   "source": [
    "def plot_summary(data=prox):\n",
    "    fig, ax = plt.subplots(1, 3, sharey=True, figsize=(8, 4))\n",
    "    sns.stripplot(x='distance', y='target', hue='AD genes', data=data, ax=ax[0])\n",
    "    sns.stripplot(x='z-score', y='target', hue='AD genes', data=data, ax=ax[1])\n",
    "    sns.stripplot(x='p-value', y='target', hue='AD genes', data=data, ax=ax[2])\n",
    "    ax[2].set_xscale('log')\n",
    "    ax[0].get_legend().remove()\n",
    "    ax[1].get_legend().remove()\n",
    "    ax[2].get_legend().remove()\n",
    "    handles, labels = ax[0].get_legend_handles_labels()\n",
    "    fig.legend(handles, labels, loc='upper center', ncol=3, title='AD genes')\n",
    "    return((fig, ax))\n",
    "\n",
    "fig, ax = plot_summary(data=prox)\n",
    "attila_utils.savefig(fig, 'proximity-d-z-p-TLRs')"
   ]
  },
  {
   "cell_type": "code",
   "execution_count": 39,
   "id": "pressing-sector",
   "metadata": {},
   "outputs": [
    {
     "data": {
      "text/plain": [
       "['named-figure/proximity-d-z-p.png', 'named-figure/proximity-d-z-p.pdf']"
      ]
     },
     "execution_count": 39,
     "metadata": {},
     "output_type": "execute_result"
    },
    {
     "data": {
      "image/png": "[encoded data removed]",
      "text/plain": [
       "<Figure size 576x288 with 3 Axes>"
      ]
     },
     "metadata": {
      "needs_background": "light"
     },
     "output_type": "display_data"
    }
   ],
   "source": [
    "fig, ax = plot_summary(data=prox.drop(labels='HCQ t: TLRs', axis=0, level='target'))\n",
    "attila_utils.savefig(fig, 'proximity-d-z-p')"
   ]
  },
  {
   "cell_type": "markdown",
   "id": "blocked-senate",
   "metadata": {},
   "source": [
    "## TODO\n",
    "\n",
    "* Download and parse drugbank. See [drugbank-downloader](https://pypi.org/project/drugbank-downloader/)\n",
    "* deploy `wrappers.calculate_proximity` to cloud"
   ]
  },
  {
   "cell_type": "code",
   "execution_count": 40,
   "id": "molecular-sodium",
   "metadata": {},
   "outputs": [
    {
     "name": "stdout",
     "output_type": "stream",
     "text": [
      "{\n",
      "  \"shell_port\": 43185,\n",
      "  \"iopub_port\": 37591,\n",
      "  \"stdin_port\": 42311,\n",
      "  \"control_port\": 39115,\n",
      "  \"hb_port\": 39193,\n",
      "  \"ip\": \"127.0.0.1\",\n",
      "  \"key\": \"c7061a9c-940e9d7e1f74f220cfaa5b16\",\n",
      "  \"transport\": \"tcp\",\n",
      "  \"signature_scheme\": \"hmac-sha256\",\n",
      "  \"kernel_name\": \"\"\n",
      "}\n",
      "\n",
      "Paste the above JSON into a file, and connect with:\n",
      "    $> jupyter <app> --existing <file>\n",
      "or, if you are local, you can connect with just:\n",
      "    $> jupyter <app> --existing kernel-2186bc4d-02ab-422f-ada2-ebe35d7bb6f8.json\n",
      "or even just:\n",
      "    $> jupyter <app> --existing\n",
      "if this is the most recent Jupyter kernel you have started.\n"
     ]
    }
   ],
   "source": [
    "%connect_info"
   ]
  },
  {
   "cell_type": "code",
   "execution_count": null,
   "id": "ethical-easter",
   "metadata": {},
   "outputs": [],
   "source": []
  }
 ],
 "metadata": {
  "kernelspec": {
   "display_name": "Python 3",
   "language": "python",
   "name": "python3"
  },
  "language_info": {
   "codemirror_mode": {
    "name": "ipython",
    "version": 3
   },
   "file_extension": ".py",
   "mimetype": "text/x-python",
   "name": "python",
   "nbconvert_exporter": "python",
   "pygments_lexer": "ipython3",
   "version": "3.7.6"
  }
 },
 "nbformat": 4,
 "nbformat_minor": 5
}
