{
 "cells": [
  {
   "cell_type": "markdown",
   "id": "endless-fellow",
   "metadata": {},
   "source": [
    "Testing Guney's `toolbox`"
   ]
  },
  {
   "cell_type": "code",
   "execution_count": 1,
   "id": "palestinian-costs",
   "metadata": {},
   "outputs": [
    {
     "name": "stdout",
     "output_type": "stream",
     "text": [
      "GenRev not found, steiner wont work\n",
      "Import error: Negex. Using keyword matching instead\n",
      "Import error: Funcassociate. Make sure that funcassociate is in toolbox!\n"
     ]
    }
   ],
   "source": [
    "%load_ext autoreload\n",
    "%autoreload 2\n",
    "%reload_ext autoreload\n",
    "from toolbox import wrappers"
   ]
  },
  {
   "cell_type": "markdown",
   "id": "honest-practitioner",
   "metadata": {},
   "source": [
    "## Preparations"
   ]
  },
  {
   "cell_type": "code",
   "execution_count": 2,
   "id": "changed-angola",
   "metadata": {},
   "outputs": [],
   "source": [
    "id_mapping_file = '../../resources/PPI/geneid_to_symbol.txt'\n",
    "network_guney = wrappers.get_network('../../resources/proximity/data/network/network.sif', only_lcc = True)"
   ]
  },
  {
   "cell_type": "markdown",
   "id": "instant-premium",
   "metadata": {},
   "source": [
    "I will use Hydroxychloroquine's targets.  See [this page](https://go.drugbank.com/drugs/DB01611) on drugbank."
   ]
  },
  {
   "cell_type": "code",
   "execution_count": 3,
   "id": "inappropriate-solomon",
   "metadata": {},
   "outputs": [],
   "source": [
    "%%bash\n",
    "echo TLR7 > ../../results/2021-08-04-guney-tools/Hydroxychloroquine-targets\n",
    "echo TLR9 >> ../../results/2021-08-04-guney-tools/Hydroxychloroquine-targets"
   ]
  },
  {
   "cell_type": "code",
   "execution_count": 4,
   "id": "indian-witch",
   "metadata": {},
   "outputs": [
    {
     "name": "stdout",
     "output_type": "stream",
     "text": [
      "set()\n"
     ]
    },
    {
     "data": {
      "text/plain": [
       "{'51284', '54106'}"
      ]
     },
     "execution_count": 4,
     "metadata": {},
     "output_type": "execute_result"
    }
   ],
   "source": [
    "Hydroxychloroquine_targets = wrappers.convert_to_geneid(file_name='../../results/2021-08-04-guney-tools/Hydroxychloroquine-targets', id_type='symbol', id_mapping_file=id_mapping_file)\n",
    "Hydroxychloroquine_targets"
   ]
  },
  {
   "cell_type": "markdown",
   "id": "powerful-dover",
   "metadata": {},
   "source": [
    "## Guney AD genes"
   ]
  },
  {
   "cell_type": "code",
   "execution_count": 5,
   "id": "secondary-cleveland",
   "metadata": {},
   "outputs": [],
   "source": [
    "%%bash\n",
    "grep 'alzheimer disease' ../../resources/proximity/data/disease/disease_genes.tsv | \\\n",
    "tr '\\t' '\\n' | sed -n '/^[0-9]\\+/ p' > ../../results/2021-08-04-guney-tools/AD-genes-guney"
   ]
  },
  {
   "cell_type": "code",
   "execution_count": 6,
   "id": "annual-daniel",
   "metadata": {},
   "outputs": [],
   "source": [
    "with open('../../results/2021-08-04-guney-tools/AD-genes-guney') as f:\n",
    "    AD_genes_guney = f.readlines()\n",
    "AD_genes_guney = [x.strip('\\n') for x in AD_genes_guney]"
   ]
  },
  {
   "cell_type": "markdown",
   "id": "level-europe",
   "metadata": {},
   "source": [
    "Making sure that the gene set is a subset of the network's nodes"
   ]
  },
  {
   "cell_type": "code",
   "execution_count": 7,
   "id": "interracial-livestock",
   "metadata": {},
   "outputs": [
    {
     "name": "stdout",
     "output_type": "stream",
     "text": [
      "7 genes removed from 36\n"
     ]
    }
   ],
   "source": [
    "def remove_genes_notin_network(genes, network):\n",
    "    oldsize = len(genes)\n",
    "    newgenes = [y for y in genes if y in network.nodes]\n",
    "    newsize = len(newgenes)\n",
    "    restgenes = set(genes).difference(set(newgenes))\n",
    "    print(oldsize - newsize, 'genes removed from', oldsize)\n",
    "    return((newgenes, restgenes))\n",
    "\n",
    "AD_genes_guney, AD_genes_guney_removed = remove_genes_notin_network(AD_genes_guney, network_guney)"
   ]
  },
  {
   "cell_type": "code",
   "execution_count": 8,
   "id": "stuffed-proposal",
   "metadata": {},
   "outputs": [],
   "source": [
    "res_guney = wrappers.calculate_proximity(network=network_guney, nodes_from=Hydroxychloroquine_targets, nodes_to=AD_genes_guney)"
   ]
  },
  {
   "cell_type": "code",
   "execution_count": 9,
   "id": "sorted-eating",
   "metadata": {},
   "outputs": [
    {
     "data": {
      "text/plain": [
       "(2.5, 0.08121892330210621, (2.4665, 0.41246545309880195))"
      ]
     },
     "execution_count": 9,
     "metadata": {},
     "output_type": "execute_result"
    }
   ],
   "source": [
    "res_guney"
   ]
  },
  {
   "cell_type": "markdown",
   "id": "flush-classroom",
   "metadata": {},
   "source": [
    "## Knowledge based AD genes"
   ]
  },
  {
   "cell_type": "code",
   "execution_count": 10,
   "id": "organizational-clerk",
   "metadata": {},
   "outputs": [
    {
     "name": "stdout",
     "output_type": "stream",
     "text": [
      "{'MT-ND2', 'MT-ND1'}\n"
     ]
    }
   ],
   "source": [
    "AD_genes_knowledge = wrappers.convert_to_geneid(file_name='../../results/2021-07-01-high-conf-ADgenes/AD-genes-knowledge', id_type='symbol', id_mapping_file=id_mapping_file)"
   ]
  },
  {
   "cell_type": "code",
   "execution_count": 11,
   "id": "minute-installation",
   "metadata": {},
   "outputs": [
    {
     "name": "stdout",
     "output_type": "stream",
     "text": [
      "1 genes removed from 24\n"
     ]
    }
   ],
   "source": [
    "AD_genes_knowledge, AD_genes_knowledge_removed = remove_genes_notin_network(AD_genes_knowledge, network_guney)"
   ]
  },
  {
   "cell_type": "code",
   "execution_count": 12,
   "id": "consecutive-wright",
   "metadata": {},
   "outputs": [],
   "source": [
    "res_knowledge = wrappers.calculate_proximity(network=network_guney, nodes_from=Hydroxychloroquine_targets, nodes_to=AD_genes_knowledge)"
   ]
  },
  {
   "cell_type": "code",
   "execution_count": 13,
   "id": "narrative-advantage",
   "metadata": {},
   "outputs": [
    {
     "data": {
      "text/plain": [
       "(3.0, 1.4263778227171104, (2.4445, 0.38944800679936725))"
      ]
     },
     "execution_count": 13,
     "metadata": {},
     "output_type": "execute_result"
    }
   ],
   "source": [
    "res_knowledge"
   ]
  },
  {
   "cell_type": "markdown",
   "id": "foster-picture",
   "metadata": {},
   "source": [
    "### Changing targets"
   ]
  },
  {
   "cell_type": "code",
   "execution_count": 14,
   "id": "several-candidate",
   "metadata": {},
   "outputs": [],
   "source": [
    "res_knowledge_prox = wrappers.calculate_proximity(network=network_guney, nodes_from=AD_genes_knowledge[:2], nodes_to=AD_genes_knowledge)"
   ]
  },
  {
   "cell_type": "code",
   "execution_count": null,
   "id": "pregnant-astronomy",
   "metadata": {},
   "outputs": [],
   "source": []
  },
  {
   "cell_type": "code",
   "execution_count": 15,
   "id": "molecular-sodium",
   "metadata": {},
   "outputs": [
    {
     "name": "stdout",
     "output_type": "stream",
     "text": [
      "{\n",
      "  \"shell_port\": 40677,\n",
      "  \"iopub_port\": 45183,\n",
      "  \"stdin_port\": 51959,\n",
      "  \"control_port\": 59383,\n",
      "  \"hb_port\": 52937,\n",
      "  \"ip\": \"127.0.0.1\",\n",
      "  \"key\": \"baacd117-1e3fc134b602b42211df35cd\",\n",
      "  \"transport\": \"tcp\",\n",
      "  \"signature_scheme\": \"hmac-sha256\",\n",
      "  \"kernel_name\": \"\"\n",
      "}\n",
      "\n",
      "Paste the above JSON into a file, and connect with:\n",
      "    $> jupyter <app> --existing <file>\n",
      "or, if you are local, you can connect with just:\n",
      "    $> jupyter <app> --existing kernel-9700232e-f654-4840-9d63-d4b7a178eaff.json\n",
      "or even just:\n",
      "    $> jupyter <app> --existing\n",
      "if this is the most recent Jupyter kernel you have started.\n"
     ]
    }
   ],
   "source": [
    "%connect_info"
   ]
  },
  {
   "cell_type": "code",
   "execution_count": null,
   "id": "ethical-easter",
   "metadata": {},
   "outputs": [],
   "source": []
  }
 ],
 "metadata": {
  "kernelspec": {
   "display_name": "Python 3",
   "language": "python",
   "name": "python3"
  },
  "language_info": {
   "codemirror_mode": {
    "name": "ipython",
    "version": 3
   },
   "file_extension": ".py",
   "mimetype": "text/x-python",
   "name": "python",
   "nbconvert_exporter": "python",
   "pygments_lexer": "ipython3",
   "version": "3.7.6"
  }
 },
 "nbformat": 4,
 "nbformat_minor": 5
}
