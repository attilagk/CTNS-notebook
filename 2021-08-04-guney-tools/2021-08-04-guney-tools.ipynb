{
 "cells": [
  {
   "cell_type": "markdown",
   "id": "endless-fellow",
   "metadata": {},
   "source": [
    "Testing Guney's `toolbox` package for network based proximity between drug targets and disease genes.\n",
    "\n",
    "Chosen targets:\n",
    "* Hydroxychloroquine targets (TLR7 and TLR9)\n",
    "* two of the AD disease genes\n",
    "\n",
    "AD disease genes:\n",
    "* Guney AD genes: from Guney et al\n",
    "* Knowledge based AD genes: from the DISEASES database\n",
    "* High confidence AD genes: knowledge based + TWAS + incipient proteomic signature\n",
    "\n",
    "Both choices of targets are rather arbitrary.  We expect the two AD disease genes, by definition, to be more proximal than the Hydroxychloroquine targets (which are not AD genes by any definition used in this notebook). The calculations below will support this quantitatively."
   ]
  },
  {
   "cell_type": "code",
   "execution_count": 1,
   "id": "palestinian-costs",
   "metadata": {},
   "outputs": [
    {
     "name": "stdout",
     "output_type": "stream",
     "text": [
      "GenRev not found, steiner wont work\n",
      "Import error: Negex. Using keyword matching instead\n",
      "Import error: Funcassociate. Make sure that funcassociate is in toolbox!\n"
     ]
    }
   ],
   "source": [
    "%load_ext autoreload\n",
    "%autoreload 2\n",
    "%reload_ext autoreload\n",
    "from toolbox import wrappers\n",
    "from toolbox import network_utilities\n",
    "import pandas as pd\n",
    "import numpy as np\n",
    "import scipy.stats\n",
    "from matplotlib_venn import venn2, venn3\n",
    "import matplotlib.pyplot as plt\n",
    "import seaborn as sns\n",
    "import attila_utils\n",
    "import repos_tools"
   ]
  },
  {
   "cell_type": "markdown",
   "id": "stunning-dietary",
   "metadata": {},
   "source": [
    "## Preparations\n",
    "\n",
    "### GeneID -- Symbol mapping\n",
    "\n",
    "`id_mapping_file` comes from [this file](ftp://ftp.ncbi.nih.gov/gene/DATA/GENE_INFO/Mammalia/Homo_sapiens.gene_info.gz) at NCBI; see [parse_ncbi.py](https://github.com/attilagk/guney_code/blob/master/parse_ncbi.py) for details."
   ]
  },
  {
   "cell_type": "code",
   "execution_count": 2,
   "id": "instrumental-syndrome",
   "metadata": {},
   "outputs": [
    {
     "data": {
      "text/html": [
       "<div>\n",
       "<style scoped>\n",
       "    .dataframe tbody tr th:only-of-type {\n",
       "        vertical-align: middle;\n",
       "    }\n",
       "\n",
       "    .dataframe tbody tr th {\n",
       "        vertical-align: top;\n",
       "    }\n",
       "\n",
       "    .dataframe thead th {\n",
       "        text-align: right;\n",
       "    }\n",
       "</style>\n",
       "<table border=\"1\" class=\"dataframe\">\n",
       "  <thead>\n",
       "    <tr style=\"text-align: right;\">\n",
       "      <th></th>\n",
       "      <th>Symbol</th>\n",
       "    </tr>\n",
       "    <tr>\n",
       "      <th>GeneID</th>\n",
       "      <th></th>\n",
       "    </tr>\n",
       "  </thead>\n",
       "  <tbody>\n",
       "    <tr>\n",
       "      <th>1</th>\n",
       "      <td>A1BG</td>\n",
       "    </tr>\n",
       "    <tr>\n",
       "      <th>2</th>\n",
       "      <td>A2M</td>\n",
       "    </tr>\n",
       "    <tr>\n",
       "      <th>3</th>\n",
       "      <td>A2MP1</td>\n",
       "    </tr>\n",
       "    <tr>\n",
       "      <th>9</th>\n",
       "      <td>NAT1</td>\n",
       "    </tr>\n",
       "    <tr>\n",
       "      <th>10</th>\n",
       "      <td>NAT2</td>\n",
       "    </tr>\n",
       "    <tr>\n",
       "      <th>...</th>\n",
       "      <td>...</td>\n",
       "    </tr>\n",
       "    <tr>\n",
       "      <th>8923215</th>\n",
       "      <td>trnD</td>\n",
       "    </tr>\n",
       "    <tr>\n",
       "      <th>8923216</th>\n",
       "      <td>trnP</td>\n",
       "    </tr>\n",
       "    <tr>\n",
       "      <th>8923217</th>\n",
       "      <td>trnA</td>\n",
       "    </tr>\n",
       "    <tr>\n",
       "      <th>8923218</th>\n",
       "      <td>COX1</td>\n",
       "    </tr>\n",
       "    <tr>\n",
       "      <th>8923219</th>\n",
       "      <td>16S rRNA</td>\n",
       "    </tr>\n",
       "  </tbody>\n",
       "</table>\n",
       "<p>63949 rows × 1 columns</p>\n",
       "</div>"
      ],
      "text/plain": [
       "           Symbol\n",
       "GeneID           \n",
       "1            A1BG\n",
       "2             A2M\n",
       "3           A2MP1\n",
       "9            NAT1\n",
       "10           NAT2\n",
       "...           ...\n",
       "8923215      trnD\n",
       "8923216      trnP\n",
       "8923217      trnA\n",
       "8923218      COX1\n",
       "8923219  16S rRNA\n",
       "\n",
       "[63949 rows x 1 columns]"
      ]
     },
     "execution_count": 2,
     "metadata": {},
     "output_type": "execute_result"
    }
   ],
   "source": [
    "id_mapping_file = '../../resources/PPI/geneid_to_symbol.txt'\n",
    "id_symbol = pd.read_csv(id_mapping_file, sep='\\t', index_col='GeneID')\n",
    "id_symbol = id_symbol.set_index(id_symbol.index.astype('str'))\n",
    "id_symbol"
   ]
  },
  {
   "cell_type": "markdown",
   "id": "little-doctrine",
   "metadata": {},
   "source": [
    "### PPI networks\n",
    "\n",
    "I read two PPI networks:\n",
    "1. `network_guney` from Guney et al 2016\n",
    "1. `network_cheng` from Cheng et al 2019\n",
    "\n",
    "Below is the number of binary PPI interactions in each of these networks"
   ]
  },
  {
   "cell_type": "code",
   "execution_count": 3,
   "id": "brilliant-malawi",
   "metadata": {},
   "outputs": [
    {
     "name": "stdout",
     "output_type": "stream",
     "text": [
      " 141296 ../../resources/proximity/data/network/network.sif\n",
      " 217160 ../../resources/PPI/Cheng2019/network.sif\n",
      " 358456 total\n"
     ]
    }
   ],
   "source": [
    "%%bash\n",
    "wc -l ../../resources/proximity/data/network/network.sif ../../resources/PPI/Cheng2019/network.sif"
   ]
  },
  {
   "cell_type": "code",
   "execution_count": 4,
   "id": "romantic-request",
   "metadata": {},
   "outputs": [],
   "source": [
    "network_guney = wrappers.get_network('../../resources/proximity/data/network/network.sif', only_lcc = True)\n",
    "network_cheng = wrappers.get_network('../../resources/PPI/Cheng2019/network.sif', only_lcc = True)"
   ]
  },
  {
   "cell_type": "markdown",
   "id": "documented-viking",
   "metadata": {},
   "source": [
    "### HCQ targets\n",
    "I will use Hydroxychloroquine's targets.  See [this page](https://go.drugbank.com/drugs/DB01611) on drugbank."
   ]
  },
  {
   "cell_type": "code",
   "execution_count": 5,
   "id": "described-dollar",
   "metadata": {},
   "outputs": [],
   "source": [
    "%%bash\n",
    "echo TLR7 > ../../results/2021-08-04-guney-tools/Hydroxychloroquine-targets\n",
    "echo TLR9 >> ../../results/2021-08-04-guney-tools/Hydroxychloroquine-targets"
   ]
  },
  {
   "cell_type": "code",
   "execution_count": 6,
   "id": "powered-clear",
   "metadata": {},
   "outputs": [
    {
     "name": "stdout",
     "output_type": "stream",
     "text": [
      "set()\n"
     ]
    },
    {
     "data": {
      "text/plain": [
       "{'51284', '54106'}"
      ]
     },
     "execution_count": 6,
     "metadata": {},
     "output_type": "execute_result"
    }
   ],
   "source": [
    "HCQ_targets_TLR = wrappers.convert_to_geneid(file_name='../../results/2021-08-04-guney-tools/Hydroxychloroquine-targets', id_type='symbol', id_mapping_file=id_mapping_file)\n",
    "HCQ_targets_TLR"
   ]
  },
  {
   "cell_type": "code",
   "execution_count": 7,
   "id": "strong-conditioning",
   "metadata": {},
   "outputs": [],
   "source": [
    "%%bash\n",
    "echo ACE2 >> ../../results/2021-08-04-guney-tools/Hydroxychloroquine-targets"
   ]
  },
  {
   "cell_type": "code",
   "execution_count": 8,
   "id": "changing-clearing",
   "metadata": {},
   "outputs": [
    {
     "name": "stdout",
     "output_type": "stream",
     "text": [
      "set()\n"
     ]
    },
    {
     "data": {
      "text/plain": [
       "{'51284', '54106', '59272'}"
      ]
     },
     "execution_count": 8,
     "metadata": {},
     "output_type": "execute_result"
    }
   ],
   "source": [
    "HCQ_targets = wrappers.convert_to_geneid(file_name='../../results/2021-08-04-guney-tools/Hydroxychloroquine-targets', id_type='symbol', id_mapping_file=id_mapping_file)\n",
    "HCQ_targets"
   ]
  },
  {
   "cell_type": "markdown",
   "id": "arctic-carroll",
   "metadata": {},
   "source": [
    "### AD gene sets\n",
    "#### Guney AD genes"
   ]
  },
  {
   "cell_type": "code",
   "execution_count": 9,
   "id": "secondary-cleveland",
   "metadata": {},
   "outputs": [],
   "source": [
    "%%bash\n",
    "grep 'alzheimer disease' ../../resources/proximity/data/disease/disease_genes.tsv | \\\n",
    "tr '\\t' '\\n' | sed -n '/^[0-9]\\+/ p' > ../../results/2021-08-04-guney-tools/AD-genes-guney"
   ]
  },
  {
   "cell_type": "code",
   "execution_count": 10,
   "id": "annual-daniel",
   "metadata": {},
   "outputs": [],
   "source": [
    "with open('../../results/2021-08-04-guney-tools/AD-genes-guney') as f:\n",
    "    AD_genes_guney = f.readlines()\n",
    "AD_genes_guney = [x.strip('\\n') for x in AD_genes_guney]"
   ]
  },
  {
   "cell_type": "markdown",
   "id": "balanced-restaurant",
   "metadata": {},
   "source": [
    "Making sure that the gene set is a subset of the network's nodes"
   ]
  },
  {
   "cell_type": "code",
   "execution_count": 11,
   "id": "finnish-bride",
   "metadata": {},
   "outputs": [
    {
     "name": "stdout",
     "output_type": "stream",
     "text": [
      "5 genes removed from 36\n"
     ]
    }
   ],
   "source": [
    "def remove_genes_notin_network(genes, network):\n",
    "    oldsize = len(genes)\n",
    "    newgenes = [y for y in genes if y in network.nodes]\n",
    "    newsize = len(newgenes)\n",
    "    restgenes = set(genes).difference(set(newgenes))\n",
    "    print(oldsize - newsize, 'genes removed from', oldsize)\n",
    "    return((newgenes, restgenes))\n",
    "\n",
    "AD_genes_guney, AD_genes_guney_removed = remove_genes_notin_network(AD_genes_guney, network_cheng)"
   ]
  },
  {
   "cell_type": "markdown",
   "id": "chemical-peripheral",
   "metadata": {},
   "source": [
    "When I use the older, smaller `network_guney` then additional genes are removed (therefore I won't use `network_guney`)."
   ]
  },
  {
   "cell_type": "code",
   "execution_count": 12,
   "id": "interstate-credits",
   "metadata": {},
   "outputs": [
    {
     "name": "stdout",
     "output_type": "stream",
     "text": [
      "2 genes removed from 31\n"
     ]
    }
   ],
   "source": [
    "AD_genes_guney1, AD_genes_guney_removed1 = remove_genes_notin_network(AD_genes_guney, network_guney)"
   ]
  },
  {
   "cell_type": "code",
   "execution_count": 13,
   "id": "controversial-stanley",
   "metadata": {},
   "outputs": [
    {
     "name": "stdout",
     "output_type": "stream",
     "text": [
      "{'MT-ND1', 'MT-ND2'}\n",
      "{'MT-ND1', 'MT-ND2'}\n",
      "{'AC087500.1', 'X84075', 'FAM115D', 'MT-ND1', 'MT-ND2', 'ENSG00000270081.1', 'AL512631.1', 'AC099524.1', 'ENSG00000260911', 'RTFDC1', 'CTD-2380F24.1', 'RP11-385F7.1', 'CTB-129P6.11', 'GATS'}\n",
      "{'MT-ND1', 'MT-ND2'}\n"
     ]
    }
   ],
   "source": [
    "gset_names = ['knowledge', 'knowledge-TWAS2plus', 'knowledge-TWAS', 'knowledge-TWAS2plus-IAPS']\n",
    "def read_geneset(name):\n",
    "    file_name = '../../results/2021-07-01-high-conf-ADgenes/AD-genes-' + name\n",
    "    gset = wrappers.convert_to_geneid(file_name=file_name, id_type='symbol', id_mapping_file=id_mapping_file)\n",
    "    gset, gset_dropped = repos_tools.drop_genes_notin_network(gset, network_cheng)\n",
    "    return(gset)\n",
    "\n",
    "Genesets = {k: read_geneset(k) for k in gset_names}\n",
    "Genesets.update({'Guney': AD_genes_guney})"
   ]
  },
  {
   "cell_type": "markdown",
   "id": "polished-recall",
   "metadata": {},
   "source": [
    "## Results\n",
    "\n",
    "### Overlap between AD gene sets\n",
    "\n",
    "Relationship of various AD gene sets are plotted below"
   ]
  },
  {
   "cell_type": "code",
   "execution_count": 14,
   "id": "spectacular-terminology",
   "metadata": {},
   "outputs": [
    {
     "data": {
      "text/plain": [
       "['named-figure/AD-gene-sets-venn2.png', 'named-figure/AD-gene-sets-venn2.pdf']"
      ]
     },
     "execution_count": 14,
     "metadata": {},
     "output_type": "execute_result"
    },
    {
     "data": {
      "image/png": "[encoded data removed]",
      "text/plain": [
       "<Figure size 432x288 with 1 Axes>"
      ]
     },
     "metadata": {},
     "output_type": "display_data"
    }
   ],
   "source": [
    "G = set(Genesets['Guney'])\n",
    "K = set(Genesets['knowledge'])\n",
    "H = set(Genesets['knowledge-TWAS2plus'])\n",
    "\n",
    "def get_subsets2(A, B):\n",
    "    partition = dict()\n",
    "    partition['10'] = A.difference(B)\n",
    "    partition['01'] = B.difference(A)\n",
    "    partition['11'] = A.intersection(B)\n",
    "    subsets = {k: len(v) for k, v in partition.items()}\n",
    "    return(subsets)\n",
    "\n",
    "fig, ax = plt.subplots()\n",
    "subsets = get_subsets2(A=set(Genesets['Guney']), B=set(Genesets['knowledge']))\n",
    "venn2(subsets=subsets, set_labels=('Guney', 'Knowledge'))\n",
    "attila_utils.savefig(fig, 'AD-gene-sets-venn2')"
   ]
  },
  {
   "cell_type": "markdown",
   "id": "stainless-mechanism",
   "metadata": {},
   "source": [
    "The intersection contains APP, APOE and PSEN1, PSEN2."
   ]
  },
  {
   "cell_type": "code",
   "execution_count": 15,
   "id": "sudden-counter",
   "metadata": {},
   "outputs": [
    {
     "name": "stdout",
     "output_type": "stream",
     "text": [
      "written to AD-gene-sets-venn3-TWAS2plus\n"
     ]
    },
    {
     "data": {
      "image/png": "[encoded data removed]",
      "text/plain": [
       "<Figure size 432x288 with 1 Axes>"
      ]
     },
     "metadata": {},
     "output_type": "display_data"
    }
   ],
   "source": [
    "def get_subsets3(A, B, C):\n",
    "    partition = dict()\n",
    "    partition['100'] = A.difference(B.union(C))\n",
    "    partition['010'] = B.difference(A.union(C))\n",
    "    partition['001'] = C.difference(A.union(B))\n",
    "    partition['110'] = A.intersection(B).difference(C)\n",
    "    partition['101'] = A.intersection(C).difference(B)\n",
    "    partition['011'] = B.intersection(C).difference(A)\n",
    "    partition['111'] = A.intersection(B).intersection(C)\n",
    "    subsets = {k: len(v) for k, v in partition.items()}\n",
    "    return(subsets)\n",
    "\n",
    "def plot_subsets3(Cname='TWAS2plus', Lname='TWAS2+'):\n",
    "    fig, ax = plt.subplots()\n",
    "    subsets = get_subsets3(A=set(Genesets['Guney']), B=set(Genesets['knowledge']), C=set(Genesets['knowledge-' + Cname]))\n",
    "    venn3(subsets=subsets, set_labels=('Guney', 'knowledge', 'knowledge, ' + Lname))\n",
    "    fname = 'AD-gene-sets-venn3-' + Cname\n",
    "    attila_utils.savefig(fig, fname)\n",
    "    print('written to', fname)\n",
    "\n",
    "plot_subsets3(Cname='TWAS2plus', Lname='TWAS2+')"
   ]
  },
  {
   "cell_type": "code",
   "execution_count": 16,
   "id": "pediatric-substance",
   "metadata": {},
   "outputs": [
    {
     "name": "stdout",
     "output_type": "stream",
     "text": [
      "written to AD-gene-sets-venn3-TWAS\n"
     ]
    },
    {
     "data": {
      "image/png": "[encoded data removed]",
      "text/plain": [
       "<Figure size 432x288 with 1 Axes>"
      ]
     },
     "metadata": {},
     "output_type": "display_data"
    }
   ],
   "source": [
    "plot_subsets3(Cname='TWAS', Lname='TWAS')"
   ]
  },
  {
   "cell_type": "code",
   "execution_count": 17,
   "id": "republican-outline",
   "metadata": {},
   "outputs": [
    {
     "name": "stdout",
     "output_type": "stream",
     "text": [
      "written to AD-gene-sets-venn3-TWAS2plus-IAPS\n"
     ]
    },
    {
     "data": {
      "image/png": "[encoded data removed]",
      "text/plain": [
       "<Figure size 432x288 with 1 Axes>"
      ]
     },
     "metadata": {},
     "output_type": "display_data"
    }
   ],
   "source": [
    "plot_subsets3(Cname='TWAS2plus-IAPS', Lname='TWAS2+, IAPS')"
   ]
  },
  {
   "cell_type": "markdown",
   "id": "vulnerable-fraud",
   "metadata": {},
   "source": [
    "### Node degree"
   ]
  },
  {
   "cell_type": "code",
   "execution_count": 18,
   "id": "requested-cooper",
   "metadata": {},
   "outputs": [],
   "source": [
    "G_knowledge = network_utilities.get_neighborhood_subgraph(network_cheng, Genesets['knowledge'])\n",
    "degrees_knowledge = network_utilities.get_node_degree_related_values(G_knowledge, set())"
   ]
  },
  {
   "cell_type": "code",
   "execution_count": 19,
   "id": "immediate-riding",
   "metadata": {},
   "outputs": [
    {
     "data": {
      "text/html": [
       "<div>\n",
       "<style scoped>\n",
       "    .dataframe tbody tr th:only-of-type {\n",
       "        vertical-align: middle;\n",
       "    }\n",
       "\n",
       "    .dataframe tbody tr th {\n",
       "        vertical-align: top;\n",
       "    }\n",
       "\n",
       "    .dataframe thead th {\n",
       "        text-align: right;\n",
       "    }\n",
       "</style>\n",
       "<table border=\"1\" class=\"dataframe\">\n",
       "  <thead>\n",
       "    <tr style=\"text-align: right;\">\n",
       "      <th></th>\n",
       "      <th>Symbol</th>\n",
       "      <th>d</th>\n",
       "      <th>ld</th>\n",
       "      <th>d2</th>\n",
       "      <th>ld2</th>\n",
       "    </tr>\n",
       "    <tr>\n",
       "      <th>GeneID</th>\n",
       "      <th></th>\n",
       "      <th></th>\n",
       "      <th></th>\n",
       "      <th></th>\n",
       "      <th></th>\n",
       "    </tr>\n",
       "  </thead>\n",
       "  <tbody>\n",
       "    <tr>\n",
       "      <th>1191</th>\n",
       "      <td>CLU</td>\n",
       "      <td>82</td>\n",
       "      <td>0</td>\n",
       "      <td>2858</td>\n",
       "      <td>0</td>\n",
       "    </tr>\n",
       "    <tr>\n",
       "      <th>348</th>\n",
       "      <td>APOE</td>\n",
       "      <td>62</td>\n",
       "      <td>0</td>\n",
       "      <td>2882</td>\n",
       "      <td>0</td>\n",
       "    </tr>\n",
       "    <tr>\n",
       "      <th>5663</th>\n",
       "      <td>PSEN1</td>\n",
       "      <td>108</td>\n",
       "      <td>0</td>\n",
       "      <td>2917</td>\n",
       "      <td>0</td>\n",
       "    </tr>\n",
       "    <tr>\n",
       "      <th>351</th>\n",
       "      <td>APP</td>\n",
       "      <td>1967</td>\n",
       "      <td>0</td>\n",
       "      <td>3020</td>\n",
       "      <td>0</td>\n",
       "    </tr>\n",
       "    <tr>\n",
       "      <th>5664</th>\n",
       "      <td>PSEN2</td>\n",
       "      <td>68</td>\n",
       "      <td>0</td>\n",
       "      <td>2841</td>\n",
       "      <td>0</td>\n",
       "    </tr>\n",
       "    <tr>\n",
       "      <th>10347</th>\n",
       "      <td>ABCA7</td>\n",
       "      <td>5</td>\n",
       "      <td>0</td>\n",
       "      <td>1985</td>\n",
       "      <td>0</td>\n",
       "    </tr>\n",
       "    <tr>\n",
       "      <th>55103</th>\n",
       "      <td>RALGPS2</td>\n",
       "      <td>5</td>\n",
       "      <td>0</td>\n",
       "      <td>2014</td>\n",
       "      <td>0</td>\n",
       "    </tr>\n",
       "  </tbody>\n",
       "</table>\n",
       "</div>"
      ],
      "text/plain": [
       "         Symbol     d  ld    d2  ld2\n",
       "GeneID                              \n",
       "1191        CLU    82   0  2858    0\n",
       "348        APOE    62   0  2882    0\n",
       "5663      PSEN1   108   0  2917    0\n",
       "351         APP  1967   0  3020    0\n",
       "5664      PSEN2    68   0  2841    0\n",
       "10347     ABCA7     5   0  1985    0\n",
       "55103   RALGPS2     5   0  2014    0"
      ]
     },
     "execution_count": 19,
     "metadata": {},
     "output_type": "execute_result"
    }
   ],
   "source": [
    "dk = pd.DataFrame(degrees_knowledge).transpose().rename({0: 'd', 1: 'ld', 2: 'd2', 3: 'ld2'}, axis=1)\n",
    "ik = id_symbol.loc[list(set(Genesets['Guney']).intersection(set(Genesets['knowledge']))), ]\n",
    "pd.concat([ik, dk.loc[ik.index, ]], axis=1)"
   ]
  },
  {
   "cell_type": "markdown",
   "id": "mineral-technical",
   "metadata": {},
   "source": [
    "Now the same for all knowledge based genes"
   ]
  },
  {
   "cell_type": "code",
   "execution_count": 20,
   "id": "crucial-sussex",
   "metadata": {},
   "outputs": [],
   "source": [
    "ik = id_symbol.loc[list(set(Genesets['knowledge'])), ]\n",
    "d_knowledge = pd.concat([ik, dk.loc[ik.index, ]], axis=1)\n",
    "d_knowledge = d_knowledge.rename(d_knowledge.Symbol, axis=0)\n",
    "d_knowledge = d_knowledge.sort_values('d').drop(['Symbol', 'ld', 'd2', 'ld2'], axis=1)\n",
    "d_knowledge = d_knowledge.rename_axis('')"
   ]
  },
  {
   "cell_type": "code",
   "execution_count": 21,
   "id": "absent-bruce",
   "metadata": {},
   "outputs": [
    {
     "data": {
      "text/plain": [
       "['named-figure/degree-knowledge.png', 'named-figure/degree-knowledge.pdf']"
      ]
     },
     "execution_count": 21,
     "metadata": {},
     "output_type": "execute_result"
    },
    {
     "data": {
      "image/png": "[encoded data removed]",
      "text/plain": [
       "<Figure size 216x360 with 1 Axes>"
      ]
     },
     "metadata": {
      "needs_background": "light"
     },
     "output_type": "display_data"
    }
   ],
   "source": [
    "def my_degree_plot(color_3genes=False):\n",
    "    fig, ax = plt.subplots(figsize=(3, 5))\n",
    "    ax.set_xlabel('node degree')\n",
    "    d_knowledge.plot(kind='barh', legend=False, logx=True, ax=ax)\n",
    "    if color_3genes:\n",
    "        for g in ['APOE', 'ABCA7', 'RALGPS2']:\n",
    "            ax.patches[d_knowledge.index.to_list().index(g)].set_facecolor('red')\n",
    "    return((fig, ax))\n",
    "\n",
    "fig, ax = my_degree_plot(color_3genes=False)\n",
    "attila_utils.savefig(fig, 'degree-knowledge')"
   ]
  },
  {
   "cell_type": "code",
   "execution_count": 22,
   "id": "domestic-graphics",
   "metadata": {},
   "outputs": [
    {
     "data": {
      "text/plain": [
       "['named-figure/degree-knowledge-3genes.png',\n",
       " 'named-figure/degree-knowledge-3genes.pdf']"
      ]
     },
     "execution_count": 22,
     "metadata": {},
     "output_type": "execute_result"
    },
    {
     "data": {
      "image/png": "[encoded data removed]",
      "text/plain": [
       "<Figure size 216x360 with 1 Axes>"
      ]
     },
     "metadata": {
      "needs_background": "light"
     },
     "output_type": "display_data"
    }
   ],
   "source": [
    "fig, ax = my_degree_plot(color_3genes=True)\n",
    "attila_utils.savefig(fig, 'degree-knowledge-3genes')"
   ]
  },
  {
   "cell_type": "code",
   "execution_count": 23,
   "id": "viral-sense",
   "metadata": {},
   "outputs": [],
   "source": [
    "G_HCQ = network_utilities.get_neighborhood_subgraph(network_cheng, HCQ_targets)\n",
    "degrees_HCQ = network_utilities.get_node_degree_related_values(G_HCQ, set())"
   ]
  },
  {
   "cell_type": "markdown",
   "id": "marine-strand",
   "metadata": {},
   "source": [
    "Let's calculate the degree of TLR7 and TLR9!"
   ]
  },
  {
   "cell_type": "code",
   "execution_count": 24,
   "id": "starting-meaning",
   "metadata": {},
   "outputs": [
    {
     "data": {
      "text/html": [
       "<div>\n",
       "<style scoped>\n",
       "    .dataframe tbody tr th:only-of-type {\n",
       "        vertical-align: middle;\n",
       "    }\n",
       "\n",
       "    .dataframe tbody tr th {\n",
       "        vertical-align: top;\n",
       "    }\n",
       "\n",
       "    .dataframe thead th {\n",
       "        text-align: right;\n",
       "    }\n",
       "</style>\n",
       "<table border=\"1\" class=\"dataframe\">\n",
       "  <thead>\n",
       "    <tr style=\"text-align: right;\">\n",
       "      <th></th>\n",
       "      <th>Symbol</th>\n",
       "      <th>d</th>\n",
       "      <th>ld</th>\n",
       "      <th>d2</th>\n",
       "      <th>ld2</th>\n",
       "    </tr>\n",
       "    <tr>\n",
       "      <th>GeneID</th>\n",
       "      <th></th>\n",
       "      <th></th>\n",
       "      <th></th>\n",
       "      <th></th>\n",
       "      <th></th>\n",
       "    </tr>\n",
       "  </thead>\n",
       "  <tbody>\n",
       "    <tr>\n",
       "      <th>54106</th>\n",
       "      <td>TLR9</td>\n",
       "      <td>28</td>\n",
       "      <td>0</td>\n",
       "      <td>33</td>\n",
       "      <td>0</td>\n",
       "    </tr>\n",
       "    <tr>\n",
       "      <th>59272</th>\n",
       "      <td>ACE2</td>\n",
       "      <td>5</td>\n",
       "      <td>0</td>\n",
       "      <td>10</td>\n",
       "      <td>0</td>\n",
       "    </tr>\n",
       "    <tr>\n",
       "      <th>51284</th>\n",
       "      <td>TLR7</td>\n",
       "      <td>6</td>\n",
       "      <td>0</td>\n",
       "      <td>19</td>\n",
       "      <td>0</td>\n",
       "    </tr>\n",
       "  </tbody>\n",
       "</table>\n",
       "</div>"
      ],
      "text/plain": [
       "       Symbol   d  ld  d2  ld2\n",
       "GeneID                        \n",
       "54106    TLR9  28   0  33    0\n",
       "59272    ACE2   5   0  10    0\n",
       "51284    TLR7   6   0  19    0"
      ]
     },
     "execution_count": 24,
     "metadata": {},
     "output_type": "execute_result"
    }
   ],
   "source": [
    "dh = pd.DataFrame(degrees_HCQ).transpose().rename({0: 'd', 1: 'ld', 2: 'd2', 3: 'ld2'}, axis=1)\n",
    "ih = id_symbol.loc[HCQ_targets, ]\n",
    "pd.concat([ih, dh.loc[ih.index, ]], axis=1)"
   ]
  },
  {
   "cell_type": "markdown",
   "id": "moved-broadcast",
   "metadata": {},
   "source": [
    "I select ABCA7, APOE, and RALGPS2, three AD genes with comparable degrees to TLR7, TLR9, and ACE2, respectively:"
   ]
  },
  {
   "cell_type": "code",
   "execution_count": 25,
   "id": "cellular-activity",
   "metadata": {},
   "outputs": [],
   "source": [
    "AD_3genes = {'10347', '348', '55103'}\n",
    "Targets = {'HCQ targets': HCQ_targets, 'HCQ t: TLRs': HCQ_targets_TLR, '3 AD genes': AD_3genes}"
   ]
  },
  {
   "cell_type": "markdown",
   "id": "norman-dictionary",
   "metadata": {},
   "source": [
    "### Proximity\n",
    "\n",
    "Now the proximity calculation between `HCQ_targets` and `AD_genes_guney`"
   ]
  },
  {
   "cell_type": "code",
   "execution_count": 26,
   "id": "funny-employee",
   "metadata": {},
   "outputs": [],
   "source": [
    "def helper(target, geneset, network):\n",
    "    res = wrappers.calculate_proximity(network=network, nodes_from=target, nodes_to=geneset)\n",
    "    return(res)\n",
    "\n",
    "def dict2df(d, condition):\n",
    "    l = [[v[0], v[1], v[2][0], v[2][1]] for v in d.values()]\n",
    "    a = np.array(l)\n",
    "    ix = pd.MultiIndex.from_product([[condition], d.keys()])\n",
    "    # z = (d - mean_0) / std_0\n",
    "    df = pd.DataFrame(a, columns=['d', 'z', 'mean_0', 'std_0'], index=ix)\n",
    "    df['p'] = df['z'].apply(lambda x: scipy.stats.norm.sf(-x))\n",
    "    df = df.rename_axis(['condition', 'target'], axis=0)\n",
    "    return(df)\n",
    "\n",
    "Prox = {gname: dict2df({tname: helper(targ, gset, network_cheng) for tname, targ in Targets.items()}, gname) for gname, gset in Genesets.items()}"
   ]
  },
  {
   "cell_type": "code",
   "execution_count": 27,
   "id": "necessary-bridal",
   "metadata": {},
   "outputs": [
    {
     "data": {
      "text/html": [
       "<div>\n",
       "<style scoped>\n",
       "    .dataframe tbody tr th:only-of-type {\n",
       "        vertical-align: middle;\n",
       "    }\n",
       "\n",
       "    .dataframe tbody tr th {\n",
       "        vertical-align: top;\n",
       "    }\n",
       "\n",
       "    .dataframe thead th {\n",
       "        text-align: right;\n",
       "    }\n",
       "</style>\n",
       "<table border=\"1\" class=\"dataframe\">\n",
       "  <thead>\n",
       "    <tr style=\"text-align: right;\">\n",
       "      <th></th>\n",
       "      <th></th>\n",
       "      <th>d</th>\n",
       "      <th>z</th>\n",
       "      <th>mean_0</th>\n",
       "      <th>std_0</th>\n",
       "      <th>p</th>\n",
       "      <th>condition</th>\n",
       "      <th>target</th>\n",
       "    </tr>\n",
       "    <tr>\n",
       "      <th>condition</th>\n",
       "      <th>target</th>\n",
       "      <th></th>\n",
       "      <th></th>\n",
       "      <th></th>\n",
       "      <th></th>\n",
       "      <th></th>\n",
       "      <th></th>\n",
       "      <th></th>\n",
       "    </tr>\n",
       "  </thead>\n",
       "  <tbody>\n",
       "    <tr>\n",
       "      <th rowspan=\"3\" valign=\"top\">knowledge</th>\n",
       "      <th>HCQ targets</th>\n",
       "      <td>2.333333</td>\n",
       "      <td>1.587721</td>\n",
       "      <td>1.990667</td>\n",
       "      <td>0.215823</td>\n",
       "      <td>9.438253e-01</td>\n",
       "      <td>knowledge</td>\n",
       "      <td>HCQ targets</td>\n",
       "    </tr>\n",
       "    <tr>\n",
       "      <th>HCQ t: TLRs</th>\n",
       "      <td>2.500000</td>\n",
       "      <td>2.273493</td>\n",
       "      <td>1.952500</td>\n",
       "      <td>0.240819</td>\n",
       "      <td>9.885017e-01</td>\n",
       "      <td>knowledge</td>\n",
       "      <td>HCQ t: TLRs</td>\n",
       "    </tr>\n",
       "    <tr>\n",
       "      <th>3 AD genes</th>\n",
       "      <td>0.000000</td>\n",
       "      <td>-8.115661</td>\n",
       "      <td>1.947667</td>\n",
       "      <td>0.239989</td>\n",
       "      <td>2.415732e-16</td>\n",
       "      <td>knowledge</td>\n",
       "      <td>3 AD genes</td>\n",
       "    </tr>\n",
       "    <tr>\n",
       "      <th rowspan=\"3\" valign=\"top\">knowledge-TWAS2plus</th>\n",
       "      <th>HCQ targets</th>\n",
       "      <td>2.000000</td>\n",
       "      <td>0.218769</td>\n",
       "      <td>1.952000</td>\n",
       "      <td>0.219409</td>\n",
       "      <td>5.865851e-01</td>\n",
       "      <td>knowledge-TWAS2plus</td>\n",
       "      <td>HCQ targets</td>\n",
       "    </tr>\n",
       "    <tr>\n",
       "      <th>HCQ t: TLRs</th>\n",
       "      <td>2.000000</td>\n",
       "      <td>0.366715</td>\n",
       "      <td>1.906500</td>\n",
       "      <td>0.254966</td>\n",
       "      <td>6.430843e-01</td>\n",
       "      <td>knowledge-TWAS2plus</td>\n",
       "      <td>HCQ t: TLRs</td>\n",
       "    </tr>\n",
       "    <tr>\n",
       "      <th>3 AD genes</th>\n",
       "      <td>0.000000</td>\n",
       "      <td>-7.743683</td>\n",
       "      <td>1.902333</td>\n",
       "      <td>0.245663</td>\n",
       "      <td>4.828871e-15</td>\n",
       "      <td>knowledge-TWAS2plus</td>\n",
       "      <td>3 AD genes</td>\n",
       "    </tr>\n",
       "    <tr>\n",
       "      <th rowspan=\"3\" valign=\"top\">knowledge-TWAS</th>\n",
       "      <th>HCQ targets</th>\n",
       "      <td>2.000000</td>\n",
       "      <td>0.486653</td>\n",
       "      <td>1.885333</td>\n",
       "      <td>0.235623</td>\n",
       "      <td>6.867479e-01</td>\n",
       "      <td>knowledge-TWAS</td>\n",
       "      <td>HCQ targets</td>\n",
       "    </tr>\n",
       "    <tr>\n",
       "      <th>HCQ t: TLRs</th>\n",
       "      <td>2.000000</td>\n",
       "      <td>0.526713</td>\n",
       "      <td>1.853000</td>\n",
       "      <td>0.279090</td>\n",
       "      <td>7.008034e-01</td>\n",
       "      <td>knowledge-TWAS</td>\n",
       "      <td>HCQ t: TLRs</td>\n",
       "    </tr>\n",
       "    <tr>\n",
       "      <th>3 AD genes</th>\n",
       "      <td>0.000000</td>\n",
       "      <td>-7.056524</td>\n",
       "      <td>1.831000</td>\n",
       "      <td>0.259476</td>\n",
       "      <td>8.535936e-13</td>\n",
       "      <td>knowledge-TWAS</td>\n",
       "      <td>3 AD genes</td>\n",
       "    </tr>\n",
       "    <tr>\n",
       "      <th rowspan=\"3\" valign=\"top\">knowledge-TWAS2plus-IAPS</th>\n",
       "      <th>HCQ targets</th>\n",
       "      <td>2.000000</td>\n",
       "      <td>0.607272</td>\n",
       "      <td>1.851667</td>\n",
       "      <td>0.244262</td>\n",
       "      <td>7.281647e-01</td>\n",
       "      <td>knowledge-TWAS2plus-IAPS</td>\n",
       "      <td>HCQ targets</td>\n",
       "    </tr>\n",
       "    <tr>\n",
       "      <th>HCQ t: TLRs</th>\n",
       "      <td>2.000000</td>\n",
       "      <td>0.621476</td>\n",
       "      <td>1.809500</td>\n",
       "      <td>0.306529</td>\n",
       "      <td>7.328566e-01</td>\n",
       "      <td>knowledge-TWAS2plus-IAPS</td>\n",
       "      <td>HCQ t: TLRs</td>\n",
       "    </tr>\n",
       "    <tr>\n",
       "      <th>3 AD genes</th>\n",
       "      <td>0.000000</td>\n",
       "      <td>-7.115839</td>\n",
       "      <td>1.793667</td>\n",
       "      <td>0.252067</td>\n",
       "      <td>5.561709e-13</td>\n",
       "      <td>knowledge-TWAS2plus-IAPS</td>\n",
       "      <td>3 AD genes</td>\n",
       "    </tr>\n",
       "    <tr>\n",
       "      <th rowspan=\"3\" valign=\"top\">Guney</th>\n",
       "      <th>HCQ targets</th>\n",
       "      <td>2.333333</td>\n",
       "      <td>1.475449</td>\n",
       "      <td>2.007667</td>\n",
       "      <td>0.220724</td>\n",
       "      <td>9.299540e-01</td>\n",
       "      <td>Guney</td>\n",
       "      <td>HCQ targets</td>\n",
       "    </tr>\n",
       "    <tr>\n",
       "      <th>HCQ t: TLRs</th>\n",
       "      <td>2.000000</td>\n",
       "      <td>0.085803</td>\n",
       "      <td>1.978500</td>\n",
       "      <td>0.250575</td>\n",
       "      <td>5.341884e-01</td>\n",
       "      <td>Guney</td>\n",
       "      <td>HCQ t: TLRs</td>\n",
       "    </tr>\n",
       "    <tr>\n",
       "      <th>3 AD genes</th>\n",
       "      <td>0.000000</td>\n",
       "      <td>-8.150224</td>\n",
       "      <td>1.967333</td>\n",
       "      <td>0.241384</td>\n",
       "      <td>1.816261e-16</td>\n",
       "      <td>Guney</td>\n",
       "      <td>3 AD genes</td>\n",
       "    </tr>\n",
       "  </tbody>\n",
       "</table>\n",
       "</div>"
      ],
      "text/plain": [
       "                                             d         z    mean_0     std_0  \\\n",
       "condition                target                                                \n",
       "knowledge                HCQ targets  2.333333  1.587721  1.990667  0.215823   \n",
       "                         HCQ t: TLRs  2.500000  2.273493  1.952500  0.240819   \n",
       "                         3 AD genes   0.000000 -8.115661  1.947667  0.239989   \n",
       "knowledge-TWAS2plus      HCQ targets  2.000000  0.218769  1.952000  0.219409   \n",
       "                         HCQ t: TLRs  2.000000  0.366715  1.906500  0.254966   \n",
       "                         3 AD genes   0.000000 -7.743683  1.902333  0.245663   \n",
       "knowledge-TWAS           HCQ targets  2.000000  0.486653  1.885333  0.235623   \n",
       "                         HCQ t: TLRs  2.000000  0.526713  1.853000  0.279090   \n",
       "                         3 AD genes   0.000000 -7.056524  1.831000  0.259476   \n",
       "knowledge-TWAS2plus-IAPS HCQ targets  2.000000  0.607272  1.851667  0.244262   \n",
       "                         HCQ t: TLRs  2.000000  0.621476  1.809500  0.306529   \n",
       "                         3 AD genes   0.000000 -7.115839  1.793667  0.252067   \n",
       "Guney                    HCQ targets  2.333333  1.475449  2.007667  0.220724   \n",
       "                         HCQ t: TLRs  2.000000  0.085803  1.978500  0.250575   \n",
       "                         3 AD genes   0.000000 -8.150224  1.967333  0.241384   \n",
       "\n",
       "                                                 p                 condition  \\\n",
       "condition                target                                                \n",
       "knowledge                HCQ targets  9.438253e-01                 knowledge   \n",
       "                         HCQ t: TLRs  9.885017e-01                 knowledge   \n",
       "                         3 AD genes   2.415732e-16                 knowledge   \n",
       "knowledge-TWAS2plus      HCQ targets  5.865851e-01       knowledge-TWAS2plus   \n",
       "                         HCQ t: TLRs  6.430843e-01       knowledge-TWAS2plus   \n",
       "                         3 AD genes   4.828871e-15       knowledge-TWAS2plus   \n",
       "knowledge-TWAS           HCQ targets  6.867479e-01            knowledge-TWAS   \n",
       "                         HCQ t: TLRs  7.008034e-01            knowledge-TWAS   \n",
       "                         3 AD genes   8.535936e-13            knowledge-TWAS   \n",
       "knowledge-TWAS2plus-IAPS HCQ targets  7.281647e-01  knowledge-TWAS2plus-IAPS   \n",
       "                         HCQ t: TLRs  7.328566e-01  knowledge-TWAS2plus-IAPS   \n",
       "                         3 AD genes   5.561709e-13  knowledge-TWAS2plus-IAPS   \n",
       "Guney                    HCQ targets  9.299540e-01                     Guney   \n",
       "                         HCQ t: TLRs  5.341884e-01                     Guney   \n",
       "                         3 AD genes   1.816261e-16                     Guney   \n",
       "\n",
       "                                           target  \n",
       "condition                target                    \n",
       "knowledge                HCQ targets  HCQ targets  \n",
       "                         HCQ t: TLRs  HCQ t: TLRs  \n",
       "                         3 AD genes    3 AD genes  \n",
       "knowledge-TWAS2plus      HCQ targets  HCQ targets  \n",
       "                         HCQ t: TLRs  HCQ t: TLRs  \n",
       "                         3 AD genes    3 AD genes  \n",
       "knowledge-TWAS           HCQ targets  HCQ targets  \n",
       "                         HCQ t: TLRs  HCQ t: TLRs  \n",
       "                         3 AD genes    3 AD genes  \n",
       "knowledge-TWAS2plus-IAPS HCQ targets  HCQ targets  \n",
       "                         HCQ t: TLRs  HCQ t: TLRs  \n",
       "                         3 AD genes    3 AD genes  \n",
       "Guney                    HCQ targets  HCQ targets  \n",
       "                         HCQ t: TLRs  HCQ t: TLRs  \n",
       "                         3 AD genes    3 AD genes  "
      ]
     },
     "execution_count": 27,
     "metadata": {},
     "output_type": "execute_result"
    }
   ],
   "source": [
    "prox = pd.concat(Prox.values(), axis=0)\n",
    "prox.to_csv('../../results/2021-08-04-guney-tools/proximity-results.csv')\n",
    "prox['condition'] = pd.MultiIndex.get_level_values(prox.index, level='condition')\n",
    "prox['target'] = pd.MultiIndex.get_level_values(prox.index, level='target')\n",
    "prox"
   ]
  },
  {
   "cell_type": "code",
   "execution_count": 28,
   "id": "bound-thumb",
   "metadata": {},
   "outputs": [
    {
     "data": {
      "text/plain": [
       "['named-figure/proximity-d-z-p-TLRs.png',\n",
       " 'named-figure/proximity-d-z-p-TLRs.pdf']"
      ]
     },
     "execution_count": 28,
     "metadata": {},
     "output_type": "execute_result"
    },
    {
     "data": {
      "image/png": "[encoded data removed]",
      "text/plain": [
       "<Figure size 576x288 with 3 Axes>"
      ]
     },
     "metadata": {
      "needs_background": "light"
     },
     "output_type": "display_data"
    }
   ],
   "source": [
    "fig, ax = repos_tools.plot_proximity_results(prox.drop('Guney', level=0))\n",
    "attila_utils.savefig(fig, 'proximity-d-z-p-TLRs')"
   ]
  },
  {
   "cell_type": "code",
   "execution_count": 29,
   "id": "pressing-sector",
   "metadata": {},
   "outputs": [
    {
     "data": {
      "text/plain": [
       "['named-figure/proximity-d-z-p.png', 'named-figure/proximity-d-z-p.pdf']"
      ]
     },
     "execution_count": 29,
     "metadata": {},
     "output_type": "execute_result"
    },
    {
     "data": {
      "image/png": "[encoded data removed]",
      "text/plain": [
       "<Figure size 576x288 with 3 Axes>"
      ]
     },
     "metadata": {
      "needs_background": "light"
     },
     "output_type": "display_data"
    }
   ],
   "source": [
    "fig, ax = repos_tools.plot_proximity_results(prox.drop('Guney', level=0).drop(labels='HCQ t: TLRs', axis=0, level='target'))\n",
    "attila_utils.savefig(fig, 'proximity-d-z-p')"
   ]
  },
  {
   "cell_type": "markdown",
   "id": "blocked-senate",
   "metadata": {},
   "source": [
    "## TODO\n",
    "\n",
    "* Download and parse drugbank. See [drugbank-downloader](https://pypi.org/project/drugbank-downloader/)\n",
    "* deploy `wrappers.calculate_proximity` to cloud"
   ]
  },
  {
   "cell_type": "code",
   "execution_count": 30,
   "id": "molecular-sodium",
   "metadata": {},
   "outputs": [
    {
     "name": "stdout",
     "output_type": "stream",
     "text": [
      "{\n",
      "  \"shell_port\": 55543,\n",
      "  \"iopub_port\": 41211,\n",
      "  \"stdin_port\": 46505,\n",
      "  \"control_port\": 46863,\n",
      "  \"hb_port\": 43623,\n",
      "  \"ip\": \"127.0.0.1\",\n",
      "  \"key\": \"563bb749-3f516b5a104d63b1e0081db5\",\n",
      "  \"transport\": \"tcp\",\n",
      "  \"signature_scheme\": \"hmac-sha256\",\n",
      "  \"kernel_name\": \"\"\n",
      "}\n",
      "\n",
      "Paste the above JSON into a file, and connect with:\n",
      "    $> jupyter <app> --existing <file>\n",
      "or, if you are local, you can connect with just:\n",
      "    $> jupyter <app> --existing kernel-837a04aa-ff53-4b9e-a94a-a1df486c2f99.json\n",
      "or even just:\n",
      "    $> jupyter <app> --existing\n",
      "if this is the most recent Jupyter kernel you have started.\n"
     ]
    }
   ],
   "source": [
    "%connect_info"
   ]
  },
  {
   "cell_type": "code",
   "execution_count": null,
   "id": "ethical-easter",
   "metadata": {},
   "outputs": [],
   "source": []
  }
 ],
 "metadata": {
  "kernelspec": {
   "display_name": "Python 3",
   "language": "python",
   "name": "python3"
  },
  "language_info": {
   "codemirror_mode": {
    "name": "ipython",
    "version": 3
   },
   "file_extension": ".py",
   "mimetype": "text/x-python",
   "name": "python",
   "nbconvert_exporter": "python",
   "pygments_lexer": "ipython3",
   "version": "3.7.6"
  }
 },
 "nbformat": 4,
 "nbformat_minor": 5
}
