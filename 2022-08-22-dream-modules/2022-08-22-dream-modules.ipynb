{
 "cells": [
  {
   "cell_type": "code",
   "execution_count": 1,
   "id": "220c081e",
   "metadata": {},
   "outputs": [
    {
     "name": "stdout",
     "output_type": "stream",
     "text": [
      "The autoreload extension is already loaded. To reload it, use:\n",
      "  %reload_ext autoreload\n",
      "GenRev not found, steiner wont work\n",
      "Import error: Negex. Using keyword matching instead\n",
      "Import error: Funcassociate. Make sure that funcassociate is in toolbox!\n"
     ]
    }
   ],
   "source": [
    "%load_ext autoreload\n",
    "%autoreload 2\n",
    "%reload_ext autoreload\n",
    "import pandas as pd\n",
    "import numpy as np\n",
    "import matplotlib.pyplot as plt\n",
    "import repos_tools\n",
    "import attila_utils"
   ]
  },
  {
   "cell_type": "code",
   "execution_count": 5,
   "id": "71ca957b",
   "metadata": {},
   "outputs": [],
   "source": [
    "hgn_fpath = '/Users/jonesa7/CTNS/resources/hgnc/hgnc_complete_set.txt'\n",
    "ingmt_fpath = '../../results/2022-08-22-dream-modules/dream_consensus_modules-PPI-STRING_Consensus.gmt'\n",
    "outgmt_fpath = '../../results/2022-08-22-dream-modules/dream_consensus_modules-PPI-STRING_Consensus-entrez_id.gmt'\n",
    "repos_tools.symbol2entrez_gmt(ingmt_fpath, outgmt_fpath, hgn_fpath)"
   ]
  },
  {
   "cell_type": "code",
   "execution_count": 3,
   "id": "ffc7926a",
   "metadata": {},
   "outputs": [
    {
     "name": "stdout",
     "output_type": "stream",
     "text": [
      "PPI-STRING_Consensus_mod1\tPPI-STRING\t712\t713\t714\t715\t716\t717\t720\t721\t722\t725\t4179\t975\t629\t3075\t3078\t3426\t1378\t1380\t1401\t114784\t114788\t2210\t2219\t2220\t8547\t5648\t10747\t4153\t4360\t5738\t5806\t6283\t283600\n",
      "PPI-STRING_Consensus_mod2\tPPI-STRING\t93436\t64225\t8455\t80115\t146227\t259282\t55108\t148423\t100129271\t114905\t56951\t375444\t84933\t91298\t55017\t150248\t285331\t79879\t221960\t91368\t153241\t112616\t1534\t347442\t392617\t256364\t157697\t2171\t84498\t283635\t29902\t28982\t54914\t55303\t54856\t284110\t79792\t63897\t135114\t79366\t285148\t27177\t150771\t222658\t448834\t51108\t4826\t84304\t54940\t79668\t23187\t63895\t149041\t113178\t54549\t253512\t57228\t8303\t57231\t284612\t55116\t54868\t54972\t29058\t169693\t126259\t91978\t131601\t80305\t9830\t54795\t92181\t29066\t57683\n",
      "PPI-STRING_Consensus_mod3\tPPI-STRING\t23452\t253935\t430\t8538\t168620\t441150\t863\t23582\t64100\t2208\t388698\t90167\t6928\t3397\t3428\t3642\t84684\t81606\t389692\t4188\t29969\t4654\t4760\t7080\t4821\t4825\t126206\t3175\t390874\t160065\t5375\t112476\t253959\t862\t6659\t23334\t144404\n",
      "PPI-STRING_Consensus_mod4\tPPI-STRING\t51390\t80832\t79908\t118611\t29903\t11126\t100131439\t163732\t8857\t2622\t200504\t92344\t83982\t57582\t284252\t79047\t753\t84695\t4193\t4194\t27085\t64065\t10848\t2834\t149628\t25898\t51246\t10572\t7020\t7021\t7022\t83741\t339488\t64418\t7157\t94241\t8626\t7161\n",
      "PPI-STRING_Consensus_mod5\tPPI-STRING\t54829\t633\t150356\t1842\t1833\t3671\t57611\t84894\t158038\t645191\t339398\t23143\t57622\t57497\t79414\t78999\t145581\t340745\t64101\t94030\t57689\t56262\t23507\t84230\t55144\t80131\t131578\t10234\t64922\t441381\t389816\t2615\t126755\t440699\t105378803\t219527\t220416\t339977\t100130733\t57633\t10446\t164312\t347730\t26045\t347731\t57408\t654429\t9258\t25878\t4974\t26254\t127435\t79883\t65078\t146760\t349667\t202500\t25987\t114990\t143570\n",
      "PPI-STRING_Consensus_mod6\tPPI-STRING\t57719\t55129\t9716\t66037\t84811\t79169\t1153\t57396\t55280\t143884\t1617\t57055\t57054\t57135\t26528\t1618\t7458\t55094\t144983\t3182\t343069\t202559\t10656\t221496\t23592\t124801\t55692\t51631\t51747\t4440\t124540\t392517\t55660\t22913\t138046\t146713\t5935\t221662\t55544\t51634\t139804\t7737\t140432\t55599\t7536\t10262\t81892\t10569\t11066\t26576\t23524\t10772\t135295\t54952\n",
      "PPI-STRING_Consensus_mod7\tPPI-STRING\t140690\t6018\t57621\t65986\t10009\t403341\t80108\t139735\t284307\t7551\t7580\t7584\t126295\t7625\t7627\t58492\t55769\t7637\t7639\t168374\t163227\t51427\t7692\t7699\t7700\t7705\t7711\t7712\t90338\t7743\t7752\t7988\t7761\t7770\t57343\t79175\t57541\t84330\t55786\t79088\t353088\t220929\t126070\t388566\t220992\t26048\t440515\t84450\t9658\t340385\t348327\t284306\t79818\t84527\t100529215\t163033\t84914\t152687\t169270\t148103\t84775\t90317\t57547\t90589\t51193\t9726\t55279\t79027\t285349\t79894\t641339\t168417\t340252\t127396\t146542\t55657\t170960\t388523\t148203\t91661\t79724\t284323\t136051\t388536\t126375\t390980\t388558\t222696\n",
      "PPI-STRING_Consensus_mod8\tPPI-STRING\t79135\t139322\t388753\t1327\t84701\t9377\t1329\t1337\t285849\t1339\t1340\t125965\t1345\t1346\t1347\t9167\t1349\t1350\t1351\t1537\t54205\t10553\t4512\t4513\t4514\t4519\t4706\t4716\t100532726\t57407\t100131801\t6392\t29796\t10975\t7381\t7384\t7385\t7386\t7388\t27089\n",
      "PPI-STRING_Consensus_mod9\tPPI-STRING\t26189\t347169\t4991\t8388\t347168\t26219\t392392\t125963\t138882\t158131\t393046\t401427\t144125\t121129\t284521\t391196\t81318\t219983\t219986\t81127\t390436\t283694\t219982\t390181\t219447\t390190\t390191\t219438\t403274\t282775\t403277\t219484\t390162\t120065\t120066\t135946\t150681\t283365\t403282\t403284\t79549\t391112\t26658\t390152\t219870\t26539\t26538\t26532\t126541\t441911\t127385\t391109\t128360\t392376\t138805\t392309\t388761\t343170\t401667\t81282\t390063\t390061\t143496\t390079\t119679\t120787\n",
      "PPI-STRING_Consensus_mod10\tPPI-STRING\t340273\t8647\t267\t55139\t84896\t4287\t92552\t550\t25825\t7917\t342346\t51148\t55743\t54982\t9362\t54504\t5476\t1510\t79139\t51009\t91319\t27248\t11160\t23197\t51439\t84923\t55137\t63979\t2861\t9709\t79781\t55805\t55666\t55968\t10956\t139562\t51633\t643834\t643847\t5222\t5225\t9373\t11236\t153830\t114804\t51136\t84900\t59342\t6400\t80343\t23231\t6683\t166378\t79029\t258010\t84447\t7327\t51465\t118424\t9354\t22888\t165324\t137886\t23190\t80700\t127733\t91544\t8975\t7415\t80124\t51322\t55432\t79752\t90637\t130617\n"
     ]
    }
   ],
   "source": [
    "%%bash\n",
    "head ../../results/2022-08-22-dream-modules/dream_consensus_modules-PPI-STRING_Consensus-entrez_id.gmt"
   ]
  },
  {
   "cell_type": "code",
   "execution_count": 4,
   "id": "3ca221b6",
   "metadata": {},
   "outputs": [
    {
     "name": "stdout",
     "output_type": "stream",
     "text": [
      "{\n",
      "  \"shell_port\": 53932,\n",
      "  \"iopub_port\": 53933,\n",
      "  \"stdin_port\": 53934,\n",
      "  \"control_port\": 53936,\n",
      "  \"hb_port\": 53935,\n",
      "  \"ip\": \"127.0.0.1\",\n",
      "  \"key\": \"ecd474d9-d3d24261d724fdba1ecde842\",\n",
      "  \"transport\": \"tcp\",\n",
      "  \"signature_scheme\": \"hmac-sha256\",\n",
      "  \"kernel_name\": \"\"\n",
      "}\n",
      "\n",
      "Paste the above JSON into a file, and connect with:\n",
      "    $> jupyter <app> --existing <file>\n",
      "or, if you are local, you can connect with just:\n",
      "    $> jupyter <app> --existing kernel-b38bb719-4cb0-4c21-a2e0-ed0b25b1f1cf.json\n",
      "or even just:\n",
      "    $> jupyter <app> --existing\n",
      "if this is the most recent Jupyter kernel you have started.\n"
     ]
    }
   ],
   "source": [
    "%connect_info"
   ]
  },
  {
   "cell_type": "code",
   "execution_count": null,
   "id": "2c559460",
   "metadata": {},
   "outputs": [],
   "source": []
  }
 ],
 "metadata": {
  "kernelspec": {
   "display_name": "Python 3",
   "language": "python",
   "name": "python3"
  },
  "language_info": {
   "codemirror_mode": {
    "name": "ipython",
    "version": 3
   },
   "file_extension": ".py",
   "mimetype": "text/x-python",
   "name": "python",
   "nbconvert_exporter": "python",
   "pygments_lexer": "ipython3",
   "version": "3.8.8"
  }
 },
 "nbformat": 4,
 "nbformat_minor": 5
}
