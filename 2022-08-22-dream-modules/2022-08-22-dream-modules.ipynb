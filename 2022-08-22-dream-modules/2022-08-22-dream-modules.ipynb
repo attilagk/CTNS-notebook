{
 "cells": [
  {
   "cell_type": "code",
   "execution_count": 1,
   "id": "242902a0",
   "metadata": {},
   "outputs": [
    {
     "name": "stdout",
     "output_type": "stream",
     "text": [
      "The autoreload extension is already loaded. To reload it, use:\n",
      "  %reload_ext autoreload\n",
      "GenRev not found, steiner wont work\n",
      "Import error: Negex. Using keyword matching instead\n",
      "Import error: Funcassociate. Make sure that funcassociate is in toolbox!\n"
     ]
    }
   ],
   "source": [
    "%load_ext autoreload\n",
    "%autoreload 2\n",
    "%reload_ext autoreload\n",
    "import pandas as pd\n",
    "#import numpy as np\n",
    "import matplotlib.pyplot as plt\n",
    "import repos_tools\n",
    "import attila_utils"
   ]
  },
  {
   "cell_type": "code",
   "execution_count": 2,
   "id": "7a9151d9",
   "metadata": {},
   "outputs": [],
   "source": [
    "hgn_fpath = '/Users/jonesa7/CTNS/resources/hgnc/hgnc_complete_set.txt'\n",
    "usecols = ['entrez_id', 'symbol']\n",
    "hgn = pd.read_csv(hgn_fpath, sep='\\t', usecols=usecols, index_col='symbol', dtype={'entrez_id': str})\n",
    "hgns = hgn.squeeze()"
   ]
  },
  {
   "cell_type": "code",
   "execution_count": 3,
   "id": "cb640c3f",
   "metadata": {},
   "outputs": [],
   "source": [
    "def symbol2entrezid_line(line, hgns):\n",
    "    lin = line.rstrip().split('\\t')\n",
    "    lout = lin[:2] + hgns.loc[lin[2:]].to_list()\n",
    "    sout = '\\t'.join(lout) + '\\n'\n",
    "    return(sout)"
   ]
  },
  {
   "cell_type": "code",
   "execution_count": 4,
   "id": "41a56a7b",
   "metadata": {},
   "outputs": [
    {
     "name": "stdout",
     "output_type": "stream",
     "text": [
      "{\n",
      "  \"shell_port\": 53932,\n",
      "  \"iopub_port\": 53933,\n",
      "  \"stdin_port\": 53934,\n",
      "  \"control_port\": 53936,\n",
      "  \"hb_port\": 53935,\n",
      "  \"ip\": \"127.0.0.1\",\n",
      "  \"key\": \"ecd474d9-d3d24261d724fdba1ecde842\",\n",
      "  \"transport\": \"tcp\",\n",
      "  \"signature_scheme\": \"hmac-sha256\",\n",
      "  \"kernel_name\": \"\"\n",
      "}\n",
      "\n",
      "Paste the above JSON into a file, and connect with:\n",
      "    $> jupyter <app> --existing <file>\n",
      "or, if you are local, you can connect with just:\n",
      "    $> jupyter <app> --existing kernel-b38bb719-4cb0-4c21-a2e0-ed0b25b1f1cf.json\n",
      "or even just:\n",
      "    $> jupyter <app> --existing\n",
      "if this is the most recent Jupyter kernel you have started.\n"
     ]
    }
   ],
   "source": [
    "%connect_info"
   ]
  },
  {
   "cell_type": "code",
   "execution_count": null,
   "id": "ca939e5d",
   "metadata": {},
   "outputs": [],
   "source": []
  }
 ],
 "metadata": {
  "kernelspec": {
   "display_name": "Python 3",
   "language": "python",
   "name": "python3"
  },
  "language_info": {
   "codemirror_mode": {
    "name": "ipython",
    "version": 3
   },
   "file_extension": ".py",
   "mimetype": "text/x-python",
   "name": "python",
   "nbconvert_exporter": "python",
   "pygments_lexer": "ipython3",
   "version": "3.8.8"
  }
 },
 "nbformat": 4,
 "nbformat_minor": 5
}
