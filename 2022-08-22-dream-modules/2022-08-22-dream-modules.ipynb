{
 "cells": [
  {
   "cell_type": "code",
   "execution_count": 1,
   "id": "639fc6d8",
   "metadata": {},
   "outputs": [
    {
     "name": "stdout",
     "output_type": "stream",
     "text": [
      "The autoreload extension is already loaded. To reload it, use:\n",
      "  %reload_ext autoreload\n",
      "GenRev not found, steiner wont work\n",
      "Import error: Negex. Using keyword matching instead\n",
      "Import error: Funcassociate. Make sure that funcassociate is in toolbox!\n"
     ]
    }
   ],
   "source": [
    "%load_ext autoreload\n",
    "%autoreload 2\n",
    "%reload_ext autoreload\n",
    "import pandas as pd\n",
    "import matplotlib.pyplot as plt\n",
    "import repos_tools\n",
    "import os.path\n",
    "import attila_utils"
   ]
  },
  {
   "cell_type": "code",
   "execution_count": 2,
   "id": "43a6c96f",
   "metadata": {},
   "outputs": [],
   "source": [
    "hgn_fpath = '/Users/jonesa7/CTNS/resources/hgnc/hgnc_complete_set.txt'\n",
    "ingmt_fpath = '../../results/2022-08-22-dream-modules/dream_consensus_modules-PPI-STRING_Consensus.gmt'\n",
    "outgmt_fpath = '../../results/2022-08-22-dream-modules/dream_consensus_modules-PPI-STRING_Consensus-entrez_id.gmt'\n",
    "if not os.path.exists(outgmt_fpath):\n",
    "    repos_tools.symbol2entrez_gmt(ingmt_fpath, outgmt_fpath, hgn_fpath)"
   ]
  },
  {
   "cell_type": "raw",
   "id": "06148eaf",
   "metadata": {},
   "source": [
    "%%bash\n",
    "cd ../../results/2022-08-22-dream-modules\n",
    "PVALS=../../resources/GWAS/Bellenguez-2022/GCST90027158/harmonised/35379992-GCST90027158-MONDO_0004975-Build38-corrected.f.tsv.pval\n",
    "# run Pascal\n",
    "~/tools/PASCAL/Pascal --pval=$PVALS --runpathway=on --genesetfile=dream_consensus_modules-PPI-STRING_Consensus-entrez_id.gmt\n",
    "# check results\n",
    "head output/35379992-GCST90027158-MONDO_0004975-Build38-corrected.f.tsv.PathwaySet--dream_consensus_modules-PPI-STRING_Consensus-entrez_id--sum.txt"
   ]
  },
  {
   "cell_type": "code",
   "execution_count": 3,
   "id": "9aeacca1",
   "metadata": {},
   "outputs": [
    {
     "data": {
      "text/html": [
       "<div>\n",
       "<style scoped>\n",
       "    .dataframe tbody tr th:only-of-type {\n",
       "        vertical-align: middle;\n",
       "    }\n",
       "\n",
       "    .dataframe tbody tr th {\n",
       "        vertical-align: top;\n",
       "    }\n",
       "\n",
       "    .dataframe thead th {\n",
       "        text-align: right;\n",
       "    }\n",
       "</style>\n",
       "<table border=\"1\" class=\"dataframe\">\n",
       "  <thead>\n",
       "    <tr style=\"text-align: right;\">\n",
       "      <th></th>\n",
       "      <th>chi2Pvalue</th>\n",
       "      <th>empPvalue</th>\n",
       "      <th>Genes</th>\n",
       "    </tr>\n",
       "  </thead>\n",
       "  <tbody>\n",
       "    <tr>\n",
       "      <th>PPI-STRING_Consensus_mod272</th>\n",
       "      <td>0.000020</td>\n",
       "      <td>0.00074</td>\n",
       "      <td>[LAIR1, SLA, FCAR, FCGR3A, ITK, CD58, C7orf43,...</td>\n",
       "    </tr>\n",
       "    <tr>\n",
       "      <th>PPI-STRING_Consensus_mod248</th>\n",
       "      <td>0.000110</td>\n",
       "      <td>0.00094</td>\n",
       "      <td>[PIK3R1, SKAP2, SH3BP5, SHC4, PDGFB, DOK3, HCL...</td>\n",
       "    </tr>\n",
       "    <tr>\n",
       "      <th>PPI-STRING_Consensus_mod191</th>\n",
       "      <td>0.000894</td>\n",
       "      <td>0.00115</td>\n",
       "      <td>[AVPR1B, GNG2, GNAQ, APP, SPIN3, CPE, PLCB3, P...</td>\n",
       "    </tr>\n",
       "    <tr>\n",
       "      <th>PPI-STRING_Consensus_mod142</th>\n",
       "      <td>0.000907</td>\n",
       "      <td>0.00248</td>\n",
       "      <td>[HS3ST1, SDC1, B3GALT6, SDC3, SDC2, SLC35D2, H...</td>\n",
       "    </tr>\n",
       "    <tr>\n",
       "      <th>PPI-STRING_Consensus_mod328</th>\n",
       "      <td>0.001421</td>\n",
       "      <td>0.00302</td>\n",
       "      <td>[MCOLN2, TMPRSS9, KATNAL2, ABI3, NKIRAS2, GPR1...</td>\n",
       "    </tr>\n",
       "    <tr>\n",
       "      <th>...</th>\n",
       "      <td>...</td>\n",
       "      <td>...</td>\n",
       "      <td>...</td>\n",
       "    </tr>\n",
       "    <tr>\n",
       "      <th>PPI-STRING_Consensus_mod358</th>\n",
       "      <td>0.989155</td>\n",
       "      <td>0.98939</td>\n",
       "      <td>[CTIF, C1orf212, TSPAN31, SLC41A1, C8orf4, GPB...</td>\n",
       "    </tr>\n",
       "    <tr>\n",
       "      <th>PPI-STRING_Consensus_mod47</th>\n",
       "      <td>0.992947</td>\n",
       "      <td>0.99270</td>\n",
       "      <td>[SPHK1, SPHK2, CERS3, CERK, SGPP2, CERS4, SGMS...</td>\n",
       "    </tr>\n",
       "    <tr>\n",
       "      <th>PPI-STRING_Consensus_mod66</th>\n",
       "      <td>0.998098</td>\n",
       "      <td>0.99812</td>\n",
       "      <td>[ACACA, ACACB, SCP2D1, CPT1C, MS4A8B, HMGCL, A...</td>\n",
       "    </tr>\n",
       "    <tr>\n",
       "      <th>PPI-STRING_Consensus_mod9</th>\n",
       "      <td>0.998261</td>\n",
       "      <td>0.99844</td>\n",
       "      <td>[OR1D2, OR5A1, OR4K15, OR51Q1, OR5AK2, OR5H15,...</td>\n",
       "    </tr>\n",
       "    <tr>\n",
       "      <th>PPI-STRING_Consensus_mod77</th>\n",
       "      <td>NaN</td>\n",
       "      <td>NaN</td>\n",
       "      <td>[HIST2H2BE, HIST1H2AG, HIST1H2AB, HIST1H2AD, H...</td>\n",
       "    </tr>\n",
       "  </tbody>\n",
       "</table>\n",
       "<p>377 rows × 3 columns</p>\n",
       "</div>"
      ],
      "text/plain": [
       "                             chi2Pvalue  empPvalue  \\\n",
       "PPI-STRING_Consensus_mod272    0.000020    0.00074   \n",
       "PPI-STRING_Consensus_mod248    0.000110    0.00094   \n",
       "PPI-STRING_Consensus_mod191    0.000894    0.00115   \n",
       "PPI-STRING_Consensus_mod142    0.000907    0.00248   \n",
       "PPI-STRING_Consensus_mod328    0.001421    0.00302   \n",
       "...                                 ...        ...   \n",
       "PPI-STRING_Consensus_mod358    0.989155    0.98939   \n",
       "PPI-STRING_Consensus_mod47     0.992947    0.99270   \n",
       "PPI-STRING_Consensus_mod66     0.998098    0.99812   \n",
       "PPI-STRING_Consensus_mod9      0.998261    0.99844   \n",
       "PPI-STRING_Consensus_mod77          NaN        NaN   \n",
       "\n",
       "                                                                         Genes  \n",
       "PPI-STRING_Consensus_mod272  [LAIR1, SLA, FCAR, FCGR3A, ITK, CD58, C7orf43,...  \n",
       "PPI-STRING_Consensus_mod248  [PIK3R1, SKAP2, SH3BP5, SHC4, PDGFB, DOK3, HCL...  \n",
       "PPI-STRING_Consensus_mod191  [AVPR1B, GNG2, GNAQ, APP, SPIN3, CPE, PLCB3, P...  \n",
       "PPI-STRING_Consensus_mod142  [HS3ST1, SDC1, B3GALT6, SDC3, SDC2, SLC35D2, H...  \n",
       "PPI-STRING_Consensus_mod328  [MCOLN2, TMPRSS9, KATNAL2, ABI3, NKIRAS2, GPR1...  \n",
       "...                                                                        ...  \n",
       "PPI-STRING_Consensus_mod358  [CTIF, C1orf212, TSPAN31, SLC41A1, C8orf4, GPB...  \n",
       "PPI-STRING_Consensus_mod47   [SPHK1, SPHK2, CERS3, CERK, SGPP2, CERS4, SGMS...  \n",
       "PPI-STRING_Consensus_mod66   [ACACA, ACACB, SCP2D1, CPT1C, MS4A8B, HMGCL, A...  \n",
       "PPI-STRING_Consensus_mod9    [OR1D2, OR5A1, OR4K15, OR51Q1, OR5AK2, OR5H15,...  \n",
       "PPI-STRING_Consensus_mod77   [HIST2H2BE, HIST1H2AG, HIST1H2AB, HIST1H2AD, H...  \n",
       "\n",
       "[377 rows x 3 columns]"
      ]
     },
     "execution_count": 3,
     "metadata": {},
     "output_type": "execute_result"
    }
   ],
   "source": [
    "enrichment_fpath = '../../results/2022-08-22-dream-modules/output/35379992-GCST90027158-MONDO_0004975-Build38-corrected.f.tsv.PathwaySet--dream_consensus_modules-PPI-STRING_Consensus-entrez_id--sum.txt'\n",
    "enrichment = pd.read_csv(enrichment_fpath, sep='\\t', index_col='Name')\n",
    "\n",
    "# read gene sets\n",
    "with open(ingmt_fpath) as f:\n",
    "    D = dict()\n",
    "    for line in f:\n",
    "        lin = line.rstrip().split('\\t')\n",
    "        d = {lin[0]: lin[2:]}\n",
    "        D.update(d)\n",
    "gsets = pd.DataFrame(pd.Series(D), columns=['Genes'])\n",
    "\n",
    "# join enrichment and gene sets\n",
    "enrichment = pd.concat([enrichment, gsets], axis=1)\n",
    "enrichment"
   ]
  },
  {
   "cell_type": "code",
   "execution_count": 4,
   "id": "31ef993a",
   "metadata": {},
   "outputs": [],
   "source": [
    "enrichment_pretty = enrichment.copy()\n",
    "enrichment_pretty['Genes'] = enrichment_pretty.Genes.apply(lambda l: ' '.join(l))\n",
    "enrichment_pretty.to_csv('../../results/2022-08-22-dream-modules/enrichment.csv')"
   ]
  },
  {
   "cell_type": "code",
   "execution_count": 5,
   "id": "d135b4ac",
   "metadata": {},
   "outputs": [
    {
     "name": "stdout",
     "output_type": "stream",
     "text": [
      "{\n",
      "  \"shell_port\": 53932,\n",
      "  \"iopub_port\": 53933,\n",
      "  \"stdin_port\": 53934,\n",
      "  \"control_port\": 53936,\n",
      "  \"hb_port\": 53935,\n",
      "  \"ip\": \"127.0.0.1\",\n",
      "  \"key\": \"ecd474d9-d3d24261d724fdba1ecde842\",\n",
      "  \"transport\": \"tcp\",\n",
      "  \"signature_scheme\": \"hmac-sha256\",\n",
      "  \"kernel_name\": \"\"\n",
      "}\n",
      "\n",
      "Paste the above JSON into a file, and connect with:\n",
      "    $> jupyter <app> --existing <file>\n",
      "or, if you are local, you can connect with just:\n",
      "    $> jupyter <app> --existing kernel-b38bb719-4cb0-4c21-a2e0-ed0b25b1f1cf.json\n",
      "or even just:\n",
      "    $> jupyter <app> --existing\n",
      "if this is the most recent Jupyter kernel you have started.\n"
     ]
    }
   ],
   "source": [
    "%connect_info"
   ]
  },
  {
   "cell_type": "code",
   "execution_count": null,
   "id": "af9f7195",
   "metadata": {},
   "outputs": [],
   "source": []
  }
 ],
 "metadata": {
  "kernelspec": {
   "display_name": "Python 3",
   "language": "python",
   "name": "python3"
  },
  "language_info": {
   "codemirror_mode": {
    "name": "ipython",
    "version": 3
   },
   "file_extension": ".py",
   "mimetype": "text/x-python",
   "name": "python",
   "nbconvert_exporter": "python",
   "pygments_lexer": "ipython3",
   "version": "3.8.8"
  }
 },
 "nbformat": 4,
 "nbformat_minor": 5
}
