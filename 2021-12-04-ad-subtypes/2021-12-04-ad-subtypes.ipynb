{
 "cells": [
  {
   "cell_type": "code",
   "execution_count": 1,
   "id": "be1ccd5b",
   "metadata": {},
   "outputs": [
    {
     "name": "stdout",
     "output_type": "stream",
     "text": [
      "The autoreload extension is already loaded. To reload it, use:\n",
      "  %reload_ext autoreload\n"
     ]
    }
   ],
   "source": [
    "%load_ext autoreload\n",
    "%autoreload 2\n",
    "%reload_ext autoreload\n",
    "import pandas as pd\n",
    "import numpy as np\n",
    "import matplotlib.pyplot as plt\n",
    "import attila_utils"
   ]
  },
  {
   "cell_type": "code",
   "execution_count": 20,
   "id": "a7f96361",
   "metadata": {},
   "outputs": [
    {
     "data": {
      "text/html": [
       "<div>\n",
       "<style scoped>\n",
       "    .dataframe tbody tr th:only-of-type {\n",
       "        vertical-align: middle;\n",
       "    }\n",
       "\n",
       "    .dataframe tbody tr th {\n",
       "        vertical-align: top;\n",
       "    }\n",
       "\n",
       "    .dataframe thead th {\n",
       "        text-align: right;\n",
       "    }\n",
       "</style>\n",
       "<table border=\"1\" class=\"dataframe\">\n",
       "  <thead>\n",
       "    <tr style=\"text-align: right;\">\n",
       "      <th></th>\n",
       "      <th>AD_Subtype</th>\n",
       "      <th>Direction</th>\n",
       "      <th>Gene_symbol</th>\n",
       "      <th>Pvalue_corrected_ACAT_MEGENA_BN</th>\n",
       "      <th>Subtype</th>\n",
       "    </tr>\n",
       "  </thead>\n",
       "  <tbody>\n",
       "    <tr>\n",
       "      <th>0</th>\n",
       "      <td>blue</td>\n",
       "      <td>up</td>\n",
       "      <td>PRRC2A</td>\n",
       "      <td>1.224000e-181</td>\n",
       "      <td>B2</td>\n",
       "    </tr>\n",
       "    <tr>\n",
       "      <th>1</th>\n",
       "      <td>blue</td>\n",
       "      <td>up</td>\n",
       "      <td>DMWD</td>\n",
       "      <td>1.230000e-141</td>\n",
       "      <td>B2</td>\n",
       "    </tr>\n",
       "    <tr>\n",
       "      <th>2</th>\n",
       "      <td>blue</td>\n",
       "      <td>up</td>\n",
       "      <td>CEP170B</td>\n",
       "      <td>5.820000e-124</td>\n",
       "      <td>B2</td>\n",
       "    </tr>\n",
       "    <tr>\n",
       "      <th>3</th>\n",
       "      <td>turquoise</td>\n",
       "      <td>dn</td>\n",
       "      <td>SYT1</td>\n",
       "      <td>3.294336e-118</td>\n",
       "      <td>C1</td>\n",
       "    </tr>\n",
       "    <tr>\n",
       "      <th>4</th>\n",
       "      <td>orange</td>\n",
       "      <td>dn</td>\n",
       "      <td>SCN2A</td>\n",
       "      <td>8.140000e-116</td>\n",
       "      <td>C2</td>\n",
       "    </tr>\n",
       "    <tr>\n",
       "      <th>...</th>\n",
       "      <td>...</td>\n",
       "      <td>...</td>\n",
       "      <td>...</td>\n",
       "      <td>...</td>\n",
       "      <td>...</td>\n",
       "    </tr>\n",
       "    <tr>\n",
       "      <th>569</th>\n",
       "      <td>turquoise</td>\n",
       "      <td>up</td>\n",
       "      <td>GRAMD3</td>\n",
       "      <td>2.186361e-03</td>\n",
       "      <td>C1</td>\n",
       "    </tr>\n",
       "    <tr>\n",
       "      <th>570</th>\n",
       "      <td>orange</td>\n",
       "      <td>up</td>\n",
       "      <td>COL1A2</td>\n",
       "      <td>2.900968e-03</td>\n",
       "      <td>C2</td>\n",
       "    </tr>\n",
       "    <tr>\n",
       "      <th>571</th>\n",
       "      <td>yellow</td>\n",
       "      <td>up</td>\n",
       "      <td>CLSTN3</td>\n",
       "      <td>4.748002e-03</td>\n",
       "      <td>A</td>\n",
       "    </tr>\n",
       "    <tr>\n",
       "      <th>572</th>\n",
       "      <td>blue</td>\n",
       "      <td>up</td>\n",
       "      <td>SPPL2B</td>\n",
       "      <td>4.969121e-03</td>\n",
       "      <td>B2</td>\n",
       "    </tr>\n",
       "    <tr>\n",
       "      <th>573</th>\n",
       "      <td>turquoise</td>\n",
       "      <td>dn</td>\n",
       "      <td>LINC00966</td>\n",
       "      <td>4.986405e-03</td>\n",
       "      <td>C1</td>\n",
       "    </tr>\n",
       "  </tbody>\n",
       "</table>\n",
       "<p>574 rows × 5 columns</p>\n",
       "</div>"
      ],
      "text/plain": [
       "    AD_Subtype Direction Gene_symbol  Pvalue_corrected_ACAT_MEGENA_BN Subtype\n",
       "0         blue        up      PRRC2A                    1.224000e-181      B2\n",
       "1         blue        up        DMWD                    1.230000e-141      B2\n",
       "2         blue        up     CEP170B                    5.820000e-124      B2\n",
       "3    turquoise        dn        SYT1                    3.294336e-118      C1\n",
       "4       orange        dn       SCN2A                    8.140000e-116      C2\n",
       "..         ...       ...         ...                              ...     ...\n",
       "569  turquoise        up      GRAMD3                     2.186361e-03      C1\n",
       "570     orange        up      COL1A2                     2.900968e-03      C2\n",
       "571     yellow        up      CLSTN3                     4.748002e-03       A\n",
       "572       blue        up      SPPL2B                     4.969121e-03      B2\n",
       "573  turquoise        dn   LINC00966                     4.986405e-03      C1\n",
       "\n",
       "[574 rows x 5 columns]"
      ]
     },
     "execution_count": 20,
     "metadata": {},
     "output_type": "execute_result"
    }
   ],
   "source": [
    "subtype_map = {'yellow': 'A', 'red': 'B1', 'blue': 'B2', 'turquoise': 'C1', 'orange': 'C2'}\n",
    "fpath = '../../resources/AD-subtypes-bin-zhang/abb5398_Data_file_S1.xlsx'\n",
    "subtypes = pd.read_excel(fpath, sheet_name='Overlap_MEGENA_BN', skiprows=1, usecols=range(4), dtype={'AD_Subtype': 'category', 'Direction': 'category'})\n",
    "subtypes['Subtype'] = pd.Series([subtype_map[x] for x in subtypes.AD_Subtype], dtype='category')\n",
    "subtypes"
   ]
  },
  {
   "cell_type": "code",
   "execution_count": 32,
   "id": "69837eb4",
   "metadata": {},
   "outputs": [
    {
     "name": "stdout",
     "output_type": "stream",
     "text": [
      "A 63 genes\n",
      "B1 41 genes\n",
      "B2 147 genes\n",
      "C1 165 genes\n",
      "C2 158 genes\n"
     ]
    }
   ],
   "source": [
    "fpath = '../../results/2021-12-04-ad-subtypes/AD-genes-subtype-'\n",
    "for stype in subtypes.Subtype.cat.categories:\n",
    "    de = subtypes.loc[subtypes.Subtype == stype, :]\n",
    "    print(stype, len(de), 'genes')\n",
    "    up = de.loc[subtypes.Direction == 'up', :]\n",
    "    down = de.loc[subtypes.Direction == 'dn', :]\n",
    "    d = {'de': de, 'up': up, 'down': down}\n",
    "    [v.Gene_symbol.to_csv(fpath + stype + '-' + k, index=False, header=False) for k, v in d.items()]"
   ]
  },
  {
   "cell_type": "code",
   "execution_count": 2,
   "id": "e738e7e7",
   "metadata": {},
   "outputs": [
    {
     "name": "stdout",
     "output_type": "stream",
     "text": [
      "{\n",
      "  \"shell_port\": 51439,\n",
      "  \"iopub_port\": 51440,\n",
      "  \"stdin_port\": 51441,\n",
      "  \"control_port\": 51443,\n",
      "  \"hb_port\": 51442,\n",
      "  \"ip\": \"127.0.0.1\",\n",
      "  \"key\": \"76c82a61-882fe8d48818e3e1752cd733\",\n",
      "  \"transport\": \"tcp\",\n",
      "  \"signature_scheme\": \"hmac-sha256\",\n",
      "  \"kernel_name\": \"\"\n",
      "}\n",
      "\n",
      "Paste the above JSON into a file, and connect with:\n",
      "    $> jupyter <app> --existing <file>\n",
      "or, if you are local, you can connect with just:\n",
      "    $> jupyter <app> --existing kernel-74793bf4-4d30-4342-bbee-9397ff5f48d8.json\n",
      "or even just:\n",
      "    $> jupyter <app> --existing\n",
      "if this is the most recent Jupyter kernel you have started.\n"
     ]
    }
   ],
   "source": [
    "%connect_info"
   ]
  },
  {
   "cell_type": "code",
   "execution_count": null,
   "id": "e7319011",
   "metadata": {},
   "outputs": [],
   "source": []
  }
 ],
 "metadata": {
  "kernelspec": {
   "display_name": "Python 3",
   "language": "python",
   "name": "python3"
  },
  "language_info": {
   "codemirror_mode": {
    "name": "ipython",
    "version": 3
   },
   "file_extension": ".py",
   "mimetype": "text/x-python",
   "name": "python",
   "nbconvert_exporter": "python",
   "pygments_lexer": "ipython3",
   "version": "3.8.8"
  }
 },
 "nbformat": 4,
 "nbformat_minor": 5
}
