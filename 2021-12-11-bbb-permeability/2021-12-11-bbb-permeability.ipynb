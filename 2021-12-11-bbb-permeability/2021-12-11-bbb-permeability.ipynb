{
 "cells": [
  {
   "cell_type": "code",
   "execution_count": 1,
   "id": "cd262ad6",
   "metadata": {},
   "outputs": [
    {
     "name": "stdout",
     "output_type": "stream",
     "text": [
      "The autoreload extension is already loaded. To reload it, use:\n",
      "  %reload_ext autoreload\n"
     ]
    }
   ],
   "source": [
    "%load_ext autoreload\n",
    "%autoreload 2\n",
    "%reload_ext autoreload\n",
    "import pandas as pd\n",
    "import numpy as np\n",
    "import matplotlib.pyplot as plt\n",
    "import attila_utils"
   ]
  },
  {
   "cell_type": "code",
   "execution_count": 2,
   "id": "4418b002",
   "metadata": {},
   "outputs": [],
   "source": [
    "fpath = '../../resources/B3DB/B3DB_classification.tsv'\n",
    "dtypes = {'compound_name': 'str', 'IUPAC_name': 'str', 'SMILES': 'str', 'CID': np.float64, 'logBB': np.float64,\n",
    "         'BBB+/BBB-': 'category', 'Inchi': 'str', 'group': 'category'}\n",
    "b3db = pd.read_csv(fpath, sep='\\t', usecols=dtypes.keys(), dtype=dtypes)"
   ]
  },
  {
   "cell_type": "markdown",
   "id": "f16e3119",
   "metadata": {},
   "source": [
    "### Madhav's query 1."
   ]
  },
  {
   "cell_type": "code",
   "execution_count": 3,
   "id": "06ed7554",
   "metadata": {},
   "outputs": [
    {
     "data": {
      "text/html": [
       "<div>\n",
       "<style scoped>\n",
       "    .dataframe tbody tr th:only-of-type {\n",
       "        vertical-align: middle;\n",
       "    }\n",
       "\n",
       "    .dataframe tbody tr th {\n",
       "        vertical-align: top;\n",
       "    }\n",
       "\n",
       "    .dataframe thead th {\n",
       "        text-align: right;\n",
       "    }\n",
       "</style>\n",
       "<table border=\"1\" class=\"dataframe\">\n",
       "  <thead>\n",
       "    <tr style=\"text-align: right;\">\n",
       "      <th></th>\n",
       "      <th>compound_name</th>\n",
       "      <th>IUPAC_name</th>\n",
       "      <th>logBB</th>\n",
       "      <th>BBB+/BBB-</th>\n",
       "      <th>Inchi</th>\n",
       "      <th>group</th>\n",
       "    </tr>\n",
       "  </thead>\n",
       "  <tbody>\n",
       "    <tr>\n",
       "      <th>2354</th>\n",
       "      <td>triamterene</td>\n",
       "      <td>6-phenylpteridine-2,4,7-triamine</td>\n",
       "      <td>NaN</td>\n",
       "      <td>BBB-</td>\n",
       "      <td>InChI=1S/C12H11N7/c13-9-7(6-4-2-1-3-5-6)16-8-1...</td>\n",
       "      <td>B</td>\n",
       "    </tr>\n",
       "    <tr>\n",
       "      <th>3887</th>\n",
       "      <td>triamterene</td>\n",
       "      <td>(2s)-2-(4-methylphenyl)sulfanyl-n-[(1s)-1-(4-m...</td>\n",
       "      <td>NaN</td>\n",
       "      <td>BBB-</td>\n",
       "      <td>InChI=1S/C20H25NO3S2/c1-5-19(16-8-12-18(13-9-1...</td>\n",
       "      <td>B</td>\n",
       "    </tr>\n",
       "    <tr>\n",
       "      <th>3966</th>\n",
       "      <td>hydrochlorothiazide</td>\n",
       "      <td>2-[[(s)-(3-fluoro-4-methoxyphenyl)-(3-hydroxyc...</td>\n",
       "      <td>NaN</td>\n",
       "      <td>BBB-</td>\n",
       "      <td>InChI=1S/C18H20FN3O3/c1-25-15-5-4-10(9-14(15)1...</td>\n",
       "      <td>B</td>\n",
       "    </tr>\n",
       "    <tr>\n",
       "      <th>4247</th>\n",
       "      <td>amiloride</td>\n",
       "      <td>6-[(2-amino-2-phenylacetyl)amino]-3,3-dimethyl...</td>\n",
       "      <td>NaN</td>\n",
       "      <td>BBB-</td>\n",
       "      <td>InChI=1S/C16H19N3O4S/c1-16(2)11(15(22)23)19-13...</td>\n",
       "      <td>B</td>\n",
       "    </tr>\n",
       "    <tr>\n",
       "      <th>4575</th>\n",
       "      <td>hydrochlorothiazide</td>\n",
       "      <td>9-acetyl-7-(4-amino-5-hydroxy-6-methyloxan-2-y...</td>\n",
       "      <td>NaN</td>\n",
       "      <td>BBB-</td>\n",
       "      <td>InChI=1S/C27H29NO10/c1-10-22(30)14(28)7-17(37-...</td>\n",
       "      <td>B</td>\n",
       "    </tr>\n",
       "    <tr>\n",
       "      <th>5729</th>\n",
       "      <td>hydroxychloroquine</td>\n",
       "      <td>2-[4-[(7-chloroquinolin-4-yl)amino]pentyl-ethy...</td>\n",
       "      <td>NaN</td>\n",
       "      <td>BBB-</td>\n",
       "      <td>InChI=1S/C18H26ClN3O/c1-3-22(11-12-23)10-4-5-1...</td>\n",
       "      <td>C</td>\n",
       "    </tr>\n",
       "  </tbody>\n",
       "</table>\n",
       "</div>"
      ],
      "text/plain": [
       "            compound_name                                         IUPAC_name  \\\n",
       "2354          triamterene                   6-phenylpteridine-2,4,7-triamine   \n",
       "3887          triamterene  (2s)-2-(4-methylphenyl)sulfanyl-n-[(1s)-1-(4-m...   \n",
       "3966  hydrochlorothiazide  2-[[(s)-(3-fluoro-4-methoxyphenyl)-(3-hydroxyc...   \n",
       "4247            amiloride  6-[(2-amino-2-phenylacetyl)amino]-3,3-dimethyl...   \n",
       "4575  hydrochlorothiazide  9-acetyl-7-(4-amino-5-hydroxy-6-methyloxan-2-y...   \n",
       "5729   hydroxychloroquine  2-[4-[(7-chloroquinolin-4-yl)amino]pentyl-ethy...   \n",
       "\n",
       "      logBB BBB+/BBB-                                              Inchi group  \n",
       "2354    NaN      BBB-  InChI=1S/C12H11N7/c13-9-7(6-4-2-1-3-5-6)16-8-1...     B  \n",
       "3887    NaN      BBB-  InChI=1S/C20H25NO3S2/c1-5-19(16-8-12-18(13-9-1...     B  \n",
       "3966    NaN      BBB-  InChI=1S/C18H20FN3O3/c1-25-15-5-4-10(9-14(15)1...     B  \n",
       "4247    NaN      BBB-  InChI=1S/C16H19N3O4S/c1-16(2)11(15(22)23)19-13...     B  \n",
       "4575    NaN      BBB-  InChI=1S/C27H29NO10/c1-10-22(30)14(28)7-17(37-...     B  \n",
       "5729    NaN      BBB-  InChI=1S/C18H26ClN3O/c1-3-22(11-12-23)10-4-5-1...     C  "
      ]
     },
     "execution_count": 3,
     "metadata": {},
     "output_type": "execute_result"
    }
   ],
   "source": [
    "query1 = ['hydroxychloroquine', 'amiloride', 'hydrochlorothiazide', 'triamterene']\n",
    "b3db.loc[b3db.compound_name.isin(query1)].drop(['CID', 'SMILES'], axis=1)"
   ]
  },
  {
   "cell_type": "code",
   "execution_count": 4,
   "id": "57477d54",
   "metadata": {},
   "outputs": [
    {
     "name": "stdout",
     "output_type": "stream",
     "text": [
      "{\n",
      "  \"shell_port\": 49645,\n",
      "  \"iopub_port\": 49646,\n",
      "  \"stdin_port\": 49647,\n",
      "  \"control_port\": 49649,\n",
      "  \"hb_port\": 49648,\n",
      "  \"ip\": \"127.0.0.1\",\n",
      "  \"key\": \"49cafc0e-2b59c803b34dcae1b7fc1676\",\n",
      "  \"transport\": \"tcp\",\n",
      "  \"signature_scheme\": \"hmac-sha256\",\n",
      "  \"kernel_name\": \"\"\n",
      "}\n",
      "\n",
      "Paste the above JSON into a file, and connect with:\n",
      "    $> jupyter <app> --existing <file>\n",
      "or, if you are local, you can connect with just:\n",
      "    $> jupyter <app> --existing kernel-91762b25-2771-436d-b6bb-422811fc8cbf.json\n",
      "or even just:\n",
      "    $> jupyter <app> --existing\n",
      "if this is the most recent Jupyter kernel you have started.\n"
     ]
    }
   ],
   "source": [
    "%connect_info"
   ]
  },
  {
   "cell_type": "code",
   "execution_count": null,
   "id": "fe4b8f1d",
   "metadata": {},
   "outputs": [],
   "source": []
  }
 ],
 "metadata": {
  "kernelspec": {
   "display_name": "Python 3",
   "language": "python",
   "name": "python3"
  },
  "language_info": {
   "codemirror_mode": {
    "name": "ipython",
    "version": 3
   },
   "file_extension": ".py",
   "mimetype": "text/x-python",
   "name": "python",
   "nbconvert_exporter": "python",
   "pygments_lexer": "ipython3",
   "version": "3.8.8"
  }
 },
 "nbformat": 4,
 "nbformat_minor": 5
}
