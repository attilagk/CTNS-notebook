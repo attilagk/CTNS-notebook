{
 "cells": [
  {
   "cell_type": "markdown",
   "id": "9e668fe6",
   "metadata": {},
   "source": [
    "## Arundine\n",
    "\n",
    "* Arundine, or 3,3-Diindolylmethane, is a natural compound formed in the stomach from its precursor Indol-3-carbinol in Brassicacea [Diindolylmethane (DIM) Information Resource Center, U Cali Berkeley](https://www.diindolylmethane-dim.com/), [Biersack 2020](https://www.cdrjournal.com/article/view/3692)\n",
    "* neuroprotective action and BBB-permeability:\n",
    "    * the MPTPp in-vivo mouse model of Parkinson's disease (para-phenyl–substituted diindolylmethane (C-DIM), [De Miranda et al 2013](https://jpet.aspetjournals.org/content/345/1/125), [De Miranda et al 2015](https://academic.oup.com/toxsci/article/143/2/360/1676838))\n",
    "    * oxidative stress induced apoptosis in hippocampal neuronal cells ([Lee et al 2020](https://www.ncbi.nlm.nih.gov/pmc/articles/PMC7023184/))\n",
    "    * primary hippocampal cell cultures exposed to ischemia ([Rzemieniec et al 2019](https://link.springer.com/article/10.1007/s10495-019-01522-2))\n",
    "* antiinflammatory in fibroblasts from rheumatoid arthritis patients ([Du et al 2019](https://www.frontiersin.org/articles/10.3389/fimmu.2019.01620/full))\n",
    "* targets in our drug-target network\n",
    "    * [RGS4](https://www.genecards.org/cgi-bin/carddisp.pl?gene=RGS4): Regulator Of G Protein Signaling 4. Inhibits signal transduction by increasing the GTPase activity of G protein alpha subunits thereby driving them into their inactive GDP-bound form.\n",
    "    * [GPR84](https://www.genecards.org/cgi-bin/carddisp.pl?gene=GPR84): G-Protein Coupled Receptor 84.  Receptor for medium-chain free fatty acid (FFA) with carbon chain lengths of C9 to C14. Capric acid (C10:0), undecanoic acid (C11:0) and lauric acid (C12:0) are the most potent agonists. Not activated by short-chain and long-chain saturated and unsaturated FFAs. Activation by medium-chain free fatty acid is coupled to a pertussis toxin sensitive G(i/o) protein pathway. May have important roles in processes from fatty acid metabolism to regulation of the immune system.\n",
    "* other targets\n",
    "    * [AHR](https://www.genecards.org/cgi-bin/carddisp.pl?gene=AHR): aryl hydrocarbon receptor: selective aryl hydrocarbon receptor modulator.  Ligand-activated transcription factor that enables cells to adapt to changing conditions by sensing compounds from the environment, diet, microbiome and cellular metabolism, and which plays important roles in development, immunity and cancer (PubMed:30373764, 23275542, 7961644, 32818467). ChEMBL evidence from mouse (Kd 90 nM) and human (missing activity data) studies\n",
    "* multiple suggested molecular mechanisms relevant to Alzheimer's disease\n",
    "    * AHR and histone deacylase dependent apoptosis and autophagy (neuroprotective effect [Rzemieniec et al 2019](https://link.springer.com/article/10.1007/s10495-019-01522-2))\n",
    "    * activates TrkB/Akt signal pathway and thus promotes BDNF and antioxidant enzyme formation (neuroprotective effect [Lee et al 2020](https://www.ncbi.nlm.nih.gov/pmc/articles/PMC7023184/))\n",
    "    * inhibits MAPK and AKT/mTOR pathway an prevents TNF-alfa induced proinflammatory factors ([Du et al 2019](https://www.frontiersin.org/articles/10.3389/fimmu.2019.01620/full))\n",
    "* clinical trials ([ChEMBL](https://www.ebi.ac.uk/chembl/compound_report_card/CHEMBL446452/))\n",
    "    * cervical cancer (phase 3)\n",
    "    * breast cancer (phase 2)\n",
    "    * prostate adenocarcinoma (phase 1)\n",
    "* other indications\n",
    "    * gastrointestinal cancer ([Kim 2016](https://www.mdpi.com/1422-0067/17/7/1155))"
   ]
  },
  {
   "cell_type": "code",
   "execution_count": 1,
   "id": "e9917b0d",
   "metadata": {},
   "outputs": [
    {
     "name": "stdout",
     "output_type": "stream",
     "text": [
      "The autoreload extension is already loaded. To reload it, use:\n",
      "  %reload_ext autoreload\n",
      "GenRev not found, steiner wont work\n",
      "Import error: Negex. Using keyword matching instead\n",
      "Import error: Funcassociate. Make sure that funcassociate is in toolbox!\n"
     ]
    }
   ],
   "source": [
    "%load_ext autoreload\n",
    "%autoreload 2\n",
    "%reload_ext autoreload\n",
    "from toolbox import wrappers\n",
    "from toolbox import network_utilities\n",
    "import pandas as pd\n",
    "import numpy as np\n",
    "import matplotlib.pyplot as plt\n",
    "import attila_utils\n",
    "import repos_tools"
   ]
  },
  {
   "cell_type": "raw",
   "id": "ae2b09f1",
   "metadata": {},
   "source": [
    "id_mapping_file = '../../resources/PPI/geneid_to_symbol.txt'\n",
    "id2symbol = pd.read_csv(id_mapping_file, sep='\\t', index_col='GeneID')\n",
    "id2symbol = id2symbol.set_index(id2symbol.index.astype('str'))\n",
    "id2symbol"
   ]
  },
  {
   "cell_type": "markdown",
   "id": "9f59cb18",
   "metadata": {},
   "source": [
    "Gene-gene network"
   ]
  },
  {
   "cell_type": "code",
   "execution_count": 2,
   "id": "d8c0d0ea",
   "metadata": {},
   "outputs": [],
   "source": [
    "network_cheng = wrappers.get_network('../../resources/PPI/Cheng2019/network.sif', only_lcc = True)\n",
    "ggn = network_cheng # gene-gene network"
   ]
  },
  {
   "cell_type": "markdown",
   "id": "18335f6b",
   "metadata": {},
   "source": [
    "ID converters from Entrez"
   ]
  },
  {
   "cell_type": "code",
   "execution_count": 3,
   "id": "da8ca15e",
   "metadata": {},
   "outputs": [],
   "source": [
    "fpath = '../../resources/hgnc/hgnc_complete_set.txt'\n",
    "hgnc = pd.read_csv(fpath, sep='\\t', usecols=['uniprot_ids', 'symbol', 'entrez_id'], dtype={'entrez_id': str}).dropna()\n",
    "uniprot2ids = hgnc.set_index('uniprot_ids')\n",
    "symbol2ids = hgnc.set_index('symbol')\n",
    "entrez2ids = hgnc.set_index('entrez_id')"
   ]
  },
  {
   "cell_type": "markdown",
   "id": "38ede682",
   "metadata": {},
   "source": [
    "Gene sets"
   ]
  },
  {
   "cell_type": "code",
   "execution_count": 4,
   "id": "e5bac986",
   "metadata": {},
   "outputs": [],
   "source": [
    "def convert_filter(l, x2ids=symbol2ids, remove_not_in_ggn=True):\n",
    "    val = [x2ids.loc[u, 'entrez_id'] for u in l if (not remove_not_in_ggn) or (x2ids.loc[u, 'entrez_id'] in ggn.nodes)]\n",
    "    return(val)\n"
   ]
  },
  {
   "cell_type": "code",
   "execution_count": 5,
   "id": "4452b70c",
   "metadata": {},
   "outputs": [],
   "source": [
    "fpath = '../../results/2021-12-02-proximity-various-ADgenesets/merged-proximity-chembl.xlsx'\n",
    "gsets = dict()\n",
    "gsets['knowledge'] = convert_filter(pd.read_excel(fpath, sheet_name='knowledge', header=None).iloc[:, 0].to_list(), remove_not_in_ggn=True)"
   ]
  },
  {
   "cell_type": "markdown",
   "id": "2c902352",
   "metadata": {},
   "source": [
    "Selected top drugs from network proximity based screen"
   ]
  },
  {
   "cell_type": "code",
   "execution_count": 6,
   "id": "3ece22b7",
   "metadata": {},
   "outputs": [],
   "source": [
    "sel_drugs = {'Arundine': 'CHEMBL446452',\n",
    "            'Chenodiol': 'CHEMBL240597',\n",
    "            'Cysteamine': 'CHEMBL602',\n",
    "            'Cysteamine hydrochloride': 'CHEMBL1256137'}"
   ]
  },
  {
   "cell_type": "markdown",
   "id": "98a8c4f9",
   "metadata": {},
   "source": [
    "Drug-target network.  Note that Q9NQS5/GPR84, a target of Arundine, is not in the gene-gene network."
   ]
  },
  {
   "cell_type": "code",
   "execution_count": 7,
   "id": "2983df71",
   "metadata": {},
   "outputs": [
    {
     "data": {
      "text/html": [
       "<div>\n",
       "<style scoped>\n",
       "    .dataframe tbody tr th:only-of-type {\n",
       "        vertical-align: middle;\n",
       "    }\n",
       "\n",
       "    .dataframe tbody tr th {\n",
       "        vertical-align: top;\n",
       "    }\n",
       "\n",
       "    .dataframe thead th {\n",
       "        text-align: right;\n",
       "    }\n",
       "</style>\n",
       "<table border=\"1\" class=\"dataframe\">\n",
       "  <thead>\n",
       "    <tr style=\"text-align: right;\">\n",
       "      <th></th>\n",
       "      <th>drug_chembl_id</th>\n",
       "      <th>uniprot_ac</th>\n",
       "      <th>symbol</th>\n",
       "      <th>entrez_id</th>\n",
       "      <th>symbol_ggn</th>\n",
       "      <th>entrez_id_ggn</th>\n",
       "    </tr>\n",
       "    <tr>\n",
       "      <th>drug_chembl_id</th>\n",
       "      <th></th>\n",
       "      <th></th>\n",
       "      <th></th>\n",
       "      <th></th>\n",
       "      <th></th>\n",
       "      <th></th>\n",
       "    </tr>\n",
       "  </thead>\n",
       "  <tbody>\n",
       "    <tr>\n",
       "      <th>Arundine</th>\n",
       "      <td>CHEMBL446452</td>\n",
       "      <td>[P49798, Q9NQS5]</td>\n",
       "      <td>[RGS4, GPR84]</td>\n",
       "      <td>[5999, 53831]</td>\n",
       "      <td>[RGS4]</td>\n",
       "      <td>[5999]</td>\n",
       "    </tr>\n",
       "    <tr>\n",
       "      <th>Chenodiol</th>\n",
       "      <td>CHEMBL240597</td>\n",
       "      <td>[P49798, Q12908]</td>\n",
       "      <td>[RGS4, SLC10A2]</td>\n",
       "      <td>[5999, 6555]</td>\n",
       "      <td>[RGS4, SLC10A2]</td>\n",
       "      <td>[5999, 6555]</td>\n",
       "    </tr>\n",
       "    <tr>\n",
       "      <th>Cysteamine</th>\n",
       "      <td>CHEMBL602</td>\n",
       "      <td>[P08684, P49798]</td>\n",
       "      <td>[CYP3A4, RGS4]</td>\n",
       "      <td>[1576, 5999]</td>\n",
       "      <td>[CYP3A4, RGS4]</td>\n",
       "      <td>[1576, 5999]</td>\n",
       "    </tr>\n",
       "    <tr>\n",
       "      <th>Cysteamine hydrochloride</th>\n",
       "      <td>CHEMBL1256137</td>\n",
       "      <td>[O75496, P02545, P53350, P54132, Q16236, Q9NUW8]</td>\n",
       "      <td>[GMNN, LMNA, PLK1, BLM, NFE2L2, TDP1]</td>\n",
       "      <td>[51053, 4000, 5347, 641, 4780, 55775]</td>\n",
       "      <td>[GMNN, LMNA, PLK1, BLM, NFE2L2, TDP1]</td>\n",
       "      <td>[51053, 4000, 5347, 641, 4780, 55775]</td>\n",
       "    </tr>\n",
       "  </tbody>\n",
       "</table>\n",
       "</div>"
      ],
      "text/plain": [
       "                         drug_chembl_id  \\\n",
       "drug_chembl_id                            \n",
       "Arundine                   CHEMBL446452   \n",
       "Chenodiol                  CHEMBL240597   \n",
       "Cysteamine                    CHEMBL602   \n",
       "Cysteamine hydrochloride  CHEMBL1256137   \n",
       "\n",
       "                                                                uniprot_ac  \\\n",
       "drug_chembl_id                                                               \n",
       "Arundine                                                  [P49798, Q9NQS5]   \n",
       "Chenodiol                                                 [P49798, Q12908]   \n",
       "Cysteamine                                                [P08684, P49798]   \n",
       "Cysteamine hydrochloride  [O75496, P02545, P53350, P54132, Q16236, Q9NUW8]   \n",
       "\n",
       "                                                         symbol  \\\n",
       "drug_chembl_id                                                    \n",
       "Arundine                                          [RGS4, GPR84]   \n",
       "Chenodiol                                       [RGS4, SLC10A2]   \n",
       "Cysteamine                                       [CYP3A4, RGS4]   \n",
       "Cysteamine hydrochloride  [GMNN, LMNA, PLK1, BLM, NFE2L2, TDP1]   \n",
       "\n",
       "                                                      entrez_id  \\\n",
       "drug_chembl_id                                                    \n",
       "Arundine                                          [5999, 53831]   \n",
       "Chenodiol                                          [5999, 6555]   \n",
       "Cysteamine                                         [1576, 5999]   \n",
       "Cysteamine hydrochloride  [51053, 4000, 5347, 641, 4780, 55775]   \n",
       "\n",
       "                                                     symbol_ggn  \\\n",
       "drug_chembl_id                                                    \n",
       "Arundine                                                 [RGS4]   \n",
       "Chenodiol                                       [RGS4, SLC10A2]   \n",
       "Cysteamine                                       [CYP3A4, RGS4]   \n",
       "Cysteamine hydrochloride  [GMNN, LMNA, PLK1, BLM, NFE2L2, TDP1]   \n",
       "\n",
       "                                                  entrez_id_ggn  \n",
       "drug_chembl_id                                                   \n",
       "Arundine                                                 [5999]  \n",
       "Chenodiol                                          [5999, 6555]  \n",
       "Cysteamine                                         [1576, 5999]  \n",
       "Cysteamine hydrochloride  [51053, 4000, 5347, 641, 4780, 55775]  "
      ]
     },
     "execution_count": 7,
     "metadata": {},
     "output_type": "execute_result"
    }
   ],
   "source": [
    "fpath = '../../results/2021-10-24-chembl-query/chembl-avg_p_activities-phase_3_4-avg_p_act_5plus.csv'\n",
    "dtn = pd.read_csv(fpath).groupby('drug_chembl_id').apply(lambda x: x.target_uniprot_ac.to_list())\n",
    "dtn_sel = dtn.loc[sel_drugs.values()].to_frame('uniprot_ac')\n",
    "dtn_sel = pd.concat([dtn_sel.index.to_frame(), dtn_sel], axis=1)\n",
    "dtn_sel = dtn_sel.rename({v: k for k, v in sel_drugs.items()}, axis=0)\n",
    "\n",
    "def add_id(ID='symbol', remove_not_in_ggn=False):\n",
    "#Translate uniprot_ac to ID type; possibly remove gene if not in gene-gene network\n",
    "    def helper(l):\n",
    "        val = [uniprot2ids.loc[u, ID] for u in l if (not remove_not_in_ggn) or (uniprot2ids.loc[u, 'entrez_id'] in ggn.nodes)]\n",
    "        return(val)\n",
    "    return(dtn_sel.uniprot_ac.apply(helper))\n",
    "\n",
    "dtn_sel['symbol'] = add_id('symbol', remove_not_in_ggn=False)\n",
    "dtn_sel['entrez_id'] = add_id('entrez_id', remove_not_in_ggn=False)\n",
    "dtn_sel['symbol_ggn'] = add_id('symbol', remove_not_in_ggn=True)\n",
    "dtn_sel['entrez_id_ggn'] = add_id('entrez_id', remove_not_in_ggn=True)\n",
    "dtn_sel"
   ]
  },
  {
   "cell_type": "markdown",
   "id": "9fd8b36d",
   "metadata": {},
   "source": [
    "## Results"
   ]
  },
  {
   "cell_type": "code",
   "execution_count": 8,
   "id": "ad35cd79",
   "metadata": {},
   "outputs": [
    {
     "data": {
      "text/plain": [
       "{'2': 3,\n",
       " '10347': 3,\n",
       " '102': 3,\n",
       " '325': 3,\n",
       " '348': 3,\n",
       " '351': 2,\n",
       " '1191': 3,\n",
       " '1471': 3,\n",
       " '1508': 3,\n",
       " '1509': 3,\n",
       " '1627': 2,\n",
       " '2931': 3,\n",
       " '2932': 3,\n",
       " '3339': 3,\n",
       " '3569': 3,\n",
       " '4137': 2,\n",
       " '4535': 4,\n",
       " '4536': 3,\n",
       " '5536': 2,\n",
       " '5663': 3,\n",
       " '5664': 3,\n",
       " '55103': 3,\n",
       " '12': 3,\n",
       " '6622': 2,\n",
       " '6653': 3,\n",
       " '54209': 4,\n",
       " '8633': 3}"
      ]
     },
     "execution_count": 8,
     "metadata": {},
     "output_type": "execute_result"
    }
   ],
   "source": [
    "target_id = dtn_sel.loc['Arundine', 'entrez_id_ggn'][0]\n",
    "{source_id: network_utilities.get_shortest_path_length_between(ggn, source_id, target_id) for source_id in gsets['knowledge']}"
   ]
  },
  {
   "cell_type": "code",
   "execution_count": 9,
   "id": "4b47f79d",
   "metadata": {},
   "outputs": [
    {
     "name": "stdout",
     "output_type": "stream",
     "text": [
      "{\n",
      "  \"shell_port\": 53587,\n",
      "  \"iopub_port\": 53588,\n",
      "  \"stdin_port\": 53589,\n",
      "  \"control_port\": 53591,\n",
      "  \"hb_port\": 53590,\n",
      "  \"ip\": \"127.0.0.1\",\n",
      "  \"key\": \"9ffca52b-c5ddd3abff32c2e421069224\",\n",
      "  \"transport\": \"tcp\",\n",
      "  \"signature_scheme\": \"hmac-sha256\",\n",
      "  \"kernel_name\": \"\"\n",
      "}\n",
      "\n",
      "Paste the above JSON into a file, and connect with:\n",
      "    $> jupyter <app> --existing <file>\n",
      "or, if you are local, you can connect with just:\n",
      "    $> jupyter <app> --existing kernel-d8b51d80-9632-4237-ab44-8ab5c17a6075.json\n",
      "or even just:\n",
      "    $> jupyter <app> --existing\n",
      "if this is the most recent Jupyter kernel you have started.\n"
     ]
    }
   ],
   "source": [
    "%connect_info"
   ]
  },
  {
   "cell_type": "code",
   "execution_count": null,
   "id": "8e91871a",
   "metadata": {},
   "outputs": [],
   "source": []
  }
 ],
 "metadata": {
  "kernelspec": {
   "display_name": "Python 3",
   "language": "python",
   "name": "python3"
  },
  "language_info": {
   "codemirror_mode": {
    "name": "ipython",
    "version": 3
   },
   "file_extension": ".py",
   "mimetype": "text/x-python",
   "name": "python",
   "nbconvert_exporter": "python",
   "pygments_lexer": "ipython3",
   "version": "3.8.8"
  }
 },
 "nbformat": 4,
 "nbformat_minor": 5
}
