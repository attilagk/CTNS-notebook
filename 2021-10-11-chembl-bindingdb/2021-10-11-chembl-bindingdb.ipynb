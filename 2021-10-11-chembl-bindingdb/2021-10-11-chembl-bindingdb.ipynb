{
 "cells": [
  {
   "cell_type": "code",
   "execution_count": 1,
   "id": "39125dc9",
   "metadata": {},
   "outputs": [],
   "source": [
    "%load_ext autoreload\n",
    "%autoreload 2\n",
    "%reload_ext autoreload\n",
    "import pandas as pd\n",
    "import numpy as np\n",
    "import re\n",
    "import matplotlib.pyplot as plt\n",
    "import attila_utils"
   ]
  },
  {
   "cell_type": "code",
   "execution_count": 2,
   "id": "cd511cb1",
   "metadata": {},
   "outputs": [
    {
     "data": {
      "text/html": [
       "<div>\n",
       "<style scoped>\n",
       "    .dataframe tbody tr th:only-of-type {\n",
       "        vertical-align: middle;\n",
       "    }\n",
       "\n",
       "    .dataframe tbody tr th {\n",
       "        vertical-align: top;\n",
       "    }\n",
       "\n",
       "    .dataframe thead th {\n",
       "        text-align: right;\n",
       "    }\n",
       "</style>\n",
       "<table border=\"1\" class=\"dataframe\">\n",
       "  <thead>\n",
       "    <tr style=\"text-align: right;\">\n",
       "      <th></th>\n",
       "      <th>BindingDB Reactant_set_id</th>\n",
       "      <th>Ligand SMILES</th>\n",
       "      <th>Ligand InChI</th>\n",
       "      <th>Ligand InChI Key</th>\n",
       "      <th>BindingDB MonomerID</th>\n",
       "      <th>BindingDB Ligand Name</th>\n",
       "      <th>Target Name Assigned by Curator or DataSource</th>\n",
       "      <th>Target Source Organism According to Curator or DataSource</th>\n",
       "      <th>Ki (nM)</th>\n",
       "      <th>IC50 (nM)</th>\n",
       "      <th>...</th>\n",
       "      <th>UniProt (SwissProt) Recommended Name of Target Chain</th>\n",
       "      <th>UniProt (SwissProt) Entry Name of Target Chain</th>\n",
       "      <th>UniProt (SwissProt) Primary ID of Target Chain</th>\n",
       "      <th>UniProt (SwissProt) Secondary ID(s) of Target Chain</th>\n",
       "      <th>UniProt (SwissProt) Alternative ID(s) of Target Chain</th>\n",
       "      <th>UniProt (TrEMBL) Submitted Name of Target Chain</th>\n",
       "      <th>UniProt (TrEMBL) Entry Name of Target Chain</th>\n",
       "      <th>UniProt (TrEMBL) Primary ID of Target Chain</th>\n",
       "      <th>UniProt (TrEMBL) Secondary ID(s) of Target Chain</th>\n",
       "      <th>UniProt (TrEMBL) Alternative ID(s) of Target Chain</th>\n",
       "    </tr>\n",
       "  </thead>\n",
       "  <tbody>\n",
       "    <tr>\n",
       "      <th>0</th>\n",
       "      <td>50748302</td>\n",
       "      <td>Cc1ccc(Sc2ccc(Sc3nnc[nH]3)nc2C(=O)Nc2ncns2)cn1</td>\n",
       "      <td>InChI=1S/C16H12N8OS3/c1-9-2-3-10(6-17-9)26-11-...</td>\n",
       "      <td>JADPOZIPXGRFTI-UHFFFAOYSA-N</td>\n",
       "      <td>50239050</td>\n",
       "      <td>CHEMBL4079100</td>\n",
       "      <td>Glucokinase/Glucokinase regulatory protein</td>\n",
       "      <td>Homo sapiens</td>\n",
       "      <td>NaN</td>\n",
       "      <td>NaN</td>\n",
       "      <td>...</td>\n",
       "      <td>Hexokinase-4</td>\n",
       "      <td>HXK4_HUMAN</td>\n",
       "      <td>P35557</td>\n",
       "      <td>A4D2J2,A4D2J3,Q05810</td>\n",
       "      <td>NaN</td>\n",
       "      <td>NaN</td>\n",
       "      <td>NaN</td>\n",
       "      <td>Q53Y25</td>\n",
       "      <td>NaN</td>\n",
       "      <td>NaN</td>\n",
       "    </tr>\n",
       "    <tr>\n",
       "      <th>1</th>\n",
       "      <td>50748303</td>\n",
       "      <td>COc1ccc(Sc2ccc(Sc3nncn3C)nc2C(=O)Nc2ncc(SCC(O)...</td>\n",
       "      <td>InChI=1S/C21H18N6O4S4/c1-27-11-23-26-21(27)34-...</td>\n",
       "      <td>MJHNYEFAOUYNSZ-UHFFFAOYSA-N</td>\n",
       "      <td>260374</td>\n",
       "      <td>US9527838, 2</td>\n",
       "      <td>Glucokinase/Glucokinase regulatory protein</td>\n",
       "      <td>Homo sapiens</td>\n",
       "      <td>NaN</td>\n",
       "      <td>NaN</td>\n",
       "      <td>...</td>\n",
       "      <td>Hexokinase-4</td>\n",
       "      <td>HXK4_HUMAN</td>\n",
       "      <td>P35557</td>\n",
       "      <td>A4D2J2,A4D2J3,Q05810</td>\n",
       "      <td>NaN</td>\n",
       "      <td>NaN</td>\n",
       "      <td>NaN</td>\n",
       "      <td>Q53Y25</td>\n",
       "      <td>NaN</td>\n",
       "      <td>NaN</td>\n",
       "    </tr>\n",
       "    <tr>\n",
       "      <th>2</th>\n",
       "      <td>50748304</td>\n",
       "      <td>COc1ccc(Sc2ccc(Sc3ccccn3)nc2C(=O)Nc2ncc(CCC(O)...</td>\n",
       "      <td>InChI=1S/C24H20N4O4S3/c1-32-15-5-7-16(8-6-15)3...</td>\n",
       "      <td>SZYQPCWDTBUONO-UHFFFAOYSA-N</td>\n",
       "      <td>260387</td>\n",
       "      <td>US9527838, 15</td>\n",
       "      <td>Glucokinase/Glucokinase regulatory protein</td>\n",
       "      <td>Homo sapiens</td>\n",
       "      <td>NaN</td>\n",
       "      <td>NaN</td>\n",
       "      <td>...</td>\n",
       "      <td>Hexokinase-4</td>\n",
       "      <td>HXK4_HUMAN</td>\n",
       "      <td>P35557</td>\n",
       "      <td>A4D2J2,A4D2J3,Q05810</td>\n",
       "      <td>NaN</td>\n",
       "      <td>NaN</td>\n",
       "      <td>NaN</td>\n",
       "      <td>Q53Y25</td>\n",
       "      <td>NaN</td>\n",
       "      <td>NaN</td>\n",
       "    </tr>\n",
       "    <tr>\n",
       "      <th>3</th>\n",
       "      <td>50748305</td>\n",
       "      <td>COc1ccc(Sc2ccc(Sc3ccccn3)nc2C(=O)Nc2nc(CC(O)=O...</td>\n",
       "      <td>InChI=1S/C23H18N4O4S3/c1-31-15-5-7-16(8-6-15)3...</td>\n",
       "      <td>XWVLMYWQBFKPTP-UHFFFAOYSA-N</td>\n",
       "      <td>260389</td>\n",
       "      <td>US9527838, 17</td>\n",
       "      <td>Glucokinase/Glucokinase regulatory protein</td>\n",
       "      <td>Homo sapiens</td>\n",
       "      <td>NaN</td>\n",
       "      <td>NaN</td>\n",
       "      <td>...</td>\n",
       "      <td>Hexokinase-4</td>\n",
       "      <td>HXK4_HUMAN</td>\n",
       "      <td>P35557</td>\n",
       "      <td>A4D2J2,A4D2J3,Q05810</td>\n",
       "      <td>NaN</td>\n",
       "      <td>NaN</td>\n",
       "      <td>NaN</td>\n",
       "      <td>Q53Y25</td>\n",
       "      <td>NaN</td>\n",
       "      <td>NaN</td>\n",
       "    </tr>\n",
       "    <tr>\n",
       "      <th>4</th>\n",
       "      <td>50748306</td>\n",
       "      <td>COc1ccc(Sc2ccc(Sc3ccccn3)nc2C(=O)Nc2nc(CC(O)=O...</td>\n",
       "      <td>InChI=1S/C23H17ClN4O4S3/c1-32-13-5-7-14(8-6-13...</td>\n",
       "      <td>LBGJOPLJDBUTRE-UHFFFAOYSA-N</td>\n",
       "      <td>260385</td>\n",
       "      <td>US9527838, 13</td>\n",
       "      <td>Glucokinase/Glucokinase regulatory protein</td>\n",
       "      <td>Homo sapiens</td>\n",
       "      <td>NaN</td>\n",
       "      <td>NaN</td>\n",
       "      <td>...</td>\n",
       "      <td>Hexokinase-4</td>\n",
       "      <td>HXK4_HUMAN</td>\n",
       "      <td>P35557</td>\n",
       "      <td>A4D2J2,A4D2J3,Q05810</td>\n",
       "      <td>NaN</td>\n",
       "      <td>NaN</td>\n",
       "      <td>NaN</td>\n",
       "      <td>Q53Y25</td>\n",
       "      <td>NaN</td>\n",
       "      <td>NaN</td>\n",
       "    </tr>\n",
       "    <tr>\n",
       "      <th>...</th>\n",
       "      <td>...</td>\n",
       "      <td>...</td>\n",
       "      <td>...</td>\n",
       "      <td>...</td>\n",
       "      <td>...</td>\n",
       "      <td>...</td>\n",
       "      <td>...</td>\n",
       "      <td>...</td>\n",
       "      <td>...</td>\n",
       "      <td>...</td>\n",
       "      <td>...</td>\n",
       "      <td>...</td>\n",
       "      <td>...</td>\n",
       "      <td>...</td>\n",
       "      <td>...</td>\n",
       "      <td>...</td>\n",
       "      <td>...</td>\n",
       "      <td>...</td>\n",
       "      <td>...</td>\n",
       "      <td>...</td>\n",
       "      <td>...</td>\n",
       "    </tr>\n",
       "    <tr>\n",
       "      <th>94</th>\n",
       "      <td>50748640</td>\n",
       "      <td>Cc1cc(OCCCn2ccc3ccc(OCc4ccccc4C(O)=O)cc23)cc(C...</td>\n",
       "      <td>InChI=1S/C27H26ClNO4/c1-18-14-23(15-19(2)26(18...</td>\n",
       "      <td>LXHWTNSLSUVRLQ-UHFFFAOYSA-N</td>\n",
       "      <td>50239084</td>\n",
       "      <td>CHEMBL4088240</td>\n",
       "      <td>Apoptosis regulator Bcl-2</td>\n",
       "      <td>NaN</td>\n",
       "      <td>1050.0</td>\n",
       "      <td>NaN</td>\n",
       "      <td>...</td>\n",
       "      <td>Apoptosis regulator Bcl-2</td>\n",
       "      <td>BCL2_HUMAN</td>\n",
       "      <td>P10415</td>\n",
       "      <td>C9JHD5,P10416,Q13842,Q16197</td>\n",
       "      <td>NaN</td>\n",
       "      <td>NaN</td>\n",
       "      <td>NaN</td>\n",
       "      <td>A0A024R2B3</td>\n",
       "      <td>NaN</td>\n",
       "      <td>NaN</td>\n",
       "    </tr>\n",
       "    <tr>\n",
       "      <th>95</th>\n",
       "      <td>50748641</td>\n",
       "      <td>Cc1cc(OCCCn2ccc3ccc(OCc4cccc(c4)C(O)=O)cc23)cc...</td>\n",
       "      <td>InChI=1S/C27H26ClNO4/c1-18-13-24(14-19(2)26(18...</td>\n",
       "      <td>WYAHBTJBOXJLSZ-UHFFFAOYSA-N</td>\n",
       "      <td>50239085</td>\n",
       "      <td>CHEMBL4094073</td>\n",
       "      <td>Apoptosis regulator Bcl-2</td>\n",
       "      <td>NaN</td>\n",
       "      <td>1190.0</td>\n",
       "      <td>NaN</td>\n",
       "      <td>...</td>\n",
       "      <td>Apoptosis regulator Bcl-2</td>\n",
       "      <td>BCL2_HUMAN</td>\n",
       "      <td>P10415</td>\n",
       "      <td>C9JHD5,P10416,Q13842,Q16197</td>\n",
       "      <td>NaN</td>\n",
       "      <td>NaN</td>\n",
       "      <td>NaN</td>\n",
       "      <td>A0A024R2B3</td>\n",
       "      <td>NaN</td>\n",
       "      <td>NaN</td>\n",
       "    </tr>\n",
       "    <tr>\n",
       "      <th>96</th>\n",
       "      <td>50748642</td>\n",
       "      <td>Cc1cc(OCCCn2ccc3cc(OCc4ccccc4C(O)=O)ccc23)cc(C...</td>\n",
       "      <td>InChI=1S/C27H26ClNO4/c1-18-14-23(15-19(2)26(18...</td>\n",
       "      <td>XNENLWGUIGBLAZ-UHFFFAOYSA-N</td>\n",
       "      <td>50239086</td>\n",
       "      <td>CHEMBL4105602</td>\n",
       "      <td>Apoptosis regulator Bcl-2</td>\n",
       "      <td>NaN</td>\n",
       "      <td>760.0</td>\n",
       "      <td>NaN</td>\n",
       "      <td>...</td>\n",
       "      <td>Apoptosis regulator Bcl-2</td>\n",
       "      <td>BCL2_HUMAN</td>\n",
       "      <td>P10415</td>\n",
       "      <td>C9JHD5,P10416,Q13842,Q16197</td>\n",
       "      <td>NaN</td>\n",
       "      <td>NaN</td>\n",
       "      <td>NaN</td>\n",
       "      <td>A0A024R2B3</td>\n",
       "      <td>NaN</td>\n",
       "      <td>NaN</td>\n",
       "    </tr>\n",
       "    <tr>\n",
       "      <th>97</th>\n",
       "      <td>50748649</td>\n",
       "      <td>CC(C)(C)c1ccc(OCCCn2ccc3cc(OCc4ccccc4C(O)=O)cc...</td>\n",
       "      <td>InChI=1S/C29H31NO4/c1-29(2,3)23-9-11-24(12-10-...</td>\n",
       "      <td>HBHKYDJZELTNAN-UHFFFAOYSA-N</td>\n",
       "      <td>50239081</td>\n",
       "      <td>CHEMBL4081347</td>\n",
       "      <td>Apoptosis regulator Bcl-2</td>\n",
       "      <td>NaN</td>\n",
       "      <td>170.0</td>\n",
       "      <td>NaN</td>\n",
       "      <td>...</td>\n",
       "      <td>Apoptosis regulator Bcl-2</td>\n",
       "      <td>BCL2_HUMAN</td>\n",
       "      <td>P10415</td>\n",
       "      <td>C9JHD5,P10416,Q13842,Q16197</td>\n",
       "      <td>NaN</td>\n",
       "      <td>NaN</td>\n",
       "      <td>NaN</td>\n",
       "      <td>A0A024R2B3</td>\n",
       "      <td>NaN</td>\n",
       "      <td>NaN</td>\n",
       "    </tr>\n",
       "    <tr>\n",
       "      <th>98</th>\n",
       "      <td>50748665</td>\n",
       "      <td>Cc1cc(OCCCn2ccc3cc(OCc4cccc(c4)C(O)=O)ccc23)cc...</td>\n",
       "      <td>InChI=1S/C27H26ClNO4/c1-18-13-24(14-19(2)26(18...</td>\n",
       "      <td>XQBCHYWCZPYLGN-UHFFFAOYSA-N</td>\n",
       "      <td>50239080</td>\n",
       "      <td>CHEMBL4097869</td>\n",
       "      <td>Apoptosis regulator Bcl-2</td>\n",
       "      <td>NaN</td>\n",
       "      <td>410.0</td>\n",
       "      <td>NaN</td>\n",
       "      <td>...</td>\n",
       "      <td>Apoptosis regulator Bcl-2</td>\n",
       "      <td>BCL2_HUMAN</td>\n",
       "      <td>P10415</td>\n",
       "      <td>C9JHD5,P10416,Q13842,Q16197</td>\n",
       "      <td>NaN</td>\n",
       "      <td>NaN</td>\n",
       "      <td>NaN</td>\n",
       "      <td>A0A024R2B3</td>\n",
       "      <td>NaN</td>\n",
       "      <td>NaN</td>\n",
       "    </tr>\n",
       "  </tbody>\n",
       "</table>\n",
       "<p>99 rows × 49 columns</p>\n",
       "</div>"
      ],
      "text/plain": [
       "    BindingDB Reactant_set_id  \\\n",
       "0                    50748302   \n",
       "1                    50748303   \n",
       "2                    50748304   \n",
       "3                    50748305   \n",
       "4                    50748306   \n",
       "..                        ...   \n",
       "94                   50748640   \n",
       "95                   50748641   \n",
       "96                   50748642   \n",
       "97                   50748649   \n",
       "98                   50748665   \n",
       "\n",
       "                                        Ligand SMILES  \\\n",
       "0      Cc1ccc(Sc2ccc(Sc3nnc[nH]3)nc2C(=O)Nc2ncns2)cn1   \n",
       "1   COc1ccc(Sc2ccc(Sc3nncn3C)nc2C(=O)Nc2ncc(SCC(O)...   \n",
       "2   COc1ccc(Sc2ccc(Sc3ccccn3)nc2C(=O)Nc2ncc(CCC(O)...   \n",
       "3   COc1ccc(Sc2ccc(Sc3ccccn3)nc2C(=O)Nc2nc(CC(O)=O...   \n",
       "4   COc1ccc(Sc2ccc(Sc3ccccn3)nc2C(=O)Nc2nc(CC(O)=O...   \n",
       "..                                                ...   \n",
       "94  Cc1cc(OCCCn2ccc3ccc(OCc4ccccc4C(O)=O)cc23)cc(C...   \n",
       "95  Cc1cc(OCCCn2ccc3ccc(OCc4cccc(c4)C(O)=O)cc23)cc...   \n",
       "96  Cc1cc(OCCCn2ccc3cc(OCc4ccccc4C(O)=O)ccc23)cc(C...   \n",
       "97  CC(C)(C)c1ccc(OCCCn2ccc3cc(OCc4ccccc4C(O)=O)cc...   \n",
       "98  Cc1cc(OCCCn2ccc3cc(OCc4cccc(c4)C(O)=O)ccc23)cc...   \n",
       "\n",
       "                                         Ligand InChI  \\\n",
       "0   InChI=1S/C16H12N8OS3/c1-9-2-3-10(6-17-9)26-11-...   \n",
       "1   InChI=1S/C21H18N6O4S4/c1-27-11-23-26-21(27)34-...   \n",
       "2   InChI=1S/C24H20N4O4S3/c1-32-15-5-7-16(8-6-15)3...   \n",
       "3   InChI=1S/C23H18N4O4S3/c1-31-15-5-7-16(8-6-15)3...   \n",
       "4   InChI=1S/C23H17ClN4O4S3/c1-32-13-5-7-14(8-6-13...   \n",
       "..                                                ...   \n",
       "94  InChI=1S/C27H26ClNO4/c1-18-14-23(15-19(2)26(18...   \n",
       "95  InChI=1S/C27H26ClNO4/c1-18-13-24(14-19(2)26(18...   \n",
       "96  InChI=1S/C27H26ClNO4/c1-18-14-23(15-19(2)26(18...   \n",
       "97  InChI=1S/C29H31NO4/c1-29(2,3)23-9-11-24(12-10-...   \n",
       "98  InChI=1S/C27H26ClNO4/c1-18-13-24(14-19(2)26(18...   \n",
       "\n",
       "               Ligand InChI Key  BindingDB MonomerID BindingDB Ligand Name  \\\n",
       "0   JADPOZIPXGRFTI-UHFFFAOYSA-N             50239050         CHEMBL4079100   \n",
       "1   MJHNYEFAOUYNSZ-UHFFFAOYSA-N               260374          US9527838, 2   \n",
       "2   SZYQPCWDTBUONO-UHFFFAOYSA-N               260387         US9527838, 15   \n",
       "3   XWVLMYWQBFKPTP-UHFFFAOYSA-N               260389         US9527838, 17   \n",
       "4   LBGJOPLJDBUTRE-UHFFFAOYSA-N               260385         US9527838, 13   \n",
       "..                          ...                  ...                   ...   \n",
       "94  LXHWTNSLSUVRLQ-UHFFFAOYSA-N             50239084         CHEMBL4088240   \n",
       "95  WYAHBTJBOXJLSZ-UHFFFAOYSA-N             50239085         CHEMBL4094073   \n",
       "96  XNENLWGUIGBLAZ-UHFFFAOYSA-N             50239086         CHEMBL4105602   \n",
       "97  HBHKYDJZELTNAN-UHFFFAOYSA-N             50239081         CHEMBL4081347   \n",
       "98  XQBCHYWCZPYLGN-UHFFFAOYSA-N             50239080         CHEMBL4097869   \n",
       "\n",
       "   Target Name Assigned by Curator or DataSource  \\\n",
       "0     Glucokinase/Glucokinase regulatory protein   \n",
       "1     Glucokinase/Glucokinase regulatory protein   \n",
       "2     Glucokinase/Glucokinase regulatory protein   \n",
       "3     Glucokinase/Glucokinase regulatory protein   \n",
       "4     Glucokinase/Glucokinase regulatory protein   \n",
       "..                                           ...   \n",
       "94                     Apoptosis regulator Bcl-2   \n",
       "95                     Apoptosis regulator Bcl-2   \n",
       "96                     Apoptosis regulator Bcl-2   \n",
       "97                     Apoptosis regulator Bcl-2   \n",
       "98                     Apoptosis regulator Bcl-2   \n",
       "\n",
       "   Target Source Organism According to Curator or DataSource  Ki (nM)  \\\n",
       "0                                        Homo sapiens             NaN   \n",
       "1                                        Homo sapiens             NaN   \n",
       "2                                        Homo sapiens             NaN   \n",
       "3                                        Homo sapiens             NaN   \n",
       "4                                        Homo sapiens             NaN   \n",
       "..                                                ...             ...   \n",
       "94                                                NaN          1050.0   \n",
       "95                                                NaN          1190.0   \n",
       "96                                                NaN           760.0   \n",
       "97                                                NaN           170.0   \n",
       "98                                                NaN           410.0   \n",
       "\n",
       "   IC50 (nM)  ...  UniProt (SwissProt) Recommended Name of Target Chain  \\\n",
       "0        NaN  ...                                       Hexokinase-4      \n",
       "1        NaN  ...                                       Hexokinase-4      \n",
       "2        NaN  ...                                       Hexokinase-4      \n",
       "3        NaN  ...                                       Hexokinase-4      \n",
       "4        NaN  ...                                       Hexokinase-4      \n",
       "..       ...  ...                                                ...      \n",
       "94       NaN  ...                          Apoptosis regulator Bcl-2      \n",
       "95       NaN  ...                          Apoptosis regulator Bcl-2      \n",
       "96       NaN  ...                          Apoptosis regulator Bcl-2      \n",
       "97       NaN  ...                          Apoptosis regulator Bcl-2      \n",
       "98       NaN  ...                          Apoptosis regulator Bcl-2      \n",
       "\n",
       "    UniProt (SwissProt) Entry Name of Target Chain  \\\n",
       "0                                       HXK4_HUMAN   \n",
       "1                                       HXK4_HUMAN   \n",
       "2                                       HXK4_HUMAN   \n",
       "3                                       HXK4_HUMAN   \n",
       "4                                       HXK4_HUMAN   \n",
       "..                                             ...   \n",
       "94                                      BCL2_HUMAN   \n",
       "95                                      BCL2_HUMAN   \n",
       "96                                      BCL2_HUMAN   \n",
       "97                                      BCL2_HUMAN   \n",
       "98                                      BCL2_HUMAN   \n",
       "\n",
       "    UniProt (SwissProt) Primary ID of Target Chain  \\\n",
       "0                                           P35557   \n",
       "1                                           P35557   \n",
       "2                                           P35557   \n",
       "3                                           P35557   \n",
       "4                                           P35557   \n",
       "..                                             ...   \n",
       "94                                          P10415   \n",
       "95                                          P10415   \n",
       "96                                          P10415   \n",
       "97                                          P10415   \n",
       "98                                          P10415   \n",
       "\n",
       "    UniProt (SwissProt) Secondary ID(s) of Target Chain  \\\n",
       "0                                A4D2J2,A4D2J3,Q05810     \n",
       "1                                A4D2J2,A4D2J3,Q05810     \n",
       "2                                A4D2J2,A4D2J3,Q05810     \n",
       "3                                A4D2J2,A4D2J3,Q05810     \n",
       "4                                A4D2J2,A4D2J3,Q05810     \n",
       "..                                                ...     \n",
       "94                        C9JHD5,P10416,Q13842,Q16197     \n",
       "95                        C9JHD5,P10416,Q13842,Q16197     \n",
       "96                        C9JHD5,P10416,Q13842,Q16197     \n",
       "97                        C9JHD5,P10416,Q13842,Q16197     \n",
       "98                        C9JHD5,P10416,Q13842,Q16197     \n",
       "\n",
       "    UniProt (SwissProt) Alternative ID(s) of Target Chain  \\\n",
       "0                                                 NaN       \n",
       "1                                                 NaN       \n",
       "2                                                 NaN       \n",
       "3                                                 NaN       \n",
       "4                                                 NaN       \n",
       "..                                                ...       \n",
       "94                                                NaN       \n",
       "95                                                NaN       \n",
       "96                                                NaN       \n",
       "97                                                NaN       \n",
       "98                                                NaN       \n",
       "\n",
       "    UniProt (TrEMBL) Submitted Name of Target Chain  \\\n",
       "0                                               NaN   \n",
       "1                                               NaN   \n",
       "2                                               NaN   \n",
       "3                                               NaN   \n",
       "4                                               NaN   \n",
       "..                                              ...   \n",
       "94                                              NaN   \n",
       "95                                              NaN   \n",
       "96                                              NaN   \n",
       "97                                              NaN   \n",
       "98                                              NaN   \n",
       "\n",
       "   UniProt (TrEMBL) Entry Name of Target Chain  \\\n",
       "0                                          NaN   \n",
       "1                                          NaN   \n",
       "2                                          NaN   \n",
       "3                                          NaN   \n",
       "4                                          NaN   \n",
       "..                                         ...   \n",
       "94                                         NaN   \n",
       "95                                         NaN   \n",
       "96                                         NaN   \n",
       "97                                         NaN   \n",
       "98                                         NaN   \n",
       "\n",
       "   UniProt (TrEMBL) Primary ID of Target Chain  \\\n",
       "0                                       Q53Y25   \n",
       "1                                       Q53Y25   \n",
       "2                                       Q53Y25   \n",
       "3                                       Q53Y25   \n",
       "4                                       Q53Y25   \n",
       "..                                         ...   \n",
       "94                                  A0A024R2B3   \n",
       "95                                  A0A024R2B3   \n",
       "96                                  A0A024R2B3   \n",
       "97                                  A0A024R2B3   \n",
       "98                                  A0A024R2B3   \n",
       "\n",
       "    UniProt (TrEMBL) Secondary ID(s) of Target Chain  \\\n",
       "0                                                NaN   \n",
       "1                                                NaN   \n",
       "2                                                NaN   \n",
       "3                                                NaN   \n",
       "4                                                NaN   \n",
       "..                                               ...   \n",
       "94                                               NaN   \n",
       "95                                               NaN   \n",
       "96                                               NaN   \n",
       "97                                               NaN   \n",
       "98                                               NaN   \n",
       "\n",
       "    UniProt (TrEMBL) Alternative ID(s) of Target Chain  \n",
       "0                                                 NaN   \n",
       "1                                                 NaN   \n",
       "2                                                 NaN   \n",
       "3                                                 NaN   \n",
       "4                                                 NaN   \n",
       "..                                                ...   \n",
       "94                                                NaN   \n",
       "95                                                NaN   \n",
       "96                                                NaN   \n",
       "97                                                NaN   \n",
       "98                                                NaN   \n",
       "\n",
       "[99 rows x 49 columns]"
      ]
     },
     "execution_count": 2,
     "metadata": {},
     "output_type": "execute_result"
    }
   ],
   "source": [
    "pd.read_csv('../../resources/BindingDB/BindingDB_ChEMBL_2021m9-head.tsv', sep='\\t')"
   ]
  },
  {
   "cell_type": "code",
   "execution_count": 3,
   "id": "43bd2ef1",
   "metadata": {},
   "outputs": [
    {
     "data": {
      "text/plain": [
       "0          CHEMBL4079100\n",
       "1           US9527838, 2\n",
       "2          US9527838, 15\n",
       "3          US9527838, 17\n",
       "4          US9527838, 13\n",
       "               ...      \n",
       "1348741    CHEMBL4094511\n",
       "1348742    CHEMBL4086771\n",
       "1348743    CHEMBL4068048\n",
       "1348744    CHEMBL4104680\n",
       "1348745    CHEMBL4094511\n",
       "Name: BindingDB Ligand Name, Length: 1348746, dtype: object"
      ]
     },
     "execution_count": 3,
     "metadata": {},
     "output_type": "execute_result"
    }
   ],
   "source": [
    "fpath = '../../resources/BindingDB/BindingDB_ChEMBL.tsv'\n",
    "bdb_lig = pd.read_csv(fpath, sep='\\t', usecols=['BindingDB Ligand Name'])['BindingDB Ligand Name']\n",
    "bdb_lig"
   ]
  },
  {
   "cell_type": "code",
   "execution_count": 4,
   "id": "8978500e",
   "metadata": {},
   "outputs": [
    {
     "data": {
      "text/plain": [
       "0                                              CHEMBL4079100\n",
       "8          CHEMBL2370814::[Ac-(D)Nal-(D)Cpa-(D)Pal-Ser-Ly...\n",
       "9          CHEMBL266716::[Ac-(D)Nal-(D)Cpa-(D)Pal-Ser-Arg...\n",
       "10         CHEMBL2370803::[Ac-(D)Nal-(D)Cpa-(D)Pal-Ser-Ly...\n",
       "11         CHEMBL2370809::[Ac-(D)Nal-(D)Cpa-(D)Pal-Ser-Ly...\n",
       "                                 ...                        \n",
       "1348741                                        CHEMBL4094511\n",
       "1348742                                        CHEMBL4086771\n",
       "1348743                                        CHEMBL4068048\n",
       "1348744                                        CHEMBL4104680\n",
       "1348745                                        CHEMBL4094511\n",
       "Name: BindingDB Ligand Name, Length: 771783, dtype: object"
      ]
     },
     "execution_count": 4,
     "metadata": {},
     "output_type": "execute_result"
    }
   ],
   "source": [
    "bdb_lig = bdb_lig.loc[bdb_lig.str.startswith('CHEMBL')]\n",
    "bdb_lig"
   ]
  },
  {
   "cell_type": "markdown",
   "id": "4ec4cf4c",
   "metadata": {},
   "source": [
    "## Number of targets: BindingDB"
   ]
  },
  {
   "cell_type": "code",
   "execution_count": 5,
   "id": "c2e3f486",
   "metadata": {},
   "outputs": [
    {
     "data": {
      "text/plain": [
       "CHEMBL535        1415\n",
       "CHEMBL98         1151\n",
       "CHEMBL608533     1133\n",
       "CHEMBL553         991\n",
       "CHEMBL939         967\n",
       "                 ... \n",
       "CHEMBL452314        1\n",
       "CHEMBL2180173       1\n",
       "CHEMBL372006        1\n",
       "CHEMBL2380955       1\n",
       "CHEMBL239874        1\n",
       "Name: BindingDB Ligand Name, Length: 351878, dtype: int64"
      ]
     },
     "execution_count": 5,
     "metadata": {},
     "output_type": "execute_result"
    }
   ],
   "source": [
    "bdb_lig = bdb_lig.apply(lambda x: re.sub('^(CHEMBL[0-9]+).*$', '\\\\1', x))\n",
    "vc_bdb = bdb_lig.value_counts()\n",
    "vc_bdb"
   ]
  },
  {
   "cell_type": "markdown",
   "id": "3de19ee3",
   "metadata": {},
   "source": [
    "Manual search in BindingDB [reveals](https://www.bindingdb.org/bind/chemsearch/marvin/MolStructure.jsp?monomerid=4814) that most of the 1415 entries (targets) for CHEMBL535 are mutants or homologs of tyrosine kinases and other proteins."
   ]
  },
  {
   "cell_type": "code",
   "execution_count": 6,
   "id": "139cc868",
   "metadata": {},
   "outputs": [
    {
     "data": {
      "text/plain": [
       "['named-figure/bindingdb-targets-hist.png',\n",
       " 'named-figure/bindingdb-targets-hist.pdf']"
      ]
     },
     "execution_count": 6,
     "metadata": {},
     "output_type": "execute_result"
    },
    {
     "data": {
      "image/png": "[encoded data removed]",
      "text/plain": [
       "<Figure size 432x432 with 2 Axes>"
      ]
     },
     "metadata": {
      "needs_background": "light"
     },
     "output_type": "display_data"
    }
   ],
   "source": [
    "def bindingdb_hist(vc):\n",
    "    fig, ax = plt.subplots(2, 1, sharex=True, figsize=(6, 6))\n",
    "    for axi in ax:\n",
    "        vc.hist(bins=vc.max() + 1, ax=axi)\n",
    "        axi.grid(False)\n",
    "        axi.set_ylabel('drugs')\n",
    "    ax[0].set_ylim(0, 6)\n",
    "    ax[1].set_xlabel('targets')\n",
    "    return((fig, ax))\n",
    "\n",
    "fig, ax = bindingdb_hist(vc_bdb)\n",
    "attila_utils.savefig(fig, 'bindingdb-targets-hist')"
   ]
  },
  {
   "cell_type": "markdown",
   "id": "c20318e9",
   "metadata": {},
   "source": [
    "The histogram has so many bins $\\approx 1400$ that matplotlib cannot even render the above figure correctly.\n",
    "\n",
    "The figure below shows only the first $200$ bins."
   ]
  },
  {
   "cell_type": "code",
   "execution_count": 7,
   "id": "379d3149",
   "metadata": {},
   "outputs": [
    {
     "data": {
      "text/plain": [
       "['named-figure/bindingdb-targets-hist-left.png',\n",
       " 'named-figure/bindingdb-targets-hist-left.pdf']"
      ]
     },
     "execution_count": 7,
     "metadata": {},
     "output_type": "execute_result"
    },
    {
     "data": {
      "image/png": "[encoded data removed]",
      "text/plain": [
       "<Figure size 432x432 with 2 Axes>"
      ]
     },
     "metadata": {
      "needs_background": "light"
     },
     "output_type": "display_data"
    }
   ],
   "source": [
    "fig, ax = bindingdb_hist(vc_bdb)\n",
    "ax[0].set_xlim(0, 200)\n",
    "attila_utils.savefig(fig, 'bindingdb-targets-hist-left')"
   ]
  },
  {
   "cell_type": "markdown",
   "id": "99992c22",
   "metadata": {},
   "source": [
    "The next figure shows the *last* $\\approx 200$ bins."
   ]
  },
  {
   "cell_type": "code",
   "execution_count": 8,
   "id": "484dab76",
   "metadata": {},
   "outputs": [
    {
     "data": {
      "text/plain": [
       "['named-figure/bindingdb-targets-right.png',\n",
       " 'named-figure/bindingdb-targets-right.pdf']"
      ]
     },
     "execution_count": 8,
     "metadata": {},
     "output_type": "execute_result"
    },
    {
     "data": {
      "image/png": "[encoded data removed]",
      "text/plain": [
       "<Figure size 432x432 with 2 Axes>"
      ]
     },
     "metadata": {
      "needs_background": "light"
     },
     "output_type": "display_data"
    }
   ],
   "source": [
    "fig, ax = bindingdb_hist(vc_bdb)\n",
    "ax[0].set_xlim(1300, 1500)\n",
    "attila_utils.savefig(fig, 'bindingdb-targets-right')"
   ]
  },
  {
   "cell_type": "markdown",
   "id": "17fee5e2",
   "metadata": {},
   "source": [
    "## Number of targets: DrugBank"
   ]
  },
  {
   "cell_type": "code",
   "execution_count": 9,
   "id": "64edb65d",
   "metadata": {},
   "outputs": [
    {
     "data": {
      "text/html": [
       "<div>\n",
       "<style scoped>\n",
       "    .dataframe tbody tr th:only-of-type {\n",
       "        vertical-align: middle;\n",
       "    }\n",
       "\n",
       "    .dataframe tbody tr th {\n",
       "        vertical-align: top;\n",
       "    }\n",
       "\n",
       "    .dataframe thead th {\n",
       "        text-align: right;\n",
       "    }\n",
       "</style>\n",
       "<table border=\"1\" class=\"dataframe\">\n",
       "  <thead>\n",
       "    <tr style=\"text-align: right;\">\n",
       "      <th></th>\n",
       "      <th>chembl_id</th>\n",
       "      <th>drugbank_id</th>\n",
       "    </tr>\n",
       "  </thead>\n",
       "  <tbody>\n",
       "    <tr>\n",
       "      <th>0</th>\n",
       "      <td>CHEMBL1185242</td>\n",
       "      <td>DB06994</td>\n",
       "    </tr>\n",
       "    <tr>\n",
       "      <th>1</th>\n",
       "      <td>CHEMBL1201270</td>\n",
       "      <td>DB06799</td>\n",
       "    </tr>\n",
       "    <tr>\n",
       "      <th>2</th>\n",
       "      <td>CHEMBL522</td>\n",
       "      <td>DB02464</td>\n",
       "    </tr>\n",
       "    <tr>\n",
       "      <th>3</th>\n",
       "      <td>CHEMBL3989948</td>\n",
       "      <td>DB14814</td>\n",
       "    </tr>\n",
       "    <tr>\n",
       "      <th>4</th>\n",
       "      <td>CHEMBL313405</td>\n",
       "      <td>DB07337</td>\n",
       "    </tr>\n",
       "  </tbody>\n",
       "</table>\n",
       "</div>"
      ],
      "text/plain": [
       "       chembl_id drugbank_id\n",
       "0  CHEMBL1185242     DB06994\n",
       "1  CHEMBL1201270     DB06799\n",
       "2      CHEMBL522     DB02464\n",
       "3  CHEMBL3989948     DB14814\n",
       "4   CHEMBL313405     DB07337"
      ]
     },
     "execution_count": 9,
     "metadata": {},
     "output_type": "execute_result"
    }
   ],
   "source": [
    "fpath = '../../resources/UniChem/chembl2drugbank.tsv'\n",
    "db2chembl = pd.read_csv(fpath, sep='\\t', header=0, names=['chembl_id', 'drugbank_id'])#['chembl_id']\n",
    "#db2chembl = pd.read_csv(fpath, sep='\\t', header=0, names=['chembl_id', 'drugbank_id'], index_col='drugbank_id')#['chembl_id']\n",
    "db2chembl.head()"
   ]
  },
  {
   "cell_type": "code",
   "execution_count": 10,
   "id": "be597b7d",
   "metadata": {},
   "outputs": [],
   "source": [
    "fpath = '../../results/2021-08-11-drugbank/drugbank-filtered-proteins.csv'\n",
    "drugbank = pd.read_csv(fpath)\n",
    "#drugbank = pd.read_csv(fpath, index_col=['drugbank_id', 'uniprot_id'])\n",
    "#drugbank['drugbank_id'] = drugbank.index.get_level_values(0)\n",
    "#drugbank.head()"
   ]
  },
  {
   "cell_type": "markdown",
   "id": "7d560d95",
   "metadata": {},
   "source": [
    "We read a subset of drugbank, see [2021-08-11-drugbank](https://github.com/attilagk/CTNS-notebook/blob/main/2021-08-11-drugbank/2021-08-11-drugbank.ipynb).  The subset contains only those drugs whose targets fulfill all below (see filter_drugbank_proteins function):\n",
    "\n",
    "* are human proteins\n",
    "* are targets of small molecules\n",
    "* possess a HGNC ID"
   ]
  },
  {
   "cell_type": "code",
   "execution_count": 11,
   "id": "75727310",
   "metadata": {},
   "outputs": [
    {
     "data": {
      "text/html": [
       "<div>\n",
       "<style scoped>\n",
       "    .dataframe tbody tr th:only-of-type {\n",
       "        vertical-align: middle;\n",
       "    }\n",
       "\n",
       "    .dataframe tbody tr th {\n",
       "        vertical-align: top;\n",
       "    }\n",
       "\n",
       "    .dataframe thead th {\n",
       "        text-align: right;\n",
       "    }\n",
       "</style>\n",
       "<table border=\"1\" class=\"dataframe\">\n",
       "  <thead>\n",
       "    <tr style=\"text-align: right;\">\n",
       "      <th></th>\n",
       "      <th>drugbank_id</th>\n",
       "      <th>uniprot_id</th>\n",
       "      <th>symbol</th>\n",
       "      <th>name</th>\n",
       "      <th>category</th>\n",
       "      <th>organism</th>\n",
       "      <th>known_action</th>\n",
       "      <th>actions</th>\n",
       "      <th>hgnc_id</th>\n",
       "      <th>group</th>\n",
       "      <th>entrez_id</th>\n",
       "      <th>chembl_id</th>\n",
       "    </tr>\n",
       "  </thead>\n",
       "  <tbody>\n",
       "    <tr>\n",
       "      <th>0</th>\n",
       "      <td>DB00006</td>\n",
       "      <td>P00734</td>\n",
       "      <td>F2</td>\n",
       "      <td>Prothrombin</td>\n",
       "      <td>target</td>\n",
       "      <td>Humans</td>\n",
       "      <td>yes</td>\n",
       "      <td>inhibitor</td>\n",
       "      <td>HGNC:3535</td>\n",
       "      <td>approved</td>\n",
       "      <td>2147</td>\n",
       "      <td>CHEMBL2103749</td>\n",
       "    </tr>\n",
       "    <tr>\n",
       "      <th>1</th>\n",
       "      <td>DB00007</td>\n",
       "      <td>P30968</td>\n",
       "      <td>GNRHR</td>\n",
       "      <td>Gonadotropin-releasing hormone receptor</td>\n",
       "      <td>target</td>\n",
       "      <td>Humans</td>\n",
       "      <td>yes</td>\n",
       "      <td>agonist</td>\n",
       "      <td>HGNC:4421</td>\n",
       "      <td>approved</td>\n",
       "      <td>2798</td>\n",
       "      <td>CHEMBL1201199</td>\n",
       "    </tr>\n",
       "    <tr>\n",
       "      <th>2</th>\n",
       "      <td>DB00014</td>\n",
       "      <td>P22888</td>\n",
       "      <td>LHCGR</td>\n",
       "      <td>Lutropin-choriogonadotropic hormone receptor</td>\n",
       "      <td>target</td>\n",
       "      <td>Humans</td>\n",
       "      <td>yes</td>\n",
       "      <td>agonist</td>\n",
       "      <td>HGNC:6585</td>\n",
       "      <td>approved</td>\n",
       "      <td>3973</td>\n",
       "      <td>CHEMBL1201247</td>\n",
       "    </tr>\n",
       "    <tr>\n",
       "      <th>3</th>\n",
       "      <td>DB00014</td>\n",
       "      <td>P30968</td>\n",
       "      <td>GNRHR</td>\n",
       "      <td>Gonadotropin-releasing hormone receptor</td>\n",
       "      <td>target</td>\n",
       "      <td>Humans</td>\n",
       "      <td>yes</td>\n",
       "      <td>agonist</td>\n",
       "      <td>HGNC:4421</td>\n",
       "      <td>approved</td>\n",
       "      <td>2798</td>\n",
       "      <td>CHEMBL1201247</td>\n",
       "    </tr>\n",
       "    <tr>\n",
       "      <th>4</th>\n",
       "      <td>DB00035</td>\n",
       "      <td>P30518</td>\n",
       "      <td>AVPR2</td>\n",
       "      <td>Vasopressin V2 receptor</td>\n",
       "      <td>target</td>\n",
       "      <td>Humans</td>\n",
       "      <td>yes</td>\n",
       "      <td>agonist</td>\n",
       "      <td>HGNC:897</td>\n",
       "      <td>approved</td>\n",
       "      <td>554</td>\n",
       "      <td>CHEMBL1429</td>\n",
       "    </tr>\n",
       "    <tr>\n",
       "      <th>...</th>\n",
       "      <td>...</td>\n",
       "      <td>...</td>\n",
       "      <td>...</td>\n",
       "      <td>...</td>\n",
       "      <td>...</td>\n",
       "      <td>...</td>\n",
       "      <td>...</td>\n",
       "      <td>...</td>\n",
       "      <td>...</td>\n",
       "      <td>...</td>\n",
       "      <td>...</td>\n",
       "      <td>...</td>\n",
       "    </tr>\n",
       "    <tr>\n",
       "      <th>12994</th>\n",
       "      <td>DB15822</td>\n",
       "      <td>P21802</td>\n",
       "      <td>FGFR2</td>\n",
       "      <td>Fibroblast growth factor receptor 2</td>\n",
       "      <td>target</td>\n",
       "      <td>Humans</td>\n",
       "      <td>unknown</td>\n",
       "      <td>inhibitor</td>\n",
       "      <td>HGNC:3689</td>\n",
       "      <td>approved</td>\n",
       "      <td>2263</td>\n",
       "      <td>CHEMBL4297597</td>\n",
       "    </tr>\n",
       "    <tr>\n",
       "      <th>12995</th>\n",
       "      <td>DB15873</td>\n",
       "      <td>P30874</td>\n",
       "      <td>SSTR2</td>\n",
       "      <td>Somatostatin receptor type 2</td>\n",
       "      <td>target</td>\n",
       "      <td>Humans</td>\n",
       "      <td>yes</td>\n",
       "      <td>binder</td>\n",
       "      <td>HGNC:11331</td>\n",
       "      <td>approved</td>\n",
       "      <td>6752</td>\n",
       "      <td>NaN</td>\n",
       "    </tr>\n",
       "    <tr>\n",
       "      <th>12996</th>\n",
       "      <td>DB15982</td>\n",
       "      <td>P03952</td>\n",
       "      <td>KLKB1</td>\n",
       "      <td>Plasma kallikrein</td>\n",
       "      <td>target</td>\n",
       "      <td>Humans</td>\n",
       "      <td>yes</td>\n",
       "      <td>inhibitor</td>\n",
       "      <td>HGNC:6371</td>\n",
       "      <td>approved</td>\n",
       "      <td>3818</td>\n",
       "      <td>NaN</td>\n",
       "    </tr>\n",
       "    <tr>\n",
       "      <th>12997</th>\n",
       "      <td>DB16019</td>\n",
       "      <td>P07288</td>\n",
       "      <td>KLK3</td>\n",
       "      <td>Prostate-specific antigen</td>\n",
       "      <td>target</td>\n",
       "      <td>Humans</td>\n",
       "      <td>yes</td>\n",
       "      <td>binder</td>\n",
       "      <td>HGNC:6364</td>\n",
       "      <td>approved</td>\n",
       "      <td>354</td>\n",
       "      <td>NaN</td>\n",
       "    </tr>\n",
       "    <tr>\n",
       "      <th>12998</th>\n",
       "      <td>DB16353</td>\n",
       "      <td>P23467</td>\n",
       "      <td>PTPRB</td>\n",
       "      <td>Receptor-type tyrosine-protein phosphatase beta</td>\n",
       "      <td>target</td>\n",
       "      <td>Humans</td>\n",
       "      <td>yes</td>\n",
       "      <td>inhibitor</td>\n",
       "      <td>HGNC:9665</td>\n",
       "      <td>investigational</td>\n",
       "      <td>5787</td>\n",
       "      <td>CHEMBL3931971</td>\n",
       "    </tr>\n",
       "  </tbody>\n",
       "</table>\n",
       "<p>12999 rows × 12 columns</p>\n",
       "</div>"
      ],
      "text/plain": [
       "      drugbank_id uniprot_id symbol  \\\n",
       "0         DB00006     P00734     F2   \n",
       "1         DB00007     P30968  GNRHR   \n",
       "2         DB00014     P22888  LHCGR   \n",
       "3         DB00014     P30968  GNRHR   \n",
       "4         DB00035     P30518  AVPR2   \n",
       "...           ...        ...    ...   \n",
       "12994     DB15822     P21802  FGFR2   \n",
       "12995     DB15873     P30874  SSTR2   \n",
       "12996     DB15982     P03952  KLKB1   \n",
       "12997     DB16019     P07288   KLK3   \n",
       "12998     DB16353     P23467  PTPRB   \n",
       "\n",
       "                                                  name category organism  \\\n",
       "0                                          Prothrombin   target   Humans   \n",
       "1              Gonadotropin-releasing hormone receptor   target   Humans   \n",
       "2         Lutropin-choriogonadotropic hormone receptor   target   Humans   \n",
       "3              Gonadotropin-releasing hormone receptor   target   Humans   \n",
       "4                              Vasopressin V2 receptor   target   Humans   \n",
       "...                                                ...      ...      ...   \n",
       "12994              Fibroblast growth factor receptor 2   target   Humans   \n",
       "12995                     Somatostatin receptor type 2   target   Humans   \n",
       "12996                                Plasma kallikrein   target   Humans   \n",
       "12997                        Prostate-specific antigen   target   Humans   \n",
       "12998  Receptor-type tyrosine-protein phosphatase beta   target   Humans   \n",
       "\n",
       "      known_action    actions     hgnc_id            group  entrez_id  \\\n",
       "0              yes  inhibitor   HGNC:3535         approved       2147   \n",
       "1              yes    agonist   HGNC:4421         approved       2798   \n",
       "2              yes    agonist   HGNC:6585         approved       3973   \n",
       "3              yes    agonist   HGNC:4421         approved       2798   \n",
       "4              yes    agonist    HGNC:897         approved        554   \n",
       "...            ...        ...         ...              ...        ...   \n",
       "12994      unknown  inhibitor   HGNC:3689         approved       2263   \n",
       "12995          yes     binder  HGNC:11331         approved       6752   \n",
       "12996          yes  inhibitor   HGNC:6371         approved       3818   \n",
       "12997          yes     binder   HGNC:6364         approved        354   \n",
       "12998          yes  inhibitor   HGNC:9665  investigational       5787   \n",
       "\n",
       "           chembl_id  \n",
       "0      CHEMBL2103749  \n",
       "1      CHEMBL1201199  \n",
       "2      CHEMBL1201247  \n",
       "3      CHEMBL1201247  \n",
       "4         CHEMBL1429  \n",
       "...              ...  \n",
       "12994  CHEMBL4297597  \n",
       "12995            NaN  \n",
       "12996            NaN  \n",
       "12997            NaN  \n",
       "12998  CHEMBL3931971  \n",
       "\n",
       "[12999 rows x 12 columns]"
      ]
     },
     "execution_count": 11,
     "metadata": {},
     "output_type": "execute_result"
    }
   ],
   "source": [
    "drugbank = pd.merge(drugbank, db2chembl, on='drugbank_id', how='left')\n",
    "drugbank"
   ]
  },
  {
   "cell_type": "code",
   "execution_count": 12,
   "id": "7c789ef7",
   "metadata": {},
   "outputs": [
    {
     "name": "stdout",
     "output_type": "stream",
     "text": [
      "5262 drugs in this subset of DrugBank\n"
     ]
    }
   ],
   "source": [
    "ndrugs_drugbank = drugbank.drugbank_id.describe().loc['unique']\n",
    "print('{} drugs in this subset of DrugBank'.format(ndrugs_drugbank))"
   ]
  },
  {
   "cell_type": "markdown",
   "id": "558e35ae",
   "metadata": {},
   "source": [
    "ChEMBL ID provides a link between DrugBank an BindingDB.  However, not all drugs in DrugBank have a ChEMBL ID (yet)."
   ]
  },
  {
   "cell_type": "code",
   "execution_count": 13,
   "id": "16385819",
   "metadata": {},
   "outputs": [
    {
     "name": "stdout",
     "output_type": "stream",
     "text": [
      "3669 drugs with ChEMBL ID\n"
     ]
    }
   ],
   "source": [
    "ndrugs_drugbank_wo_chemblid = drugbank.groupby('drugbank_id').first()['chembl_id'].isnull().sum()\n",
    "ndrugs_drugbank_w_chemblid = ndrugs_drugbank - ndrugs_drugbank_wo_chemblid\n",
    "print('{} drugs with ChEMBL ID'.format(ndrugs_drugbank_w_chemblid))"
   ]
  },
  {
   "cell_type": "markdown",
   "id": "c01512c9",
   "metadata": {},
   "source": [
    "Below is the number of targets for "
   ]
  },
  {
   "cell_type": "code",
   "execution_count": 14,
   "id": "fbad5b78",
   "metadata": {},
   "outputs": [],
   "source": [
    "vc_drugbank = drugbank.value_counts('chembl_id') # gives the same result as drugbank.value_counts('chembl_id')\n",
    "entries = pd.concat([vc_drugbank.to_frame('targets in drugbank'), vc_bdb.to_frame('targets in bindingdb')], axis=1).fillna(0)\n",
    "entries = entries.astype(np.int64)"
   ]
  },
  {
   "cell_type": "code",
   "execution_count": 15,
   "id": "7d3a60f7",
   "metadata": {},
   "outputs": [
    {
     "name": "stdout",
     "output_type": "stream",
     "text": [
      "404 drugs in both DrugBank and BindingDB\n"
     ]
    }
   ],
   "source": [
    "ndrugs_drugbank_in_bindingdb = sum((entries['targets in drugbank'] >= 1) & (entries['targets in bindingdb'] >= 1))\n",
    "print('{} drugs in both DrugBank and BindingDB'.format(ndrugs_drugbank_in_bindingdb))"
   ]
  },
  {
   "cell_type": "code",
   "execution_count": 16,
   "id": "40b1cd9b",
   "metadata": {},
   "outputs": [
    {
     "data": {
      "text/plain": [
       "chembl_id\n",
       "CHEMBL2103830    295\n",
       "CHEMBL1201279    123\n",
       "CHEMBL1200928    123\n",
       "CHEMBL1200679     97\n",
       "CHEMBL25164       80\n",
       "                ... \n",
       "CHEMBL217068       1\n",
       "CHEMBL2178422      1\n",
       "CHEMBL2178578      1\n",
       "CHEMBL217914       1\n",
       "CHEMBL256315       1\n",
       "Length: 3669, dtype: int64"
      ]
     },
     "execution_count": 16,
     "metadata": {},
     "output_type": "execute_result"
    }
   ],
   "source": [
    "vc_drugbank"
   ]
  },
  {
   "cell_type": "code",
   "execution_count": 17,
   "id": "7dd98a57",
   "metadata": {},
   "outputs": [
    {
     "data": {
      "text/plain": [
       "['named-figure/drugbank-targets-hist.png',\n",
       " 'named-figure/drugbank-targets-hist.pdf']"
      ]
     },
     "execution_count": 17,
     "metadata": {},
     "output_type": "execute_result"
    },
    {
     "data": {
      "image/png": "[encoded data removed]",
      "text/plain": [
       "<Figure size 432x432 with 2 Axes>"
      ]
     },
     "metadata": {
      "needs_background": "light"
     },
     "output_type": "display_data"
    }
   ],
   "source": [
    "fig, ax = bindingdb_hist(vc_drugbank)\n",
    "attila_utils.savefig(fig, 'drugbank-targets-hist')"
   ]
  },
  {
   "cell_type": "markdown",
   "id": "f7dedebd",
   "metadata": {},
   "source": [
    "## Few drugs shared by DrugBank and BindingDB\n",
    "\n",
    "This means that we cannot use BindingDB to filter DrugBank for high affinity drug-target pairs."
   ]
  },
  {
   "cell_type": "code",
   "execution_count": 18,
   "id": "dcbe65c1",
   "metadata": {},
   "outputs": [
    {
     "data": {
      "text/plain": [
       "Text(0.5, 1.0, 'DrugBank drugs')"
      ]
     },
     "execution_count": 18,
     "metadata": {},
     "output_type": "execute_result"
    },
    {
     "data": {
      "image/png": "[encoded data removed]",
      "text/plain": [
       "<Figure size 288x288 with 1 Axes>"
      ]
     },
     "metadata": {
      "needs_background": "light"
     },
     "output_type": "display_data"
    }
   ],
   "source": [
    "fig, ax = plt.subplots(figsize=(4, 4))\n",
    "#ndrugs = [ndrugs_drugbank, ndrugs_drugbank_w_chemblid, ndrugs_drugbank_in_bindingdb]\n",
    "ndrugs = {'all': ndrugs_drugbank, 'has ChEMBL ID': ndrugs_drugbank_w_chemblid, 'in BindingDB': ndrugs_drugbank_in_bindingdb}\n",
    "ticks = np.arange(len(ndrugs))\n",
    "ax.barh(y=ticks, width=ndrugs.values())\n",
    "ax.set_yticks(ticks)\n",
    "ax.set_yticklabels(ndrugs.keys())\n",
    "ax.set_title('DrugBank drugs')"
   ]
  },
  {
   "cell_type": "markdown",
   "id": "7cdc38af",
   "metadata": {},
   "source": [
    "## Number of targets: DrugBank vs BindingDB"
   ]
  },
  {
   "cell_type": "code",
   "execution_count": 19,
   "id": "8efa0256",
   "metadata": {},
   "outputs": [
    {
     "data": {
      "text/plain": [
       "['named-figure/targets-in-bindingdb-vs-drugbank.png',\n",
       " 'named-figure/targets-in-bindingdb-vs-drugbank.pdf']"
      ]
     },
     "execution_count": 19,
     "metadata": {},
     "output_type": "execute_result"
    },
    {
     "data": {
      "image/png": "[encoded data removed]",
      "text/plain": [
       "<Figure size 288x288 with 1 Axes>"
      ]
     },
     "metadata": {
      "needs_background": "light"
     },
     "output_type": "display_data"
    }
   ],
   "source": [
    "def plot_entries(entries):\n",
    "    fig, ax = plt.subplots(figsize=(4, 4))\n",
    "    entries.plot(kind='scatter', x='targets in drugbank', y='targets in bindingdb', marker='.', ax=ax)\n",
    "    ax.axline((0, 0), (300, 300), color='red')\n",
    "    return((fig, ax))\n",
    "\n",
    "fig, ax = plot_entries(entries)\n",
    "attila_utils.savefig(fig, 'targets-in-bindingdb-vs-drugbank')"
   ]
  },
  {
   "cell_type": "code",
   "execution_count": 20,
   "id": "0a38b9f8",
   "metadata": {},
   "outputs": [
    {
     "data": {
      "text/plain": [
       "['named-figure/targets-in-bindingdb-vs-drugbank-zoom.png',\n",
       " 'named-figure/targets-in-bindingdb-vs-drugbank-zoom.pdf']"
      ]
     },
     "execution_count": 20,
     "metadata": {},
     "output_type": "execute_result"
    },
    {
     "data": {
      "image/png": "[encoded data removed]",
      "text/plain": [
       "<Figure size 288x288 with 1 Axes>"
      ]
     },
     "metadata": {
      "needs_background": "light"
     },
     "output_type": "display_data"
    }
   ],
   "source": [
    "rightlim = 10\n",
    "leftlim = - rightlim * 0.025\n",
    "fig, ax = plot_entries(entries)\n",
    "ax.set_xlim(leftlim, rightlim)\n",
    "ax.set_ylim(leftlim, rightlim)\n",
    "attila_utils.savefig(fig, 'targets-in-bindingdb-vs-drugbank-zoom')"
   ]
  },
  {
   "cell_type": "code",
   "execution_count": 21,
   "id": "a728b432",
   "metadata": {},
   "outputs": [
    {
     "name": "stdout",
     "output_type": "stream",
     "text": [
      "{\n",
      "  \"shell_port\": 61489,\n",
      "  \"iopub_port\": 61490,\n",
      "  \"stdin_port\": 61491,\n",
      "  \"control_port\": 61493,\n",
      "  \"hb_port\": 61492,\n",
      "  \"ip\": \"127.0.0.1\",\n",
      "  \"key\": \"b6d0be8c-7d042ac7c539271bdc1bb1a8\",\n",
      "  \"transport\": \"tcp\",\n",
      "  \"signature_scheme\": \"hmac-sha256\",\n",
      "  \"kernel_name\": \"\"\n",
      "}\n",
      "\n",
      "Paste the above JSON into a file, and connect with:\n",
      "    $> jupyter <app> --existing <file>\n",
      "or, if you are local, you can connect with just:\n",
      "    $> jupyter <app> --existing kernel-8a1d2fcb-b190-4f33-ac33-83b30f891698.json\n",
      "or even just:\n",
      "    $> jupyter <app> --existing\n",
      "if this is the most recent Jupyter kernel you have started.\n"
     ]
    }
   ],
   "source": [
    "%connect_info"
   ]
  },
  {
   "cell_type": "code",
   "execution_count": null,
   "id": "e5e31737",
   "metadata": {},
   "outputs": [],
   "source": []
  }
 ],
 "metadata": {
  "kernelspec": {
   "display_name": "Python 3",
   "language": "python",
   "name": "python3"
  },
  "language_info": {
   "codemirror_mode": {
    "name": "ipython",
    "version": 3
   },
   "file_extension": ".py",
   "mimetype": "text/x-python",
   "name": "python",
   "nbconvert_exporter": "python",
   "pygments_lexer": "ipython3",
   "version": "3.8.8"
  }
 },
 "nbformat": 4,
 "nbformat_minor": 5
}
