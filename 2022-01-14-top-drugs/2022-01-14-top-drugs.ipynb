{
 "cells": [
  {
   "cell_type": "code",
   "execution_count": 1,
   "id": "9f6b5389",
   "metadata": {},
   "outputs": [
    {
     "name": "stdout",
     "output_type": "stream",
     "text": [
      "The autoreload extension is already loaded. To reload it, use:\n",
      "  %reload_ext autoreload\n"
     ]
    }
   ],
   "source": [
    "%load_ext autoreload\n",
    "%autoreload 2\n",
    "%reload_ext autoreload\n",
    "import pandas as pd\n",
    "import numpy as np\n",
    "import attila_utils"
   ]
  },
  {
   "cell_type": "code",
   "execution_count": 2,
   "id": "cf59759e",
   "metadata": {},
   "outputs": [],
   "source": [
    "fpath = '../../results/2021-12-02-proximity-various-ADgenesets/merged-proximity-chembl.csv'\n",
    "usecols = range(6)\n",
    "merged = pd.read_csv(fpath, index_col=0, skiprows=1, usecols=usecols).rename_axis('drug_chembl_id', axis=0)"
   ]
  },
  {
   "cell_type": "code",
   "execution_count": 3,
   "id": "6d0efdd1",
   "metadata": {},
   "outputs": [],
   "source": [
    "fpath = '../../results/2021-12-02-proximity-various-ADgenesets/merged-proximity-chembl.csv'\n",
    "sel_gsets = ['knowledge', 'TWAS2+', 'agora2+', 'AD DE APOE3-APOE3', 'AD DE APOE4-APOE4', 'APOE3-4 DE neuron', 'APOE3-4 DE astrocyte', 'APOE3-4 DE microglia']\n",
    "merged_ranks = pd.read_csv(fpath, index_col=0, header=[0, 1]).rename_axis('drug_chembl_id', axis=0).xs('rank', axis=1, level=1)[sel_gsets]"
   ]
  },
  {
   "cell_type": "code",
   "execution_count": 4,
   "id": "5bee3daa",
   "metadata": {},
   "outputs": [],
   "source": [
    "fpath = '../../results/2021-12-13-chembl-drug-info/drug-indication.csv'\n",
    "indications = pd.read_csv(fpath, index_col='drug_chembl_id')\n",
    "# D000544 is Alzheimer disease\n",
    "mp4ad = indications.loc[indications.mesh_id == 'D000544', ['max_phase_for_ind']].rename({'max_phase_for_ind': 'max_phase_for_AD'}, axis=1)"
   ]
  },
  {
   "cell_type": "code",
   "execution_count": 5,
   "id": "607e618f",
   "metadata": {},
   "outputs": [],
   "source": [
    "fpath = '../../results/2021-12-13-chembl-drug-info/drug-info-bbb.csv'\n",
    "info_bbb = pd.read_csv(fpath, index_col=0).drop(['drug_name'], axis=1)"
   ]
  },
  {
   "cell_type": "code",
   "execution_count": 6,
   "id": "ddb412fe",
   "metadata": {},
   "outputs": [],
   "source": [
    "fpath = '../../results/2022-01-14-rank-aggregation/aggregated-ranks.csv'\n",
    "agg_ranks = pd.read_csv(fpath, index_col='rank')\n",
    "top_drugs = pd.DataFrame({'aggregate rank': agg_ranks.index}, index=agg_ranks.MC3).rename_axis('drug_chembl_id', axis=0)"
   ]
  },
  {
   "cell_type": "code",
   "execution_count": 7,
   "id": "f9b8c6ee",
   "metadata": {},
   "outputs": [],
   "source": [
    "drugs = pd.merge(merged, info_bbb, how='left', on='drug_chembl_id')\n",
    "drugs = pd.merge(drugs, mp4ad, how='left', on='drug_chembl_id')\n",
    "drugs = pd.merge(drugs, top_drugs, how='left', on='drug_chembl_id')\n",
    "drugs = pd.merge(drugs, merged_ranks, how='left', on='drug_chembl_id')\n",
    "drugs = drugs.sort_values('aggregate rank')\n",
    "drugs.to_csv('../../results/2022-01-14-top-drugs/ranked-drugs.csv')"
   ]
  },
  {
   "cell_type": "code",
   "execution_count": 8,
   "id": "3290cfd1",
   "metadata": {},
   "outputs": [
    {
     "name": "stdout",
     "output_type": "stream",
     "text": [
      "{\n",
      "  \"shell_port\": 52124,\n",
      "  \"iopub_port\": 52125,\n",
      "  \"stdin_port\": 52126,\n",
      "  \"control_port\": 52128,\n",
      "  \"hb_port\": 52127,\n",
      "  \"ip\": \"127.0.0.1\",\n",
      "  \"key\": \"837b22aa-6284b7c393e08a165b23190e\",\n",
      "  \"transport\": \"tcp\",\n",
      "  \"signature_scheme\": \"hmac-sha256\",\n",
      "  \"kernel_name\": \"\"\n",
      "}\n",
      "\n",
      "Paste the above JSON into a file, and connect with:\n",
      "    $> jupyter <app> --existing <file>\n",
      "or, if you are local, you can connect with just:\n",
      "    $> jupyter <app> --existing kernel-9dc2acaa-dd9e-47f8-8473-80bf157cbe8e.json\n",
      "or even just:\n",
      "    $> jupyter <app> --existing\n",
      "if this is the most recent Jupyter kernel you have started.\n"
     ]
    }
   ],
   "source": [
    "%connect_info"
   ]
  },
  {
   "cell_type": "code",
   "execution_count": null,
   "id": "de223843",
   "metadata": {},
   "outputs": [],
   "source": []
  }
 ],
 "metadata": {
  "kernelspec": {
   "display_name": "Python 3",
   "language": "python",
   "name": "python3"
  },
  "language_info": {
   "codemirror_mode": {
    "name": "ipython",
    "version": 3
   },
   "file_extension": ".py",
   "mimetype": "text/x-python",
   "name": "python",
   "nbconvert_exporter": "python",
   "pygments_lexer": "ipython3",
   "version": "3.8.8"
  }
 },
 "nbformat": 4,
 "nbformat_minor": 5
}
