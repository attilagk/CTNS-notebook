{
 "cells": [
  {
   "cell_type": "code",
   "execution_count": 1,
   "id": "79441f14",
   "metadata": {},
   "outputs": [
    {
     "name": "stdout",
     "output_type": "stream",
     "text": [
      "The autoreload extension is already loaded. To reload it, use:\n",
      "  %reload_ext autoreload\n"
     ]
    }
   ],
   "source": [
    "%load_ext autoreload\n",
    "%autoreload 2\n",
    "%reload_ext autoreload\n",
    "import pandas as pd\n",
    "import numpy as np\n",
    "import matplotlib.pyplot as plt\n",
    "import attila_utils"
   ]
  },
  {
   "cell_type": "code",
   "execution_count": 2,
   "id": "aa313d19",
   "metadata": {},
   "outputs": [],
   "source": [
    "fpath = '../../results/2021-12-02-proximity-various-ADgenesets/merged-proximity-chembl.csv'\n",
    "usecols = range(6)\n",
    "merged = pd.read_csv(fpath, index_col=0, skiprows=1, usecols=usecols).rename_axis('drug_chembl_id', axis=0)"
   ]
  },
  {
   "cell_type": "code",
   "execution_count": 3,
   "id": "58767a77",
   "metadata": {},
   "outputs": [],
   "source": [
    "fpath = '../../results/2021-12-02-proximity-various-ADgenesets/merged-proximity-chembl.csv'\n",
    "sel_gsets = ['knowledge', 'TWAS2+', 'agora2+', 'AD DE APOE3-APOE3', 'AD DE APOE4-APOE4', 'APOE3-4 DE neuron', 'APOE3-4 DE astrocyte', 'APOE3-4 DE microglia']\n",
    "merged_ranks = pd.read_csv(fpath, index_col=0, header=[0, 1]).rename_axis('drug_chembl_id', axis=0).xs('rank', axis=1, level=1)[sel_gsets]"
   ]
  },
  {
   "cell_type": "code",
   "execution_count": 4,
   "id": "e9e8bc36",
   "metadata": {},
   "outputs": [],
   "source": [
    "fpath = '../../results/2021-12-13-chembl-drug-info/drug-indication.csv'\n",
    "indications = pd.read_csv(fpath, index_col='drug_chembl_id')\n",
    "# D000544 is Alzheimer disease\n",
    "mp4ad = indications.loc[indications.mesh_id == 'D000544', ['max_phase_for_ind']].rename({'max_phase_for_ind': 'max_phase_for_AD'}, axis=1)"
   ]
  },
  {
   "cell_type": "code",
   "execution_count": 5,
   "id": "39770236",
   "metadata": {},
   "outputs": [],
   "source": [
    "fpath = '../../results/2021-12-13-chembl-drug-info/drug-info-bbb.csv'\n",
    "info_bbb = pd.read_csv(fpath, index_col=0).drop(['drug_name'], axis=1)"
   ]
  },
  {
   "cell_type": "code",
   "execution_count": 6,
   "id": "ebf2f172",
   "metadata": {},
   "outputs": [],
   "source": [
    "fpath = '../../results/2022-01-14-rank-aggregation/aggregated-ranks.csv'\n",
    "agg_ranks = pd.read_csv(fpath, index_col='rank')\n",
    "top_drugs = pd.DataFrame({'aggregate rank': agg_ranks.index}, index=agg_ranks.MC3).rename_axis('drug_chembl_id', axis=0)"
   ]
  },
  {
   "cell_type": "code",
   "execution_count": 7,
   "id": "89a24706",
   "metadata": {},
   "outputs": [],
   "source": [
    "drugs = pd.merge(merged, info_bbb, how='left', on='drug_chembl_id')\n",
    "drugs = pd.merge(drugs, mp4ad, how='left', on='drug_chembl_id')\n",
    "drugs = pd.merge(drugs, top_drugs, how='left', on='drug_chembl_id')\n",
    "drugs = pd.merge(drugs, merged_ranks, how='left', on='drug_chembl_id')\n",
    "drugs = drugs.sort_values('aggregate rank')\n",
    "drugs.to_csv('../../results/2022-01-14-top-drugs/ranked-drugs.csv')"
   ]
  },
  {
   "cell_type": "code",
   "execution_count": 8,
   "id": "a95d1045",
   "metadata": {},
   "outputs": [],
   "source": [
    "def top_bottom(drugs=drugs, topk=100, min_max_phase_for_AD=1):\n",
    "    bottomk = len(drugs) - topk\n",
    "    df = drugs.copy()\n",
    "    df['tested4AD'] = drugs.max_phase_for_AD >= min_max_phase_for_AD\n",
    "    top = df.iloc[:topk]\n",
    "    bottom = df.iloc[topk:]\n",
    "    top_avg, bottom_avg = [df.loc[df['tested4AD'], 'max_phase_for_AD'].sum() / xk for df, xk in zip([top, bottom], [topk, bottomk])]\n",
    "    ratio = top_avg / bottom_avg\n",
    "    return(ratio)"
   ]
  },
  {
   "cell_type": "markdown",
   "id": "9420b80b",
   "metadata": {},
   "source": [
    "Let $X$ denote the top-$k$ drugs or the bottom $n-k$ drugs.  Definition of **average phase for AD** for drugs in $X$:\n",
    "\\begin{eqnarray}\n",
    "\\bar{\\phi_X} &=& \\frac{1}{|X|} \\sum_{d \\in X} \\phi_d \\\\\n",
    "|X| &=& \n",
    "  \\begin{cases} \n",
    "   k   & \\text{if } X = \\text{top-}k \\text{ drugs} \\\\\n",
    "   n-k & \\text{if } X = \\text{bottom } \\text{ drugs}\n",
    "  \\end{cases}\n",
    "\\end{eqnarray}\n",
    "\n",
    "Definition of **top:bottom phase ratio for AD**:\n",
    "\\begin{equation}\n",
    "\\frac{\\bar{\\phi}_{\\text{top-}k \\text{ drugs}}}{\\bar{\\phi}_\\text{bottom drugs}}\n",
    "\\end{equation}"
   ]
  },
  {
   "cell_type": "code",
   "execution_count": 9,
   "id": "8aa88c87",
   "metadata": {},
   "outputs": [
    {
     "data": {
      "text/plain": [
       "['named-figure/top-bottom-ratio-top-k.png',\n",
       " 'named-figure/top-bottom-ratio-top-k.pdf']"
      ]
     },
     "execution_count": 9,
     "metadata": {},
     "output_type": "execute_result"
    },
    {
     "data": {
      "image/png": "[encoded data removed]",
      "text/plain": [
       "<Figure size 432x288 with 1 Axes>"
      ]
     },
     "metadata": {
      "needs_background": "light"
     },
     "output_type": "display_data"
    }
   ],
   "source": [
    "step = 10\n",
    "topks = np.arange(start=step, stop=len(agg_ranks), step=step)\n",
    "ORs = [top_bottom(drugs, topk=k, min_max_phase_for_AD=1) for k in topks]\n",
    "fig, ax = plt.subplots()\n",
    "ax.scatter(x=topks, y=ORs)\n",
    "ax.set_xlabel(r'$k$: top-$k$')\n",
    "ax.set_ylabel('top:bottom phase ratio for AD')\n",
    "ax.set_title(r'Enrichment of top-$k$ drugs for AD')\n",
    "attila_utils.savefig(fig, 'top-bottom-ratio-top-k')"
   ]
  },
  {
   "cell_type": "code",
   "execution_count": 10,
   "id": "002d7a65",
   "metadata": {},
   "outputs": [
    {
     "name": "stdout",
     "output_type": "stream",
     "text": [
      "{\n",
      "  \"shell_port\": 52124,\n",
      "  \"iopub_port\": 52125,\n",
      "  \"stdin_port\": 52126,\n",
      "  \"control_port\": 52128,\n",
      "  \"hb_port\": 52127,\n",
      "  \"ip\": \"127.0.0.1\",\n",
      "  \"key\": \"837b22aa-6284b7c393e08a165b23190e\",\n",
      "  \"transport\": \"tcp\",\n",
      "  \"signature_scheme\": \"hmac-sha256\",\n",
      "  \"kernel_name\": \"\"\n",
      "}\n",
      "\n",
      "Paste the above JSON into a file, and connect with:\n",
      "    $> jupyter <app> --existing <file>\n",
      "or, if you are local, you can connect with just:\n",
      "    $> jupyter <app> --existing kernel-9dc2acaa-dd9e-47f8-8473-80bf157cbe8e.json\n",
      "or even just:\n",
      "    $> jupyter <app> --existing\n",
      "if this is the most recent Jupyter kernel you have started.\n"
     ]
    }
   ],
   "source": [
    "%connect_info"
   ]
  },
  {
   "cell_type": "code",
   "execution_count": null,
   "id": "18dc43ab",
   "metadata": {},
   "outputs": [],
   "source": []
  }
 ],
 "metadata": {
  "kernelspec": {
   "display_name": "Python 3",
   "language": "python",
   "name": "python3"
  },
  "language_info": {
   "codemirror_mode": {
    "name": "ipython",
    "version": 3
   },
   "file_extension": ".py",
   "mimetype": "text/x-python",
   "name": "python",
   "nbconvert_exporter": "python",
   "pygments_lexer": "ipython3",
   "version": "3.8.8"
  }
 },
 "nbformat": 4,
 "nbformat_minor": 5
}
