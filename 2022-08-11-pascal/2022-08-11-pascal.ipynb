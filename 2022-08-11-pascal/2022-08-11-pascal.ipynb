{
 "cells": [
  {
   "cell_type": "code",
   "execution_count": 1,
   "id": "61bd0e61",
   "metadata": {},
   "outputs": [
    {
     "name": "stdout",
     "output_type": "stream",
     "text": [
      "The autoreload extension is already loaded. To reload it, use:\n",
      "  %reload_ext autoreload\n"
     ]
    }
   ],
   "source": [
    "%load_ext autoreload\n",
    "%autoreload 2\n",
    "%reload_ext autoreload\n",
    "import pandas as pd\n",
    "import numpy as np\n",
    "import matplotlib.pyplot as plt\n",
    "import attila_utils"
   ]
  },
  {
   "cell_type": "code",
   "execution_count": 2,
   "id": "d937bd97",
   "metadata": {},
   "outputs": [],
   "source": [
    "fpath = '../../results/2022-08-11-pascal/output/35379992-GCST90027158-MONDO_0004975-Build38-corrected.f.tsv.sum.genescores.txt'\n",
    "dtype = {'start': np.int64, 'end': np.int64, 'gene_id': str}\n",
    "scores = pd.read_csv(fpath, sep='\\t', index_col='gene_symbol', dtype=dtype)"
   ]
  },
  {
   "cell_type": "code",
   "execution_count": 5,
   "id": "8310d6d4",
   "metadata": {},
   "outputs": [
    {
     "name": "stdout",
     "output_type": "stream",
     "text": [
      "['MT-ND1', 'MT-ND2'] removed from knowledge\n",
      "['AC087500.1', 'AC099524.1', 'AL512631.1', 'APOC4', 'CCNT2-AS1', 'CTB-129P6.11', 'CTD-2380F24.1', 'ENSG00000260911', 'ENSG00000270081.1', 'FAM115D', 'HLA-DQA1', 'HLA-DQA2', 'HLA-DQB2', 'HLA-DRA', 'HLA-DRB1', 'MS4A4E', 'NECTIN2', 'RNA5SP156', 'RP11-385F7.1', 'SIGLEC22P', 'TSPOAP1-AS1', 'X84075', 'ZNF222', 'ZNF232-AS1'] removed from TWAS\n",
      "['APOC4', 'CTB-129P6.11', 'HLA-DQA1', 'HLA-DQA2', 'HLA-DRA', 'HLA-DRB1', 'MS4A4E', 'NECTIN2'] removed from TWAS2+\n"
     ]
    },
    {
     "data": {
      "text/plain": [
       "[          knowledge\n",
       " APP               1\n",
       " UNC5C             1\n",
       " APOE              1\n",
       " CST3              1\n",
       " GSK3A             1\n",
       " SERPINA3          1\n",
       " IL6               1\n",
       " SNCA              1\n",
       " CLU               1\n",
       " CTSB              1\n",
       " ADAM10            1\n",
       " RALGPS2           1\n",
       " APCS              1\n",
       " HSPG2             1\n",
       " GSK3B             1\n",
       " DBN1              1\n",
       " CTSD              1\n",
       " ABCA7             1\n",
       " PSEN1             1\n",
       " PSEN2             1\n",
       " PPP5C             1\n",
       " SORL1             1\n",
       " MAPT              1\n",
       " A2M               1\n",
       " TREM2             1,\n",
       "         TWAS\n",
       " STX6       1\n",
       " DMWD       1\n",
       " CR2        1\n",
       " PILRB      1\n",
       " MYBPC3     1\n",
       " ...      ...\n",
       " RTFDC1     1\n",
       " SNX32      1\n",
       " INPP5D     1\n",
       " STX4       1\n",
       " UNC79      1\n",
       " \n",
       " [107 rows x 1 columns],\n",
       "           TWAS2+\n",
       " ABCA7          1\n",
       " MS4A6A         1\n",
       " CLPTM1         1\n",
       " PRSS36         1\n",
       " CR2            1\n",
       " EXOC3L2        1\n",
       " APOC1          1\n",
       " MS4A6E         1\n",
       " BIN1           1\n",
       " PVR            1\n",
       " SPI1           1\n",
       " NKPD1          1\n",
       " MS4A4A         1\n",
       " PICALM         1\n",
       " BCL3           1\n",
       " CEACAM16       1\n",
       " ACE            1\n",
       " CLASRP         1\n",
       " ZNF296         1\n",
       " PTK2B          1\n",
       " TRAPPC6A       1\n",
       " CLU            1\n",
       " PPP1R37        1\n",
       " CR1            1\n",
       " KAT8           1\n",
       " MS4A2          1\n",
       " TAS2R60        1\n",
       " GATS           1\n",
       " TOMM40         1\n",
       " PVRIG          1\n",
       " APOE           1\n",
       " CASS4          1\n",
       " EPHA1          1\n",
       " TSPAN14        1\n",
       " BCAM           1\n",
       " CCDC6          1\n",
       " CEACAM19       1\n",
       " APOC2          1]"
      ]
     },
     "execution_count": 5,
     "metadata": {},
     "output_type": "execute_result"
    }
   ],
   "source": [
    "def geneset2df(name='knowledge',\n",
    "               fpath='../../results/2021-07-01-high-conf-ADgenes/AD-genes-knowledge-extended',\n",
    "               scores=scores):\n",
    "    with open(fpath) as f:\n",
    "        l = f.readlines()\n",
    "    l = [x.rstrip() for x in l]\n",
    "    df = pd.DataFrame({name: 1}, index=l)\n",
    "    todrop = df.index.difference(scores.index)\n",
    "    print(todrop.to_list(), 'removed from', name)\n",
    "    df = df.drop(todrop)\n",
    "    return(df)\n",
    "\n",
    "args = [\n",
    "    ('knowledge', '../../results/2021-07-01-high-conf-ADgenes/AD-genes-knowledge-extended'),\n",
    "    ('TWAS', '../../results/2021-07-01-high-conf-ADgenes/AD-genes-TWAS'),\n",
    "    ('TWAS2+', '../../results/2021-07-01-high-conf-ADgenes/AD-genes-TWAS2plus'),\n",
    "]\n",
    "genesets = [geneset2df(*a) for a in args]\n",
    "genesets"
   ]
  },
  {
   "cell_type": "code",
   "execution_count": 4,
   "id": "2500fea0",
   "metadata": {},
   "outputs": [
    {
     "ename": "SyntaxError",
     "evalue": "invalid syntax (<ipython-input-4-637ba374046b>, line 1)",
     "output_type": "error",
     "traceback": [
      "\u001b[0;36m  File \u001b[0;32m\"<ipython-input-4-637ba374046b>\"\u001b[0;36m, line \u001b[0;32m1\u001b[0m\n\u001b[0;31m    scores = pd.concat([scores, d, axis=0)], axis=1)\u001b[0m\n\u001b[0m                                       ^\u001b[0m\n\u001b[0;31mSyntaxError\u001b[0m\u001b[0;31m:\u001b[0m invalid syntax\n"
     ]
    }
   ],
   "source": [
    "scores = pd.concat([scores, d, axis=0)], axis=1)\n",
    "scores.sort_values('pvalue').head(20)"
   ]
  },
  {
   "cell_type": "code",
   "execution_count": null,
   "id": "b51f9b7b",
   "metadata": {},
   "outputs": [],
   "source": []
  },
  {
   "cell_type": "code",
   "execution_count": null,
   "id": "a811c58e",
   "metadata": {},
   "outputs": [],
   "source": [
    "%connect_info"
   ]
  },
  {
   "cell_type": "code",
   "execution_count": null,
   "id": "b01c0478",
   "metadata": {},
   "outputs": [],
   "source": []
  }
 ],
 "metadata": {
  "kernelspec": {
   "display_name": "Python 3",
   "language": "python",
   "name": "python3"
  },
  "language_info": {
   "codemirror_mode": {
    "name": "ipython",
    "version": 3
   },
   "file_extension": ".py",
   "mimetype": "text/x-python",
   "name": "python",
   "nbconvert_exporter": "python",
   "pygments_lexer": "ipython3",
   "version": "3.8.8"
  }
 },
 "nbformat": 4,
 "nbformat_minor": 5
}
