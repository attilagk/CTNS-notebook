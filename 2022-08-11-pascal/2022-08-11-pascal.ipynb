{
 "cells": [
  {
   "cell_type": "code",
   "execution_count": 1,
   "id": "61bd0e61",
   "metadata": {},
   "outputs": [
    {
     "name": "stdout",
     "output_type": "stream",
     "text": [
      "The autoreload extension is already loaded. To reload it, use:\n",
      "  %reload_ext autoreload\n"
     ]
    }
   ],
   "source": [
    "%load_ext autoreload\n",
    "%autoreload 2\n",
    "%reload_ext autoreload\n",
    "import pandas as pd\n",
    "import numpy as np\n",
    "import matplotlib.pyplot as plt\n",
    "import attila_utils"
   ]
  },
  {
   "cell_type": "code",
   "execution_count": 2,
   "id": "d937bd97",
   "metadata": {},
   "outputs": [],
   "source": [
    "fpath = '../../results/2022-08-11-pascal/output/35379992-GCST90027158-MONDO_0004975-Build38-corrected.f.tsv.sum.genescores.txt'\n",
    "dtype = {'start': np.int64, 'end': np.int64, 'gene_id': str}\n",
    "scores = pd.read_csv(fpath, sep='\\t', index_col='gene_symbol', dtype=dtype)"
   ]
  },
  {
   "cell_type": "code",
   "execution_count": 3,
   "id": "8310d6d4",
   "metadata": {},
   "outputs": [
    {
     "name": "stdout",
     "output_type": "stream",
     "text": [
      "2 removed from knowledge ['MT-ND1', 'MT-ND2']\n",
      "24 removed from TWAS ['AC087500.1', 'AC099524.1', 'AL512631.1', 'APOC4', 'CCNT2-AS1', 'CTB-129P6.11', 'CTD-2380F24.1', 'ENSG00000260911', 'ENSG00000270081.1', 'FAM115D', 'HLA-DQA1', 'HLA-DQA2', 'HLA-DQB2', 'HLA-DRA', 'HLA-DRB1', 'MS4A4E', 'NECTIN2', 'RNA5SP156', 'RP11-385F7.1', 'SIGLEC22P', 'TSPOAP1-AS1', 'X84075', 'ZNF222', 'ZNF232-AS1']\n",
      "8 removed from TWAS2+ ['APOC4', 'CTB-129P6.11', 'HLA-DQA1', 'HLA-DQA2', 'HLA-DRA', 'HLA-DRB1', 'MS4A4E', 'NECTIN2']\n",
      "42 removed from agora ['AIFM1', 'AL049840.1', 'ATP5PO', 'CLIC1', 'CNKSR2', 'CNTNAP2', 'CSMD1', 'DDAH2', 'DLG2', 'ERBB4', 'FRMPD4', 'GPC5', 'GPM6B', 'GRAMD2B', 'GUCY1B1', 'HCP5', 'HLA-DRA', 'HSPB2', 'MOG', 'MRPL12', 'MRPL53', 'MRPL57', 'MRPL58', 'MSN', 'NDUFA13', 'NIPSNAP2', 'NONO', 'NRXN3', 'PDHA1', 'PHF24', 'PLP1', 'PLPPR4', 'PPP1R18', 'RENBP', 'RTF2', 'SEPT5', 'SLC5A3', 'SLITRK4', 'SYN1', 'SYNGAP1', 'SYP', 'TOMM70']\n",
      "4 removed from agora2+ ['CLIC1', 'CSMD1', 'MSN', 'SYNGAP1']\n"
     ]
    }
   ],
   "source": [
    "def geneset2df(name='knowledge',\n",
    "               fpath='../../results/2021-07-01-high-conf-ADgenes/AD-genes-knowledge-extended',\n",
    "               scores=scores):\n",
    "    with open(fpath) as f:\n",
    "        l = f.readlines()\n",
    "    l = [x.rstrip() for x in l]\n",
    "    df = pd.DataFrame({name: 1}, index=l)\n",
    "    todrop = df.index.difference(scores.index)\n",
    "    print(len(todrop), 'removed from', name, todrop.to_list())\n",
    "    df = df.drop(todrop)\n",
    "    return(df)\n",
    "\n",
    "args = [\n",
    "    ('knowledge', '../../results/2021-07-01-high-conf-ADgenes/AD-genes-knowledge-extended'),\n",
    "    ('TWAS', '../../results/2021-07-01-high-conf-ADgenes/AD-genes-TWAS'),\n",
    "    ('TWAS2+', '../../results/2021-07-01-high-conf-ADgenes/AD-genes-TWAS2plus'),\n",
    "    ('agora', '../../resources/agora/AD-genes-agora'),\n",
    "    ('agora2+', '../../resources/agora/AD-genes-agora-2plus-nominations'),\n",
    "]\n",
    "genesets = [geneset2df(*a) for a in args]"
   ]
  },
  {
   "cell_type": "code",
   "execution_count": 4,
   "id": "2500fea0",
   "metadata": {},
   "outputs": [
    {
     "data": {
      "text/html": [
       "<div>\n",
       "<style scoped>\n",
       "    .dataframe tbody tr th:only-of-type {\n",
       "        vertical-align: middle;\n",
       "    }\n",
       "\n",
       "    .dataframe tbody tr th {\n",
       "        vertical-align: top;\n",
       "    }\n",
       "\n",
       "    .dataframe thead th {\n",
       "        text-align: right;\n",
       "    }\n",
       "</style>\n",
       "<table border=\"1\" class=\"dataframe\">\n",
       "  <thead>\n",
       "    <tr style=\"text-align: right;\">\n",
       "      <th></th>\n",
       "      <th>chromosome</th>\n",
       "      <th>start</th>\n",
       "      <th>end</th>\n",
       "      <th>strand</th>\n",
       "      <th>gene_id</th>\n",
       "      <th>numSnps</th>\n",
       "      <th>pvalue</th>\n",
       "      <th>Status</th>\n",
       "      <th>knowledge</th>\n",
       "      <th>TWAS</th>\n",
       "      <th>TWAS2+</th>\n",
       "      <th>agora</th>\n",
       "      <th>agora2+</th>\n",
       "      <th>rank</th>\n",
       "    </tr>\n",
       "  </thead>\n",
       "  <tbody>\n",
       "    <tr>\n",
       "      <th>CYB561</th>\n",
       "      <td>chr17</td>\n",
       "      <td>61509664</td>\n",
       "      <td>61523722</td>\n",
       "      <td>-</td>\n",
       "      <td>1534</td>\n",
       "      <td>97</td>\n",
       "      <td>1.000000e-12</td>\n",
       "      <td>DAVIES_LOWPRECISION_FAREBROTHER_FAIL</td>\n",
       "      <td>NaN</td>\n",
       "      <td>NaN</td>\n",
       "      <td>NaN</td>\n",
       "      <td>NaN</td>\n",
       "      <td>NaN</td>\n",
       "      <td>1</td>\n",
       "    </tr>\n",
       "    <tr>\n",
       "      <th>IGSF23</th>\n",
       "      <td>chr19</td>\n",
       "      <td>45116939</td>\n",
       "      <td>45140081</td>\n",
       "      <td>+</td>\n",
       "      <td>147710</td>\n",
       "      <td>204</td>\n",
       "      <td>1.000000e-12</td>\n",
       "      <td>DAVIES_LOWPRECISION_FAREBROTHER_FAIL</td>\n",
       "      <td>NaN</td>\n",
       "      <td>1.0</td>\n",
       "      <td>NaN</td>\n",
       "      <td>NaN</td>\n",
       "      <td>NaN</td>\n",
       "      <td>2</td>\n",
       "    </tr>\n",
       "    <tr>\n",
       "      <th>PVR</th>\n",
       "      <td>chr19</td>\n",
       "      <td>45147097</td>\n",
       "      <td>45169428</td>\n",
       "      <td>+</td>\n",
       "      <td>5817</td>\n",
       "      <td>239</td>\n",
       "      <td>1.000000e-12</td>\n",
       "      <td>DAVIES_LOWPRECISION_FAREBROTHER_FAIL</td>\n",
       "      <td>NaN</td>\n",
       "      <td>1.0</td>\n",
       "      <td>1.0</td>\n",
       "      <td>NaN</td>\n",
       "      <td>NaN</td>\n",
       "      <td>3</td>\n",
       "    </tr>\n",
       "    <tr>\n",
       "      <th>CLASRP</th>\n",
       "      <td>chr19</td>\n",
       "      <td>45542297</td>\n",
       "      <td>45574214</td>\n",
       "      <td>+</td>\n",
       "      <td>11129</td>\n",
       "      <td>247</td>\n",
       "      <td>1.000000e-12</td>\n",
       "      <td>DAVIES_LOWPRECISION_FAREBROTHER_FAIL</td>\n",
       "      <td>NaN</td>\n",
       "      <td>1.0</td>\n",
       "      <td>1.0</td>\n",
       "      <td>NaN</td>\n",
       "      <td>NaN</td>\n",
       "      <td>4</td>\n",
       "    </tr>\n",
       "    <tr>\n",
       "      <th>RELB</th>\n",
       "      <td>chr19</td>\n",
       "      <td>45504706</td>\n",
       "      <td>45541456</td>\n",
       "      <td>+</td>\n",
       "      <td>5971</td>\n",
       "      <td>212</td>\n",
       "      <td>1.000000e-12</td>\n",
       "      <td>DAVIES_LOWPRECISION_FAREBROTHER_FAIL</td>\n",
       "      <td>NaN</td>\n",
       "      <td>NaN</td>\n",
       "      <td>NaN</td>\n",
       "      <td>NaN</td>\n",
       "      <td>NaN</td>\n",
       "      <td>5</td>\n",
       "    </tr>\n",
       "    <tr>\n",
       "      <th>CLPTM1</th>\n",
       "      <td>chr19</td>\n",
       "      <td>45457841</td>\n",
       "      <td>45496604</td>\n",
       "      <td>+</td>\n",
       "      <td>1209</td>\n",
       "      <td>193</td>\n",
       "      <td>1.000000e-12</td>\n",
       "      <td>DAVIES_LOWPRECISION_FAREBROTHER_FAIL</td>\n",
       "      <td>NaN</td>\n",
       "      <td>1.0</td>\n",
       "      <td>1.0</td>\n",
       "      <td>NaN</td>\n",
       "      <td>NaN</td>\n",
       "      <td>6</td>\n",
       "    </tr>\n",
       "    <tr>\n",
       "      <th>APOC2</th>\n",
       "      <td>chr19</td>\n",
       "      <td>45451541</td>\n",
       "      <td>45452652</td>\n",
       "      <td>+</td>\n",
       "      <td>344</td>\n",
       "      <td>141</td>\n",
       "      <td>1.000000e-12</td>\n",
       "      <td>DAVIES_LOWPRECISION_FAREBROTHER_FAIL</td>\n",
       "      <td>NaN</td>\n",
       "      <td>1.0</td>\n",
       "      <td>1.0</td>\n",
       "      <td>NaN</td>\n",
       "      <td>NaN</td>\n",
       "      <td>7</td>\n",
       "    </tr>\n",
       "    <tr>\n",
       "      <th>MIR4531</th>\n",
       "      <td>chr19</td>\n",
       "      <td>45156955</td>\n",
       "      <td>45157002</td>\n",
       "      <td>-</td>\n",
       "      <td>100616355</td>\n",
       "      <td>182</td>\n",
       "      <td>1.000000e-12</td>\n",
       "      <td>DAVIES_LOWPRECISION_FAREBROTHER_FAIL</td>\n",
       "      <td>NaN</td>\n",
       "      <td>NaN</td>\n",
       "      <td>NaN</td>\n",
       "      <td>NaN</td>\n",
       "      <td>NaN</td>\n",
       "      <td>8</td>\n",
       "    </tr>\n",
       "    <tr>\n",
       "      <th>CEACAM19</th>\n",
       "      <td>chr19</td>\n",
       "      <td>45174723</td>\n",
       "      <td>45187627</td>\n",
       "      <td>+</td>\n",
       "      <td>56971</td>\n",
       "      <td>212</td>\n",
       "      <td>1.000000e-12</td>\n",
       "      <td>DAVIES_LOWPRECISION_FAREBROTHER_FAIL</td>\n",
       "      <td>NaN</td>\n",
       "      <td>1.0</td>\n",
       "      <td>1.0</td>\n",
       "      <td>NaN</td>\n",
       "      <td>NaN</td>\n",
       "      <td>9</td>\n",
       "    </tr>\n",
       "    <tr>\n",
       "      <th>CEACAM16</th>\n",
       "      <td>chr19</td>\n",
       "      <td>45202420</td>\n",
       "      <td>45213986</td>\n",
       "      <td>+</td>\n",
       "      <td>388551</td>\n",
       "      <td>183</td>\n",
       "      <td>1.000000e-12</td>\n",
       "      <td>DAVIES_LOWPRECISION_FAREBROTHER_FAIL</td>\n",
       "      <td>NaN</td>\n",
       "      <td>1.0</td>\n",
       "      <td>1.0</td>\n",
       "      <td>NaN</td>\n",
       "      <td>NaN</td>\n",
       "      <td>10</td>\n",
       "    </tr>\n",
       "  </tbody>\n",
       "</table>\n",
       "</div>"
      ],
      "text/plain": [
       "         chromosome     start       end strand    gene_id  numSnps  \\\n",
       "CYB561        chr17  61509664  61523722      -       1534       97   \n",
       "IGSF23        chr19  45116939  45140081      +     147710      204   \n",
       "PVR           chr19  45147097  45169428      +       5817      239   \n",
       "CLASRP        chr19  45542297  45574214      +      11129      247   \n",
       "RELB          chr19  45504706  45541456      +       5971      212   \n",
       "CLPTM1        chr19  45457841  45496604      +       1209      193   \n",
       "APOC2         chr19  45451541  45452652      +        344      141   \n",
       "MIR4531       chr19  45156955  45157002      -  100616355      182   \n",
       "CEACAM19      chr19  45174723  45187627      +      56971      212   \n",
       "CEACAM16      chr19  45202420  45213986      +     388551      183   \n",
       "\n",
       "                pvalue                                Status  knowledge  TWAS  \\\n",
       "CYB561    1.000000e-12  DAVIES_LOWPRECISION_FAREBROTHER_FAIL        NaN   NaN   \n",
       "IGSF23    1.000000e-12  DAVIES_LOWPRECISION_FAREBROTHER_FAIL        NaN   1.0   \n",
       "PVR       1.000000e-12  DAVIES_LOWPRECISION_FAREBROTHER_FAIL        NaN   1.0   \n",
       "CLASRP    1.000000e-12  DAVIES_LOWPRECISION_FAREBROTHER_FAIL        NaN   1.0   \n",
       "RELB      1.000000e-12  DAVIES_LOWPRECISION_FAREBROTHER_FAIL        NaN   NaN   \n",
       "CLPTM1    1.000000e-12  DAVIES_LOWPRECISION_FAREBROTHER_FAIL        NaN   1.0   \n",
       "APOC2     1.000000e-12  DAVIES_LOWPRECISION_FAREBROTHER_FAIL        NaN   1.0   \n",
       "MIR4531   1.000000e-12  DAVIES_LOWPRECISION_FAREBROTHER_FAIL        NaN   NaN   \n",
       "CEACAM19  1.000000e-12  DAVIES_LOWPRECISION_FAREBROTHER_FAIL        NaN   1.0   \n",
       "CEACAM16  1.000000e-12  DAVIES_LOWPRECISION_FAREBROTHER_FAIL        NaN   1.0   \n",
       "\n",
       "          TWAS2+  agora  agora2+  rank  \n",
       "CYB561       NaN    NaN      NaN     1  \n",
       "IGSF23       NaN    NaN      NaN     2  \n",
       "PVR          1.0    NaN      NaN     3  \n",
       "CLASRP       1.0    NaN      NaN     4  \n",
       "RELB         NaN    NaN      NaN     5  \n",
       "CLPTM1       1.0    NaN      NaN     6  \n",
       "APOC2        1.0    NaN      NaN     7  \n",
       "MIR4531      NaN    NaN      NaN     8  \n",
       "CEACAM19     1.0    NaN      NaN     9  \n",
       "CEACAM16     1.0    NaN      NaN    10  "
      ]
     },
     "execution_count": 4,
     "metadata": {},
     "output_type": "execute_result"
    }
   ],
   "source": [
    "results = pd.concat([scores] + genesets, axis=1).sort_values('pvalue')\n",
    "results.to_csv('../../results/2022-08-11-pascal/results.csv')\n",
    "results['rank'] = np.arange(results.shape[0]) + 1\n",
    "results.head(10)"
   ]
  },
  {
   "cell_type": "code",
   "execution_count": 5,
   "id": "50a122ec",
   "metadata": {},
   "outputs": [
    {
     "data": {
      "image/png": "[encoded data removed]",
      "text/plain": [
       "<Figure size 432x288 with 6 Axes>"
      ]
     },
     "metadata": {
      "needs_background": "light"
     },
     "output_type": "display_data"
    }
   ],
   "source": [
    "def myplot(right=None):\n",
    "    left = - right / 20 if right is not None else None\n",
    "    fig = plt.figure(constrained_layout=True)\n",
    "    heights = [1] * len(args) + [10]\n",
    "    spec = fig.add_gridspec(ncols=1, nrows=len(args) + 1, height_ratios=heights)\n",
    "    axi = fig.add_subplot(spec[len(args)])\n",
    "    axi.scatter(x='rank', y='pvalue', marker='.', data=results)\n",
    "    axi.set_yscale('log')\n",
    "    axi.set_ylabel('p-val', rotation=90)\n",
    "    axi.set_xlim(left=left, right=right)\n",
    "    if right is not None and right <= 100:\n",
    "        axi.set_xticks(list(np.arange(right + 1, dtype=np.float64)))\n",
    "        axi.set_xticklabels(results.index[:right + 1], rotation=90)\n",
    "    for i, arg in enumerate(args):\n",
    "        name = arg[0]\n",
    "        ax = fig.add_subplot(spec[i])\n",
    "        ax.set_xticks([])\n",
    "        ax.set_yticks([])\n",
    "        ax.set_xticklabels([])\n",
    "        ax.set_yticklabels([])\n",
    "        ax.set_ylabel(name, rotation=0)\n",
    "        ax.scatter(x='rank', y=name, marker='|', data=results)\n",
    "        ax.set_xlim(left=left, right=right)\n",
    "    fig.align_ylabels()\n",
    "    return(fig)\n",
    "\n",
    "fig = myplot(right=None)"
   ]
  },
  {
   "cell_type": "code",
   "execution_count": 6,
   "id": "d8fdc637",
   "metadata": {},
   "outputs": [
    {
     "data": {
      "image/png": "[encoded data removed]",
      "text/plain": [
       "<Figure size 432x288 with 6 Axes>"
      ]
     },
     "metadata": {
      "needs_background": "light"
     },
     "output_type": "display_data"
    }
   ],
   "source": [
    "fig = myplot(right=400)"
   ]
  },
  {
   "cell_type": "code",
   "execution_count": 7,
   "id": "7e73f9b0",
   "metadata": {},
   "outputs": [
    {
     "data": {
      "image/png": "[encoded data removed]",
      "text/plain": [
       "<Figure size 432x288 with 6 Axes>"
      ]
     },
     "metadata": {
      "needs_background": "light"
     },
     "output_type": "display_data"
    }
   ],
   "source": [
    "fig = myplot(right=50)"
   ]
  },
  {
   "cell_type": "code",
   "execution_count": 8,
   "id": "a811c58e",
   "metadata": {},
   "outputs": [
    {
     "name": "stdout",
     "output_type": "stream",
     "text": [
      "{\n",
      "  \"shell_port\": 51457,\n",
      "  \"iopub_port\": 51458,\n",
      "  \"stdin_port\": 51459,\n",
      "  \"control_port\": 51461,\n",
      "  \"hb_port\": 51460,\n",
      "  \"ip\": \"127.0.0.1\",\n",
      "  \"key\": \"388b6b0c-29aac68f488f3bf70c692be8\",\n",
      "  \"transport\": \"tcp\",\n",
      "  \"signature_scheme\": \"hmac-sha256\",\n",
      "  \"kernel_name\": \"\"\n",
      "}\n",
      "\n",
      "Paste the above JSON into a file, and connect with:\n",
      "    $> jupyter <app> --existing <file>\n",
      "or, if you are local, you can connect with just:\n",
      "    $> jupyter <app> --existing kernel-123771e0-e72f-40d3-b16f-454bbd1f917b.json\n",
      "or even just:\n",
      "    $> jupyter <app> --existing\n",
      "if this is the most recent Jupyter kernel you have started.\n"
     ]
    }
   ],
   "source": [
    "%connect_info"
   ]
  },
  {
   "cell_type": "code",
   "execution_count": null,
   "id": "b01c0478",
   "metadata": {},
   "outputs": [],
   "source": []
  }
 ],
 "metadata": {
  "kernelspec": {
   "display_name": "Python 3",
   "language": "python",
   "name": "python3"
  },
  "language_info": {
   "codemirror_mode": {
    "name": "ipython",
    "version": 3
   },
   "file_extension": ".py",
   "mimetype": "text/x-python",
   "name": "python",
   "nbconvert_exporter": "python",
   "pygments_lexer": "ipython3",
   "version": "3.8.8"
  }
 },
 "nbformat": 4,
 "nbformat_minor": 5
}
