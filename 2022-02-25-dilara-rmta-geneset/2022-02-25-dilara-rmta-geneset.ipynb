{
 "cells": [
  {
   "cell_type": "code",
   "execution_count": 1,
   "id": "aca9f5e9",
   "metadata": {},
   "outputs": [
    {
     "name": "stdout",
     "output_type": "stream",
     "text": [
      "The autoreload extension is already loaded. To reload it, use:\n",
      "  %reload_ext autoreload\n"
     ]
    }
   ],
   "source": [
    "%load_ext autoreload\n",
    "%autoreload 2\n",
    "%reload_ext autoreload\n",
    "import matplotlib.pyplot as plt\n",
    "import pandas as pd\n",
    "import numpy as np\n",
    "import attila_utils"
   ]
  },
  {
   "cell_type": "code",
   "execution_count": 2,
   "id": "164070f2",
   "metadata": {},
   "outputs": [],
   "source": [
    "inpath = '../../resources/tunahan/Drug_Target_GeneList_rMTA_APOE.xlsx'\n",
    "genes = pd.read_excel(inpath, index_col='gene', sheet_name='unique_gene_list')\n",
    "outpath = '../../results/2022-02-25-dilara-rmta-geneset/rmta-apoe3-apoe4'\n",
    "genes['gene symbol'].to_csv(outpath, index=False, header=False)"
   ]
  },
  {
   "cell_type": "code",
   "execution_count": 3,
   "id": "59f7ea68",
   "metadata": {},
   "outputs": [
    {
     "name": "stdout",
     "output_type": "stream",
     "text": [
      "{\n",
      "  \"shell_port\": 64600,\n",
      "  \"iopub_port\": 64601,\n",
      "  \"stdin_port\": 64602,\n",
      "  \"control_port\": 64604,\n",
      "  \"hb_port\": 64603,\n",
      "  \"ip\": \"127.0.0.1\",\n",
      "  \"key\": \"2404af05-8a697739d702714dfe85575b\",\n",
      "  \"transport\": \"tcp\",\n",
      "  \"signature_scheme\": \"hmac-sha256\",\n",
      "  \"kernel_name\": \"\"\n",
      "}\n",
      "\n",
      "Paste the above JSON into a file, and connect with:\n",
      "    $> jupyter <app> --existing <file>\n",
      "or, if you are local, you can connect with just:\n",
      "    $> jupyter <app> --existing kernel-88dd9956-0426-44f4-90a3-1129cc449277.json\n",
      "or even just:\n",
      "    $> jupyter <app> --existing\n",
      "if this is the most recent Jupyter kernel you have started.\n"
     ]
    }
   ],
   "source": [
    "%connect_info"
   ]
  },
  {
   "cell_type": "code",
   "execution_count": null,
   "id": "09554f6a",
   "metadata": {},
   "outputs": [],
   "source": []
  }
 ],
 "metadata": {
  "kernelspec": {
   "display_name": "Python 3",
   "language": "python",
   "name": "python3"
  },
  "language_info": {
   "codemirror_mode": {
    "name": "ipython",
    "version": 3
   },
   "file_extension": ".py",
   "mimetype": "text/x-python",
   "name": "python",
   "nbconvert_exporter": "python",
   "pygments_lexer": "ipython3",
   "version": "3.8.8"
  }
 },
 "nbformat": 4,
 "nbformat_minor": 5
}
