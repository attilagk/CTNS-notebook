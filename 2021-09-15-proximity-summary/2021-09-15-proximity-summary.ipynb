{
 "cells": [
  {
   "cell_type": "code",
   "execution_count": 1,
   "id": "infrared-ballot",
   "metadata": {},
   "outputs": [],
   "source": [
    "%load_ext autoreload\n",
    "%autoreload 2\n",
    "%reload_ext autoreload\n",
    "#from toolbox import wrappers\n",
    "#from toolbox import network_utilities\n",
    "import repos_tools\n",
    "import pandas as pd\n",
    "import numpy as np\n",
    "import seaborn as sns\n",
    "import matplotlib.pyplot as plt\n",
    "import matplotlib\n",
    "import attila_utils\n",
    "#import scipy.stats"
   ]
  },
  {
   "cell_type": "code",
   "execution_count": 2,
   "id": "wrong-delivery",
   "metadata": {},
   "outputs": [
    {
     "data": {
      "text/html": [
       "<div>\n",
       "<style scoped>\n",
       "    .dataframe tbody tr th:only-of-type {\n",
       "        vertical-align: middle;\n",
       "    }\n",
       "\n",
       "    .dataframe tbody tr th {\n",
       "        vertical-align: top;\n",
       "    }\n",
       "\n",
       "    .dataframe thead th {\n",
       "        text-align: right;\n",
       "    }\n",
       "</style>\n",
       "<table border=\"1\" class=\"dataframe\">\n",
       "  <thead>\n",
       "    <tr style=\"text-align: right;\">\n",
       "      <th></th>\n",
       "      <th></th>\n",
       "      <th>d</th>\n",
       "      <th>z</th>\n",
       "      <th>mean_0</th>\n",
       "      <th>std_0</th>\n",
       "      <th>p</th>\n",
       "      <th>condition</th>\n",
       "      <th>target</th>\n",
       "    </tr>\n",
       "  </thead>\n",
       "  <tbody>\n",
       "    <tr>\n",
       "      <th rowspan=\"8\" valign=\"top\">knowledge</th>\n",
       "      <th>3 AD genes</th>\n",
       "      <td>0.000000</td>\n",
       "      <td>-8.115661</td>\n",
       "      <td>1.947667</td>\n",
       "      <td>0.239989</td>\n",
       "      <td>2.415732e-16</td>\n",
       "      <td>knowledge</td>\n",
       "      <td>3 AD genes</td>\n",
       "    </tr>\n",
       "    <tr>\n",
       "      <th>HCQ targets</th>\n",
       "      <td>2.333333</td>\n",
       "      <td>1.587721</td>\n",
       "      <td>1.990667</td>\n",
       "      <td>0.215823</td>\n",
       "      <td>9.438253e-01</td>\n",
       "      <td>knowledge</td>\n",
       "      <td>HCQ targets</td>\n",
       "    </tr>\n",
       "    <tr>\n",
       "      <th>ADRB2</th>\n",
       "      <td>2.000000</td>\n",
       "      <td>1.464464</td>\n",
       "      <td>1.318000</td>\n",
       "      <td>0.465699</td>\n",
       "      <td>9.284664e-01</td>\n",
       "      <td>knowledge</td>\n",
       "      <td>ADRB2</td>\n",
       "    </tr>\n",
       "    <tr>\n",
       "      <th>CYSLTR1</th>\n",
       "      <td>4.000000</td>\n",
       "      <td>3.120326</td>\n",
       "      <td>2.363000</td>\n",
       "      <td>0.524625</td>\n",
       "      <td>9.990967e-01</td>\n",
       "      <td>knowledge</td>\n",
       "      <td>CYSLTR1</td>\n",
       "    </tr>\n",
       "    <tr>\n",
       "      <th>GRIN3A</th>\n",
       "      <td>2.000000</td>\n",
       "      <td>0.095917</td>\n",
       "      <td>1.972000</td>\n",
       "      <td>0.291918</td>\n",
       "      <td>5.382069e-01</td>\n",
       "      <td>knowledge</td>\n",
       "      <td>GRIN3A</td>\n",
       "    </tr>\n",
       "    <tr>\n",
       "      <th>IL6R</th>\n",
       "      <td>1.000000</td>\n",
       "      <td>-3.350524</td>\n",
       "      <td>1.932000</td>\n",
       "      <td>0.278165</td>\n",
       "      <td>4.032936e-04</td>\n",
       "      <td>knowledge</td>\n",
       "      <td>IL6R</td>\n",
       "    </tr>\n",
       "    <tr>\n",
       "      <th>NR3C1</th>\n",
       "      <td>1.000000</td>\n",
       "      <td>-0.674985</td>\n",
       "      <td>1.313000</td>\n",
       "      <td>0.463714</td>\n",
       "      <td>2.498428e-01</td>\n",
       "      <td>knowledge</td>\n",
       "      <td>NR3C1</td>\n",
       "    </tr>\n",
       "    <tr>\n",
       "      <th>PDE4D</th>\n",
       "      <td>1.000000</td>\n",
       "      <td>-1.804276</td>\n",
       "      <td>1.767000</td>\n",
       "      <td>0.425101</td>\n",
       "      <td>3.559399e-02</td>\n",
       "      <td>knowledge</td>\n",
       "      <td>PDE4D</td>\n",
       "    </tr>\n",
       "    <tr>\n",
       "      <th rowspan=\"8\" valign=\"top\">knowledge TWAS2+</th>\n",
       "      <th>3 AD genes</th>\n",
       "      <td>0.000000</td>\n",
       "      <td>-7.743683</td>\n",
       "      <td>1.902333</td>\n",
       "      <td>0.245663</td>\n",
       "      <td>4.828871e-15</td>\n",
       "      <td>knowledge TWAS2+</td>\n",
       "      <td>3 AD genes</td>\n",
       "    </tr>\n",
       "    <tr>\n",
       "      <th>HCQ targets</th>\n",
       "      <td>2.000000</td>\n",
       "      <td>0.218769</td>\n",
       "      <td>1.952000</td>\n",
       "      <td>0.219409</td>\n",
       "      <td>5.865851e-01</td>\n",
       "      <td>knowledge TWAS2+</td>\n",
       "      <td>HCQ targets</td>\n",
       "    </tr>\n",
       "    <tr>\n",
       "      <th>ADRB2</th>\n",
       "      <td>2.000000</td>\n",
       "      <td>2.120025</td>\n",
       "      <td>1.182000</td>\n",
       "      <td>0.385845</td>\n",
       "      <td>9.829980e-01</td>\n",
       "      <td>knowledge TWAS2+</td>\n",
       "      <td>ADRB2</td>\n",
       "    </tr>\n",
       "    <tr>\n",
       "      <th>CYSLTR1</th>\n",
       "      <td>4.000000</td>\n",
       "      <td>3.123695</td>\n",
       "      <td>2.337000</td>\n",
       "      <td>0.532382</td>\n",
       "      <td>9.991070e-01</td>\n",
       "      <td>knowledge TWAS2+</td>\n",
       "      <td>CYSLTR1</td>\n",
       "    </tr>\n",
       "    <tr>\n",
       "      <th>GRIN3A</th>\n",
       "      <td>2.000000</td>\n",
       "      <td>0.211227</td>\n",
       "      <td>1.938000</td>\n",
       "      <td>0.293523</td>\n",
       "      <td>5.836448e-01</td>\n",
       "      <td>knowledge TWAS2+</td>\n",
       "      <td>GRIN3A</td>\n",
       "    </tr>\n",
       "    <tr>\n",
       "      <th>IL6R</th>\n",
       "      <td>1.000000</td>\n",
       "      <td>-2.831598</td>\n",
       "      <td>1.899000</td>\n",
       "      <td>0.317489</td>\n",
       "      <td>2.315803e-03</td>\n",
       "      <td>knowledge TWAS2+</td>\n",
       "      <td>IL6R</td>\n",
       "    </tr>\n",
       "    <tr>\n",
       "      <th>NR3C1</th>\n",
       "      <td>1.000000</td>\n",
       "      <td>-0.514026</td>\n",
       "      <td>1.209000</td>\n",
       "      <td>0.406594</td>\n",
       "      <td>3.036170e-01</td>\n",
       "      <td>knowledge TWAS2+</td>\n",
       "      <td>NR3C1</td>\n",
       "    </tr>\n",
       "    <tr>\n",
       "      <th>PDE4D</th>\n",
       "      <td>1.000000</td>\n",
       "      <td>-1.718304</td>\n",
       "      <td>1.747000</td>\n",
       "      <td>0.434731</td>\n",
       "      <td>4.287058e-02</td>\n",
       "      <td>knowledge TWAS2+</td>\n",
       "      <td>PDE4D</td>\n",
       "    </tr>\n",
       "    <tr>\n",
       "      <th rowspan=\"8\" valign=\"top\">knowledge TWAS2+ IAPS</th>\n",
       "      <th>3 AD genes</th>\n",
       "      <td>0.000000</td>\n",
       "      <td>-7.115839</td>\n",
       "      <td>1.793667</td>\n",
       "      <td>0.252067</td>\n",
       "      <td>5.561709e-13</td>\n",
       "      <td>knowledge TWAS2+ IAPS</td>\n",
       "      <td>3 AD genes</td>\n",
       "    </tr>\n",
       "    <tr>\n",
       "      <th>HCQ targets</th>\n",
       "      <td>2.000000</td>\n",
       "      <td>0.607272</td>\n",
       "      <td>1.851667</td>\n",
       "      <td>0.244262</td>\n",
       "      <td>7.281647e-01</td>\n",
       "      <td>knowledge TWAS2+ IAPS</td>\n",
       "      <td>HCQ targets</td>\n",
       "    </tr>\n",
       "    <tr>\n",
       "      <th>ADRB2</th>\n",
       "      <td>1.000000</td>\n",
       "      <td>-0.276453</td>\n",
       "      <td>1.071000</td>\n",
       "      <td>0.256825</td>\n",
       "      <td>3.911001e-01</td>\n",
       "      <td>knowledge TWAS2+ IAPS</td>\n",
       "      <td>ADRB2</td>\n",
       "    </tr>\n",
       "    <tr>\n",
       "      <th>CYSLTR1</th>\n",
       "      <td>3.000000</td>\n",
       "      <td>1.566340</td>\n",
       "      <td>2.248000</td>\n",
       "      <td>0.480100</td>\n",
       "      <td>9.413655e-01</td>\n",
       "      <td>knowledge TWAS2+ IAPS</td>\n",
       "      <td>CYSLTR1</td>\n",
       "    </tr>\n",
       "    <tr>\n",
       "      <th>GRIN3A</th>\n",
       "      <td>2.000000</td>\n",
       "      <td>0.323110</td>\n",
       "      <td>1.890000</td>\n",
       "      <td>0.340441</td>\n",
       "      <td>6.266942e-01</td>\n",
       "      <td>knowledge TWAS2+ IAPS</td>\n",
       "      <td>GRIN3A</td>\n",
       "    </tr>\n",
       "    <tr>\n",
       "      <th>IL6R</th>\n",
       "      <td>1.000000</td>\n",
       "      <td>-2.051455</td>\n",
       "      <td>1.810000</td>\n",
       "      <td>0.394842</td>\n",
       "      <td>2.011134e-02</td>\n",
       "      <td>knowledge TWAS2+ IAPS</td>\n",
       "      <td>IL6R</td>\n",
       "    </tr>\n",
       "    <tr>\n",
       "      <th>NR3C1</th>\n",
       "      <td>1.000000</td>\n",
       "      <td>-0.286794</td>\n",
       "      <td>1.076000</td>\n",
       "      <td>0.264998</td>\n",
       "      <td>3.871348e-01</td>\n",
       "      <td>knowledge TWAS2+ IAPS</td>\n",
       "      <td>NR3C1</td>\n",
       "    </tr>\n",
       "    <tr>\n",
       "      <th>PDE4D</th>\n",
       "      <td>1.000000</td>\n",
       "      <td>-1.084978</td>\n",
       "      <td>1.560000</td>\n",
       "      <td>0.516140</td>\n",
       "      <td>1.389657e-01</td>\n",
       "      <td>knowledge TWAS2+ IAPS</td>\n",
       "      <td>PDE4D</td>\n",
       "    </tr>\n",
       "    <tr>\n",
       "      <th rowspan=\"8\" valign=\"top\">knowledge TWAS</th>\n",
       "      <th>3 AD genes</th>\n",
       "      <td>0.000000</td>\n",
       "      <td>-7.056524</td>\n",
       "      <td>1.831000</td>\n",
       "      <td>0.259476</td>\n",
       "      <td>8.535936e-13</td>\n",
       "      <td>knowledge TWAS</td>\n",
       "      <td>3 AD genes</td>\n",
       "    </tr>\n",
       "    <tr>\n",
       "      <th>HCQ targets</th>\n",
       "      <td>2.000000</td>\n",
       "      <td>0.486653</td>\n",
       "      <td>1.885333</td>\n",
       "      <td>0.235623</td>\n",
       "      <td>6.867479e-01</td>\n",
       "      <td>knowledge TWAS</td>\n",
       "      <td>HCQ targets</td>\n",
       "    </tr>\n",
       "    <tr>\n",
       "      <th>ADRB2</th>\n",
       "      <td>2.000000</td>\n",
       "      <td>3.280961</td>\n",
       "      <td>1.085000</td>\n",
       "      <td>0.278882</td>\n",
       "      <td>9.994827e-01</td>\n",
       "      <td>knowledge TWAS</td>\n",
       "      <td>ADRB2</td>\n",
       "    </tr>\n",
       "    <tr>\n",
       "      <th>CYSLTR1</th>\n",
       "      <td>3.000000</td>\n",
       "      <td>1.372064</td>\n",
       "      <td>2.251000</td>\n",
       "      <td>0.545893</td>\n",
       "      <td>9.149783e-01</td>\n",
       "      <td>knowledge TWAS</td>\n",
       "      <td>CYSLTR1</td>\n",
       "    </tr>\n",
       "    <tr>\n",
       "      <th>GRIN3A</th>\n",
       "      <td>2.000000</td>\n",
       "      <td>0.277350</td>\n",
       "      <td>1.900000</td>\n",
       "      <td>0.360555</td>\n",
       "      <td>6.092444e-01</td>\n",
       "      <td>knowledge TWAS</td>\n",
       "      <td>GRIN3A</td>\n",
       "    </tr>\n",
       "    <tr>\n",
       "      <th>IL6R</th>\n",
       "      <td>1.000000</td>\n",
       "      <td>-2.362023</td>\n",
       "      <td>1.850000</td>\n",
       "      <td>0.359861</td>\n",
       "      <td>9.087768e-03</td>\n",
       "      <td>knowledge TWAS</td>\n",
       "      <td>IL6R</td>\n",
       "    </tr>\n",
       "    <tr>\n",
       "      <th>NR3C1</th>\n",
       "      <td>1.000000</td>\n",
       "      <td>-0.302825</td>\n",
       "      <td>1.084000</td>\n",
       "      <td>0.277388</td>\n",
       "      <td>3.810116e-01</td>\n",
       "      <td>knowledge TWAS</td>\n",
       "      <td>NR3C1</td>\n",
       "    </tr>\n",
       "    <tr>\n",
       "      <th>PDE4D</th>\n",
       "      <td>1.000000</td>\n",
       "      <td>-1.390162</td>\n",
       "      <td>1.659000</td>\n",
       "      <td>0.474045</td>\n",
       "      <td>8.223979e-02</td>\n",
       "      <td>knowledge TWAS</td>\n",
       "      <td>PDE4D</td>\n",
       "    </tr>\n",
       "  </tbody>\n",
       "</table>\n",
       "</div>"
      ],
      "text/plain": [
       "                                          d         z    mean_0     std_0  \\\n",
       "knowledge             3 AD genes   0.000000 -8.115661  1.947667  0.239989   \n",
       "                      HCQ targets  2.333333  1.587721  1.990667  0.215823   \n",
       "                      ADRB2        2.000000  1.464464  1.318000  0.465699   \n",
       "                      CYSLTR1      4.000000  3.120326  2.363000  0.524625   \n",
       "                      GRIN3A       2.000000  0.095917  1.972000  0.291918   \n",
       "                      IL6R         1.000000 -3.350524  1.932000  0.278165   \n",
       "                      NR3C1        1.000000 -0.674985  1.313000  0.463714   \n",
       "                      PDE4D        1.000000 -1.804276  1.767000  0.425101   \n",
       "knowledge TWAS2+      3 AD genes   0.000000 -7.743683  1.902333  0.245663   \n",
       "                      HCQ targets  2.000000  0.218769  1.952000  0.219409   \n",
       "                      ADRB2        2.000000  2.120025  1.182000  0.385845   \n",
       "                      CYSLTR1      4.000000  3.123695  2.337000  0.532382   \n",
       "                      GRIN3A       2.000000  0.211227  1.938000  0.293523   \n",
       "                      IL6R         1.000000 -2.831598  1.899000  0.317489   \n",
       "                      NR3C1        1.000000 -0.514026  1.209000  0.406594   \n",
       "                      PDE4D        1.000000 -1.718304  1.747000  0.434731   \n",
       "knowledge TWAS2+ IAPS 3 AD genes   0.000000 -7.115839  1.793667  0.252067   \n",
       "                      HCQ targets  2.000000  0.607272  1.851667  0.244262   \n",
       "                      ADRB2        1.000000 -0.276453  1.071000  0.256825   \n",
       "                      CYSLTR1      3.000000  1.566340  2.248000  0.480100   \n",
       "                      GRIN3A       2.000000  0.323110  1.890000  0.340441   \n",
       "                      IL6R         1.000000 -2.051455  1.810000  0.394842   \n",
       "                      NR3C1        1.000000 -0.286794  1.076000  0.264998   \n",
       "                      PDE4D        1.000000 -1.084978  1.560000  0.516140   \n",
       "knowledge TWAS        3 AD genes   0.000000 -7.056524  1.831000  0.259476   \n",
       "                      HCQ targets  2.000000  0.486653  1.885333  0.235623   \n",
       "                      ADRB2        2.000000  3.280961  1.085000  0.278882   \n",
       "                      CYSLTR1      3.000000  1.372064  2.251000  0.545893   \n",
       "                      GRIN3A       2.000000  0.277350  1.900000  0.360555   \n",
       "                      IL6R         1.000000 -2.362023  1.850000  0.359861   \n",
       "                      NR3C1        1.000000 -0.302825  1.084000  0.277388   \n",
       "                      PDE4D        1.000000 -1.390162  1.659000  0.474045   \n",
       "\n",
       "                                              p              condition  \\\n",
       "knowledge             3 AD genes   2.415732e-16              knowledge   \n",
       "                      HCQ targets  9.438253e-01              knowledge   \n",
       "                      ADRB2        9.284664e-01              knowledge   \n",
       "                      CYSLTR1      9.990967e-01              knowledge   \n",
       "                      GRIN3A       5.382069e-01              knowledge   \n",
       "                      IL6R         4.032936e-04              knowledge   \n",
       "                      NR3C1        2.498428e-01              knowledge   \n",
       "                      PDE4D        3.559399e-02              knowledge   \n",
       "knowledge TWAS2+      3 AD genes   4.828871e-15       knowledge TWAS2+   \n",
       "                      HCQ targets  5.865851e-01       knowledge TWAS2+   \n",
       "                      ADRB2        9.829980e-01       knowledge TWAS2+   \n",
       "                      CYSLTR1      9.991070e-01       knowledge TWAS2+   \n",
       "                      GRIN3A       5.836448e-01       knowledge TWAS2+   \n",
       "                      IL6R         2.315803e-03       knowledge TWAS2+   \n",
       "                      NR3C1        3.036170e-01       knowledge TWAS2+   \n",
       "                      PDE4D        4.287058e-02       knowledge TWAS2+   \n",
       "knowledge TWAS2+ IAPS 3 AD genes   5.561709e-13  knowledge TWAS2+ IAPS   \n",
       "                      HCQ targets  7.281647e-01  knowledge TWAS2+ IAPS   \n",
       "                      ADRB2        3.911001e-01  knowledge TWAS2+ IAPS   \n",
       "                      CYSLTR1      9.413655e-01  knowledge TWAS2+ IAPS   \n",
       "                      GRIN3A       6.266942e-01  knowledge TWAS2+ IAPS   \n",
       "                      IL6R         2.011134e-02  knowledge TWAS2+ IAPS   \n",
       "                      NR3C1        3.871348e-01  knowledge TWAS2+ IAPS   \n",
       "                      PDE4D        1.389657e-01  knowledge TWAS2+ IAPS   \n",
       "knowledge TWAS        3 AD genes   8.535936e-13         knowledge TWAS   \n",
       "                      HCQ targets  6.867479e-01         knowledge TWAS   \n",
       "                      ADRB2        9.994827e-01         knowledge TWAS   \n",
       "                      CYSLTR1      9.149783e-01         knowledge TWAS   \n",
       "                      GRIN3A       6.092444e-01         knowledge TWAS   \n",
       "                      IL6R         9.087768e-03         knowledge TWAS   \n",
       "                      NR3C1        3.810116e-01         knowledge TWAS   \n",
       "                      PDE4D        8.223979e-02         knowledge TWAS   \n",
       "\n",
       "                                        target  \n",
       "knowledge             3 AD genes    3 AD genes  \n",
       "                      HCQ targets  HCQ targets  \n",
       "                      ADRB2              ADRB2  \n",
       "                      CYSLTR1          CYSLTR1  \n",
       "                      GRIN3A            GRIN3A  \n",
       "                      IL6R                IL6R  \n",
       "                      NR3C1              NR3C1  \n",
       "                      PDE4D              PDE4D  \n",
       "knowledge TWAS2+      3 AD genes    3 AD genes  \n",
       "                      HCQ targets  HCQ targets  \n",
       "                      ADRB2              ADRB2  \n",
       "                      CYSLTR1          CYSLTR1  \n",
       "                      GRIN3A            GRIN3A  \n",
       "                      IL6R                IL6R  \n",
       "                      NR3C1              NR3C1  \n",
       "                      PDE4D              PDE4D  \n",
       "knowledge TWAS2+ IAPS 3 AD genes    3 AD genes  \n",
       "                      HCQ targets  HCQ targets  \n",
       "                      ADRB2              ADRB2  \n",
       "                      CYSLTR1          CYSLTR1  \n",
       "                      GRIN3A            GRIN3A  \n",
       "                      IL6R                IL6R  \n",
       "                      NR3C1              NR3C1  \n",
       "                      PDE4D              PDE4D  \n",
       "knowledge TWAS        3 AD genes    3 AD genes  \n",
       "                      HCQ targets  HCQ targets  \n",
       "                      ADRB2              ADRB2  \n",
       "                      CYSLTR1          CYSLTR1  \n",
       "                      GRIN3A            GRIN3A  \n",
       "                      IL6R                IL6R  \n",
       "                      NR3C1              NR3C1  \n",
       "                      PDE4D              PDE4D  "
      ]
     },
     "execution_count": 2,
     "metadata": {},
     "output_type": "execute_result"
    }
   ],
   "source": [
    "csva = '../../results/2021-09-02-asthma-drugs/proximity-results.csv'\n",
    "csvb = '../../results/2021-08-04-guney-tools/proximity-results.csv'\n",
    "prox = pd.concat([pd.read_csv(c, index_col=['condition', 'target']) for c in [csva, csvb]], axis=0)\n",
    "# drop unneeded entities\n",
    "prox = prox.drop('Guney', axis=0, level='condition').drop('HCQ t: TLRs', axis=0, level='target')\n",
    "# rename AD gene sets\n",
    "new_setnames = {'knowledge': 'knowledge', 'knowledge-TWAS2plus': 'knowledge TWAS2+', 'knowledge-TWAS2plus-IAPS': 'knowledge TWAS2+ IAPS', 'knowledge-TWAS': 'knowledge TWAS'}\n",
    "# reorder rows\n",
    "prox = prox.rename(new_setnames, axis=0, level=0)\n",
    "target = ['3 AD genes', 'HCQ targets', 'ADRB2', 'CYSLTR1', 'GRIN3A', 'IL6R', 'NR3C1', 'PDE4D']\n",
    "prox = prox.reindex(pd.MultiIndex.from_product([new_setnames.values(), target]))\n",
    "# for repos_tools.plot_proximity_results\n",
    "prox['condition'] = prox.index.get_level_values(level=0)\n",
    "prox['target'] = prox.index.get_level_values(level=1)\n",
    "prox"
   ]
  },
  {
   "cell_type": "markdown",
   "id": "eastern-holocaust",
   "metadata": {},
   "source": [
    "## Sensitivity to input AD gene set\n",
    "### Graphs"
   ]
  },
  {
   "cell_type": "code",
   "execution_count": 3,
   "id": "editorial-injury",
   "metadata": {},
   "outputs": [
    {
     "data": {
      "text/plain": [
       "['named-figure/proximity-knowledge.png',\n",
       " 'named-figure/proximity-knowledge.pdf']"
      ]
     },
     "execution_count": 3,
     "metadata": {},
     "output_type": "execute_result"
    },
    {
     "data": {
      "image/png": "[encoded data removed]",
      "text/plain": [
       "<Figure size 576x288 with 3 Axes>"
      ]
     },
     "metadata": {
      "needs_background": "light"
     },
     "output_type": "display_data"
    }
   ],
   "source": [
    "fig, ax = repos_tools.plot_proximity_results(prox.xs('knowledge', axis=0, level=0), jitter=False)\n",
    "attila_utils.savefig(fig, 'proximity-knowledge')"
   ]
  },
  {
   "cell_type": "code",
   "execution_count": 4,
   "id": "inappropriate-hayes",
   "metadata": {},
   "outputs": [
    {
     "data": {
      "text/plain": [
       "['named-figure/proximity-knowledge-v2.png',\n",
       " 'named-figure/proximity-knowledge-v2.pdf']"
      ]
     },
     "execution_count": 4,
     "metadata": {},
     "output_type": "execute_result"
    },
    {
     "data": {
      "image/png": "[encoded data removed]",
      "text/plain": [
       "<Figure size 576x288 with 3 Axes>"
      ]
     },
     "metadata": {
      "needs_background": "light"
     },
     "output_type": "display_data"
    }
   ],
   "source": [
    "def replace_yaxislabel(ax, label_ix=1, new_label='this or that'):\n",
    "    l = [x.get_text() for x in ax.get_yticklabels()]\n",
    "    l[label_ix] = new_label\n",
    "    ax.set_yticklabels(l)\n",
    "    return(ax)\n",
    "\n",
    "fig, ax = repos_tools.plot_proximity_results(prox.xs('knowledge', axis=0, level=0), jitter=False)\n",
    "replace_yaxislabel(ax[0], label_ix=1, new_label='TLR7 TLR9 ACE2')\n",
    "attila_utils.savefig(fig, 'proximity-knowledge-v2')"
   ]
  },
  {
   "cell_type": "code",
   "execution_count": 5,
   "id": "demographic-price",
   "metadata": {},
   "outputs": [
    {
     "data": {
      "text/plain": [
       "['named-figure/proximity-knowledge-TWAS2plus-IAPS.png',\n",
       " 'named-figure/proximity-knowledge-TWAS2plus-IAPS.pdf']"
      ]
     },
     "execution_count": 5,
     "metadata": {},
     "output_type": "execute_result"
    },
    {
     "data": {
      "image/png": "[encoded data removed]",
      "text/plain": [
       "<Figure size 576x288 with 3 Axes>"
      ]
     },
     "metadata": {
      "needs_background": "light"
     },
     "output_type": "display_data"
    }
   ],
   "source": [
    "fig, ax = repos_tools.plot_proximity_results(prox.drop(['knowledge TWAS2+', 'knowledge TWAS'], axis=0, level=0), jitter=False)\n",
    "attila_utils.savefig(fig, 'proximity-knowledge-TWAS2plus-IAPS')"
   ]
  },
  {
   "cell_type": "code",
   "execution_count": 6,
   "id": "cardiac-degree",
   "metadata": {},
   "outputs": [
    {
     "data": {
      "text/plain": [
       "['named-figure/proximity-knowledge-TWAS2plus-IAPS-v2.png',\n",
       " 'named-figure/proximity-knowledge-TWAS2plus-IAPS-v2.pdf']"
      ]
     },
     "execution_count": 6,
     "metadata": {},
     "output_type": "execute_result"
    },
    {
     "data": {
      "image/png": "[encoded data removed]",
      "text/plain": [
       "<Figure size 576x288 with 3 Axes>"
      ]
     },
     "metadata": {
      "needs_background": "light"
     },
     "output_type": "display_data"
    }
   ],
   "source": [
    "fig, ax = repos_tools.plot_proximity_results(prox.drop(['knowledge TWAS2+', 'knowledge TWAS'], axis=0, level=0), jitter=False)\n",
    "replace_yaxislabel(ax[0], label_ix=1, new_label='TLR7 TLR9 ACE2')\n",
    "attila_utils.savefig(fig, 'proximity-knowledge-TWAS2plus-IAPS-v2')"
   ]
  },
  {
   "cell_type": "code",
   "execution_count": 7,
   "id": "descending-theory",
   "metadata": {},
   "outputs": [
    {
     "data": {
      "text/plain": [
       "['named-figure/proximity-all.png', 'named-figure/proximity-all.pdf']"
      ]
     },
     "execution_count": 7,
     "metadata": {},
     "output_type": "execute_result"
    },
    {
     "data": {
      "image/png": "[encoded data removed]",
      "text/plain": [
       "<Figure size 576x288 with 3 Axes>"
      ]
     },
     "metadata": {
      "needs_background": "light"
     },
     "output_type": "display_data"
    }
   ],
   "source": [
    "fig, ax = repos_tools.plot_proximity_results(prox)\n",
    "attila_utils.savefig(fig, 'proximity-all')"
   ]
  },
  {
   "cell_type": "code",
   "execution_count": 8,
   "id": "bigger-smile",
   "metadata": {},
   "outputs": [
    {
     "data": {
      "text/plain": [
       "['named-figure/proximity-all-v2.png', 'named-figure/proximity-all-v2.pdf']"
      ]
     },
     "execution_count": 8,
     "metadata": {},
     "output_type": "execute_result"
    },
    {
     "data": {
      "image/png": "[encoded data removed]",
      "text/plain": [
       "<Figure size 576x288 with 3 Axes>"
      ]
     },
     "metadata": {
      "needs_background": "light"
     },
     "output_type": "display_data"
    }
   ],
   "source": [
    "fig, ax = repos_tools.plot_proximity_results(prox)\n",
    "replace_yaxislabel(ax[0], label_ix=1, new_label='TLR7 TLR9 ACE2')\n",
    "attila_utils.savefig(fig, 'proximity-all-v2')"
   ]
  },
  {
   "cell_type": "markdown",
   "id": "decent-shakespeare",
   "metadata": {},
   "source": [
    "### Quantifying impact of input AD gene set\n",
    "\n",
    "Here I use root mean square deviation (RMSD) of $d_x$ from $d_\\mathrm{knowledge}$ and $z_\\mathrm{knowledge}$, where $x \\in \\{\\text{knowledge TWAS2+}, \\text{knowledge TWAS}, \\text{knowledge TWAS2+ IAPS}\\}$.  RMSD is defined as\n",
    "$$\n",
    "\\sqrt{\\sum (d_x - d_\\mathrm{knowledge})^2}\n",
    "$$"
   ]
  },
  {
   "cell_type": "code",
   "execution_count": 9,
   "id": "subjective-chassis",
   "metadata": {},
   "outputs": [
    {
     "data": {
      "text/html": [
       "<div>\n",
       "<style scoped>\n",
       "    .dataframe tbody tr th:only-of-type {\n",
       "        vertical-align: middle;\n",
       "    }\n",
       "\n",
       "    .dataframe tbody tr th {\n",
       "        vertical-align: top;\n",
       "    }\n",
       "\n",
       "    .dataframe thead th {\n",
       "        text-align: right;\n",
       "    }\n",
       "</style>\n",
       "<table border=\"1\" class=\"dataframe\">\n",
       "  <thead>\n",
       "    <tr style=\"text-align: right;\">\n",
       "      <th></th>\n",
       "      <th>n_genes</th>\n",
       "      <th>d</th>\n",
       "      <th>z</th>\n",
       "    </tr>\n",
       "    <tr>\n",
       "      <th>condition</th>\n",
       "      <th></th>\n",
       "      <th></th>\n",
       "      <th></th>\n",
       "    </tr>\n",
       "  </thead>\n",
       "  <tbody>\n",
       "    <tr>\n",
       "      <th>knowledge</th>\n",
       "      <td>26</td>\n",
       "      <td>0.000000</td>\n",
       "      <td>0.000000</td>\n",
       "    </tr>\n",
       "    <tr>\n",
       "      <th>knowledge TWAS2+</th>\n",
       "      <td>52</td>\n",
       "      <td>0.333333</td>\n",
       "      <td>1.660737</td>\n",
       "    </tr>\n",
       "    <tr>\n",
       "      <th>knowledge TWAS2+ IAPS</th>\n",
       "      <td>77</td>\n",
       "      <td>1.452966</td>\n",
       "      <td>3.132710</td>\n",
       "    </tr>\n",
       "    <tr>\n",
       "      <th>knowledge TWAS</th>\n",
       "      <td>145</td>\n",
       "      <td>1.054093</td>\n",
       "      <td>3.163898</td>\n",
       "    </tr>\n",
       "  </tbody>\n",
       "</table>\n",
       "</div>"
      ],
      "text/plain": [
       "                       n_genes         d         z\n",
       "condition                                         \n",
       "knowledge                   26  0.000000  0.000000\n",
       "knowledge TWAS2+            52  0.333333  1.660737\n",
       "knowledge TWAS2+ IAPS       77  1.452966  3.132710\n",
       "knowledge TWAS             145  1.054093  3.163898"
      ]
     },
     "execution_count": 9,
     "metadata": {},
     "output_type": "execute_result"
    }
   ],
   "source": [
    "def my_rms(prox, values='d'):\n",
    "    df = prox.pivot(index='target', columns='condition', values=values)\n",
    "    s = df.apply(lambda x: (x - df.knowledge) ** 2, axis=0).sum(axis=0)\n",
    "    s = s.apply(lambda x: np.sqrt(x))\n",
    "    return(s)\n",
    "\n",
    "d = {y: my_rms(prox, values=y) for y in list('dz')}\n",
    "rms = pd.DataFrame(d, index=d['d'].index)\n",
    "\n",
    "def get_setsize(setname='knowledge'):\n",
    "    fpath = '../../results/2021-07-01-high-conf-ADgenes/AD-genes-' + setname\n",
    "    with open(fpath) as f:\n",
    "        l = f.readlines()\n",
    "    return(len(l))\n",
    "\n",
    "rms = rms.reindex(new_setnames.values())\n",
    "rms['n_genes'] = [get_setsize(y) for y in new_setnames.keys()]\n",
    "rms = rms.reindex(['n_genes', 'd', 'z'], axis=1)\n",
    "rms"
   ]
  },
  {
   "cell_type": "code",
   "execution_count": 10,
   "id": "opposed-small",
   "metadata": {},
   "outputs": [
    {
     "data": {
      "text/plain": [
       "['named-figure/rmsd-barchart.png', 'named-figure/rmsd-barchart.pdf']"
      ]
     },
     "execution_count": 10,
     "metadata": {},
     "output_type": "execute_result"
    },
    {
     "data": {
      "image/png": "[encoded data removed]",
      "text/plain": [
       "<Figure size 432x216 with 3 Axes>"
      ]
     },
     "metadata": {
      "needs_background": "light"
     },
     "output_type": "display_data"
    }
   ],
   "source": [
    "matplotlib.rcParams['text.usetex'] = True\n",
    "fig, ax = plt.subplots(1, 3, figsize=(6, 3), sharey=True)\n",
    "for var, axi in zip(rms.columns, ax):\n",
    "    axi.barh(np.arange(len(rms)), rms[var], tick_label=rms.index)\n",
    "    axi.grid(True, axis='y')\n",
    "\n",
    "ax[0].set_xlabel(r'$n$ genes')\n",
    "ax[1].set_xlabel(r'$\\sqrt{\\sum (d_x - d_\\mathrm{knowledge})^2}$')\n",
    "ax[2].set_xlabel(r'$\\sqrt{\\sum (z_x - z_\\mathrm{knowledge})^2}$')\n",
    "attila_utils.savefig(fig, 'rmsd-barchart')"
   ]
  },
  {
   "cell_type": "code",
   "execution_count": 11,
   "id": "placed-thursday",
   "metadata": {},
   "outputs": [
    {
     "name": "stdout",
     "output_type": "stream",
     "text": [
      "{\n",
      "  \"shell_port\": 35381,\n",
      "  \"iopub_port\": 49127,\n",
      "  \"stdin_port\": 44467,\n",
      "  \"control_port\": 35957,\n",
      "  \"hb_port\": 57341,\n",
      "  \"ip\": \"127.0.0.1\",\n",
      "  \"key\": \"cd67d5ed-30c004b62b7eb96ce6c6a8f3\",\n",
      "  \"transport\": \"tcp\",\n",
      "  \"signature_scheme\": \"hmac-sha256\",\n",
      "  \"kernel_name\": \"\"\n",
      "}\n",
      "\n",
      "Paste the above JSON into a file, and connect with:\n",
      "    $> jupyter <app> --existing <file>\n",
      "or, if you are local, you can connect with just:\n",
      "    $> jupyter <app> --existing kernel-39269e69-345f-492c-afb0-edec99495922.json\n",
      "or even just:\n",
      "    $> jupyter <app> --existing\n",
      "if this is the most recent Jupyter kernel you have started.\n"
     ]
    }
   ],
   "source": [
    "%connect_info"
   ]
  }
 ],
 "metadata": {
  "kernelspec": {
   "display_name": "Python 3",
   "language": "python",
   "name": "python3"
  },
  "language_info": {
   "codemirror_mode": {
    "name": "ipython",
    "version": 3
   },
   "file_extension": ".py",
   "mimetype": "text/x-python",
   "name": "python",
   "nbconvert_exporter": "python",
   "pygments_lexer": "ipython3",
   "version": "3.7.6"
  }
 },
 "nbformat": 4,
 "nbformat_minor": 5
}
