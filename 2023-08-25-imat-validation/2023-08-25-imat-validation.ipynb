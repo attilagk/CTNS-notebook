{
 "cells": [
  {
   "cell_type": "code",
   "execution_count": 1,
   "id": "9c5ada54",
   "metadata": {},
   "outputs": [
    {
     "name": "stdout",
     "output_type": "stream",
     "text": [
      "The autoreload extension is already loaded. To reload it, use:\n",
      "  %reload_ext autoreload\n"
     ]
    }
   ],
   "source": [
    "%load_ext autoreload\n",
    "%autoreload 2\n",
    "%reload_ext autoreload\n",
    "import re\n",
    "import pandas as pd\n",
    "import matplotlib.pyplot as plt\n",
    "from cobra.io import load_yaml_model\n",
    "import attila_utils"
   ]
  },
  {
   "cell_type": "code",
   "execution_count": 2,
   "id": "f26f015a",
   "metadata": {},
   "outputs": [],
   "source": [
    "gempath = '../../resources/human-GEM/v1.11.0/model/Human-GEM.yml'\n",
    "gem = load_yaml_model(gempath)"
   ]
  },
  {
   "cell_type": "markdown",
   "id": "27bd104a",
   "metadata": {},
   "source": [
    "Map HMDB IDs to Human-GEM metabolite IDs (replacement IDs)"
   ]
  },
  {
   "cell_type": "code",
   "execution_count": 3,
   "id": "42d200ce",
   "metadata": {},
   "outputs": [
    {
     "data": {
      "text/plain": [
       "HMDB\n",
       "HMDB0000036               [MAM02963c, MAM02963x, MAM02963e]\n",
       "HMDB00002                            [MAM00248c, MAM00248e]\n",
       "HMDB00005                 [MAM00671c, MAM00671m, MAM00671e]\n",
       "HMDB00008                            [MAM00648c, MAM00648e]\n",
       "HMDB0000975                          [MAM03039e, MAM03039c]\n",
       "                                   ...                     \n",
       "HMDB13037                            [MAM02694c, MAM02694m]\n",
       "HMDB13109                 [MAM03050c, MAM03050m, MAM03050r]\n",
       "HMDB13114                            [MAM03116c, MAM03116m]\n",
       "HMDB13123      [MAM00094c, MAM00094l, MAM00094r, MAM00094e]\n",
       "HMDB60478                                       [MAM01926e]\n",
       "Length: 713, dtype: object"
      ]
     },
     "execution_count": 3,
     "metadata": {},
     "output_type": "execute_result"
    }
   ],
   "source": [
    "gempath_xlsx = '../../resources/human-GEM/from-Busra/model/Human-GEM.xlsx'\n",
    "gem_mets = pd.read_excel(gempath_xlsx, \"METS\")\n",
    "s = gem_mets.MIRIAM.apply(lambda ids: re.sub('^.*hmdb/(HMDB[0-9]*).*$', '\\\\1', ids))\n",
    "gem_mets['HMDB'] = s.apply(lambda s: None if not re.match('^HMDB', s) else s)\n",
    "gem_mets = gem_mets.dropna(subset='HMDB')\n",
    "hmdb2rid = gem_mets.groupby('HMDB').apply(lambda x: x['REPLACEMENT ID'].to_list())\n",
    "hmdb2rid"
   ]
  },
  {
   "cell_type": "code",
   "execution_count": 4,
   "id": "848dc02e",
   "metadata": {},
   "outputs": [],
   "source": [
    "def get_rxn_ids(rid, gem=gem):\n",
    "    met = gem.metabolites.get_by_id(rid)\n",
    "    rxn_ids = [r.id for r in met.reactions]\n",
    "    return(rxn_ids)"
   ]
  },
  {
   "cell_type": "code",
   "execution_count": 5,
   "id": "11a96d82",
   "metadata": {},
   "outputs": [
    {
     "data": {
      "text/html": [
       "<div>\n",
       "<style scoped>\n",
       "    .dataframe tbody tr th:only-of-type {\n",
       "        vertical-align: middle;\n",
       "    }\n",
       "\n",
       "    .dataframe tbody tr th {\n",
       "        vertical-align: top;\n",
       "    }\n",
       "\n",
       "    .dataframe thead th {\n",
       "        text-align: right;\n",
       "    }\n",
       "</style>\n",
       "<table border=\"1\" class=\"dataframe\">\n",
       "  <thead>\n",
       "    <tr style=\"text-align: right;\">\n",
       "      <th></th>\n",
       "      <th>oddsratio</th>\n",
       "      <th>p_value</th>\n",
       "    </tr>\n",
       "    <tr>\n",
       "      <th>rxn_ID</th>\n",
       "      <th></th>\n",
       "      <th></th>\n",
       "    </tr>\n",
       "  </thead>\n",
       "  <tbody>\n",
       "    <tr>\n",
       "      <th>MAR01855</th>\n",
       "      <td>0.000000</td>\n",
       "      <td>1.000000</td>\n",
       "    </tr>\n",
       "    <tr>\n",
       "      <th>MAR01889</th>\n",
       "      <td>0.431373</td>\n",
       "      <td>0.156699</td>\n",
       "    </tr>\n",
       "    <tr>\n",
       "      <th>MAR01732</th>\n",
       "      <td>1.447619</td>\n",
       "      <td>0.563550</td>\n",
       "    </tr>\n",
       "    <tr>\n",
       "      <th>MAR01877</th>\n",
       "      <td>0.598726</td>\n",
       "      <td>0.633233</td>\n",
       "    </tr>\n",
       "    <tr>\n",
       "      <th>MAR09906</th>\n",
       "      <td>NaN</td>\n",
       "      <td>1.000000</td>\n",
       "    </tr>\n",
       "    <tr>\n",
       "      <th>MAR01731</th>\n",
       "      <td>0.249462</td>\n",
       "      <td>0.020234</td>\n",
       "    </tr>\n",
       "    <tr>\n",
       "      <th>MAR12286</th>\n",
       "      <td>0.000000</td>\n",
       "      <td>0.293006</td>\n",
       "    </tr>\n",
       "    <tr>\n",
       "      <th>MAR01865</th>\n",
       "      <td>0.000000</td>\n",
       "      <td>1.000000</td>\n",
       "    </tr>\n",
       "    <tr>\n",
       "      <th>MAR01878</th>\n",
       "      <td>0.265217</td>\n",
       "      <td>0.000021</td>\n",
       "    </tr>\n",
       "    <tr>\n",
       "      <th>MAR01668</th>\n",
       "      <td>1.700000</td>\n",
       "      <td>0.376138</td>\n",
       "    </tr>\n",
       "    <tr>\n",
       "      <th>MAR01870</th>\n",
       "      <td>NaN</td>\n",
       "      <td>1.000000</td>\n",
       "    </tr>\n",
       "    <tr>\n",
       "      <th>MAR01891</th>\n",
       "      <td>0.000000</td>\n",
       "      <td>0.000334</td>\n",
       "    </tr>\n",
       "    <tr>\n",
       "      <th>MAR01890</th>\n",
       "      <td>0.746753</td>\n",
       "      <td>0.732406</td>\n",
       "    </tr>\n",
       "  </tbody>\n",
       "</table>\n",
       "</div>"
      ],
      "text/plain": [
       "          oddsratio   p_value\n",
       "rxn_ID                       \n",
       "MAR01855   0.000000  1.000000\n",
       "MAR01889   0.431373  0.156699\n",
       "MAR01732   1.447619  0.563550\n",
       "MAR01877   0.598726  0.633233\n",
       "MAR09906        NaN  1.000000\n",
       "MAR01731   0.249462  0.020234\n",
       "MAR12286   0.000000  0.293006\n",
       "MAR01865   0.000000  1.000000\n",
       "MAR01878   0.265217  0.000021\n",
       "MAR01668   1.700000  0.376138\n",
       "MAR01870        NaN  1.000000\n",
       "MAR01891   0.000000  0.000334\n",
       "MAR01890   0.746753  0.732406"
      ]
     },
     "execution_count": 5,
     "metadata": {},
     "output_type": "execute_result"
    }
   ],
   "source": [
    "fpath = '../../results/2023-02-06-AD-subtypes-active-reactions/fisher-exact-r-AD-A_wrt_r-control.csv'\n",
    "imat_A = pd.read_csv(fpath, index_col='rxn_ID')\n",
    "imat_A.loc[get_rxn_ids('MAM02963c')]"
   ]
  },
  {
   "cell_type": "code",
   "execution_count": 6,
   "id": "147f5653",
   "metadata": {},
   "outputs": [
    {
     "name": "stdout",
     "output_type": "stream",
     "text": [
      "{\n",
      "  \"shell_port\": 58784,\n",
      "  \"iopub_port\": 58785,\n",
      "  \"stdin_port\": 58786,\n",
      "  \"control_port\": 58788,\n",
      "  \"hb_port\": 58787,\n",
      "  \"ip\": \"127.0.0.1\",\n",
      "  \"key\": \"cca4a2dd-1342c4edc2fdee24b0c9877d\",\n",
      "  \"transport\": \"tcp\",\n",
      "  \"signature_scheme\": \"hmac-sha256\",\n",
      "  \"kernel_name\": \"python3\"\n",
      "}\n",
      "\n",
      "Paste the above JSON into a file, and connect with:\n",
      "    $> jupyter <app> --existing <file>\n",
      "or, if you are local, you can connect with just:\n",
      "    $> jupyter <app> --existing kernel-e1d387b8-1875-4b5f-af9b-48ec736de193.json\n",
      "or even just:\n",
      "    $> jupyter <app> --existing\n",
      "if this is the most recent Jupyter kernel you have started.\n"
     ]
    }
   ],
   "source": [
    "%connect_info"
   ]
  },
  {
   "cell_type": "code",
   "execution_count": null,
   "id": "ca9b8ad5",
   "metadata": {},
   "outputs": [],
   "source": []
  }
 ],
 "metadata": {
  "kernelspec": {
   "display_name": "Python 3 (ipykernel)",
   "language": "python",
   "name": "python3"
  },
  "language_info": {
   "codemirror_mode": {
    "name": "ipython",
    "version": 3
   },
   "file_extension": ".py",
   "mimetype": "text/x-python",
   "name": "python",
   "nbconvert_exporter": "python",
   "pygments_lexer": "ipython3",
   "version": "3.9.17"
  }
 },
 "nbformat": 4,
 "nbformat_minor": 5
}
