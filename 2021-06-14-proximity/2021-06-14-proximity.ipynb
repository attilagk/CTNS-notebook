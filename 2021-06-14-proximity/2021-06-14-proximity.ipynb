{
 "cells": [
  {
   "cell_type": "code",
   "execution_count": 10,
   "id": "insured-drink",
   "metadata": {},
   "outputs": [
    {
     "name": "stdout",
     "output_type": "stream",
     "text": [
      "The autoreload extension is already loaded. To reload it, use:\n",
      "  %reload_ext autoreload\n",
      "GenRev not found, steiner wont work\n",
      "Import error: Negex. Using keyword matching instead\n",
      "Import error: Funcassociate. Make sure that funcassociate is in toolbox!\n"
     ]
    }
   ],
   "source": [
    "%load_ext autoreload\n",
    "%autoreload 2\n",
    "%reload_ext autoreload\n",
    "from toolbox import wrappers"
   ]
  },
  {
   "cell_type": "code",
   "execution_count": 17,
   "id": "sound-prompt",
   "metadata": {},
   "outputs": [
    {
     "name": "stdout",
     "output_type": "stream",
     "text": [
      "1.0 1.2937529870279911 (0.687, 0.2419318085742344)\n"
     ]
    }
   ],
   "source": [
    "file_name = \"/home/attila/CTNS/resources/proximity/data/toy.sif\"\n",
    "network = wrappers.get_network(file_name, only_lcc = True)\n",
    "\n",
    "nodes_from = [\"A\", \"C\"]\n",
    "nodes_to = [\"B\", \"D\", \"E\"]\n",
    "d, z, (mean, sd) = wrappers.calculate_proximity(network, nodes_from, nodes_to, min_bin_size = 2, seed=452456)\n",
    "print (d, z, (mean, sd))"
   ]
  },
  {
   "cell_type": "code",
   "execution_count": 2,
   "id": "welcome-alliance",
   "metadata": {},
   "outputs": [
    {
     "name": "stdout",
     "output_type": "stream",
     "text": [
      "{\n",
      "  \"shell_port\": 60059,\n",
      "  \"iopub_port\": 32915,\n",
      "  \"stdin_port\": 50133,\n",
      "  \"control_port\": 58249,\n",
      "  \"hb_port\": 42001,\n",
      "  \"ip\": \"127.0.0.1\",\n",
      "  \"key\": \"f6e52887-be2b424b2fdb6f5d1fb87824\",\n",
      "  \"transport\": \"tcp\",\n",
      "  \"signature_scheme\": \"hmac-sha256\",\n",
      "  \"kernel_name\": \"\"\n",
      "}\n",
      "\n",
      "Paste the above JSON into a file, and connect with:\n",
      "    $> jupyter <app> --existing <file>\n",
      "or, if you are local, you can connect with just:\n",
      "    $> jupyter <app> --existing kernel-e10ce4f8-d8a1-4e65-9fa2-cd2be8a2808c.json\n",
      "or even just:\n",
      "    $> jupyter <app> --existing\n",
      "if this is the most recent Jupyter kernel you have started.\n"
     ]
    }
   ],
   "source": [
    "%connect_info"
   ]
  },
  {
   "cell_type": "code",
   "execution_count": null,
   "id": "tested-starter",
   "metadata": {},
   "outputs": [],
   "source": []
  }
 ],
 "metadata": {
  "kernelspec": {
   "display_name": "Python 3",
   "language": "python",
   "name": "python3"
  },
  "language_info": {
   "codemirror_mode": {
    "name": "ipython",
    "version": 3
   },
   "file_extension": ".py",
   "mimetype": "text/x-python",
   "name": "python",
   "nbconvert_exporter": "python",
   "pygments_lexer": "ipython3",
   "version": "3.7.6"
  }
 },
 "nbformat": 4,
 "nbformat_minor": 5
}
